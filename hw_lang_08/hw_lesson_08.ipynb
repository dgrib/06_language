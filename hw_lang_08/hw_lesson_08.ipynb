{
  "cells": [
    {
      "cell_type": "markdown",
      "id": "72d476b9",
      "metadata": {
        "id": "72d476b9"
      },
      "source": [
        "## ДЗ 8. Рекуррентные нейронные сети RNN LSTM GRU"
      ]
    },
    {
      "cell_type": "markdown",
      "id": "bbc8788f",
      "metadata": {
        "id": "bbc8788f"
      },
      "source": [
        "### Задание\n",
        "Данные берем отызывы за лето.\n",
        "\n",
        "На вебинаре мы говорили, что долгое время CNN и RNN архитектуры были конурируещими выяснить какая архитектура больше подходит для нашей задачи.\n",
        "\n",
        "1. построить свёрточные архитектуры \n",
        "2. построить различные архитектуры с RNN\n",
        "3. построить совместные архитектуры CNN -> RNN или (RNN -> CNN)"
      ]
    },
    {
      "cell_type": "code",
      "source": [
        "!pip install pymorphy2\n",
        "!pip install stop_words"
      ],
      "metadata": {
        "colab": {
          "base_uri": "https://localhost:8080/"
        },
        "id": "kmoCzzGkPFLJ",
        "outputId": "eb88e64c-a1bc-4624-9597-77464f5f48ee"
      },
      "id": "kmoCzzGkPFLJ",
      "execution_count": 154,
      "outputs": [
        {
          "output_type": "stream",
          "name": "stdout",
          "text": [
            "Looking in indexes: https://pypi.org/simple, https://us-python.pkg.dev/colab-wheels/public/simple/\n",
            "Requirement already satisfied: pymorphy2 in /usr/local/lib/python3.7/dist-packages (0.9.1)\n",
            "Requirement already satisfied: dawg-python>=0.7.1 in /usr/local/lib/python3.7/dist-packages (from pymorphy2) (0.7.2)\n",
            "Requirement already satisfied: docopt>=0.6 in /usr/local/lib/python3.7/dist-packages (from pymorphy2) (0.6.2)\n",
            "Requirement already satisfied: pymorphy2-dicts-ru<3.0,>=2.4 in /usr/local/lib/python3.7/dist-packages (from pymorphy2) (2.4.417127.4579844)\n",
            "Looking in indexes: https://pypi.org/simple, https://us-python.pkg.dev/colab-wheels/public/simple/\n",
            "Requirement already satisfied: stop_words in /usr/local/lib/python3.7/dist-packages (2018.7.23)\n"
          ]
        }
      ]
    },
    {
      "cell_type": "code",
      "execution_count": 155,
      "id": "933275eb",
      "metadata": {
        "id": "933275eb"
      },
      "outputs": [],
      "source": [
        "# Импорт библиотек\n",
        "\n",
        "import pandas as pd\n",
        "import numpy as np\n",
        "import re\n",
        "from pymorphy2 import MorphAnalyzer\n",
        "from stop_words import get_stop_words\n",
        "from string import punctuation\n",
        "from gensim.models import Word2Vec, FastText\n",
        "\n",
        "import keras\n",
        "from keras.models import Sequential, Model\n",
        "from keras.layers import Dense, Dropout, Activation, Input, Embedding, Conv1D, GlobalMaxPool1D, GlobalMaxPool2D, SimpleRNN, LSTM, GRU, Masking, Flatten\n",
        "from keras.preprocessing.text import Tokenizer\n",
        "from keras.preprocessing.sequence import pad_sequences\n",
        "from keras.callbacks import TensorBoard \n",
        "from keras.callbacks import EarlyStopping\n",
        "from keras.utils import np_utils\n",
        "\n",
        "from sklearn.metrics import classification_report"
      ]
    },
    {
      "cell_type": "code",
      "source": [
        "!pip install --upgrade xlrd"
      ],
      "metadata": {
        "colab": {
          "base_uri": "https://localhost:8080/"
        },
        "id": "tygAFilMRTyx",
        "outputId": "776e100c-6dbd-4fe0-834d-b0d53bac7961"
      },
      "id": "tygAFilMRTyx",
      "execution_count": 156,
      "outputs": [
        {
          "output_type": "stream",
          "name": "stdout",
          "text": [
            "Looking in indexes: https://pypi.org/simple, https://us-python.pkg.dev/colab-wheels/public/simple/\n",
            "Requirement already satisfied: xlrd in /usr/local/lib/python3.7/dist-packages (2.0.1)\n"
          ]
        }
      ]
    },
    {
      "cell_type": "code",
      "source": [
        "df = pd.read_excel('отзывы за лето.xls')"
      ],
      "metadata": {
        "id": "iBABdZ0_PGlk"
      },
      "id": "iBABdZ0_PGlk",
      "execution_count": 157,
      "outputs": []
    },
    {
      "cell_type": "code",
      "source": [
        "df"
      ],
      "metadata": {
        "colab": {
          "base_uri": "https://localhost:8080/",
          "height": 419
        },
        "id": "UqFm0w4RWLLR",
        "outputId": "c764aa28-cef8-4e0c-cc6a-a1161b08681a"
      },
      "id": "UqFm0w4RWLLR",
      "execution_count": 158,
      "outputs": [
        {
          "output_type": "execute_result",
          "data": {
            "text/plain": [
              "       Rating                                            Content        Date\n",
              "0           5                                     It just works!  2017-08-14\n",
              "1           4  В целом удобноное приложение...из минусов хотя...  2017-08-14\n",
              "2           5                                        Отлично все  2017-08-14\n",
              "3           5  Стал зависать на 1% работы антивируса. Дальше ...  2017-08-14\n",
              "4           5                     Очень удобно, работает быстро.  2017-08-14\n",
              "...       ...                                                ...         ...\n",
              "20654       1  Ну и шляпа,с роот правами бесполезная прога,ра...  2017-06-01\n",
              "20655       5                                                 Ок  2017-06-01\n",
              "20656       4                                            Доволен  2017-06-01\n",
              "20657       1                         Песопаснасть, рут ни нужын  2017-06-01\n",
              "20658       5  Сбербанк бомбовая компания на сегодняшний день...  2017-06-01\n",
              "\n",
              "[20659 rows x 3 columns]"
            ],
            "text/html": [
              "\n",
              "  <div id=\"df-d3cb707e-2a49-4021-9406-b30df9c62e5d\">\n",
              "    <div class=\"colab-df-container\">\n",
              "      <div>\n",
              "<style scoped>\n",
              "    .dataframe tbody tr th:only-of-type {\n",
              "        vertical-align: middle;\n",
              "    }\n",
              "\n",
              "    .dataframe tbody tr th {\n",
              "        vertical-align: top;\n",
              "    }\n",
              "\n",
              "    .dataframe thead th {\n",
              "        text-align: right;\n",
              "    }\n",
              "</style>\n",
              "<table border=\"1\" class=\"dataframe\">\n",
              "  <thead>\n",
              "    <tr style=\"text-align: right;\">\n",
              "      <th></th>\n",
              "      <th>Rating</th>\n",
              "      <th>Content</th>\n",
              "      <th>Date</th>\n",
              "    </tr>\n",
              "  </thead>\n",
              "  <tbody>\n",
              "    <tr>\n",
              "      <th>0</th>\n",
              "      <td>5</td>\n",
              "      <td>It just works!</td>\n",
              "      <td>2017-08-14</td>\n",
              "    </tr>\n",
              "    <tr>\n",
              "      <th>1</th>\n",
              "      <td>4</td>\n",
              "      <td>В целом удобноное приложение...из минусов хотя...</td>\n",
              "      <td>2017-08-14</td>\n",
              "    </tr>\n",
              "    <tr>\n",
              "      <th>2</th>\n",
              "      <td>5</td>\n",
              "      <td>Отлично все</td>\n",
              "      <td>2017-08-14</td>\n",
              "    </tr>\n",
              "    <tr>\n",
              "      <th>3</th>\n",
              "      <td>5</td>\n",
              "      <td>Стал зависать на 1% работы антивируса. Дальше ...</td>\n",
              "      <td>2017-08-14</td>\n",
              "    </tr>\n",
              "    <tr>\n",
              "      <th>4</th>\n",
              "      <td>5</td>\n",
              "      <td>Очень удобно, работает быстро.</td>\n",
              "      <td>2017-08-14</td>\n",
              "    </tr>\n",
              "    <tr>\n",
              "      <th>...</th>\n",
              "      <td>...</td>\n",
              "      <td>...</td>\n",
              "      <td>...</td>\n",
              "    </tr>\n",
              "    <tr>\n",
              "      <th>20654</th>\n",
              "      <td>1</td>\n",
              "      <td>Ну и шляпа,с роот правами бесполезная прога,ра...</td>\n",
              "      <td>2017-06-01</td>\n",
              "    </tr>\n",
              "    <tr>\n",
              "      <th>20655</th>\n",
              "      <td>5</td>\n",
              "      <td>Ок</td>\n",
              "      <td>2017-06-01</td>\n",
              "    </tr>\n",
              "    <tr>\n",
              "      <th>20656</th>\n",
              "      <td>4</td>\n",
              "      <td>Доволен</td>\n",
              "      <td>2017-06-01</td>\n",
              "    </tr>\n",
              "    <tr>\n",
              "      <th>20657</th>\n",
              "      <td>1</td>\n",
              "      <td>Песопаснасть, рут ни нужын</td>\n",
              "      <td>2017-06-01</td>\n",
              "    </tr>\n",
              "    <tr>\n",
              "      <th>20658</th>\n",
              "      <td>5</td>\n",
              "      <td>Сбербанк бомбовая компания на сегодняшний день...</td>\n",
              "      <td>2017-06-01</td>\n",
              "    </tr>\n",
              "  </tbody>\n",
              "</table>\n",
              "<p>20659 rows × 3 columns</p>\n",
              "</div>\n",
              "      <button class=\"colab-df-convert\" onclick=\"convertToInteractive('df-d3cb707e-2a49-4021-9406-b30df9c62e5d')\"\n",
              "              title=\"Convert this dataframe to an interactive table.\"\n",
              "              style=\"display:none;\">\n",
              "        \n",
              "  <svg xmlns=\"http://www.w3.org/2000/svg\" height=\"24px\"viewBox=\"0 0 24 24\"\n",
              "       width=\"24px\">\n",
              "    <path d=\"M0 0h24v24H0V0z\" fill=\"none\"/>\n",
              "    <path d=\"M18.56 5.44l.94 2.06.94-2.06 2.06-.94-2.06-.94-.94-2.06-.94 2.06-2.06.94zm-11 1L8.5 8.5l.94-2.06 2.06-.94-2.06-.94L8.5 2.5l-.94 2.06-2.06.94zm10 10l.94 2.06.94-2.06 2.06-.94-2.06-.94-.94-2.06-.94 2.06-2.06.94z\"/><path d=\"M17.41 7.96l-1.37-1.37c-.4-.4-.92-.59-1.43-.59-.52 0-1.04.2-1.43.59L10.3 9.45l-7.72 7.72c-.78.78-.78 2.05 0 2.83L4 21.41c.39.39.9.59 1.41.59.51 0 1.02-.2 1.41-.59l7.78-7.78 2.81-2.81c.8-.78.8-2.07 0-2.86zM5.41 20L4 18.59l7.72-7.72 1.47 1.35L5.41 20z\"/>\n",
              "  </svg>\n",
              "      </button>\n",
              "      \n",
              "  <style>\n",
              "    .colab-df-container {\n",
              "      display:flex;\n",
              "      flex-wrap:wrap;\n",
              "      gap: 12px;\n",
              "    }\n",
              "\n",
              "    .colab-df-convert {\n",
              "      background-color: #E8F0FE;\n",
              "      border: none;\n",
              "      border-radius: 50%;\n",
              "      cursor: pointer;\n",
              "      display: none;\n",
              "      fill: #1967D2;\n",
              "      height: 32px;\n",
              "      padding: 0 0 0 0;\n",
              "      width: 32px;\n",
              "    }\n",
              "\n",
              "    .colab-df-convert:hover {\n",
              "      background-color: #E2EBFA;\n",
              "      box-shadow: 0px 1px 2px rgba(60, 64, 67, 0.3), 0px 1px 3px 1px rgba(60, 64, 67, 0.15);\n",
              "      fill: #174EA6;\n",
              "    }\n",
              "\n",
              "    [theme=dark] .colab-df-convert {\n",
              "      background-color: #3B4455;\n",
              "      fill: #D2E3FC;\n",
              "    }\n",
              "\n",
              "    [theme=dark] .colab-df-convert:hover {\n",
              "      background-color: #434B5C;\n",
              "      box-shadow: 0px 1px 3px 1px rgba(0, 0, 0, 0.15);\n",
              "      filter: drop-shadow(0px 1px 2px rgba(0, 0, 0, 0.3));\n",
              "      fill: #FFFFFF;\n",
              "    }\n",
              "  </style>\n",
              "\n",
              "      <script>\n",
              "        const buttonEl =\n",
              "          document.querySelector('#df-d3cb707e-2a49-4021-9406-b30df9c62e5d button.colab-df-convert');\n",
              "        buttonEl.style.display =\n",
              "          google.colab.kernel.accessAllowed ? 'block' : 'none';\n",
              "\n",
              "        async function convertToInteractive(key) {\n",
              "          const element = document.querySelector('#df-d3cb707e-2a49-4021-9406-b30df9c62e5d');\n",
              "          const dataTable =\n",
              "            await google.colab.kernel.invokeFunction('convertToInteractive',\n",
              "                                                     [key], {});\n",
              "          if (!dataTable) return;\n",
              "\n",
              "          const docLinkHtml = 'Like what you see? Visit the ' +\n",
              "            '<a target=\"_blank\" href=https://colab.research.google.com/notebooks/data_table.ipynb>data table notebook</a>'\n",
              "            + ' to learn more about interactive tables.';\n",
              "          element.innerHTML = '';\n",
              "          dataTable['output_type'] = 'display_data';\n",
              "          await google.colab.output.renderOutput(dataTable, element);\n",
              "          const docLink = document.createElement('div');\n",
              "          docLink.innerHTML = docLinkHtml;\n",
              "          element.appendChild(docLink);\n",
              "        }\n",
              "      </script>\n",
              "    </div>\n",
              "  </div>\n",
              "  "
            ]
          },
          "metadata": {},
          "execution_count": 158
        }
      ]
    },
    {
      "cell_type": "code",
      "source": [
        "df = df.dropna()"
      ],
      "metadata": {
        "id": "lAz5AtU4RGQ3"
      },
      "id": "lAz5AtU4RGQ3",
      "execution_count": 159,
      "outputs": []
    },
    {
      "cell_type": "code",
      "source": [
        "df.shape"
      ],
      "metadata": {
        "colab": {
          "base_uri": "https://localhost:8080/"
        },
        "id": "VATBVuuRWC8c",
        "outputId": "cacd9420-f1bf-4c71-c63e-a470d4d5ea82"
      },
      "id": "VATBVuuRWC8c",
      "execution_count": 160,
      "outputs": [
        {
          "output_type": "execute_result",
          "data": {
            "text/plain": [
              "(20656, 3)"
            ]
          },
          "metadata": {},
          "execution_count": 160
        }
      ]
    },
    {
      "cell_type": "code",
      "source": [
        "df.Rating.value_counts()"
      ],
      "metadata": {
        "colab": {
          "base_uri": "https://localhost:8080/"
        },
        "id": "lsT1H_TlSJrM",
        "outputId": "24085b73-5c08-4cef-e288-b60fb6384ccb"
      },
      "id": "lsT1H_TlSJrM",
      "execution_count": 161,
      "outputs": [
        {
          "output_type": "execute_result",
          "data": {
            "text/plain": [
              "5    14584\n",
              "1     2276\n",
              "4     2137\n",
              "3      911\n",
              "2      748\n",
              "Name: Rating, dtype: int64"
            ]
          },
          "metadata": {},
          "execution_count": 161
        }
      ]
    },
    {
      "cell_type": "code",
      "source": [
        "# делаем колонку Content текстовой - так как ругается что - 'int' object has no attribute 'translate'\n",
        "\n",
        "df.Content = df.Content.apply(lambda text: str(text))"
      ],
      "metadata": {
        "colab": {
          "base_uri": "https://localhost:8080/"
        },
        "id": "ywdKXynfW30D",
        "outputId": "6bd7ca6b-6dbc-4502-cbc9-51c7c3f4523a"
      },
      "id": "ywdKXynfW30D",
      "execution_count": 162,
      "outputs": [
        {
          "output_type": "stream",
          "name": "stderr",
          "text": [
            "/usr/local/lib/python3.7/dist-packages/pandas/core/generic.py:5516: SettingWithCopyWarning: \n",
            "A value is trying to be set on a copy of a slice from a DataFrame.\n",
            "Try using .loc[row_indexer,col_indexer] = value instead\n",
            "\n",
            "See the caveats in the documentation: https://pandas.pydata.org/pandas-docs/stable/user_guide/indexing.html#returning-a-view-versus-a-copy\n",
            "  self[name] = value\n"
          ]
        }
      ]
    },
    {
      "cell_type": "code",
      "source": [
        "from sklearn.model_selection import train_test_split\n",
        "\n",
        "X_train, X_test, y_train, y_test = train_test_split(df.Content, df.Rating, test_size=0.3, random_state=42, stratify=df.Rating)"
      ],
      "metadata": {
        "id": "bkToWSbySORQ"
      },
      "id": "bkToWSbySORQ",
      "execution_count": 163,
      "outputs": []
    },
    {
      "cell_type": "code",
      "source": [
        "y_train.value_counts()"
      ],
      "metadata": {
        "colab": {
          "base_uri": "https://localhost:8080/"
        },
        "id": "V3MOsYe1cagX",
        "outputId": "6f858c37-84d7-4b2f-e370-6d01a0db1db0"
      },
      "id": "V3MOsYe1cagX",
      "execution_count": 164,
      "outputs": [
        {
          "output_type": "execute_result",
          "data": {
            "text/plain": [
              "5    10209\n",
              "1     1593\n",
              "4     1496\n",
              "3      638\n",
              "2      523\n",
              "Name: Rating, dtype: int64"
            ]
          },
          "metadata": {},
          "execution_count": 164
        }
      ]
    },
    {
      "cell_type": "code",
      "source": [
        "y_test.value_counts()"
      ],
      "metadata": {
        "colab": {
          "base_uri": "https://localhost:8080/"
        },
        "id": "hEdQMTbXdWel",
        "outputId": "840a151b-d001-417c-e341-4603583a9e11"
      },
      "id": "hEdQMTbXdWel",
      "execution_count": 165,
      "outputs": [
        {
          "output_type": "execute_result",
          "data": {
            "text/plain": [
              "5    4375\n",
              "1     683\n",
              "4     641\n",
              "3     273\n",
              "2     225\n",
              "Name: Rating, dtype: int64"
            ]
          },
          "metadata": {},
          "execution_count": 165
        }
      ]
    },
    {
      "cell_type": "code",
      "source": [
        "corpus_train = X_train\n",
        "corpus_test = X_test"
      ],
      "metadata": {
        "id": "ZQzi2pzzSR7D"
      },
      "id": "ZQzi2pzzSR7D",
      "execution_count": 166,
      "outputs": []
    },
    {
      "cell_type": "code",
      "source": [
        "tokenizer = Tokenizer(num_words=None, \n",
        "                     filters='#$%&()*+-<=>@[\\\\]^_`{|}~\\t\\n',\n",
        "                     lower = False, split = ' ')\n",
        "tokenizer.fit_on_texts(corpus_train)\n",
        "\n",
        "sequences_train = tokenizer.texts_to_sequences(corpus_train)\n",
        "sequences_test = tokenizer.texts_to_sequences(corpus_test)\n",
        "\n",
        "word_count = len(tokenizer.index_word) + 1\n",
        "training_length = max([len(i.split()) for i in corpus_train])\n",
        "\n",
        "X_train = pad_sequences(sequences_train, maxlen=training_length)\n",
        "X_test = pad_sequences(sequences_test, maxlen=training_length)"
      ],
      "metadata": {
        "id": "eriTgdKQSWw5"
      },
      "id": "eriTgdKQSWw5",
      "execution_count": 167,
      "outputs": []
    },
    {
      "cell_type": "markdown",
      "source": [
        "## Построение сетей"
      ],
      "metadata": {
        "id": "LUCb7ar5X1Qh"
      },
      "id": "LUCb7ar5X1Qh"
    },
    {
      "cell_type": "code",
      "source": [
        "num_classes = 6\n",
        "\n",
        "epochs = 20\n",
        "batch_size = 512\n",
        "\n",
        "comparing_list = []"
      ],
      "metadata": {
        "id": "U7dPBsjBYOGZ"
      },
      "id": "U7dPBsjBYOGZ",
      "execution_count": 169,
      "outputs": []
    },
    {
      "cell_type": "code",
      "source": [
        "y_train = keras.utils.np_utils.to_categorical(y_train, num_classes)\n",
        "y_test = keras.utils.np_utils.to_categorical(y_test, num_classes)"
      ],
      "metadata": {
        "id": "OuUj1mVTcsNu"
      },
      "id": "OuUj1mVTcsNu",
      "execution_count": 170,
      "outputs": []
    },
    {
      "cell_type": "markdown",
      "source": [
        "### CNN+pooling"
      ],
      "metadata": {
        "id": "UnprhoCQX5YW"
      },
      "id": "UnprhoCQX5YW"
    },
    {
      "cell_type": "code",
      "source": [
        "net_name = 'CNN+pooling'\n",
        "\n",
        "model = Sequential()\n",
        "model.add(Embedding(input_dim=word_count,\n",
        "                    output_dim=128,\n",
        "                    input_length=training_length,\n",
        "                    trainable=True,\n",
        "                    mask_zero=True,\n",
        "                    ))\n",
        "# model.add(Masking(mask_value=0.0))\n",
        "model.add(Conv1D(128, 3))\n",
        "model.add(Activation(\"relu\"))\n",
        "model.add(GlobalMaxPool1D())\n",
        "model.add(Dense(10))\n",
        "model.add(Activation(\"relu\"))\n",
        "# model.add(Dropout(0.5))\n",
        "model.add(Dense(num_classes))\n",
        "model.add(Activation('sigmoid'))\n",
        "\n",
        "model.compile(loss='categorical_crossentropy',\n",
        "              optimizer='adam',\n",
        "              metrics=['accuracy'])\n",
        "\n",
        "tensorboard=TensorBoard(log_dir='./logs', write_graph=True, write_images=True)\n",
        "early_stopping=EarlyStopping(monitor='val_loss')  \n",
        "\n",
        "\n",
        "history = model.fit(X_train, y_train,\n",
        "                    batch_size=batch_size,\n",
        "                    epochs=epochs,\n",
        "                    verbose=1,\n",
        "                    validation_split=0.1,\n",
        "                    callbacks=[tensorboard, early_stopping],\n",
        "                    )"
      ],
      "metadata": {
        "colab": {
          "base_uri": "https://localhost:8080/"
        },
        "id": "lvXP04ChWinl",
        "outputId": "4cdb380f-1e08-4a78-a795-4e8e249b94b3"
      },
      "id": "lvXP04ChWinl",
      "execution_count": 171,
      "outputs": [
        {
          "output_type": "stream",
          "name": "stdout",
          "text": [
            "Epoch 1/20\n",
            "26/26 [==============================] - 26s 984ms/step - loss: 1.4921 - accuracy: 0.6258 - val_loss: 1.0924 - val_accuracy: 0.7026\n",
            "Epoch 2/20\n",
            "26/26 [==============================] - 18s 707ms/step - loss: 0.9608 - accuracy: 0.7065 - val_loss: 0.8505 - val_accuracy: 0.7047\n"
          ]
        }
      ]
    },
    {
      "cell_type": "code",
      "source": [
        "preds_proba = model.predict(X_test)\n",
        "preds = [np.round(l) for l in preds_proba]\n",
        "print(classification_report([np.round(l) for l in y_test], preds))\n",
        "\n",
        "comparing_list.append([net_name, history.history['accuracy'][-1], history.history['val_accuracy'][-1]])"
      ],
      "metadata": {
        "colab": {
          "base_uri": "https://localhost:8080/"
        },
        "id": "E-cA3ylvd2Rf",
        "outputId": "4c8ddf98-9b4d-4fc8-e361-c5500b2326ef"
      },
      "id": "E-cA3ylvd2Rf",
      "execution_count": 172,
      "outputs": [
        {
          "output_type": "stream",
          "name": "stdout",
          "text": [
            "              precision    recall  f1-score   support\n",
            "\n",
            "           0       0.00      0.00      0.00         0\n",
            "           1       0.11      1.00      0.20       683\n",
            "           2       0.00      0.00      0.00       225\n",
            "           3       0.00      0.00      0.00       273\n",
            "           4       0.10      1.00      0.19       641\n",
            "           5       0.71      1.00      0.83      4375\n",
            "\n",
            "   micro avg       0.31      0.92      0.46      6197\n",
            "   macro avg       0.15      0.50      0.20      6197\n",
            "weighted avg       0.52      0.92      0.63      6197\n",
            " samples avg       0.31      0.92      0.46      6197\n",
            "\n"
          ]
        },
        {
          "output_type": "stream",
          "name": "stderr",
          "text": [
            "/usr/local/lib/python3.7/dist-packages/sklearn/metrics/_classification.py:1318: UndefinedMetricWarning: Precision and F-score are ill-defined and being set to 0.0 in labels with no predicted samples. Use `zero_division` parameter to control this behavior.\n",
            "  _warn_prf(average, modifier, msg_start, len(result))\n",
            "/usr/local/lib/python3.7/dist-packages/sklearn/metrics/_classification.py:1318: UndefinedMetricWarning: Recall and F-score are ill-defined and being set to 0.0 in labels with no true samples. Use `zero_division` parameter to control this behavior.\n",
            "  _warn_prf(average, modifier, msg_start, len(result))\n"
          ]
        }
      ]
    },
    {
      "cell_type": "markdown",
      "source": [
        "## RNN"
      ],
      "metadata": {
        "id": "rWV82rgaifPq"
      },
      "id": "rWV82rgaifPq"
    },
    {
      "cell_type": "code",
      "source": [
        "net_name = 'RNN'\n",
        "\n",
        "model = Sequential()\n",
        "\n",
        "model.add(Embedding(input_dim=word_count,\n",
        "                    output_dim=128,\n",
        "                    input_length=training_length,\n",
        "                    trainable=True,\n",
        "                    mask_zero=True,\n",
        "                    ))\n",
        "# model.add(Masking(mask_value=0.0))\n",
        "\n",
        "model.add(SimpleRNN(64))\n",
        "model.add(Dense(64, activation='relu'))\n",
        "model.add(Dropout(0.5))\n",
        "model.add(Dense(num_classes, activation='sigmoid'))\n",
        "\n",
        "model.compile(loss='categorical_crossentropy',\n",
        "              optimizer='adam',\n",
        "              metrics=['accuracy'])\n",
        "\n",
        "history = model.fit(X_train, y_train,\n",
        "                    batch_size=batch_size,\n",
        "                    epochs=epochs,\n",
        "                    verbose=1,\n",
        "                    validation_split=0.1,\n",
        "                    callbacks=[tensorboard, early_stopping])"
      ],
      "metadata": {
        "colab": {
          "base_uri": "https://localhost:8080/"
        },
        "id": "FadJ0D4OiOjO",
        "outputId": "bbd3447b-d512-4b3b-dc99-7fd0773b656a"
      },
      "id": "FadJ0D4OiOjO",
      "execution_count": 173,
      "outputs": [
        {
          "output_type": "stream",
          "name": "stdout",
          "text": [
            "Epoch 1/20\n",
            "26/26 [==============================] - 14s 480ms/step - loss: 1.4800 - accuracy: 0.6082 - val_loss: 1.0341 - val_accuracy: 0.7241\n",
            "Epoch 2/20\n",
            "26/26 [==============================] - 12s 467ms/step - loss: 0.8569 - accuracy: 0.7469 - val_loss: 0.7657 - val_accuracy: 0.7656\n"
          ]
        }
      ]
    },
    {
      "cell_type": "code",
      "source": [
        "preds_proba = model.predict(X_test)\n",
        "preds = [np.round(l) for l in preds_proba]\n",
        "print(classification_report([np.round(l) for l in y_test], preds))\n",
        "\n",
        "comparing_list.append([net_name, history.history['accuracy'][-1], history.history['val_accuracy'][-1]])"
      ],
      "metadata": {
        "colab": {
          "base_uri": "https://localhost:8080/"
        },
        "id": "L7i9dBUciOlS",
        "outputId": "178f3b71-c886-48ae-dd9e-ebb4931c44c7"
      },
      "id": "L7i9dBUciOlS",
      "execution_count": 174,
      "outputs": [
        {
          "output_type": "stream",
          "name": "stdout",
          "text": [
            "              precision    recall  f1-score   support\n",
            "\n",
            "           0       0.00      0.00      0.00         0\n",
            "           1       0.40      0.80      0.53       683\n",
            "           2       0.17      0.38      0.24       225\n",
            "           3       0.18      0.25      0.21       273\n",
            "           4       0.10      0.83      0.19       641\n",
            "           5       0.80      0.98      0.88      4375\n",
            "\n",
            "   micro avg       0.43      0.89      0.58      6197\n",
            "   macro avg       0.28      0.54      0.34      6197\n",
            "weighted avg       0.63      0.89      0.72      6197\n",
            " samples avg       0.48      0.89      0.61      6197\n",
            "\n"
          ]
        },
        {
          "output_type": "stream",
          "name": "stderr",
          "text": [
            "/usr/local/lib/python3.7/dist-packages/sklearn/metrics/_classification.py:1318: UndefinedMetricWarning: Precision and F-score are ill-defined and being set to 0.0 in labels with no predicted samples. Use `zero_division` parameter to control this behavior.\n",
            "  _warn_prf(average, modifier, msg_start, len(result))\n",
            "/usr/local/lib/python3.7/dist-packages/sklearn/metrics/_classification.py:1318: UndefinedMetricWarning: Recall and F-score are ill-defined and being set to 0.0 in labels with no true samples. Use `zero_division` parameter to control this behavior.\n",
            "  _warn_prf(average, modifier, msg_start, len(result))\n"
          ]
        }
      ]
    },
    {
      "cell_type": "markdown",
      "source": [
        "## CNN + RNN"
      ],
      "metadata": {
        "id": "6wo54ZZ_mIIL"
      },
      "id": "6wo54ZZ_mIIL"
    },
    {
      "cell_type": "code",
      "source": [
        "net_name = 'CNN+RNN'\n",
        "\n",
        "model = Sequential()\n",
        "\n",
        "model.add(Embedding(input_dim=word_count,\n",
        "                    output_dim=128,\n",
        "                    input_length=training_length,\n",
        "                    trainable=True,\n",
        "                    mask_zero=True,\n",
        "                    ))\n",
        "# model.add(Masking(mask_value=0.0))\n",
        "\n",
        "model.add(Conv1D(128, 3, activation='relu'))\n",
        "# model.add(GlobalMaxPool1D(keepdims=True))\n",
        "model.add(SimpleRNN(64))\n",
        "model.add(Dense(64, activation='relu'))\n",
        "model.add(Dropout(0.5))\n",
        "model.add(Dense(num_classes, activation='sigmoid'))\n",
        "\n",
        "model.build()\n",
        "\n",
        "# print(model.summary())\n",
        "# plot_model(model, show_shapes=True, show_layer_names=True)\n",
        "\n",
        "model.compile(loss='categorical_crossentropy',\n",
        "              optimizer='adam',\n",
        "              metrics=['accuracy'])\n",
        "\n",
        "history = model.fit(X_train, y_train,\n",
        "                    batch_size=batch_size,\n",
        "                    epochs=epochs,\n",
        "                    verbose=1,\n",
        "                    validation_split=0.1,\n",
        "                    callbacks=[tensorboard, early_stopping])"
      ],
      "metadata": {
        "colab": {
          "base_uri": "https://localhost:8080/"
        },
        "id": "DgrA5WhBojm0",
        "outputId": "07a72331-4855-43f8-b3ae-875ba4188a65"
      },
      "id": "DgrA5WhBojm0",
      "execution_count": 175,
      "outputs": [
        {
          "output_type": "stream",
          "name": "stdout",
          "text": [
            "Epoch 1/20\n",
            "26/26 [==============================] - 32s 1s/step - loss: 1.1385 - accuracy: 0.6773 - val_loss: 0.8666 - val_accuracy: 0.7178\n",
            "Epoch 2/20\n",
            "26/26 [==============================] - 25s 975ms/step - loss: 0.8557 - accuracy: 0.7394 - val_loss: 0.7506 - val_accuracy: 0.7545\n"
          ]
        }
      ]
    },
    {
      "cell_type": "code",
      "source": [
        "preds_proba = model.predict(X_test)\n",
        "preds = [np.round(l) for l in preds_proba]\n",
        "print(classification_report([np.round(l) for l in y_test], preds))\n",
        "\n",
        "comparing_list.append([net_name, history.history['accuracy'][-1], history.history['val_accuracy'][-1]])"
      ],
      "metadata": {
        "colab": {
          "base_uri": "https://localhost:8080/"
        },
        "id": "bDk3771OoobJ",
        "outputId": "b6ceec9e-5b0a-43fe-f111-3e92201c7a5b"
      },
      "id": "bDk3771OoobJ",
      "execution_count": 176,
      "outputs": [
        {
          "output_type": "stream",
          "name": "stdout",
          "text": [
            "              precision    recall  f1-score   support\n",
            "\n",
            "           0       0.00      0.00      0.00         0\n",
            "           1       0.21      0.96      0.35       683\n",
            "           2       0.15      0.48      0.23       225\n",
            "           3       0.31      0.01      0.03       273\n",
            "           4       0.10      0.97      0.19       641\n",
            "           5       0.77      0.98      0.86      4375\n",
            "\n",
            "   micro avg       0.37      0.92      0.52      6197\n",
            "   macro avg       0.26      0.57      0.27      6197\n",
            "weighted avg       0.59      0.92      0.68      6197\n",
            " samples avg       0.39      0.92      0.54      6197\n",
            "\n"
          ]
        },
        {
          "output_type": "stream",
          "name": "stderr",
          "text": [
            "/usr/local/lib/python3.7/dist-packages/sklearn/metrics/_classification.py:1318: UndefinedMetricWarning: Recall and F-score are ill-defined and being set to 0.0 in labels with no true samples. Use `zero_division` parameter to control this behavior.\n",
            "  _warn_prf(average, modifier, msg_start, len(result))\n"
          ]
        }
      ]
    },
    {
      "cell_type": "markdown",
      "source": [
        "## CNN+pooling+RNN"
      ],
      "metadata": {
        "id": "BWhiilcwrhiG"
      },
      "id": "BWhiilcwrhiG"
    },
    {
      "cell_type": "code",
      "source": [
        "net_name = 'CNN+pooling+RNN'\n",
        "\n",
        "model = Sequential()\n",
        "\n",
        "model.add(Embedding(input_dim=word_count,\n",
        "                    output_dim=128,\n",
        "                    input_length=training_length,\n",
        "                    trainable=True,\n",
        "                    mask_zero=True,\n",
        "                    ))\n",
        "# model.add(Masking(mask_value=0.0))\n",
        "\n",
        "model.add(Conv1D(128, 3, activation='relu'))\n",
        "model.add(GlobalMaxPool1D(keepdims=True))\n",
        "model.add(SimpleRNN(64))\n",
        "model.add(Dense(64, activation='relu'))\n",
        "model.add(Dropout(0.5))\n",
        "model.add(Dense(num_classes, activation='sigmoid'))\n",
        "\n",
        "model.build()\n",
        "\n",
        "# print(model.summary())\n",
        "# plot_model(model, show_shapes=True, show_layer_names=True)\n",
        "\n",
        "model.compile(loss='categorical_crossentropy',\n",
        "              optimizer='adam',\n",
        "              metrics=['accuracy'])\n",
        "\n",
        "history = model.fit(X_train, y_train,\n",
        "                    batch_size=batch_size,\n",
        "                    epochs=epochs,\n",
        "                    verbose=1,\n",
        "                    validation_split=0.1,\n",
        "                    callbacks=[tensorboard, early_stopping])"
      ],
      "metadata": {
        "colab": {
          "base_uri": "https://localhost:8080/"
        },
        "id": "bQAEpmCpiOt2",
        "outputId": "2d27b8e4-0ee0-4f6a-fddd-b612685eceef"
      },
      "id": "bQAEpmCpiOt2",
      "execution_count": 177,
      "outputs": [
        {
          "output_type": "stream",
          "name": "stdout",
          "text": [
            "Epoch 1/20\n",
            "26/26 [==============================] - 20s 726ms/step - loss: 1.3195 - accuracy: 0.6486 - val_loss: 0.9213 - val_accuracy: 0.7026\n",
            "Epoch 2/20\n",
            "26/26 [==============================] - 19s 726ms/step - loss: 0.8860 - accuracy: 0.7240 - val_loss: 0.7103 - val_accuracy: 0.7573\n"
          ]
        }
      ]
    },
    {
      "cell_type": "code",
      "source": [
        "preds_proba = model.predict(X_test)\n",
        "preds = [np.round(l) for l in preds_proba]\n",
        "print(classification_report([np.round(l) for l in y_test], preds))\n",
        "\n",
        "comparing_list.append([net_name, history.history['accuracy'][-1], history.history['val_accuracy'][-1]])"
      ],
      "metadata": {
        "colab": {
          "base_uri": "https://localhost:8080/"
        },
        "id": "0mv4cfVqrmIq",
        "outputId": "fd416f07-7ae7-4035-f672-4e21a1c76dab"
      },
      "id": "0mv4cfVqrmIq",
      "execution_count": 178,
      "outputs": [
        {
          "output_type": "stream",
          "name": "stdout",
          "text": [
            "              precision    recall  f1-score   support\n",
            "\n",
            "           0       0.00      0.00      0.00         0\n",
            "           1       0.35      0.85      0.50       683\n",
            "           2       0.00      0.00      0.00       225\n",
            "           3       0.15      0.46      0.22       273\n",
            "           4       0.10      0.94      0.19       641\n",
            "           5       0.76      0.99      0.86      4375\n",
            "\n",
            "   micro avg       0.40      0.91      0.56      6197\n",
            "   macro avg       0.23      0.54      0.29      6197\n",
            "weighted avg       0.59      0.91      0.69      6197\n",
            " samples avg       0.42      0.91      0.57      6197\n",
            "\n"
          ]
        },
        {
          "output_type": "stream",
          "name": "stderr",
          "text": [
            "/usr/local/lib/python3.7/dist-packages/sklearn/metrics/_classification.py:1318: UndefinedMetricWarning: Precision and F-score are ill-defined and being set to 0.0 in labels with no predicted samples. Use `zero_division` parameter to control this behavior.\n",
            "  _warn_prf(average, modifier, msg_start, len(result))\n",
            "/usr/local/lib/python3.7/dist-packages/sklearn/metrics/_classification.py:1318: UndefinedMetricWarning: Recall and F-score are ill-defined and being set to 0.0 in labels with no true samples. Use `zero_division` parameter to control this behavior.\n",
            "  _warn_prf(average, modifier, msg_start, len(result))\n"
          ]
        }
      ]
    },
    {
      "cell_type": "markdown",
      "source": [
        "## RNN + CNN + CNN"
      ],
      "metadata": {
        "id": "ZbfCnjxsqhBj"
      },
      "id": "ZbfCnjxsqhBj"
    },
    {
      "cell_type": "code",
      "source": [
        "net_name = 'RNN+CNN+CNN'\n",
        "\n",
        "model = Sequential()\n",
        "\n",
        "model.add(Embedding(input_dim=word_count,\n",
        "                    output_dim=128,\n",
        "                    input_length=training_length,\n",
        "                    trainable=True,\n",
        "                    mask_zero=True,\n",
        "                    ))\n",
        "model.add(SimpleRNN(64, recurrent_dropout=0.2, return_sequences=\"True\"))\n",
        "model.add(Conv1D(64, 3, activation=\"linear\"))\n",
        "model.add(Conv1D(64, 1, activation=\"linear\")) \n",
        "model.add(Flatten())                      \n",
        "model.add(Dropout(0.5)) \n",
        "model.add(Dense(num_classes, activation=\"sigmoid\"))      \n",
        "\n",
        "\n",
        "model.compile(\n",
        "    optimizer='adam', loss='binary_crossentropy', metrics=['accuracy'])\n",
        "\n",
        "early_stopping=EarlyStopping(monitor='val_loss')  \n",
        "\n",
        "history = model.fit(X_train, y_train,\n",
        "                    batch_size=batch_size,\n",
        "                    epochs=epochs,\n",
        "                    verbose=1,\n",
        "                    validation_split=0.1,\n",
        "                    callbacks=[tensorboard, early_stopping])"
      ],
      "metadata": {
        "colab": {
          "base_uri": "https://localhost:8080/"
        },
        "id": "rSLE-ysgqalU",
        "outputId": "7d648974-d6ce-4544-ebe0-31f6d99cd161"
      },
      "id": "rSLE-ysgqalU",
      "execution_count": 179,
      "outputs": [
        {
          "output_type": "stream",
          "name": "stdout",
          "text": [
            "Epoch 1/20\n",
            "26/26 [==============================] - 24s 867ms/step - loss: 0.3821 - accuracy: 0.6757 - val_loss: 0.2327 - val_accuracy: 0.7227\n",
            "Epoch 2/20\n",
            "26/26 [==============================] - 22s 854ms/step - loss: 0.2237 - accuracy: 0.7360 - val_loss: 0.2075 - val_accuracy: 0.7490\n"
          ]
        }
      ]
    },
    {
      "cell_type": "code",
      "source": [
        "preds_proba = model.predict(X_test)\n",
        "preds = [np.round(l) for l in preds_proba]\n",
        "print(classification_report([np.round(l) for l in y_test], preds))\n",
        "\n",
        "comparing_list.append([net_name, history.history['accuracy'][-1], history.history['val_accuracy'][-1]])"
      ],
      "metadata": {
        "colab": {
          "base_uri": "https://localhost:8080/"
        },
        "id": "nZqJwpBClzV7",
        "outputId": "071068b2-3f34-4aa7-dfc4-6f93254935b0"
      },
      "id": "nZqJwpBClzV7",
      "execution_count": 180,
      "outputs": [
        {
          "output_type": "stream",
          "name": "stdout",
          "text": [
            "              precision    recall  f1-score   support\n",
            "\n",
            "           0       0.00      0.00      0.00         0\n",
            "           1       0.48      0.14      0.22       683\n",
            "           2       1.00      0.00      0.01       225\n",
            "           3       0.00      0.00      0.00       273\n",
            "           4       0.00      0.00      0.00       641\n",
            "           5       0.84      0.94      0.89      4375\n",
            "\n",
            "   micro avg       0.83      0.68      0.75      6197\n",
            "   macro avg       0.39      0.18      0.19      6197\n",
            "weighted avg       0.69      0.68      0.65      6197\n",
            " samples avg       0.68      0.68      0.68      6197\n",
            "\n"
          ]
        },
        {
          "output_type": "stream",
          "name": "stderr",
          "text": [
            "/usr/local/lib/python3.7/dist-packages/sklearn/metrics/_classification.py:1318: UndefinedMetricWarning: Precision and F-score are ill-defined and being set to 0.0 in labels with no predicted samples. Use `zero_division` parameter to control this behavior.\n",
            "  _warn_prf(average, modifier, msg_start, len(result))\n",
            "/usr/local/lib/python3.7/dist-packages/sklearn/metrics/_classification.py:1318: UndefinedMetricWarning: Recall and F-score are ill-defined and being set to 0.0 in labels with no true samples. Use `zero_division` parameter to control this behavior.\n",
            "  _warn_prf(average, modifier, msg_start, len(result))\n",
            "/usr/local/lib/python3.7/dist-packages/sklearn/metrics/_classification.py:1318: UndefinedMetricWarning: Precision and F-score are ill-defined and being set to 0.0 in samples with no predicted labels. Use `zero_division` parameter to control this behavior.\n",
            "  _warn_prf(average, modifier, msg_start, len(result))\n"
          ]
        }
      ]
    },
    {
      "cell_type": "markdown",
      "source": [
        "## RNN CNN pooling RNN"
      ],
      "metadata": {
        "id": "jQBXsgJmpMcY"
      },
      "id": "jQBXsgJmpMcY"
    },
    {
      "cell_type": "code",
      "source": [
        "net_name = 'RNN+CNN+pooling+RNN'\n",
        "\n",
        "model = Sequential()\n",
        "\n",
        "model.add(Embedding(input_dim=word_count,\n",
        "                    output_dim=128,\n",
        "                    input_length=training_length,\n",
        "                    trainable=True,\n",
        "                    mask_zero=True,\n",
        "                    ))\n",
        "# model.add(Masking(mask_value=0.0))\n",
        "\n",
        "model.add(SimpleRNN(128, return_sequences=True)) # return_sequences Сохраняет размерность для Conv1D\n",
        "model.add(Conv1D(128, 3, activation='relu'))\n",
        "model.add(GlobalMaxPool1D(keepdims=True)) # keepdims Сохраняет размерность для SimpleRNN\n",
        "model.add(SimpleRNN(64))\n",
        "model.add(Dense(64, activation='relu'))\n",
        "model.add(Dropout(0.5))\n",
        "model.add(Dense(num_classes, activation='sigmoid'))\n",
        "\n",
        "model.build()\n",
        "\n",
        "model.compile(loss='categorical_crossentropy',\n",
        "              optimizer='adam',\n",
        "              metrics=['accuracy'])\n",
        "\n",
        "history = model.fit(X_train, y_train,\n",
        "                    batch_size=batch_size,\n",
        "                    epochs=epochs,\n",
        "                    verbose=1,\n",
        "                    validation_split=0.1,\n",
        "                    callbacks=[tensorboard, early_stopping])"
      ],
      "metadata": {
        "colab": {
          "base_uri": "https://localhost:8080/"
        },
        "id": "7g6V8lP-lzbH",
        "outputId": "34d0b714-0145-479b-cc80-00efa63055f1"
      },
      "id": "7g6V8lP-lzbH",
      "execution_count": 181,
      "outputs": [
        {
          "output_type": "stream",
          "name": "stdout",
          "text": [
            "Epoch 1/20\n",
            "26/26 [==============================] - 41s 2s/step - loss: 1.2378 - accuracy: 0.6963 - val_loss: 0.7673 - val_accuracy: 0.7400\n",
            "Epoch 2/20\n",
            "26/26 [==============================] - 39s 1s/step - loss: 0.7588 - accuracy: 0.7481 - val_loss: 0.7701 - val_accuracy: 0.7580\n"
          ]
        }
      ]
    },
    {
      "cell_type": "code",
      "source": [
        "preds_proba = model.predict(X_test)\n",
        "preds = [np.round(l) for l in preds_proba]\n",
        "print(classification_report([np.round(l) for l in y_test], preds))\n",
        "\n",
        "comparing_list.append([net_name, history.history['accuracy'][-1], history.history['val_accuracy'][-1]])"
      ],
      "metadata": {
        "colab": {
          "base_uri": "https://localhost:8080/"
        },
        "id": "Bjt7aDiylzde",
        "outputId": "71e43f28-c532-4283-c65f-7f1dca2e2b9e"
      },
      "id": "Bjt7aDiylzde",
      "execution_count": 182,
      "outputs": [
        {
          "output_type": "stream",
          "name": "stdout",
          "text": [
            "              precision    recall  f1-score   support\n",
            "\n",
            "           0       0.00      0.00      0.00         0\n",
            "           1       0.33      0.91      0.48       683\n",
            "           2       0.14      0.77      0.23       225\n",
            "           3       0.15      0.59      0.24       273\n",
            "           4       0.10      1.00      0.19       641\n",
            "           5       0.71      1.00      0.83      4375\n",
            "\n",
            "   micro avg       0.36      0.96      0.52      6197\n",
            "   macro avg       0.24      0.71      0.33      6197\n",
            "weighted avg       0.56      0.96      0.68      6197\n",
            " samples avg       0.41      0.96      0.56      6197\n",
            "\n"
          ]
        },
        {
          "output_type": "stream",
          "name": "stderr",
          "text": [
            "/usr/local/lib/python3.7/dist-packages/sklearn/metrics/_classification.py:1318: UndefinedMetricWarning: Precision and F-score are ill-defined and being set to 0.0 in labels with no predicted samples. Use `zero_division` parameter to control this behavior.\n",
            "  _warn_prf(average, modifier, msg_start, len(result))\n",
            "/usr/local/lib/python3.7/dist-packages/sklearn/metrics/_classification.py:1318: UndefinedMetricWarning: Recall and F-score are ill-defined and being set to 0.0 in labels with no true samples. Use `zero_division` parameter to control this behavior.\n",
            "  _warn_prf(average, modifier, msg_start, len(result))\n"
          ]
        }
      ]
    },
    {
      "cell_type": "markdown",
      "source": [
        "## (CNN RNN)x3 + polling"
      ],
      "metadata": {
        "id": "ADP1-d3upos5"
      },
      "id": "ADP1-d3upos5"
    },
    {
      "cell_type": "code",
      "source": [
        "net_name = '(CNN+RNN)x3+polling'\n",
        "\n",
        "model = Sequential()\n",
        "\n",
        "model.add(Embedding(input_dim=word_count,\n",
        "                    output_dim=128,\n",
        "                    input_length=training_length,\n",
        "                    trainable=True,\n",
        "                    mask_zero=True,\n",
        "                    ))\n",
        "# model.add(Masking(mask_value=0.0))\n",
        "model.add(Conv1D(128, 3, activation='relu'))\n",
        "model.add(SimpleRNN(128, return_sequences=True)) # return_sequences Сохраняет размерность для Conv1D\n",
        "model.add(Conv1D(64, 3, activation='relu'))\n",
        "model.add(SimpleRNN(64, return_sequences=True)) # return_sequences Сохраняет размерность для Conv1D\n",
        "model.add(Conv1D(32, 2, activation='relu'))\n",
        "model.add(SimpleRNN(32, return_sequences=True)) # return_sequences Сохраняет размерность для Conv1D\n",
        "model.add(GlobalMaxPool1D())\n",
        "model.add(Dense(32, activation='relu'))\n",
        "model.add(Dropout(0.5))\n",
        "model.add(Dense(num_classes, activation='sigmoid'))\n",
        "\n",
        "model.build()\n",
        "\n",
        "model.compile(loss='categorical_crossentropy',\n",
        "              optimizer='adam',\n",
        "              metrics=['accuracy'])\n",
        "\n",
        "history = model.fit(X_train, y_train,\n",
        "                    batch_size=batch_size,\n",
        "                    epochs=epochs,\n",
        "                    verbose=1,\n",
        "                    validation_split=0.1,\n",
        "                    callbacks=[tensorboard, early_stopping])"
      ],
      "metadata": {
        "colab": {
          "base_uri": "https://localhost:8080/"
        },
        "id": "lDF6WwCXpBXQ",
        "outputId": "f7b859df-b00f-4b8e-a1c4-fe0f042c3c82"
      },
      "id": "lDF6WwCXpBXQ",
      "execution_count": 183,
      "outputs": [
        {
          "output_type": "stream",
          "name": "stdout",
          "text": [
            "Epoch 1/20\n",
            "26/26 [==============================] - 54s 2s/step - loss: 1.2669 - accuracy: 0.6237 - val_loss: 0.9949 - val_accuracy: 0.7026\n",
            "Epoch 2/20\n",
            "26/26 [==============================] - 52s 2s/step - loss: 1.0389 - accuracy: 0.7003 - val_loss: 0.8695 - val_accuracy: 0.7026\n"
          ]
        }
      ]
    },
    {
      "cell_type": "code",
      "source": [
        "preds_proba = model.predict(X_test)\n",
        "preds = [np.round(l) for l in preds_proba]\n",
        "print(classification_report([np.round(l) for l in y_test], preds))\n",
        "\n",
        "comparing_list.append([net_name, history.history['accuracy'][-1], history.history['val_accuracy'][-1]])"
      ],
      "metadata": {
        "colab": {
          "base_uri": "https://localhost:8080/"
        },
        "id": "bC6wNdIztWFm",
        "outputId": "a986892b-295b-4e14-f181-fbd67de05376"
      },
      "id": "bC6wNdIztWFm",
      "execution_count": 184,
      "outputs": [
        {
          "output_type": "stream",
          "name": "stdout",
          "text": [
            "              precision    recall  f1-score   support\n",
            "\n",
            "           0       0.00      0.00      0.00         0\n",
            "           1       0.11      1.00      0.20       683\n",
            "           2       0.00      0.00      0.00       225\n",
            "           3       0.04      1.00      0.08       273\n",
            "           4       0.10      1.00      0.19       641\n",
            "           5       0.71      1.00      0.83      4375\n",
            "\n",
            "   micro avg       0.24      0.96      0.39      6197\n",
            "   macro avg       0.16      0.67      0.22      6197\n",
            "weighted avg       0.52      0.96      0.63      6197\n",
            " samples avg       0.24      0.96      0.39      6197\n",
            "\n"
          ]
        },
        {
          "output_type": "stream",
          "name": "stderr",
          "text": [
            "/usr/local/lib/python3.7/dist-packages/sklearn/metrics/_classification.py:1318: UndefinedMetricWarning: Precision and F-score are ill-defined and being set to 0.0 in labels with no predicted samples. Use `zero_division` parameter to control this behavior.\n",
            "  _warn_prf(average, modifier, msg_start, len(result))\n",
            "/usr/local/lib/python3.7/dist-packages/sklearn/metrics/_classification.py:1318: UndefinedMetricWarning: Recall and F-score are ill-defined and being set to 0.0 in labels with no true samples. Use `zero_division` parameter to control this behavior.\n",
            "  _warn_prf(average, modifier, msg_start, len(result))\n"
          ]
        }
      ]
    },
    {
      "cell_type": "markdown",
      "source": [
        "## Сравнение результатов"
      ],
      "metadata": {
        "id": "XlfIt6NFiPAW"
      },
      "id": "XlfIt6NFiPAW"
    },
    {
      "cell_type": "code",
      "source": [
        "comparing_list"
      ],
      "metadata": {
        "colab": {
          "base_uri": "https://localhost:8080/"
        },
        "id": "yHj-OtMaguED",
        "outputId": "5d9489a8-de3b-4b20-83f3-b6d50c84b247"
      },
      "id": "yHj-OtMaguED",
      "execution_count": 185,
      "outputs": [
        {
          "output_type": "execute_result",
          "data": {
            "text/plain": [
              "[['CNN+pooling', 0.7065242528915405, 0.704702615737915],\n",
              " ['RNN', 0.7468684911727905, 0.7655601501464844],\n",
              " ['CNN+RNN', 0.7394144535064697, 0.7544951438903809],\n",
              " ['CNN+pooling+RNN', 0.7240451574325562, 0.7572613954544067],\n",
              " ['RNN+CNN+CNN', 0.7359563708305359, 0.7489626407623291],\n",
              " ['RNN+CNN+pooling+RNN', 0.7480980753898621, 0.7579529881477356],\n",
              " ['(CNN+RNN)x3+polling', 0.7002996802330017, 0.702627956867218]]"
            ]
          },
          "metadata": {},
          "execution_count": 185
        }
      ]
    },
    {
      "cell_type": "code",
      "source": [
        "pd.DataFrame(comparing_list, columns=['net_name', 'accuracy', 'val_accuracy'])"
      ],
      "metadata": {
        "colab": {
          "base_uri": "https://localhost:8080/",
          "height": 266
        },
        "id": "zM3UWHvZgvXC",
        "outputId": "73337ee6-3006-4673-e331-f7997944f006"
      },
      "id": "zM3UWHvZgvXC",
      "execution_count": 186,
      "outputs": [
        {
          "output_type": "execute_result",
          "data": {
            "text/plain": [
              "              net_name  accuracy  val_accuracy\n",
              "0          CNN+pooling  0.706524      0.704703\n",
              "1                  RNN  0.746868      0.765560\n",
              "2              CNN+RNN  0.739414      0.754495\n",
              "3      CNN+pooling+RNN  0.724045      0.757261\n",
              "4          RNN+CNN+CNN  0.735956      0.748963\n",
              "5  RNN+CNN+pooling+RNN  0.748098      0.757953\n",
              "6  (CNN+RNN)x3+polling  0.700300      0.702628"
            ],
            "text/html": [
              "\n",
              "  <div id=\"df-bdef57d8-fe17-46a5-b83f-46b19afd86e0\">\n",
              "    <div class=\"colab-df-container\">\n",
              "      <div>\n",
              "<style scoped>\n",
              "    .dataframe tbody tr th:only-of-type {\n",
              "        vertical-align: middle;\n",
              "    }\n",
              "\n",
              "    .dataframe tbody tr th {\n",
              "        vertical-align: top;\n",
              "    }\n",
              "\n",
              "    .dataframe thead th {\n",
              "        text-align: right;\n",
              "    }\n",
              "</style>\n",
              "<table border=\"1\" class=\"dataframe\">\n",
              "  <thead>\n",
              "    <tr style=\"text-align: right;\">\n",
              "      <th></th>\n",
              "      <th>net_name</th>\n",
              "      <th>accuracy</th>\n",
              "      <th>val_accuracy</th>\n",
              "    </tr>\n",
              "  </thead>\n",
              "  <tbody>\n",
              "    <tr>\n",
              "      <th>0</th>\n",
              "      <td>CNN+pooling</td>\n",
              "      <td>0.706524</td>\n",
              "      <td>0.704703</td>\n",
              "    </tr>\n",
              "    <tr>\n",
              "      <th>1</th>\n",
              "      <td>RNN</td>\n",
              "      <td>0.746868</td>\n",
              "      <td>0.765560</td>\n",
              "    </tr>\n",
              "    <tr>\n",
              "      <th>2</th>\n",
              "      <td>CNN+RNN</td>\n",
              "      <td>0.739414</td>\n",
              "      <td>0.754495</td>\n",
              "    </tr>\n",
              "    <tr>\n",
              "      <th>3</th>\n",
              "      <td>CNN+pooling+RNN</td>\n",
              "      <td>0.724045</td>\n",
              "      <td>0.757261</td>\n",
              "    </tr>\n",
              "    <tr>\n",
              "      <th>4</th>\n",
              "      <td>RNN+CNN+CNN</td>\n",
              "      <td>0.735956</td>\n",
              "      <td>0.748963</td>\n",
              "    </tr>\n",
              "    <tr>\n",
              "      <th>5</th>\n",
              "      <td>RNN+CNN+pooling+RNN</td>\n",
              "      <td>0.748098</td>\n",
              "      <td>0.757953</td>\n",
              "    </tr>\n",
              "    <tr>\n",
              "      <th>6</th>\n",
              "      <td>(CNN+RNN)x3+polling</td>\n",
              "      <td>0.700300</td>\n",
              "      <td>0.702628</td>\n",
              "    </tr>\n",
              "  </tbody>\n",
              "</table>\n",
              "</div>\n",
              "      <button class=\"colab-df-convert\" onclick=\"convertToInteractive('df-bdef57d8-fe17-46a5-b83f-46b19afd86e0')\"\n",
              "              title=\"Convert this dataframe to an interactive table.\"\n",
              "              style=\"display:none;\">\n",
              "        \n",
              "  <svg xmlns=\"http://www.w3.org/2000/svg\" height=\"24px\"viewBox=\"0 0 24 24\"\n",
              "       width=\"24px\">\n",
              "    <path d=\"M0 0h24v24H0V0z\" fill=\"none\"/>\n",
              "    <path d=\"M18.56 5.44l.94 2.06.94-2.06 2.06-.94-2.06-.94-.94-2.06-.94 2.06-2.06.94zm-11 1L8.5 8.5l.94-2.06 2.06-.94-2.06-.94L8.5 2.5l-.94 2.06-2.06.94zm10 10l.94 2.06.94-2.06 2.06-.94-2.06-.94-.94-2.06-.94 2.06-2.06.94z\"/><path d=\"M17.41 7.96l-1.37-1.37c-.4-.4-.92-.59-1.43-.59-.52 0-1.04.2-1.43.59L10.3 9.45l-7.72 7.72c-.78.78-.78 2.05 0 2.83L4 21.41c.39.39.9.59 1.41.59.51 0 1.02-.2 1.41-.59l7.78-7.78 2.81-2.81c.8-.78.8-2.07 0-2.86zM5.41 20L4 18.59l7.72-7.72 1.47 1.35L5.41 20z\"/>\n",
              "  </svg>\n",
              "      </button>\n",
              "      \n",
              "  <style>\n",
              "    .colab-df-container {\n",
              "      display:flex;\n",
              "      flex-wrap:wrap;\n",
              "      gap: 12px;\n",
              "    }\n",
              "\n",
              "    .colab-df-convert {\n",
              "      background-color: #E8F0FE;\n",
              "      border: none;\n",
              "      border-radius: 50%;\n",
              "      cursor: pointer;\n",
              "      display: none;\n",
              "      fill: #1967D2;\n",
              "      height: 32px;\n",
              "      padding: 0 0 0 0;\n",
              "      width: 32px;\n",
              "    }\n",
              "\n",
              "    .colab-df-convert:hover {\n",
              "      background-color: #E2EBFA;\n",
              "      box-shadow: 0px 1px 2px rgba(60, 64, 67, 0.3), 0px 1px 3px 1px rgba(60, 64, 67, 0.15);\n",
              "      fill: #174EA6;\n",
              "    }\n",
              "\n",
              "    [theme=dark] .colab-df-convert {\n",
              "      background-color: #3B4455;\n",
              "      fill: #D2E3FC;\n",
              "    }\n",
              "\n",
              "    [theme=dark] .colab-df-convert:hover {\n",
              "      background-color: #434B5C;\n",
              "      box-shadow: 0px 1px 3px 1px rgba(0, 0, 0, 0.15);\n",
              "      filter: drop-shadow(0px 1px 2px rgba(0, 0, 0, 0.3));\n",
              "      fill: #FFFFFF;\n",
              "    }\n",
              "  </style>\n",
              "\n",
              "      <script>\n",
              "        const buttonEl =\n",
              "          document.querySelector('#df-bdef57d8-fe17-46a5-b83f-46b19afd86e0 button.colab-df-convert');\n",
              "        buttonEl.style.display =\n",
              "          google.colab.kernel.accessAllowed ? 'block' : 'none';\n",
              "\n",
              "        async function convertToInteractive(key) {\n",
              "          const element = document.querySelector('#df-bdef57d8-fe17-46a5-b83f-46b19afd86e0');\n",
              "          const dataTable =\n",
              "            await google.colab.kernel.invokeFunction('convertToInteractive',\n",
              "                                                     [key], {});\n",
              "          if (!dataTable) return;\n",
              "\n",
              "          const docLinkHtml = 'Like what you see? Visit the ' +\n",
              "            '<a target=\"_blank\" href=https://colab.research.google.com/notebooks/data_table.ipynb>data table notebook</a>'\n",
              "            + ' to learn more about interactive tables.';\n",
              "          element.innerHTML = '';\n",
              "          dataTable['output_type'] = 'display_data';\n",
              "          await google.colab.output.renderOutput(dataTable, element);\n",
              "          const docLink = document.createElement('div');\n",
              "          docLink.innerHTML = docLinkHtml;\n",
              "          element.appendChild(docLink);\n",
              "        }\n",
              "      </script>\n",
              "    </div>\n",
              "  </div>\n",
              "  "
            ]
          },
          "metadata": {},
          "execution_count": 186
        }
      ]
    },
    {
      "cell_type": "markdown",
      "source": [
        "как ни смешно, но обычная RNN уделала остальные архитектуры по метрике качества. Она же относительно других архитектур неплохо предсказывает и классы кроме 5 это (1,2,3,4)"
      ],
      "metadata": {
        "id": "O-q0hXvWvFDG"
      },
      "id": "O-q0hXvWvFDG"
    },
    {
      "cell_type": "code",
      "source": [
        ""
      ],
      "metadata": {
        "id": "tiBRytyog0iy"
      },
      "id": "tiBRytyog0iy",
      "execution_count": null,
      "outputs": []
    }
  ],
  "metadata": {
    "kernelspec": {
      "display_name": "Python 3",
      "language": "python",
      "name": "python3"
    },
    "language_info": {
      "codemirror_mode": {
        "name": "ipython",
        "version": 3
      },
      "file_extension": ".py",
      "mimetype": "text/x-python",
      "name": "python",
      "nbconvert_exporter": "python",
      "pygments_lexer": "ipython3",
      "version": "3.8.8"
    },
    "colab": {
      "name": "hw_lesson_08.ipynb",
      "provenance": [],
      "collapsed_sections": []
    }
  },
  "nbformat": 4,
  "nbformat_minor": 5
}