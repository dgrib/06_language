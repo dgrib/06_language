{
  "cells": [
    {
      "cell_type": "markdown",
      "metadata": {
        "id": "UNLNb9eEVemQ"
      },
      "source": [
        "## Урок 4. Домашнее задание. \n",
        "## Тематическое моделирование. EM-алгоритм\n",
        "\n",
        "1. объединить в одну выборку (это только для твитов), для роспотребнадзора сформировать датасет из вопросов\n",
        "2. провести исследование и выявить тематики о которых говорят в твитах (для твитов), а для роспотребнадзора так же выявить тематики о которых люди пишут проанализировать\n",
        "3. сделать визуализацию кластеров тематик\n",
        "4. проинтерпритировать получившиеся тематики"
      ]
    },
    {
      "cell_type": "code",
      "source": [
        "!pip install pymorphy2"
      ],
      "metadata": {
        "colab": {
          "base_uri": "https://localhost:8080/"
        },
        "id": "eRLAAZ_xVpg1",
        "outputId": "62c45656-ee04-4d78-e0a2-079f71bb57f4"
      },
      "execution_count": null,
      "outputs": [
        {
          "output_type": "stream",
          "name": "stdout",
          "text": [
            "Looking in indexes: https://pypi.org/simple, https://us-python.pkg.dev/colab-wheels/public/simple/\n",
            "Collecting pymorphy2\n",
            "  Downloading pymorphy2-0.9.1-py3-none-any.whl (55 kB)\n",
            "\u001b[K     |████████████████████████████████| 55 kB 1.9 MB/s \n",
            "\u001b[?25hCollecting pymorphy2-dicts-ru<3.0,>=2.4\n",
            "  Downloading pymorphy2_dicts_ru-2.4.417127.4579844-py2.py3-none-any.whl (8.2 MB)\n",
            "\u001b[K     |████████████████████████████████| 8.2 MB 8.2 MB/s \n",
            "\u001b[?25hRequirement already satisfied: docopt>=0.6 in /usr/local/lib/python3.7/dist-packages (from pymorphy2) (0.6.2)\n",
            "Collecting dawg-python>=0.7.1\n",
            "  Downloading DAWG_Python-0.7.2-py2.py3-none-any.whl (11 kB)\n",
            "Installing collected packages: pymorphy2-dicts-ru, dawg-python, pymorphy2\n",
            "Successfully installed dawg-python-0.7.2 pymorphy2-0.9.1 pymorphy2-dicts-ru-2.4.417127.4579844\n"
          ]
        }
      ]
    },
    {
      "cell_type": "code",
      "execution_count": null,
      "metadata": {
        "id": "QaHae_wmVemT"
      },
      "outputs": [],
      "source": [
        "import requests\n",
        "from bs4 import BeautifulSoup \n",
        "import time\n",
        "from urllib.parse import urlparse, urljoin\n",
        "from tqdm.notebook import tqdm\n",
        "\n",
        "import pandas as pd\n",
        "import numpy as np\n",
        "import re\n",
        "import string\n",
        "from pymorphy2 import MorphAnalyzer\n",
        "from nltk.corpus import stopwords\n",
        "import nltk\n",
        "from nltk.tokenize import word_tokenize"
      ]
    },
    {
      "cell_type": "code",
      "execution_count": null,
      "metadata": {
        "colab": {
          "referenced_widgets": [
            "2795e661f9cd4f9aa7d529b1bc52109a"
          ]
        },
        "id": "L1ZlZzsYVemU",
        "outputId": "30571679-4b4e-49d8-afa5-18d08181a3bd"
      },
      "outputs": [
        {
          "data": {
            "application/vnd.jupyter.widget-view+json": {
              "model_id": "2795e661f9cd4f9aa7d529b1bc52109a",
              "version_major": 2,
              "version_minor": 0
            },
            "text/plain": [
              "HBox(children=(HTML(value='Pages'), FloatProgress(value=0.0, max=499.0), HTML(value='')))"
            ]
          },
          "metadata": {},
          "output_type": "display_data"
        },
        {
          "name": "stdout",
          "output_type": "stream",
          "text": [
            "\n"
          ]
        }
      ],
      "source": [
        "## найти id каждого вопроса на страницах\n",
        "# ячейка в колабе не работает\n",
        "page = 1\n",
        "main_url = 'https://zpp.rospotrebnadzor.ru/Forum/Appeals/AjaxindexList?page={page}&searchtext=&categories=[]'\n",
        "\n",
        "def ids_from_page(soup):\n",
        "    return [i.get('href') for i  in soup.findAll('a', {'class':'appeal-title-link'})]\n",
        "    \n",
        "urls = []\n",
        "for page in tqdm(range(1, 500), desc='Pages'):\n",
        "    time.sleep(0.5)\n",
        "    res = requests.get(main_url.format(page=page))  \n",
        "    soup = BeautifulSoup(res.text)\n",
        "    urls.extend(ids_from_page(soup))"
      ]
    },
    {
      "cell_type": "code",
      "execution_count": null,
      "metadata": {
        "colab": {
          "referenced_widgets": [
            "d9fc34ad4f584c949fb22453a10d9562"
          ]
        },
        "id": "nuEf-K9yVemV",
        "outputId": "2b8736e1-c26f-4500-8ec8-d63d55a32d39"
      },
      "outputs": [
        {
          "data": {
            "application/vnd.jupyter.widget-view+json": {
              "model_id": "d9fc34ad4f584c949fb22453a10d9562",
              "version_major": 2,
              "version_minor": 0
            },
            "text/plain": [
              "HBox(children=(HTML(value='Pages'), FloatProgress(value=0.0, max=2495.0), HTML(value='')))"
            ]
          },
          "metadata": {},
          "output_type": "display_data"
        },
        {
          "name": "stdout",
          "output_type": "stream",
          "text": [
            "\n"
          ]
        }
      ],
      "source": [
        "## имея id запросов достанем тексты на страницах\n",
        "# ячейка в колабе не работает\n",
        "domain = 'https://zpp.rospotrebnadzor.ru'\n",
        "\n",
        "def get_text_page_question(soup):\n",
        "    return soup.findAll('p', {'class':'appeal-details-message'})[0].text\n",
        "def get_text_page_answer(soup):\n",
        "    return soup.findAll('p', {'class':'appeal-comments-message'})[0].text\n",
        "\n",
        "question = []\n",
        "answer = []\n",
        "\n",
        "for url in tqdm(urls, desc='Pages'):\n",
        "    time.sleep(0.5)\n",
        "    res = requests.get(urljoin(domain, url))  \n",
        "    soup = BeautifulSoup(res.text)\n",
        "    \n",
        "    question.append(get_text_page_question(soup))\n",
        "    try:\n",
        "        answer.append(get_text_page_answer(soup))\n",
        "    except:\n",
        "        answer.append('No answer')"
      ]
    },
    {
      "cell_type": "code",
      "execution_count": null,
      "metadata": {
        "id": "iDK4Ff7eVemW"
      },
      "outputs": [],
      "source": [
        "# df = pd.DataFrame(list(zip(question, answer)), columns=['question','answer'])\n",
        "df = pd.DataFrame(question, columns=['question'])"
      ]
    },
    {
      "cell_type": "code",
      "execution_count": null,
      "metadata": {
        "scrolled": false,
        "id": "Ny3LfyHsVemX"
      },
      "outputs": [],
      "source": [
        "df.to_csv('rospotrebnadzor.csv', index=False)"
      ]
    },
    {
      "cell_type": "code",
      "execution_count": null,
      "metadata": {
        "id": "5dq4caK1VemX"
      },
      "outputs": [],
      "source": [
        "df = pd.read_csv('rospotrebnadzor.csv')"
      ]
    },
    {
      "cell_type": "code",
      "execution_count": null,
      "metadata": {
        "colab": {
          "base_uri": "https://localhost:8080/",
          "height": 424
        },
        "id": "9NlO5OS8VemY",
        "outputId": "a90b0749-15fc-422e-d9b0-f9afffa5f137"
      },
      "outputs": [
        {
          "output_type": "execute_result",
          "data": {
            "text/plain": [
              "                                               question\n",
              "0     Я Ошуркова Елена Сергеевна,проживающая по адре...\n",
              "1     Добрый день!\\r\\n\\r\\nОсновной ворос - Является ...\n",
              "2     9 июля 2022 года при совершении покупки в мага...\n",
              "3     Здравствуйте!\\r\\nВ мае 2021 года был куплен би...\n",
              "4     Добрый день. \\r\\n02.05.2022 в приложении Wildb...\n",
              "...                                                 ...\n",
              "2490  Здравствуйте в онлацн магазине г. НОВЫЙ УРЕНГО...\n",
              "2491  Прошу разьяснить правила для не привитых от CO...\n",
              "2492  Заказала товар на сайте storebrick.ru, оплатил...\n",
              "2493  В магазине «Мечта» по адресу: РТ, пос. совхоза...\n",
              "2494  В средней школе г. Новосибирска № 24 сложилась...\n",
              "\n",
              "[2495 rows x 1 columns]"
            ],
            "text/html": [
              "\n",
              "  <div id=\"df-7c9a3804-db81-44e9-a5a7-0172cd3787dc\">\n",
              "    <div class=\"colab-df-container\">\n",
              "      <div>\n",
              "<style scoped>\n",
              "    .dataframe tbody tr th:only-of-type {\n",
              "        vertical-align: middle;\n",
              "    }\n",
              "\n",
              "    .dataframe tbody tr th {\n",
              "        vertical-align: top;\n",
              "    }\n",
              "\n",
              "    .dataframe thead th {\n",
              "        text-align: right;\n",
              "    }\n",
              "</style>\n",
              "<table border=\"1\" class=\"dataframe\">\n",
              "  <thead>\n",
              "    <tr style=\"text-align: right;\">\n",
              "      <th></th>\n",
              "      <th>question</th>\n",
              "    </tr>\n",
              "  </thead>\n",
              "  <tbody>\n",
              "    <tr>\n",
              "      <th>0</th>\n",
              "      <td>Я Ошуркова Елена Сергеевна,проживающая по адре...</td>\n",
              "    </tr>\n",
              "    <tr>\n",
              "      <th>1</th>\n",
              "      <td>Добрый день!\\r\\n\\r\\nОсновной ворос - Является ...</td>\n",
              "    </tr>\n",
              "    <tr>\n",
              "      <th>2</th>\n",
              "      <td>9 июля 2022 года при совершении покупки в мага...</td>\n",
              "    </tr>\n",
              "    <tr>\n",
              "      <th>3</th>\n",
              "      <td>Здравствуйте!\\r\\nВ мае 2021 года был куплен би...</td>\n",
              "    </tr>\n",
              "    <tr>\n",
              "      <th>4</th>\n",
              "      <td>Добрый день. \\r\\n02.05.2022 в приложении Wildb...</td>\n",
              "    </tr>\n",
              "    <tr>\n",
              "      <th>...</th>\n",
              "      <td>...</td>\n",
              "    </tr>\n",
              "    <tr>\n",
              "      <th>2490</th>\n",
              "      <td>Здравствуйте в онлацн магазине г. НОВЫЙ УРЕНГО...</td>\n",
              "    </tr>\n",
              "    <tr>\n",
              "      <th>2491</th>\n",
              "      <td>Прошу разьяснить правила для не привитых от CO...</td>\n",
              "    </tr>\n",
              "    <tr>\n",
              "      <th>2492</th>\n",
              "      <td>Заказала товар на сайте storebrick.ru, оплатил...</td>\n",
              "    </tr>\n",
              "    <tr>\n",
              "      <th>2493</th>\n",
              "      <td>В магазине «Мечта» по адресу: РТ, пос. совхоза...</td>\n",
              "    </tr>\n",
              "    <tr>\n",
              "      <th>2494</th>\n",
              "      <td>В средней школе г. Новосибирска № 24 сложилась...</td>\n",
              "    </tr>\n",
              "  </tbody>\n",
              "</table>\n",
              "<p>2495 rows × 1 columns</p>\n",
              "</div>\n",
              "      <button class=\"colab-df-convert\" onclick=\"convertToInteractive('df-7c9a3804-db81-44e9-a5a7-0172cd3787dc')\"\n",
              "              title=\"Convert this dataframe to an interactive table.\"\n",
              "              style=\"display:none;\">\n",
              "        \n",
              "  <svg xmlns=\"http://www.w3.org/2000/svg\" height=\"24px\"viewBox=\"0 0 24 24\"\n",
              "       width=\"24px\">\n",
              "    <path d=\"M0 0h24v24H0V0z\" fill=\"none\"/>\n",
              "    <path d=\"M18.56 5.44l.94 2.06.94-2.06 2.06-.94-2.06-.94-.94-2.06-.94 2.06-2.06.94zm-11 1L8.5 8.5l.94-2.06 2.06-.94-2.06-.94L8.5 2.5l-.94 2.06-2.06.94zm10 10l.94 2.06.94-2.06 2.06-.94-2.06-.94-.94-2.06-.94 2.06-2.06.94z\"/><path d=\"M17.41 7.96l-1.37-1.37c-.4-.4-.92-.59-1.43-.59-.52 0-1.04.2-1.43.59L10.3 9.45l-7.72 7.72c-.78.78-.78 2.05 0 2.83L4 21.41c.39.39.9.59 1.41.59.51 0 1.02-.2 1.41-.59l7.78-7.78 2.81-2.81c.8-.78.8-2.07 0-2.86zM5.41 20L4 18.59l7.72-7.72 1.47 1.35L5.41 20z\"/>\n",
              "  </svg>\n",
              "      </button>\n",
              "      \n",
              "  <style>\n",
              "    .colab-df-container {\n",
              "      display:flex;\n",
              "      flex-wrap:wrap;\n",
              "      gap: 12px;\n",
              "    }\n",
              "\n",
              "    .colab-df-convert {\n",
              "      background-color: #E8F0FE;\n",
              "      border: none;\n",
              "      border-radius: 50%;\n",
              "      cursor: pointer;\n",
              "      display: none;\n",
              "      fill: #1967D2;\n",
              "      height: 32px;\n",
              "      padding: 0 0 0 0;\n",
              "      width: 32px;\n",
              "    }\n",
              "\n",
              "    .colab-df-convert:hover {\n",
              "      background-color: #E2EBFA;\n",
              "      box-shadow: 0px 1px 2px rgba(60, 64, 67, 0.3), 0px 1px 3px 1px rgba(60, 64, 67, 0.15);\n",
              "      fill: #174EA6;\n",
              "    }\n",
              "\n",
              "    [theme=dark] .colab-df-convert {\n",
              "      background-color: #3B4455;\n",
              "      fill: #D2E3FC;\n",
              "    }\n",
              "\n",
              "    [theme=dark] .colab-df-convert:hover {\n",
              "      background-color: #434B5C;\n",
              "      box-shadow: 0px 1px 3px 1px rgba(0, 0, 0, 0.15);\n",
              "      filter: drop-shadow(0px 1px 2px rgba(0, 0, 0, 0.3));\n",
              "      fill: #FFFFFF;\n",
              "    }\n",
              "  </style>\n",
              "\n",
              "      <script>\n",
              "        const buttonEl =\n",
              "          document.querySelector('#df-7c9a3804-db81-44e9-a5a7-0172cd3787dc button.colab-df-convert');\n",
              "        buttonEl.style.display =\n",
              "          google.colab.kernel.accessAllowed ? 'block' : 'none';\n",
              "\n",
              "        async function convertToInteractive(key) {\n",
              "          const element = document.querySelector('#df-7c9a3804-db81-44e9-a5a7-0172cd3787dc');\n",
              "          const dataTable =\n",
              "            await google.colab.kernel.invokeFunction('convertToInteractive',\n",
              "                                                     [key], {});\n",
              "          if (!dataTable) return;\n",
              "\n",
              "          const docLinkHtml = 'Like what you see? Visit the ' +\n",
              "            '<a target=\"_blank\" href=https://colab.research.google.com/notebooks/data_table.ipynb>data table notebook</a>'\n",
              "            + ' to learn more about interactive tables.';\n",
              "          element.innerHTML = '';\n",
              "          dataTable['output_type'] = 'display_data';\n",
              "          await google.colab.output.renderOutput(dataTable, element);\n",
              "          const docLink = document.createElement('div');\n",
              "          docLink.innerHTML = docLinkHtml;\n",
              "          element.appendChild(docLink);\n",
              "        }\n",
              "      </script>\n",
              "    </div>\n",
              "  </div>\n",
              "  "
            ]
          },
          "metadata": {},
          "execution_count": 4
        }
      ],
      "source": [
        "df"
      ]
    },
    {
      "cell_type": "code",
      "execution_count": null,
      "metadata": {
        "colab": {
          "base_uri": "https://localhost:8080/"
        },
        "id": "QXuyUPkLVemY",
        "outputId": "9e0aa951-612d-4814-dd51-506a6581d286"
      },
      "outputs": [
        {
          "output_type": "stream",
          "name": "stderr",
          "text": [
            "<input>:2: DeprecationWarning: invalid escape sequence \\w\n",
            "<input>:2: DeprecationWarning: invalid escape sequence \\w\n",
            "<input>:2: DeprecationWarning: invalid escape sequence \\w\n",
            "<input>:2: DeprecationWarning: invalid escape sequence \\w\n",
            "<input>:2: DeprecationWarning: invalid escape sequence \\w\n",
            "<input>:2: DeprecationWarning: invalid escape sequence \\w\n",
            "<input>:2: DeprecationWarning: invalid escape sequence \\w\n",
            "<input>:2: DeprecationWarning: invalid escape sequence \\w\n",
            "<input>:2: DeprecationWarning: invalid escape sequence \\w\n",
            "<input>:2: DeprecationWarning: invalid escape sequence \\w\n",
            "<input>:2: DeprecationWarning: invalid escape sequence \\w\n",
            "<input>:2: DeprecationWarning: invalid escape sequence \\w\n",
            "<input>:2: DeprecationWarning: invalid escape sequence \\w\n",
            "<input>:2: DeprecationWarning: invalid escape sequence \\w\n",
            "<input>:2: DeprecationWarning: invalid escape sequence \\w\n",
            "<input>:2: DeprecationWarning: invalid escape sequence \\w\n",
            "<input>:2: DeprecationWarning: invalid escape sequence \\w\n",
            "<input>:2: DeprecationWarning: invalid escape sequence \\w\n",
            "<input>:2: DeprecationWarning: invalid escape sequence \\w\n",
            "<input>:2: DeprecationWarning: invalid escape sequence \\w\n",
            "<ipython-input-19-cb500970b6e2>:2: DeprecationWarning: invalid escape sequence \\w\n",
            "  words_regex = re.compile('\\w+')\n",
            "[nltk_data] Downloading package stopwords to /root/nltk_data...\n",
            "[nltk_data]   Package stopwords is already up-to-date!\n",
            "/usr/local/lib/python3.7/dist-packages/pymorphy2/units/base.py:70: DeprecationWarning: inspect.getargspec() is deprecated since Python 3.0, use inspect.signature() or inspect.getfullargspec()\n",
            "  args, varargs, kw, default = inspect.getargspec(cls.__init__)\n",
            "/usr/local/lib/python3.7/dist-packages/pymorphy2/units/base.py:70: DeprecationWarning: inspect.getargspec() is deprecated since Python 3.0, use inspect.signature() or inspect.getfullargspec()\n",
            "  args, varargs, kw, default = inspect.getargspec(cls.__init__)\n",
            "/usr/local/lib/python3.7/dist-packages/pymorphy2/units/base.py:70: DeprecationWarning: inspect.getargspec() is deprecated since Python 3.0, use inspect.signature() or inspect.getfullargspec()\n",
            "  args, varargs, kw, default = inspect.getargspec(cls.__init__)\n",
            "/usr/local/lib/python3.7/dist-packages/pymorphy2/units/base.py:70: DeprecationWarning: inspect.getargspec() is deprecated since Python 3.0, use inspect.signature() or inspect.getfullargspec()\n",
            "  args, varargs, kw, default = inspect.getargspec(cls.__init__)\n",
            "/usr/local/lib/python3.7/dist-packages/pymorphy2/units/base.py:70: DeprecationWarning: inspect.getargspec() is deprecated since Python 3.0, use inspect.signature() or inspect.getfullargspec()\n",
            "  args, varargs, kw, default = inspect.getargspec(cls.__init__)\n",
            "/usr/local/lib/python3.7/dist-packages/pymorphy2/units/base.py:70: DeprecationWarning: inspect.getargspec() is deprecated since Python 3.0, use inspect.signature() or inspect.getfullargspec()\n",
            "  args, varargs, kw, default = inspect.getargspec(cls.__init__)\n",
            "/usr/local/lib/python3.7/dist-packages/pymorphy2/units/base.py:70: DeprecationWarning: inspect.getargspec() is deprecated since Python 3.0, use inspect.signature() or inspect.getfullargspec()\n",
            "  args, varargs, kw, default = inspect.getargspec(cls.__init__)\n",
            "/usr/local/lib/python3.7/dist-packages/pymorphy2/units/base.py:70: DeprecationWarning: inspect.getargspec() is deprecated since Python 3.0, use inspect.signature() or inspect.getfullargspec()\n",
            "  args, varargs, kw, default = inspect.getargspec(cls.__init__)\n",
            "/usr/local/lib/python3.7/dist-packages/pymorphy2/units/base.py:70: DeprecationWarning: inspect.getargspec() is deprecated since Python 3.0, use inspect.signature() or inspect.getfullargspec()\n",
            "  args, varargs, kw, default = inspect.getargspec(cls.__init__)\n",
            "/usr/local/lib/python3.7/dist-packages/pymorphy2/units/base.py:70: DeprecationWarning: inspect.getargspec() is deprecated since Python 3.0, use inspect.signature() or inspect.getfullargspec()\n",
            "  args, varargs, kw, default = inspect.getargspec(cls.__init__)\n",
            "/usr/local/lib/python3.7/dist-packages/pymorphy2/units/base.py:70: DeprecationWarning: inspect.getargspec() is deprecated since Python 3.0, use inspect.signature() or inspect.getfullargspec()\n",
            "  args, varargs, kw, default = inspect.getargspec(cls.__init__)\n",
            "/usr/local/lib/python3.7/dist-packages/pymorphy2/units/base.py:70: DeprecationWarning: inspect.getargspec() is deprecated since Python 3.0, use inspect.signature() or inspect.getfullargspec()\n",
            "  args, varargs, kw, default = inspect.getargspec(cls.__init__)\n"
          ]
        }
      ],
      "source": [
        "nltk.download('stopwords')\n",
        "words_regex = re.compile('\\w+')\n",
        "morph = MorphAnalyzer()\n",
        "my_stopwords = ['здравствуйте', 'добрый', 'день', 'вопрос', 'роспотребнадзор', 'либо', 'месяц', \n",
        "                'течение', 'данный', 'это', 'просить', 'сказать', 'год', 'адрес', 'обращение', 'мочь', 'иметь', 'человек',\n",
        "                'право', 'санкт' ,'петербург']\n",
        "\n",
        "def find_words(text, regex = words_regex):\n",
        "    tokens =  regex.findall(text.lower())\n",
        "    return [w for w in tokens if w.isalpha() and len(w) >= 3]\n",
        "\n",
        "\n",
        "stopwords_list = stopwords.words('russian') + my_stopwords\n",
        "\n",
        "# mystem = Mystem()\n",
        "# def lemmatize(words, lemmer = mystem, stopwords = stopwords_list):\n",
        "#     lemmas = lemmer.lemmatize(' '.join(words))\n",
        "#     return [w for w in lemmas if not w in stopwords \n",
        "#             and w.isalpha()]\n",
        "\n",
        "def lemmatize(words, lemmer = morph, stopwords = stopwords_list):\n",
        "    lemmas = [lemmer.parse(w)[0].normal_form for w in words]\n",
        "    return [w for w in lemmas if not w in stopwords \n",
        "            and w.isalpha()]\n",
        "\n",
        "def preprocess(text):\n",
        "    return (lemmatize(find_words(text)))"
      ]
    },
    {
      "cell_type": "code",
      "execution_count": null,
      "metadata": {
        "colab": {
          "base_uri": "https://localhost:8080/",
          "height": 53
        },
        "id": "eBJq9pQtVemY",
        "outputId": "4aca57f1-be04-4c45-deff-8dd1cdefb5cc"
      },
      "outputs": [
        {
          "output_type": "execute_result",
          "data": {
            "text/plain": [
              "'Добрый день!\\r\\n\\r\\nОсновной ворос - Является ли газовый котел и газовая колонка технически сложными товарами? В новых перечнях нет уточнения насчет газовых котлов, только панели, поврехности и духовые шкафы.\\r\\nВторичный вопрос - могу ли я обменять нераспечатанный котел и колонку в течение двух недель по 25 ст ЗоЗПП?'"
            ],
            "application/vnd.google.colaboratory.intrinsic+json": {
              "type": "string"
            }
          },
          "metadata": {},
          "execution_count": 20
        }
      ],
      "source": [
        "df.question.iloc[1]"
      ]
    },
    {
      "cell_type": "code",
      "execution_count": null,
      "metadata": {
        "colab": {
          "base_uri": "https://localhost:8080/"
        },
        "id": "3yjq5wuGVemZ",
        "outputId": "70e01182-3836-45ab-ab51-f67c3deae14b"
      },
      "outputs": [
        {
          "output_type": "stream",
          "name": "stdout",
          "text": [
            "['основной', 'вороса', 'являться', 'газовый', 'котёл', 'газовый', 'колонка', 'технически', 'сложный', 'товар', 'новый', 'перечень', 'уточнение', 'насчёт', 'газовый', 'котёл', 'панель', 'поврехность', 'духовой', 'шкаф', 'вторичный', 'обменять', 'нераспечатанный', 'котёл', 'колонка', 'неделя', 'зозппа']\n"
          ]
        }
      ],
      "source": [
        "print(preprocess(df.question.iloc[1]))"
      ]
    },
    {
      "cell_type": "code",
      "execution_count": null,
      "metadata": {
        "colab": {
          "base_uri": "https://localhost:8080/",
          "height": 49,
          "referenced_widgets": [
            "b3de2dd1e8d64c63acef31fab866783c",
            "e6bd54e8a58f40449e4b9c3a3e73e101",
            "1b0a5902db3b4d5fba50b90e8c2b9178",
            "9c3ad599be2f409d93c22be9d8f9ad54",
            "793d34ca498348cc9b725864710ff406",
            "22226ff70a12478fbdd4bd6e70e0f5e7",
            "1b3916cba66b48a78c23b593496ca3ca",
            "8a9ab7db75c24b8da759dc696621625d",
            "ebdd92a53ad74ce5938adc6e4bd5ac7c",
            "9761fe64c299411788222dbab4e7121b",
            "f97c75e241f24f028279374b9233bb3b"
          ]
        },
        "id": "68pMhNB_VemZ",
        "outputId": "31186c00-b6e3-4d57-e148-79e6f87bd414"
      },
      "outputs": [
        {
          "output_type": "display_data",
          "data": {
            "text/plain": [
              "  0%|          | 0/2495 [00:00<?, ?it/s]"
            ],
            "application/vnd.jupyter.widget-view+json": {
              "version_major": 2,
              "version_minor": 0,
              "model_id": "b3de2dd1e8d64c63acef31fab866783c"
            }
          },
          "metadata": {}
        }
      ],
      "source": [
        "preprocessed_text = list(tqdm(map(preprocess, df['question']), total=len(df)))"
      ]
    },
    {
      "cell_type": "code",
      "execution_count": null,
      "metadata": {
        "colab": {
          "base_uri": "https://localhost:8080/",
          "height": 143
        },
        "id": "g0JVGhzoVemZ",
        "outputId": "ff1c9d7b-6279-4963-e0f2-98dcdb24d879"
      },
      "outputs": [
        {
          "output_type": "execute_result",
          "data": {
            "text/plain": [
              "                                               question  \\\n",
              "830   Добрый вечер.\\r\\n24.02.22 вернула три посылки ...   \n",
              "2133  Здравствуйте! Подрядчик ООО Домокон, адрес: 65...   \n",
              "2198  Мною была заказана зубная паста Weleda, котора...   \n",
              "\n",
              "                                      preprocessed_text  \n",
              "830   [вечер, вернуть, посылка, посылка, товар, инте...  \n",
              "2133  [подрядчик, ооо, домокно, кемеровский, обл, но...  \n",
              "2198  [заказать, зубной, паста, weleda, который, пол...  "
            ],
            "text/html": [
              "\n",
              "  <div id=\"df-dbd98869-ba94-4e88-be4a-e484c16d28db\">\n",
              "    <div class=\"colab-df-container\">\n",
              "      <div>\n",
              "<style scoped>\n",
              "    .dataframe tbody tr th:only-of-type {\n",
              "        vertical-align: middle;\n",
              "    }\n",
              "\n",
              "    .dataframe tbody tr th {\n",
              "        vertical-align: top;\n",
              "    }\n",
              "\n",
              "    .dataframe thead th {\n",
              "        text-align: right;\n",
              "    }\n",
              "</style>\n",
              "<table border=\"1\" class=\"dataframe\">\n",
              "  <thead>\n",
              "    <tr style=\"text-align: right;\">\n",
              "      <th></th>\n",
              "      <th>question</th>\n",
              "      <th>preprocessed_text</th>\n",
              "    </tr>\n",
              "  </thead>\n",
              "  <tbody>\n",
              "    <tr>\n",
              "      <th>830</th>\n",
              "      <td>Добрый вечер.\\r\\n24.02.22 вернула три посылки ...</td>\n",
              "      <td>[вечер, вернуть, посылка, посылка, товар, инте...</td>\n",
              "    </tr>\n",
              "    <tr>\n",
              "      <th>2133</th>\n",
              "      <td>Здравствуйте! Подрядчик ООО Домокон, адрес: 65...</td>\n",
              "      <td>[подрядчик, ооо, домокно, кемеровский, обл, но...</td>\n",
              "    </tr>\n",
              "    <tr>\n",
              "      <th>2198</th>\n",
              "      <td>Мною была заказана зубная паста Weleda, котора...</td>\n",
              "      <td>[заказать, зубной, паста, weleda, который, пол...</td>\n",
              "    </tr>\n",
              "  </tbody>\n",
              "</table>\n",
              "</div>\n",
              "      <button class=\"colab-df-convert\" onclick=\"convertToInteractive('df-dbd98869-ba94-4e88-be4a-e484c16d28db')\"\n",
              "              title=\"Convert this dataframe to an interactive table.\"\n",
              "              style=\"display:none;\">\n",
              "        \n",
              "  <svg xmlns=\"http://www.w3.org/2000/svg\" height=\"24px\"viewBox=\"0 0 24 24\"\n",
              "       width=\"24px\">\n",
              "    <path d=\"M0 0h24v24H0V0z\" fill=\"none\"/>\n",
              "    <path d=\"M18.56 5.44l.94 2.06.94-2.06 2.06-.94-2.06-.94-.94-2.06-.94 2.06-2.06.94zm-11 1L8.5 8.5l.94-2.06 2.06-.94-2.06-.94L8.5 2.5l-.94 2.06-2.06.94zm10 10l.94 2.06.94-2.06 2.06-.94-2.06-.94-.94-2.06-.94 2.06-2.06.94z\"/><path d=\"M17.41 7.96l-1.37-1.37c-.4-.4-.92-.59-1.43-.59-.52 0-1.04.2-1.43.59L10.3 9.45l-7.72 7.72c-.78.78-.78 2.05 0 2.83L4 21.41c.39.39.9.59 1.41.59.51 0 1.02-.2 1.41-.59l7.78-7.78 2.81-2.81c.8-.78.8-2.07 0-2.86zM5.41 20L4 18.59l7.72-7.72 1.47 1.35L5.41 20z\"/>\n",
              "  </svg>\n",
              "      </button>\n",
              "      \n",
              "  <style>\n",
              "    .colab-df-container {\n",
              "      display:flex;\n",
              "      flex-wrap:wrap;\n",
              "      gap: 12px;\n",
              "    }\n",
              "\n",
              "    .colab-df-convert {\n",
              "      background-color: #E8F0FE;\n",
              "      border: none;\n",
              "      border-radius: 50%;\n",
              "      cursor: pointer;\n",
              "      display: none;\n",
              "      fill: #1967D2;\n",
              "      height: 32px;\n",
              "      padding: 0 0 0 0;\n",
              "      width: 32px;\n",
              "    }\n",
              "\n",
              "    .colab-df-convert:hover {\n",
              "      background-color: #E2EBFA;\n",
              "      box-shadow: 0px 1px 2px rgba(60, 64, 67, 0.3), 0px 1px 3px 1px rgba(60, 64, 67, 0.15);\n",
              "      fill: #174EA6;\n",
              "    }\n",
              "\n",
              "    [theme=dark] .colab-df-convert {\n",
              "      background-color: #3B4455;\n",
              "      fill: #D2E3FC;\n",
              "    }\n",
              "\n",
              "    [theme=dark] .colab-df-convert:hover {\n",
              "      background-color: #434B5C;\n",
              "      box-shadow: 0px 1px 3px 1px rgba(0, 0, 0, 0.15);\n",
              "      filter: drop-shadow(0px 1px 2px rgba(0, 0, 0, 0.3));\n",
              "      fill: #FFFFFF;\n",
              "    }\n",
              "  </style>\n",
              "\n",
              "      <script>\n",
              "        const buttonEl =\n",
              "          document.querySelector('#df-dbd98869-ba94-4e88-be4a-e484c16d28db button.colab-df-convert');\n",
              "        buttonEl.style.display =\n",
              "          google.colab.kernel.accessAllowed ? 'block' : 'none';\n",
              "\n",
              "        async function convertToInteractive(key) {\n",
              "          const element = document.querySelector('#df-dbd98869-ba94-4e88-be4a-e484c16d28db');\n",
              "          const dataTable =\n",
              "            await google.colab.kernel.invokeFunction('convertToInteractive',\n",
              "                                                     [key], {});\n",
              "          if (!dataTable) return;\n",
              "\n",
              "          const docLinkHtml = 'Like what you see? Visit the ' +\n",
              "            '<a target=\"_blank\" href=https://colab.research.google.com/notebooks/data_table.ipynb>data table notebook</a>'\n",
              "            + ' to learn more about interactive tables.';\n",
              "          element.innerHTML = '';\n",
              "          dataTable['output_type'] = 'display_data';\n",
              "          await google.colab.output.renderOutput(dataTable, element);\n",
              "          const docLink = document.createElement('div');\n",
              "          docLink.innerHTML = docLinkHtml;\n",
              "          element.appendChild(docLink);\n",
              "        }\n",
              "      </script>\n",
              "    </div>\n",
              "  </div>\n",
              "  "
            ]
          },
          "metadata": {},
          "execution_count": 23
        }
      ],
      "source": [
        "df['preprocessed_text'] = preprocessed_text\n",
        "df.sample(3)"
      ]
    },
    {
      "cell_type": "markdown",
      "metadata": {
        "id": "iNPM5TP9Vema"
      },
      "source": [
        "## Модель LDA\n",
        "\n",
        "\n",
        "Первая модель, которую мы рассмотрим, LDA - латентное размещение Дирихле. Воспользуемся реализацией из библиотеки gensim."
      ]
    },
    {
      "cell_type": "code",
      "execution_count": null,
      "metadata": {
        "colab": {
          "base_uri": "https://localhost:8080/"
        },
        "id": "OpgMO4F0Vema",
        "outputId": "c43a2566-0fc2-4560-a7f9-435b1d82404e"
      },
      "outputs": [
        {
          "output_type": "stream",
          "name": "stdout",
          "text": [
            "Looking in indexes: https://pypi.org/simple, https://us-python.pkg.dev/colab-wheels/public/simple/\n",
            "Requirement already satisfied: gensim in /usr/local/lib/python3.7/dist-packages (3.6.0)\n",
            "Collecting gensim\n",
            "  Downloading gensim-4.2.0-cp37-cp37m-manylinux_2_12_x86_64.manylinux2010_x86_64.whl (24.1 MB)\n",
            "\u001b[K     |████████████████████████████████| 24.1 MB 3.5 MB/s \n",
            "\u001b[?25hRequirement already satisfied: scipy>=0.18.1 in /usr/local/lib/python3.7/dist-packages (from gensim) (1.5.4)\n",
            "Requirement already satisfied: smart-open>=1.8.1 in /usr/local/lib/python3.7/dist-packages (from gensim) (5.2.1)\n",
            "Requirement already satisfied: numpy>=1.17.0 in /usr/local/lib/python3.7/dist-packages (from gensim) (1.21.6)\n",
            "Installing collected packages: gensim\n",
            "  Attempting uninstall: gensim\n",
            "    Found existing installation: gensim 3.6.0\n",
            "    Uninstalling gensim-3.6.0:\n",
            "      Successfully uninstalled gensim-3.6.0\n",
            "Successfully installed gensim-4.2.0\n"
          ]
        }
      ],
      "source": [
        "!pip install -U gensim"
      ]
    },
    {
      "cell_type": "code",
      "source": [
        "from gensim.models import *\n",
        "from gensim import corpora"
      ],
      "metadata": {
        "id": "7OldKOCoWZ0C"
      },
      "execution_count": null,
      "outputs": []
    },
    {
      "cell_type": "code",
      "source": [
        "dictionary = corpora.Dictionary(df['preprocessed_text'])\n",
        "\n",
        "dictionary.filter_extremes(no_below = 10, no_above = 0.9, keep_n=None) # игнорируем слова, которые встречаются реже 10 раз или составляют более 0.9 словаря \n",
        "dictionary.save('rospotrebnadzor.dict')"
      ],
      "metadata": {
        "id": "85LkqiO0Wc05"
      },
      "execution_count": null,
      "outputs": []
    },
    {
      "cell_type": "code",
      "source": [
        "corpus = [dictionary.doc2bow(text) for text in df['preprocessed_text']]\n",
        "corpora.MmCorpus.serialize('rospotrebnadzor.model', corpus)"
      ],
      "metadata": {
        "id": "sZ40ZN-UX5we"
      },
      "execution_count": null,
      "outputs": []
    },
    {
      "cell_type": "code",
      "source": [
        "%time lda = ldamodel.LdaModel(corpus, id2word=dictionary, num_topics=10, chunksize=50, update_every=1, passes=2)"
      ],
      "metadata": {
        "colab": {
          "base_uri": "https://localhost:8080/"
        },
        "id": "PZVuOStbYLE5",
        "outputId": "ab88592f-a00f-4c13-ad6e-7f30705e41fa"
      },
      "execution_count": null,
      "outputs": [
        {
          "output_type": "stream",
          "name": "stdout",
          "text": [
            "CPU times: user 1.95 s, sys: 17.9 ms, total: 1.97 s\n",
            "Wall time: 1.97 s\n"
          ]
        }
      ]
    },
    {
      "cell_type": "code",
      "source": [
        "lda.show_topics(num_topics=10, num_words=10, formatted=True)"
      ],
      "metadata": {
        "colab": {
          "base_uri": "https://localhost:8080/"
        },
        "id": "JbrACgigYeB4",
        "outputId": "65aa0409-2792-4e19-eae1-edc239ff5760"
      },
      "execution_count": null,
      "outputs": [
        {
          "output_type": "execute_result",
          "data": {
            "text/plain": [
              "[(0,\n",
              "  '0.042*\"услуга\" + 0.035*\"банк\" + 0.025*\"договор\" + 0.022*\"карта\" + 0.020*\"вакцинация\" + 0.017*\"руб\" + 0.016*\"covid\" + 0.015*\"пользователь\" + 0.014*\"медицинский\" + 0.014*\"объяснить\"'),\n",
              " (1,\n",
              "  '0.030*\"ребёнок\" + 0.018*\"декабрь\" + 0.018*\"хотеть\" + 0.016*\"который\" + 0.015*\"сделать\" + 0.012*\"гражданин\" + 0.012*\"фото\" + 0.011*\"принять\" + 0.010*\"мера\" + 0.009*\"разобраться\"'),\n",
              " (2,\n",
              "  '0.064*\"магазин\" + 0.060*\"товар\" + 0.054*\"возврат\" + 0.037*\"средство\" + 0.022*\"вернуть\" + 0.022*\"денежный\" + 0.021*\"приобрести\" + 0.014*\"срок\" + 0.013*\"электронный\" + 0.012*\"ноябрь\"'),\n",
              " (3,\n",
              "  '0.074*\"продавец\" + 0.042*\"деньга\" + 0.041*\"товар\" + 0.037*\"магазин\" + 0.036*\"вернуть\" + 0.027*\"цена\" + 0.024*\"купить\" + 0.020*\"оказаться\" + 0.020*\"попросить\" + 0.017*\"обратиться\"'),\n",
              " (4,\n",
              "  '0.064*\"заказ\" + 0.032*\"товар\" + 0.029*\"доставка\" + 0.026*\"сайт\" + 0.022*\"получить\" + 0.020*\"деньга\" + 0.019*\"интернет\" + 0.019*\"оплатить\" + 0.016*\"прийти\" + 0.014*\"сообщение\"'),\n",
              " (5,\n",
              "  '0.061*\"дом\" + 0.019*\"квартира\" + 0.017*\"наш\" + 0.016*\"область\" + 0.013*\"место\" + 0.013*\"жилец\" + 0.013*\"находиться\" + 0.013*\"площадка\" + 0.011*\"город\" + 0.010*\"провести\"'),\n",
              " (6,\n",
              "  '0.039*\"тест\" + 0.030*\"пцр\" + 0.030*\"вода\" + 0.025*\"машина\" + 0.024*\"сдать\" + 0.023*\"горячий\" + 0.016*\"представитель\" + 0.015*\"стать\" + 0.015*\"продавать\" + 0.014*\"проживать\"'),\n",
              " (7,\n",
              "  '0.018*\"проверка\" + 0.015*\"который\" + 0.014*\"сотрудник\" + 0.013*\"являться\" + 0.013*\"результат\" + 0.012*\"отказ\" + 0.012*\"ремонт\" + 0.011*\"документ\" + 0.011*\"провести\" + 0.010*\"нарушение\"'),\n",
              " (8,\n",
              "  '0.026*\"детский\" + 0.026*\"код\" + 0.020*\"дать\" + 0.020*\"второй\" + 0.018*\"вакцина\" + 0.018*\"тур\" + 0.018*\"сад\" + 0.015*\"возможно\" + 0.014*\"делать\" + 0.014*\"группа\"'),\n",
              " (9,\n",
              "  '0.029*\"компания\" + 0.025*\"телефон\" + 0.019*\"услуга\" + 0.018*\"номер\" + 0.016*\"работа\" + 0.015*\"который\" + 0.014*\"свой\" + 0.013*\"личный\" + 0.011*\"всё\" + 0.011*\"обратиться\"')]"
            ]
          },
          "metadata": {},
          "execution_count": 45
        }
      ]
    },
    {
      "cell_type": "code",
      "source": [
        "!pip install pyLDAvis"
      ],
      "metadata": {
        "colab": {
          "base_uri": "https://localhost:8080/"
        },
        "id": "8vrw0EkEYVw7",
        "outputId": "48cd8f43-6e9a-4655-ce4f-2d5e7d9e0328"
      },
      "execution_count": null,
      "outputs": [
        {
          "output_type": "stream",
          "name": "stdout",
          "text": [
            "Looking in indexes: https://pypi.org/simple, https://us-python.pkg.dev/colab-wheels/public/simple/\n",
            "Collecting pyLDAvis\n",
            "  Downloading pyLDAvis-3.3.1.tar.gz (1.7 MB)\n",
            "\u001b[K     |████████████████████████████████| 1.7 MB 4.1 MB/s \n",
            "\u001b[?25h  Installing build dependencies ... \u001b[?25l\u001b[?25hdone\n",
            "  Getting requirements to build wheel ... \u001b[?25l\u001b[?25hdone\n",
            "  Installing backend dependencies ... \u001b[?25l\u001b[?25hdone\n",
            "    Preparing wheel metadata ... \u001b[?25l\u001b[?25hdone\n",
            "Requirement already satisfied: jinja2 in /usr/local/lib/python3.7/dist-packages (from pyLDAvis) (2.11.3)\n",
            "Requirement already satisfied: numexpr in /usr/local/lib/python3.7/dist-packages (from pyLDAvis) (2.8.3)\n",
            "Requirement already satisfied: scikit-learn in /usr/local/lib/python3.7/dist-packages (from pyLDAvis) (1.0.2)\n",
            "Requirement already satisfied: gensim in /usr/local/lib/python3.7/dist-packages (from pyLDAvis) (4.2.0)\n",
            "Requirement already satisfied: joblib in /usr/local/lib/python3.7/dist-packages (from pyLDAvis) (1.1.0)\n",
            "Requirement already satisfied: pandas>=1.2.0 in /usr/local/lib/python3.7/dist-packages (from pyLDAvis) (1.3.5)\n",
            "Requirement already satisfied: scipy in /usr/local/lib/python3.7/dist-packages (from pyLDAvis) (1.5.4)\n",
            "Collecting funcy\n",
            "  Downloading funcy-1.17-py2.py3-none-any.whl (33 kB)\n",
            "Requirement already satisfied: sklearn in /usr/local/lib/python3.7/dist-packages (from pyLDAvis) (0.0)\n",
            "Requirement already satisfied: future in /usr/local/lib/python3.7/dist-packages (from pyLDAvis) (0.16.0)\n",
            "Requirement already satisfied: setuptools in /usr/local/lib/python3.7/dist-packages (from pyLDAvis) (57.4.0)\n",
            "Requirement already satisfied: numpy>=1.20.0 in /usr/local/lib/python3.7/dist-packages (from pyLDAvis) (1.21.6)\n",
            "Requirement already satisfied: pytz>=2017.3 in /usr/local/lib/python3.7/dist-packages (from pandas>=1.2.0->pyLDAvis) (2022.1)\n",
            "Requirement already satisfied: python-dateutil>=2.7.3 in /usr/local/lib/python3.7/dist-packages (from pandas>=1.2.0->pyLDAvis) (2.8.2)\n",
            "Requirement already satisfied: six>=1.5 in /usr/local/lib/python3.7/dist-packages (from python-dateutil>=2.7.3->pandas>=1.2.0->pyLDAvis) (1.15.0)\n",
            "Requirement already satisfied: smart-open>=1.8.1 in /usr/local/lib/python3.7/dist-packages (from gensim->pyLDAvis) (5.2.1)\n",
            "Requirement already satisfied: MarkupSafe>=0.23 in /usr/local/lib/python3.7/dist-packages (from jinja2->pyLDAvis) (2.0.1)\n",
            "Requirement already satisfied: packaging in /usr/local/lib/python3.7/dist-packages (from numexpr->pyLDAvis) (21.3)\n",
            "Requirement already satisfied: pyparsing!=3.0.5,>=2.0.2 in /usr/local/lib/python3.7/dist-packages (from packaging->numexpr->pyLDAvis) (3.0.9)\n",
            "Requirement already satisfied: threadpoolctl>=2.0.0 in /usr/local/lib/python3.7/dist-packages (from scikit-learn->pyLDAvis) (3.1.0)\n",
            "Building wheels for collected packages: pyLDAvis\n",
            "  Building wheel for pyLDAvis (PEP 517) ... \u001b[?25l\u001b[?25hdone\n",
            "  Created wheel for pyLDAvis: filename=pyLDAvis-3.3.1-py2.py3-none-any.whl size=136898 sha256=8e9128e31870605c96c0fca2388b2e60e927586798c49b6ceeeca69ddbfe1911\n",
            "  Stored in directory: /root/.cache/pip/wheels/c9/21/f6/17bcf2667e8a68532ba2fbf6d5c72fdf4c7f7d9abfa4852d2f\n",
            "Successfully built pyLDAvis\n",
            "Installing collected packages: funcy, pyLDAvis\n",
            "Successfully installed funcy-1.17 pyLDAvis-3.3.1\n"
          ]
        }
      ]
    },
    {
      "cell_type": "code",
      "source": [
        "import pyLDAvis\n",
        "import pyLDAvis.gensim_models as gensimvis\n",
        "pyLDAvis.enable_notebook()\n",
        "\n",
        "import matplotlib.pyplot as plt\n",
        "%matplotlib inline"
      ],
      "metadata": {
        "colab": {
          "base_uri": "https://localhost:8080/"
        },
        "id": "GeE8lXyUYWqJ",
        "outputId": "ae252a00-a408-4eaf-d7ee-44ac9bb9ff32"
      },
      "execution_count": null,
      "outputs": [
        {
          "output_type": "stream",
          "name": "stderr",
          "text": [
            "/usr/local/lib/python3.7/dist-packages/past/types/oldstr.py:5: DeprecationWarning: Using or importing the ABCs from 'collections' instead of from 'collections.abc' is deprecated since Python 3.3,and in 3.9 it will stop working\n",
            "  from collections import Iterable\n"
          ]
        }
      ]
    },
    {
      "cell_type": "code",
      "source": [
        "%time vis_data = gensimvis.prepare(lda, corpus, dictionary)\n",
        "pyLDAvis.display(vis_data)"
      ],
      "metadata": {
        "colab": {
          "base_uri": "https://localhost:8080/",
          "height": 951
        },
        "id": "Hrt1Ebs3Yjl4",
        "outputId": "339a9b41-638a-490c-e87a-9e0d71092276"
      },
      "execution_count": null,
      "outputs": [
        {
          "output_type": "stream",
          "name": "stderr",
          "text": [
            "/usr/local/lib/python3.7/dist-packages/pyLDAvis/_prepare.py:247: FutureWarning: In a future version of pandas all arguments of DataFrame.drop except for the argument 'labels' will be keyword-only\n",
            "  by='saliency', ascending=False).head(R).drop('saliency', 1)\n"
          ]
        },
        {
          "output_type": "stream",
          "name": "stdout",
          "text": [
            "CPU times: user 675 ms, sys: 40.1 ms, total: 715 ms\n",
            "Wall time: 2.55 s\n"
          ]
        },
        {
          "output_type": "execute_result",
          "data": {
            "text/plain": [
              "<IPython.core.display.HTML object>"
            ],
            "text/html": [
              "\n",
              "<link rel=\"stylesheet\" type=\"text/css\" href=\"https://cdn.jsdelivr.net/gh/bmabey/pyLDAvis@3.3.1/pyLDAvis/js/ldavis.v1.0.0.css\">\n",
              "\n",
              "\n",
              "<div id=\"ldavis_el601398398800528167789559556\"></div>\n",
              "<script type=\"text/javascript\">\n",
              "\n",
              "var ldavis_el601398398800528167789559556_data = {\"mdsDat\": {\"x\": [0.2075408161107072, 0.148506887969457, 0.13361660683851065, 0.20043276607253482, -0.21911253488767052, -0.10563151310036276, 0.10558694341093876, -0.2224358370036573, -0.15386310320742094, -0.09464103220303541], \"y\": [-0.07745392312764203, 0.04463386863500298, 0.14977944692244466, 0.09105221929544115, 0.11491274000097033, -0.04588955223979343, -0.06672236154976913, 0.1843819751431766, -0.03746686405432924, -0.3572275490255023], \"topics\": [1, 2, 3, 4, 5, 6, 7, 8, 9, 10], \"cluster\": [1, 1, 1, 1, 1, 1, 1, 1, 1, 1], \"Freq\": [15.047533562664544, 13.052498440515345, 13.0260674126802, 11.44934111223994, 10.307684308763669, 9.53048491996944, 8.83316788260094, 6.718327485323923, 6.251458827749978, 5.783436047492018]}, \"tinfo\": {\"Term\": [\"\\u0442\\u043e\\u0432\\u0430\\u0440\", \"\\u043c\\u0430\\u0433\\u0430\\u0437\\u0438\\u043d\", \"\\u0437\\u0430\\u043a\\u0430\\u0437\", \"\\u0434\\u043e\\u0433\\u043e\\u0432\\u043e\\u0440\", \"\\u043f\\u0440\\u043e\\u0434\\u0430\\u0432\\u0435\\u0446\", \"\\u0441\\u0440\\u0435\\u0434\\u0441\\u0442\\u0432\\u043e\", \"\\u0434\\u043e\\u043c\", \"\\u0440\\u0435\\u0431\\u0451\\u043d\\u043e\\u043a\", \"\\u0434\\u0435\\u043d\\u044c\\u0433\\u0430\", \"\\u0434\\u043e\\u0441\\u0442\\u0430\\u0432\\u043a\\u0430\", \"\\u0443\\u0441\\u043b\\u0443\\u0433\\u0430\", \"\\u0432\\u043e\\u0437\\u0432\\u0440\\u0430\\u0442\", \"\\u0432\\u0435\\u0440\\u043d\\u0443\\u0442\\u044c\", \"\\u0434\\u0435\\u043d\\u0435\\u0436\\u043d\\u044b\\u0439\", \"\\u0434\\u0435\\u043a\\u0430\\u0431\\u0440\\u044c\", \"\\u043a\\u043e\\u043c\\u043f\\u0430\\u043d\\u0438\\u044f\", \"\\u043a\\u0443\\u043f\\u0438\\u0442\\u044c\", \"\\u0440\\u0430\\u0431\\u043e\\u0442\\u0430\", \"\\u043f\\u043e\\u043a\\u0443\\u043f\\u043a\\u0430\", \"\\u0434\\u043e\\u043a\\u0443\\u043c\\u0435\\u043d\\u0442\", \"\\u043f\\u043e\\u0442\\u0440\\u0435\\u0431\\u0438\\u0442\\u0435\\u043b\\u044c\", \"\\u0441\\u0432\\u044f\\u0437\\u044c\", \"\\u0442\\u0435\\u0441\\u0442\", \"\\u043a\\u0430\\u0447\\u0435\\u0441\\u0442\\u0432\\u043e\", \"\\u043f\\u043e\\u043b\\u0443\\u0447\\u0438\\u0442\\u044c\", \"\\u043d\\u043e\\u043c\\u0435\\u0440\", \"\\u043a\\u0432\\u0430\\u0440\\u0442\\u0438\\u0440\\u0430\", \"\\u0440\\u0435\\u0437\\u0443\\u043b\\u044c\\u0442\\u0430\\u0442\", \"\\u0438\\u043d\\u0444\\u043e\\u0440\\u043c\\u0430\\u0446\\u0438\\u044f\", \"\\u0433\\u043e\\u0440\\u044f\\u0447\\u0438\\u0439\", \"\\u044f\\u0432\\u043b\\u044f\\u0442\\u044c\\u0441\\u044f\", \"\\u0437\\u0430\\u0449\\u0438\\u0442\\u0430\", \"\\u043d\\u043e\\u044f\\u0431\\u0440\\u044c\", \"\\u043b\\u0438\\u0447\\u043d\\u044b\\u0439\", \"\\u043a\\u043e\\u0434\", \"\\u043a\\u0430\\u0431\\u0438\\u043d\\u0435\\u0442\", \"\\u043e\\u0437\\u043e\\u043d\", \"\\u0434\\u0435\\u043d\\u0435\\u0436\\u043d\\u044b\\u0439\", \"\\u0432\\u043e\\u0437\\u0432\\u0440\\u0430\\u0449\\u0430\\u0442\\u044c\", \"\\u043f\\u043e\\u043b\\u044c\\u0437\\u043e\\u0432\\u0430\\u0442\\u0435\\u043b\\u044c\", \"\\u043e\\u0444\\u0438\\u0441\", \"\\u0441\\u0442\\u0430\\u0442\\u0443\\u0441\", \"\\u043e\\u0441\\u043d\\u043e\\u0432\\u0430\\u043d\\u0438\\u0435\", \"\\u043f\\u043e\\u043b\\u044c\\u0437\\u043e\\u0432\\u0430\\u0442\\u044c\\u0441\\u044f\", \"\\u0441\\u0442\\u0430\\u0442\\u044c\\u044f\", \"\\u0432\\u0442\\u0431\", \"\\u0441\\u0444\\u0435\\u0440\\u0430\", \"\\u0434\\u0435\\u0439\\u0441\\u0442\\u0432\\u043e\\u0432\\u0430\\u0442\\u044c\", \"\\u0442\\u043e\\u0432\\u0430\\u0440\\u043d\\u044b\\u0439\", \"\\u0438\\u0441\\u043f\\u043e\\u043b\\u043d\\u0438\\u0442\\u0435\\u043b\\u044c\", \"\\u043f\\u0430\\u043e\", \"\\u043e\\u0434\\u043d\\u0430\\u043a\\u043e\", \"\\u0431\\u044b\\u0442\\u043e\\u0432\\u043e\\u0439\", \"ozon\", \"\\u043f\\u043e\\u0435\\u0437\\u0434\\u043a\\u0430\", \"\\u0441\\u043e\\u0441\\u043b\\u0430\\u0442\\u044c\\u0441\\u044f\", \"\\u043e\\u0431\\u043c\\u0435\\u043d\\u044f\\u0442\\u044c\", \"\\u0437\\u0430\\u043f\\u0440\\u043e\\u0441\", \"\\u0438\\u043d\\u043d\\u0430\", \"\\u0441\\u0443\\u0442\\u043a\\u0438\", \"\\u043c\\u0442\\u0441\", \"\\u0441\\u0440\\u0435\\u0434\\u0441\\u0442\\u0432\\u043e\", \"\\u043f\\u043e\\u0442\\u0440\\u0435\\u0431\\u0438\\u0442\\u0435\\u043b\\u044c\", \"\\u0441\\u0431\\u0435\\u0440\\u0431\\u0430\\u043d\\u043a\", \"\\u043f\\u043e\\u0434\\u0430\\u0442\\u044c\", \"\\u0446\\u0435\\u043b\\u044c\", \"\\u0437\\u0430\\u043a\\u043e\\u043d\", \"\\u043f\\u0440\\u0435\\u0434\\u043e\\u0441\\u0442\\u0430\\u0432\\u043b\\u0435\\u043d\\u0438\\u0435\", \"\\u0441\\u0447\\u0451\\u0442\", \"\\u0437\\u0430\\u044f\\u0432\\u043b\\u0435\\u043d\\u0438\\u0435\", \"\\u0432\\u043e\\u0437\\u0432\\u0440\\u0430\\u0442\", \"\\u0434\\u0430\\u043d\\u043d\\u044b\\u0435\", \"\\u0440\\u0430\\u0437\\u043c\\u0435\\u0440\", \"\\u043a\\u0430\\u0440\\u0442\\u0430\", \"\\u0442\\u0430\\u043a\\u0436\\u0435\", \"\\u0441\\u0440\\u043e\\u043a\", \"\\u0443\\u043a\\u0430\\u0437\\u0430\\u043d\\u043d\\u044b\\u0439\", \"\\u0434\\u0430\\u0442\\u044c\", \"\\u043a\\u043e\\u0442\\u043e\\u0440\\u044b\\u0439\", \"\\u0431\\u0430\\u043d\\u043a\", \"\\u043e\\u0442\\u0432\\u0435\\u0442\", \"\\u043f\\u043e\\u043b\\u0443\\u0447\\u0438\\u0442\\u044c\", \"\\u0440\\u0443\\u0431\\u043b\\u044c\", \"\\u0443\\u0441\\u043b\\u0443\\u0433\\u0430\", \"\\u0432\\u0435\\u0440\\u043d\\u0443\\u0442\\u044c\", \"\\u0434\\u0435\\u043d\\u044c\\u0433\\u0430\", \"\\u043f\\u043e\\u043a\\u0443\\u043f\\u043a\\u0430\", \"\\u0440\\u0443\\u0431\", \"\\u043e\\u0442\\u043a\\u0430\\u0437\", \"\\u0441\\u043e\\u043e\\u0431\\u0449\\u0435\\u043d\\u0438\\u0435\", \"\\u043e\\u0444\\u043e\\u0440\\u043c\\u043b\\u0435\\u043d\\u0438\\u0435\", \"\\u043f\\u0440\\u043e\\u0432\\u0435\\u0440\\u0438\\u0442\\u044c\", \"\\u0433\\u043e\\u0441\\u0443\\u0441\\u043b\\u0443\\u0433\\u0430\", \"\\u0442\\u0435\\u0445\\u043d\\u0438\\u0447\\u0435\\u0441\\u043a\\u0438\\u0439\", \"\\u043f\\u043e\\u043b\\u0438\\u043a\\u043b\\u0438\\u043d\\u0438\\u043a\\u0430\", \"\\u0442\\u043e\\u0440\\u0433\\u043e\\u0432\\u044b\\u0439\", \"\\u0431\\u0440\\u0430\\u043a\", \"\\u0440\\u0430\\u0441\\u0447\\u0451\\u0442\", \"\\u043f\\u0435\\u0440\\u0435\\u0432\\u043e\\u0434\", \"\\u043f\\u043e\\u0434\\u043e\\u0439\\u0442\\u0438\", \"wildberries\", \"\\u0434\\u0438\\u0440\\u0435\\u043a\\u0442\\u043e\\u0440\", \"\\u0432\\u044b\\u0434\\u0430\\u0447\\u0430\", \"\\u0434\\u0430\\u043b\\u044c\\u043d\\u0435\\u0439\\u0448\\u0438\\u0439\", \"\\u0441\\u043f\\u0443\\u0441\\u0442\\u044f\", \"\\u0433\\u0440\\u0443\\u0431\\u044b\\u0439\", \"\\u043a\\u043e\\u0441\\u0442\\u044e\\u043c\", \"\\u043f\\u0440\\u043e\\u0438\\u0437\\u043e\\u0439\\u0442\\u0438\", \"\\u043e\\u0442\\u0441\\u0443\\u0442\\u0441\\u0442\\u0432\\u043e\\u0432\\u0430\\u0442\\u044c\", \"\\u043f\\u043e\\u043b\\u043e\\u0436\\u0438\\u0442\\u0435\\u043b\\u044c\\u043d\\u044b\\u0439\", \"\\u0446\\u0435\\u043d\\u043d\\u0438\\u043a\", \"\\u0432\\u043e\\u0437\\u0432\\u0440\\u0430\\u0442\\u0438\\u0442\\u044c\", \"\\u043a\\u043d\\u0438\\u0433\\u0430\", \"\\u0430\\u043f\\u0442\\u0435\\u043a\\u0430\", \"\\u0443\\u0432\\u0435\\u0434\\u043e\\u043c\\u0438\\u0442\\u044c\", \"\\u0442\\u0430\\u043a\\u0438\", \"\\u044d\\u043a\\u0441\\u043f\\u043b\\u0443\\u0430\\u0442\\u0430\\u0446\\u0438\\u044f\", \"\\u0447\\u0435\\u043a\", \"\\u043e\\u0442\\u043a\\u0430\\u0437\\u0430\\u0442\\u044c\\u0441\\u044f\", \"\\u043e\\u0442\\u043a\\u0430\\u0437\\u0430\\u0442\\u044c\", \"\\u043f\\u043e\\u043b\\u0443\\u0447\\u0435\\u043d\\u0438\\u0435\", \"\\u043e\\u043a\\u0430\\u0437\\u0430\\u0442\\u044c\\u0441\\u044f\", \"\\u043e\\u0444\\u043e\\u0440\\u043c\\u0438\\u0442\\u044c\", \"\\u043f\\u0430\\u0441\\u043f\\u043e\\u0440\\u0442\", \"\\u0441\\u043b\\u0443\\u0447\\u0430\\u0439\", \"\\u043f\\u0443\\u043d\\u043a\\u0442\", \"\\u043f\\u0440\\u043e\\u0441\\u044c\\u0431\\u0430\", \"\\u0438\\u043d\\u0442\\u0435\\u0440\\u043d\\u0435\\u0442\", \"\\u0432\\u044b\\u0434\\u0430\\u0442\\u044c\", \"\\u0441\\u043e\\u0442\\u0440\\u0443\\u0434\\u043d\\u0438\\u043a\", \"\\u0442\\u043e\\u0432\\u0430\\u0440\", \"\\u0432\\u043e\\u0437\\u043c\\u043e\\u0436\\u043d\\u043e\\u0441\\u0442\\u044c\", \"\\u043e\\u0431\\u0440\\u0430\\u0442\\u0438\\u0442\\u044c\\u0441\\u044f\", \"\\u0441\\u0432\\u044f\\u0437\\u044c\", \"\\u043c\\u0430\\u0433\\u0430\\u0437\\u0438\\u043d\", \"\\u0431\\u0430\\u043d\\u043a\", \"\\u0434\\u0430\\u0442\\u044c\", \"\\u0432\\u043e\\u0437\\u0432\\u0440\\u0430\\u0442\", \"\\u0436\\u0430\\u043b\\u043e\\u0431\\u0430\", \"\\u043a\\u0430\\u0440\\u0442\\u0430\", \"\\u0441\\u0443\\u043c\\u043c\\u0430\", \"\\u043f\\u043e\\u043b\\u0443\\u0447\\u0438\\u0442\\u044c\", \"\\u043f\\u043e\\u0436\\u0430\\u043b\\u0443\\u0439\\u0441\\u0442\\u0430\", \"\\u043f\\u0440\\u0438\\u0439\\u0442\\u0438\", \"\\u043f\\u0440\\u0438\\u0447\\u0438\\u043d\\u0430\", \"\\u0437\\u0430\\u043a\\u0430\\u0437\", \"\\u0434\\u043e\\u0441\\u0442\\u0430\\u0432\\u043a\\u0430\", \"\\u0440\\u043e\\u0441\\u0441\\u0438\\u044f\", \"\\u043b\\u0438\\u043d\\u0438\\u044f\", \"\\u043f\\u043e\\u0441\\u044b\\u043b\\u043a\\u0430\", \"\\u0436\\u0434\\u0430\\u0442\\u044c\", \"\\u0434\\u043e\\u0441\\u0442\\u0430\\u0432\\u0438\\u0442\\u044c\", \"\\u043f\\u043e\\u0434\\u0442\\u0432\\u0435\\u0440\\u0434\\u0438\\u0442\\u044c\", \"\\u043a\\u0443\\u0440\\u044c\\u0435\\u0440\", \"\\u0441\\u043c\\u0441\", \"\\u043f\\u0440\\u0435\\u0434\\u0441\\u0442\\u0430\\u0432\\u0438\\u0442\\u0435\\u043b\\u044c\", \"\\u0433\\u0430\\u0440\\u0430\\u043d\\u0442\\u0438\\u0439\\u043d\\u044b\\u0439\", \"\\u0441\\u043f\\u0438\\u0441\\u0430\\u0442\\u044c\", \"\\u0435\\u0445\\u0430\\u0442\\u044c\", \"\\u043e\\u0442\\u0434\\u0435\\u043b\\u0435\\u043d\\u0438\\u0435\", \"\\u043c\\u0430\\u0440\\u043a\\u0435\\u0442\", \"\\u043b\\u044e\\u0431\\u043e\\u0439\", \"\\u0441\\u043f\\u0438\\u0441\\u0430\\u043d\\u0438\\u0435\", \"\\u0431\\u0440\\u0430\\u0442\\u044c\", \"\\u0430\\u0432\\u0438\\u0442\\u044c\", \"\\u0441\\u043f\\u0435\\u0446\\u0438\\u0430\\u043b\\u0438\\u0441\\u0442\", \"\\u043f\\u0430\\u0440\\u0430\", \"\\u043f\\u043b\\u0430\\u043d\\u0438\\u0440\\u043e\\u0432\\u0430\\u0442\\u044c\", \"\\u043d\\u0438\\u043a\\u0430\\u043a\", \"\\u0432\\u0435\\u0447\\u0435\\u0440\\u043e\\u043c\", \"\\u0442\\u0435\\u043b\\u0435\\u0432\\u0438\\u0437\\u043e\\u0440\", \"\\u043a\\u043e\\u0440\\u043e\\u043d\\u0430\\u0432\\u0438\\u0440\\u0443\\u0441\", \"\\u0447\\u0430\\u0442\", \"\\u0430\\u043b\\u0435\\u043a\\u0441\\u0430\\u043d\\u0434\\u0440\", \"\\u043e\\u0431\\u0449\\u0430\\u0442\\u044c\\u0441\\u044f\", \"\\u043f\\u043e\\u0437\\u0432\\u043e\\u043d\\u0438\\u0442\\u044c\", \"\\u0437\\u0430\\u0431\\u0440\\u0430\\u0442\\u044c\", \"\\u0437\\u0432\\u043e\\u043d\\u0438\\u0442\\u044c\", \"\\u043e\\u043f\\u0435\\u0440\\u0430\\u0442\\u043e\\u0440\", \"\\u043d\\u043e\\u043c\\u0435\\u0440\", \"\\u0441\\u0435\\u0439\", \"\\u0437\\u0430\\u043a\\u0430\\u0437\\u0430\\u0442\\u044c\", \"\\u043f\\u043e\\u0440\\u0430\", \"\\u043e\\u043f\\u043b\\u0430\\u0442\\u0438\\u0442\\u044c\", \"\\u0442\\u0435\\u043b\\u0435\\u0444\\u043e\\u043d\", \"\\u043e\\u0442\\u0432\\u0435\\u0447\\u0430\\u0442\\u044c\", \"\\u0434\\u0435\\u043d\\u044c\\u0433\\u0430\", \"\\u044f\\u043d\\u0434\\u0435\\u043a\\u0441\", \"\\u043e\\u0442\\u0432\\u0435\\u0442\\u0438\\u0442\\u044c\", \"\\u0441\\u0430\\u0439\\u0442\", \"\\u043f\\u0440\\u0438\\u0439\\u0442\\u0438\", \"\\u043f\\u043e\\u0434\\u0434\\u0435\\u0440\\u0436\\u043a\\u0430\", \"\\u043e\\u0442\\u043f\\u0440\\u0430\\u0432\\u0438\\u0442\\u044c\", \"\\u0437\\u0432\\u043e\\u043d\\u043e\\u043a\", \"\\u0441\\u0434\\u0435\\u043b\\u0430\\u0442\\u044c\", \"\\u043f\\u043e\\u043b\\u0443\\u0447\\u0438\\u0442\\u044c\", \"\\u043f\\u043e\\u0441\\u0442\\u0443\\u043f\\u0438\\u0442\\u044c\", \"\\u043e\\u0442\\u0432\\u0435\\u0442\", \"\\u043d\\u0430\\u043f\\u0438\\u0441\\u0430\\u0442\\u044c\", \"\\u0441\\u0432\\u043e\\u0439\", \"\\u0432\\u0441\\u0451\", \"\\u0441\\u043b\\u0443\\u0436\\u0431\\u0430\", \"\\u0446\\u0435\\u043d\\u0430\", \"\\u0441\\u0434\\u0430\\u0442\\u044c\", \"\\u0433\\u0430\\u0440\\u0430\\u043d\\u0442\\u0438\\u044f\", \"\\u043e\\u0431\\u043d\\u0430\\u0440\\u0443\\u0436\\u0438\\u0442\\u044c\", \"\\u043e\\u0431\\u0440\\u0430\\u0442\\u043d\\u043e\", \"\\u043e\\u0431\\u0443\\u0432\\u044c\", \"\\u0432\\u044b\\u0439\\u0442\\u0438\", \"\\u043f\\u0440\\u043e\\u0434\\u0430\\u0432\\u0430\\u0442\\u044c\", \"\\u043f\\u0440\\u0438\\u0441\\u0443\\u0442\\u0441\\u0442\\u0432\\u043e\\u0432\\u0430\\u0442\\u044c\", \"\\u043f\\u043e\\u0437\\u0434\\u043d\\u0438\\u0439\", \"\\u0432\\u043b\\u043e\\u0436\\u0435\\u043d\\u0438\\u0435\", \"\\u0441\\u043a\\u043e\\u043b\\u044c\\u043a\\u043e\", \"\\u043f\\u0440\\u043e\\u0434\\u0443\\u043a\\u0446\\u0438\\u044f\", \"\\u0430\\u043d\\u0430\\u043b\\u043e\\u0433\\u0438\\u0447\\u043d\\u044b\\u0439\", \"\\u0442\\u044b\\u0441\\u044f\\u0447\\u0430\", \"\\u0431\\u043e\\u0442\\u0438\\u043d\\u043e\\u043a\", \"\\u043f\\u0440\\u0430\\u0432\\u043e\\u043c\\u0435\\u0440\\u043d\\u044b\\u0439\", \"\\u043f\\u0430\\u043a\\u0435\\u0442\", \"\\u043f\\u0440\\u0438\\u043e\\u0431\\u0440\\u0435\\u0442\\u0435\\u043d\\u0438\\u0435\", \"\\u0441\\u0434\\u0430\\u0447\\u0430\", \"\\u0444\\u0438\\u0440\\u043c\\u0430\", \"\\u0441\\u0438\\u0433\\u0430\\u0440\\u0435\\u0442\\u0430\", \"\\u043c\\u0438\\u0440\", \"\\u043f\\u0440\\u043e\\u0446\\u0435\\u0441\\u0441\", \"\\u043d\\u0430\\u043f\\u0440\\u0438\\u043c\\u0435\\u0440\", \"\\u0438\\u0441\\u043f\\u0440\\u0430\\u0432\\u043d\\u044b\\u0439\", \"\\u0432\\u0435\\u0441\", \"www\", \"\\u043f\\u0440\\u0435\\u0434\\u044a\\u044f\\u0432\\u0438\\u0442\\u044c\", \"\\u043e\\u043f\\u0438\\u0441\\u0430\\u043d\\u0438\\u0435\", \"\\u043d\\u0430\\u0437\\u0430\\u0434\", \"\\u043f\\u0440\\u043e\\u0434\\u0430\\u0432\\u0435\\u0446\", \"\\u043a\\u0443\\u043f\\u0438\\u0442\\u044c\", \"\\u043c\\u0430\\u0433\\u0430\\u0437\\u0438\\u043d\", \"\\u043c\\u0435\\u043d\\u0435\\u0434\\u0436\\u0435\\u0440\", \"\\u0442\\u043e\\u0432\\u0430\\u0440\", \"\\u043f\\u0440\\u043e\\u0439\\u0442\\u0438\", \"\\u0432\\u0435\\u0440\\u043d\\u0443\\u0442\\u044c\", \"\\u0446\\u0432\\u0435\\u0442\", \"\\u043f\\u0440\\u0438\\u043e\\u0431\\u0440\\u0435\\u0441\\u0442\\u0438\", \"\\u043e\\u0431\\u043c\\u0435\\u043d\", \"\\u0434\\u0435\\u0444\\u0435\\u043a\\u0442\", \"\\u0445\\u043e\\u0442\\u0435\\u0442\\u044c\", \"\\u043e\\u0431\\u044a\\u044f\\u0441\\u043d\\u0438\\u0442\\u044c\", \"\\u0438\\u0442\\u043e\\u0433\", \"\\u043e\\u0431\\u0435\\u0449\\u0430\\u0442\\u044c\", \"\\u0434\\u0435\\u043d\\u044c\\u0433\\u0430\", \"\\u0441\\u0442\\u043e\\u0438\\u043c\\u043e\\u0441\\u0442\\u044c\", \"\\u0432\\u043e\\u0437\\u0432\\u0440\\u0430\\u0442\", \"\\u043d\\u0430\\u043f\\u0438\\u0441\\u0430\\u0442\\u044c\", \"\\u043a\\u043e\\u0442\\u043e\\u0440\\u044b\\u0439\", \"\\u0441\\u0440\\u043e\\u043a\", \"\\u0444\\u0430\\u043a\\u0442\", \"\\u0440\\u0443\\u0431\\u043b\\u044c\", \"\\u0434\\u0435\\u043b\\u0430\\u0442\\u044c\", \"\\u0441\\u0441\\u044b\\u043b\\u0430\\u0442\\u044c\\u0441\\u044f\", \"\\u0434\\u0435\\u043a\\u0430\\u0431\\u0440\\u044c\", \"\\u043a\\u0432\\u0430\\u0440\\u0442\\u0438\\u0440\\u0430\", \"\\u043e\\u0431\\u043b\\u0430\\u0441\\u0442\\u044c\", \"\\u0441\\u0430\\u043d\\u0438\\u0442\\u0430\\u0440\\u043d\\u044b\\u0439\", \"\\u0436\\u0438\\u043b\\u0435\\u0446\", \"\\u043f\\u043b\\u043e\\u0449\\u0430\\u0434\\u043a\\u0430\", \"\\u0432\\u0440\\u0430\\u0447\", \"\\u043d\\u043e\\u0440\\u043c\\u0430\", \"\\u0436\\u0438\\u043b\\u043e\\u0439\", \"\\u043c\\u043d\\u043e\\u0433\\u043e\\u043a\\u0432\\u0430\\u0440\\u0442\\u0438\\u0440\\u043d\\u044b\\u0439\", \"\\u043f\\u0440\\u043e\\u0445\\u043e\\u0434\\u0438\\u0442\\u044c\", \"\\u043d\\u0435\\u043e\\u0431\\u0445\\u043e\\u0434\\u0438\\u043c\\u043e\", \"\\u043f\\u043e\\u0434\\u044a\\u0435\\u0437\\u0434\", \"\\u044d\\u043f\\u0438\\u0434\\u0435\\u043c\\u0438\\u043e\\u043b\\u043e\\u0433\\u0438\\u0447\\u0435\\u0441\\u043a\\u0438\\u0439\", \"\\u043f\\u043b\\u0430\\u0442\\u0430\", \"\\u0438\\u043c\\u0443\\u0449\\u0435\\u0441\\u0442\\u0432\\u043e\", \"\\u043f\\u0440\\u043e\\u0432\\u043e\\u0434\\u0438\\u0442\\u044c\", \"\\u043a\\u043e\\u043c\\u043c\\u0443\\u043d\\u0430\\u043b\\u044c\\u043d\\u044b\\u0439\", \"\\u0448\\u0443\\u043c\", \"\\u043e\\u043a\\u043d\\u043e\", \"\\u043e\\u0441\\u0443\\u0449\\u0435\\u0441\\u0442\\u0432\\u0438\\u0442\\u044c\", \"\\u0436\\u0438\\u043b\\u0438\\u0449\\u043d\\u044b\\u0439\", \"\\u043c\\u0443\\u0436\", \"\\u043e\\u0442\\u043a\\u043b\\u044e\\u0447\\u0435\\u043d\\u0438\\u0435\", \"\\u0442\\u0440\\u0430\\u043d\\u0441\\u043f\\u043e\\u0440\\u0442\\u043d\\u044b\\u0439\", \"\\u043e\\u0431\\u0440\\u0430\\u0437\\u043e\\u0432\\u0430\\u043d\\u0438\\u0435\", \"\\u0441\\u0434\\u0430\\u0432\\u0430\\u0442\\u044c\", \"\\u043f\\u043e\\u043b\\u043d\\u043e\\u043c\\u043e\\u0447\\u0438\\u0435\", \"\\u043c\\u0443\\u0441\\u043e\\u0440\", \"\\u0441\\u043e\\u0434\\u0435\\u0440\\u0436\\u0430\\u043d\\u0438\\u0435\", \"\\u0440\\u0430\\u0439\\u043e\\u043d\", \"\\u043c\\u0430\\u0448\\u0438\\u043d\\u0430\", \"\\u0443\\u043f\\u0440\\u0430\\u0432\\u043b\\u044f\\u0442\\u044c\", \"\\u043f\\u043e\\u043c\\u0435\\u0449\\u0435\\u043d\\u0438\\u0435\", \"\\u0434\\u043e\\u043c\", \"\\u043d\\u0430\\u0448\", \"\\u043f\\u0440\\u043e\\u0436\\u0438\\u0432\\u0430\\u0442\\u044c\", \"\\u043c\\u0435\\u0441\\u0442\\u043e\", \"\\u043e\\u0431\\u0449\\u0438\\u0439\", \"\\u0437\\u0434\\u043e\\u0440\\u043e\\u0432\\u044c\\u0435\", \"\\u043e\\u0431\\u0440\\u0430\\u0449\\u0430\\u0442\\u044c\\u0441\\u044f\", \"\\u043e\\u0440\\u0433\\u0430\\u043d\\u0438\\u0437\\u0430\\u0446\\u0438\\u044f\", \"\\u043d\\u0430\\u0445\\u043e\\u0434\\u0438\\u0442\\u044c\\u0441\\u044f\", \"\\u0434\\u043e\\u043b\\u0436\\u043d\\u044b\\u0439\", \"\\u0432\\u0440\\u0435\\u043c\\u044f\", \"\\u0437\\u0430\\u044f\\u0432\\u0438\\u0442\\u044c\", \"\\u043a\\u043e\\u0442\\u043e\\u0440\\u044b\\u0439\", \"\\u0441\\u0432\\u043e\\u0439\", \"\\u0433\\u043e\\u0440\\u044f\\u0447\\u0438\\u0439\", \"\\u043f\\u0440\\u043e\\u0434\\u0430\\u0436\\u0430\", \"\\u043c\\u0430\\u0441\\u0442\\u0435\\u0440\", \"\\u0432\\u0438\\u0434\\u0435\\u043e\", \"\\u043e\\u0441\\u0442\\u0430\\u0432\\u0438\\u0442\\u044c\", \"\\u0440\\u043e\\u0441\\u0442\\u0435\\u043b\\u0435\\u043a\\u043e\\u043c\", \"\\u043d\\u0435\\u0432\\u043e\\u0437\\u043c\\u043e\\u0436\\u043d\\u043e\", \"\\u0433\\u0430\\u0437\", \"\\u043e\\u0431\\u043e\\u0440\\u0443\\u0434\\u043e\\u0432\\u0430\\u043d\\u0438\\u0435\", \"\\u0448\\u043a\\u043e\\u043b\\u0430\", \"\\u043d\\u0435\\u043a\\u0430\\u0447\\u0435\\u0441\\u0442\\u0432\\u0435\\u043d\\u043d\\u044b\\u0439\", \"com\", \"\\u043d\\u0430\\u0434\\u043b\\u0435\\u0436\\u0430\\u0449\\u0438\\u0439\", \"\\u0434\\u0432\\u0435\\u0440\\u044c\", \"\\u043f\\u0440\\u043e\\u0432\\u0435\\u0440\\u044f\\u0442\\u044c\", \"\\u0442\\u0430\\u0440\\u0430\\u043a\\u0430\\u043d\", \"\\u0441\\u0442\\u0440\\u0430\\u0445\\u043e\\u0432\\u043e\\u0439\", \"\\u0443\\u0444\\u0430\", \"\\u0442\\u0440\\u0435\\u0442\\u0438\\u0439\", \"\\u0437\\u0430\\u0440\\u0435\\u0433\\u0438\\u0441\\u0442\\u0440\\u0438\\u0440\\u043e\\u0432\\u0430\\u0442\\u044c\", \"\\u043c\\u0430\\u0442\\u0435\\u0440\\u0438\\u0430\\u043b\", \"\\u043e\\u0442\\u0437\\u044b\\u0432\", \"\\u043f\\u044b\\u0442\\u0430\\u0442\\u044c\\u0441\\u044f\", \"\\u043f\\u043e\\u0441\\u0442\\u0430\\u0432\\u0449\\u0438\\u043a\", \"\\u0440\\u0430\\u0437\\u043b\\u0438\\u0447\\u043d\\u044b\\u0439\", \"\\u0443\\u043a\\u0430\\u0437\\u044b\\u0432\\u0430\\u0442\\u044c\", \"\\u043e\\u0431\\u044a\\u044f\\u0432\\u043b\\u0435\\u043d\\u0438\\u0435\", \"\\u0447\\u0430\\u0441\\u044b\", \"\\u0432\\u0438\\u043d\\u043e\", \"\\u043f\\u0440\\u043e\\u043f\\u0438\\u0441\\u0430\\u0442\\u044c\", \"\\u0432\\u0438\\u0434\", \"\\u0441\\u043e\\u0434\\u0435\\u0440\\u0436\\u0430\\u0442\\u044c\", \"\\u0440\\u0430\\u0431\\u043e\\u0442\\u0430\", \"\\u0441\\u0435\\u0440\\u0432\\u0438\\u0441\\u043d\\u044b\\u0439\", \"\\u043a\\u0430\\u0447\\u0435\\u0441\\u0442\\u0432\\u043e\", \"\\u0437\\u0430\\u044f\\u0432\\u043a\\u0430\", \"\\u0432\\u043e\\u0434\\u0430\", \"\\u0443\\u0441\\u043b\\u0443\\u0433\\u0430\", \"\\u043a\\u043e\\u043c\\u043f\\u0430\\u043d\\u0438\\u044f\", \"\\u043e\\u043a\\u0442\\u044f\\u0431\\u0440\\u044c\", \"\\u043d\\u0438\\u043a\\u0442\\u043e\", \"\\u0443\\u043f\\u0430\\u043a\\u043e\\u0432\\u043a\\u0430\", \"\\u0444\\u043e\\u0442\\u043e\", \"\\u0434\\u0430\\u0432\\u0430\\u0442\\u044c\", \"\\u043f\\u043e\\u043a\\u0443\\u043f\\u0430\\u0442\\u0435\\u043b\\u044c\", \"\\u0441\\u0430\\u043b\\u043e\\u043d\", \"\\u043a\\u043e\\u0442\\u043e\\u0440\\u044b\\u0439\", \"\\u0440\\u0435\\u043c\\u043e\\u043d\\u0442\", \"\\u0446\\u0435\\u043d\\u0442\\u0440\", \"\\u043f\\u0440\\u043e\\u0432\\u0435\\u0440\\u043a\\u0430\", \"\\u0432\\u0435\\u0441\\u044c\", \"\\u0441\\u0432\\u043e\\u0439\", \"\\u0434\\u043e\\u043b\\u0436\\u043d\\u044b\\u0439\", \"\\u0442\\u0440\\u0435\\u0431\\u043e\\u0432\\u0430\\u0442\\u044c\", \"\\u0430\\u043a\\u0442\", \"\\u0432\\u0430\\u043a\\u0446\\u0438\\u043d\\u0430\\u0446\\u0438\\u044f\", \"\\u043b\\u0438\\u0446\\u043e\", \"\\u0441\\u043f\\u0440\\u0430\\u0432\\u043a\\u0430\", \"\\u0441\\u0435\\u0440\\u0442\\u0438\\u0444\\u0438\\u043a\\u0430\\u0442\", \"\\u0431\\u0438\\u043b\\u0435\\u0442\", \"\\u0443\\u0437\\u043d\\u0430\\u0442\\u044c\", \"\\u043f\\u0440\\u0435\\u0434\\u043e\\u043f\\u043b\\u0430\\u0442\\u0430\", \"\\u043a\\u043e\\u0432\\u0438\\u0434\", \"\\u043c\\u0430\\u0440\\u0448\\u0440\\u0443\\u0442\", \"\\u043c\\u0438\\u043d\\u0443\\u0442\\u0430\", \"\\u043f\\u0435\\u0440\\u0435\\u043d\\u0435\\u0441\\u0442\\u0438\", \"\\u0430\\u0432\\u0442\\u043e\\u0431\\u0443\\u0441\", \"\\u0442\\u0435\\u0445\\u043d\\u0438\\u043a\\u0430\", \"\\u0438\\u043d\\u0444\\u0435\\u043a\\u0446\\u0438\\u044f\", \"\\u0432\\u043d\\u0435\\u0441\\u0442\\u0438\", \"\\u0440\\u0435\\u0436\\u0438\\u043c\", \"\\u043d\\u0443\\u0436\\u043d\\u044b\\u0439\", \"\\u043a\\u0443\\u0440\\u0441\", \"\\u0442\\u0430\\u0440\\u0438\\u0444\", \"\\u0440\\u0435\\u0433\\u0438\\u0441\\u0442\\u0440\\u0430\\u0446\\u0438\\u044f\", \"\\u0434\\u043e\\u043f\\u043e\\u043b\\u043d\\u0438\\u0442\\u0435\\u043b\\u044c\\u043d\\u044b\\u0439\", \"\\u043e\\u0431\\u0443\\u0447\\u0435\\u043d\\u0438\\u0435\", \"\\u043f\\u0430\\u0441\\u0441\\u0430\\u0436\\u0438\\u0440\", \"\\u043b\\u0438\\u0446\\u0435\\u043d\\u0437\\u0438\\u044f\", \"\\u043a\\u0432\\u0438\\u0442\\u0430\\u043d\\u0446\\u0438\\u044f\", \"\\u043f\\u043e\\u0434\\u043b\\u0435\\u0436\\u0430\\u0442\\u044c\", \"\\u043e\\u043f\\u0435\\u0440\\u0430\\u0446\\u0438\\u044f\", \"\\u043c\\u0435\\u0440\\u043e\\u043f\\u0440\\u0438\\u044f\\u0442\\u0438\\u0435\", \"\\u0432\\u043e\\u0434\\u0438\\u0442\\u0435\\u043b\\u044c\", \"\\u0438\\u043d\\u0444\\u043e\\u0440\\u043c\\u0430\\u0446\\u0438\\u044f\", \"\\u0434\\u043e\\u043a\\u0443\\u043c\\u0435\\u043d\\u0442\", \"\\u043d\\u0430\\u0447\\u0430\\u043b\\u043e\", \"\\u043e\\u043f\\u043b\\u0430\\u0442\\u0430\", \"\\u043c\\u0435\\u0434\\u0438\\u0446\\u0438\\u043d\\u0441\\u043a\\u0438\\u0439\", \"\\u0441\\u043f\\u0430\\u0441\\u0438\\u0431\\u043e\", \"\\u0441\\u0442\\u043e\\u0438\\u043c\\u043e\\u0441\\u0442\\u044c\", \"\\u043e\\u043e\\u043e\", \"\\u0441\\u043e\\u043e\\u0431\\u0449\\u0438\\u0442\\u044c\", \"\\u043f\\u0440\\u0435\\u0434\\u043e\\u0441\\u0442\\u0430\\u0432\\u0438\\u0442\\u044c\", \"\\u043c\\u043e\\u0441\\u043a\\u0432\\u0430\", \"\\u043a\\u043e\\u043c\\u043f\\u0430\\u043d\\u0438\\u044f\", \"\\u0443\\u0441\\u043b\\u0443\\u0433\\u0430\", \"\\u043f\\u043e\\u0434\\u0441\\u043a\\u0430\\u0437\\u0430\\u0442\\u044c\", \"\\u044d\\u043b\\u0435\\u043a\\u0442\\u0440\\u043e\\u043d\\u043d\\u044b\\u0439\", \"\\u0434\\u043e\\u043b\\u0436\\u043d\\u044b\\u0439\", \"\\u044f\\u043a\\u043e\\u0431\\u044b\", \"\\u0432\\u0430\\u0448\", \"\\u043a\\u043e\\u043d\\u0435\\u0446\", \"\\u0437\\u0430\\u0432\\u0435\\u0434\\u0435\\u043d\\u0438\\u0435\", \"\\u043e\\u043a\\u043e\\u043b\\u043e\", \"\\u0437\\u043e\\u043d\\u0430\", \"\\u043b\\u0438\\u0447\\u043d\\u043e\", \"\\u0431\\u043e\\u043b\\u044c\\u0448\\u0438\\u0439\", \"\\u043d\\u043e\\u0447\\u044c\", \"\\u0438\\u0441\\u043f\\u043e\\u0440\\u0442\\u0438\\u0442\\u044c\", \"\\u043a\\u043b\\u0430\\u0441\\u0441\", \"\\u0432\\u044b\\u0437\\u0432\\u0430\\u0442\\u044c\", \"\\u043f\\u0440\\u043e\\u0441\\u0440\\u043e\\u0447\\u0438\\u0442\\u044c\", \"\\u043c\\u0430\\u043b\\u0435\\u043d\\u044c\\u043a\\u0438\\u0439\", \"\\u043e\\u0441\\u0442\\u0430\\u043d\\u043e\\u0432\\u043a\\u0430\", \"\\u0434\\u043e\\u0440\\u043e\\u0433\\u0430\", \"\\u043f\\u043e\\u0434\\u0432\\u0430\\u043b\", \"\\u043e\\u0442\\u043e\\u043f\\u043b\\u0435\\u043d\\u0438\\u0435\", \"\\u043f\\u0440\\u044f\\u043c\\u043e\\u0439\", \"\\u0430\\u0432\\u0442\\u043e\\u043c\\u043e\\u0431\\u0438\\u043b\\u044c\", \"\\u043f\\u043e\\u043f\\u044b\\u0442\\u0430\\u0442\\u044c\\u0441\\u044f\", \"\\u043a\\u043e\\u0440\\u043f\\u0443\\u0441\", \"\\u043d\\u043e\\u0440\\u043c\\u0430\\u043b\\u044c\\u043d\\u043e\", \"\\u0440\\u0435\\u0430\\u0433\\u0438\\u0440\\u043e\\u0432\\u0430\\u0442\\u044c\", \"\\u0440\\u0435\\u0433\\u0443\\u043b\\u044f\\u0440\\u043d\\u043e\", \"\\u043e\\u0431\\u044f\\u0437\\u0430\\u0442\\u0435\\u043b\\u044c\\u043d\\u043e\", \"\\u0440\\u0443\\u043a\\u043e\\u0432\\u043e\\u0434\\u0441\\u0442\\u0432\\u043e\", \"\\u0441\\u043e\\u0441\\u0442\\u0430\\u0432\", \"\\u043f\\u0440\\u043e\\u0442\\u0438\\u0432\", \"\\u043f\\u0435\\u0440\\u043c\\u044c\", \"\\u0436\\u0438\\u0442\\u044c\", \"\\u0432\\u043e\\u043e\\u0431\\u0449\\u0435\", \"\\u0443\\u043b\\u0438\\u0446\\u0430\", \"\\u043c\\u0435\\u0440\\u0430\", \"\\u0445\\u043e\\u0434\\u0438\\u0442\\u044c\", \"\\u043e\\u0442\\u043d\\u043e\\u0448\\u0435\\u043d\\u0438\\u0435\", \"\\u043e\\u0447\\u0435\\u043d\\u044c\", \"\\u0433\\u043e\\u0440\\u043e\\u0434\", \"\\u043f\\u0440\\u043e\\u0441\\u0442\\u043e\", \"\\u043f\\u0440\\u043e\\u0432\\u0435\\u0441\\u0442\\u0438\", \"\\u043f\\u0440\\u0438\\u043d\\u044f\\u0442\\u044c\", \"\\u0441\\u0442\\u0430\\u0442\\u044c\", \"\\u043f\\u0440\\u043e\\u0432\\u0435\\u0440\\u043a\\u0430\", \"\\u043e\\u043f\\u043b\\u0430\\u0447\\u0438\\u0432\\u0430\\u0442\\u044c\", \"\\u0434\\u043e\\u043c\", \"\\u0432\\u0441\\u0451\", \"\\u0436\\u0430\\u043b\\u043e\\u0431\\u0430\", \"\\u0432\\u044b\\u043f\\u043e\\u043b\\u043d\\u044f\\u0442\\u044c\", \"\\u0432\\u0435\\u0441\\u044c\", \"\\u043d\\u0430\\u0445\\u043e\\u0434\\u0438\\u0442\\u044c\\u0441\\u044f\", \"\\u043f\\u0440\\u0438\\u0435\\u0445\\u0430\\u0442\\u044c\", \"\\u043d\\u0430\\u0447\\u0430\\u0442\\u044c\", \"\\u0432\\u0437\\u044f\\u0442\\u044c\", \"\\u043d\\u0430\\u0448\", \"\\u0440\\u0430\\u0437\\u043e\\u0431\\u0440\\u0430\\u0442\\u044c\\u0441\\u044f\", \"\\u0440\\u0435\\u0431\\u0451\\u043d\\u043e\\u043a\", \"\\u0442\\u0435\\u0441\\u0442\", \"\\u0434\\u0435\\u0442\\u0441\\u043a\\u0438\\u0439\", \"\\u043f\\u0446\\u0440\", \"\\u0433\\u0440\\u0430\\u0436\\u0434\\u0430\\u043d\\u0438\\u043d\", \"\\u044d\\u043a\\u0441\\u043f\\u0435\\u0440\\u0442\\u0438\\u0437\\u0430\", \"covid\", \"\\u0440\\u043e\\u0434\\u0438\\u0442\\u0435\\u043b\\u044c\", \"\\u0432\\u0430\\u043a\\u0446\\u0438\\u043d\\u0430\", \"\\u0441\\u0430\\u0434\", \"\\u043d\\u0430\\u0443\\u0448\\u043d\\u0438\\u043a\", \"\\u043a\\u043e\\u0440\\u043e\\u0431\\u043a\\u0430\", \"\\u043f\\u0440\\u0438\\u0432\\u0438\\u0432\\u043a\\u0430\", \"\\u0432\\u043e\\u0437\\u043c\\u043e\\u0436\\u043d\\u043e\", \"\\u0441\\u0431\\u0435\\u0440\\u043c\\u0435\\u0433\\u0430\\u043c\\u0430\\u0440\\u043a\\u0435\\u0442\", \"\\u0441\\u0432\\u044f\\u0437\\u0430\\u0442\\u044c\\u0441\\u044f\", \"\\u0441\\u043c\\u0430\\u0440\\u0442\\u0444\\u043e\\u043d\", \"\\u043f\\u0440\\u0438\\u0432\\u0435\\u0437\\u0442\\u0438\", \"\\u043f\\u0440\\u043e\\u0434\\u0443\\u043a\\u0442\", \"\\u043f\\u0435\\u0440\\u0435\\u0431\\u043e\\u043b\\u0435\\u0442\\u044c\", \"\\u043e\\u0442\\u043a\\u0440\\u044b\\u0442\\u044c\", \"\\u0441\\u043f\\u043e\\u0441\\u043e\\u0431\", \"\\u0437\\u0430\\u0431\\u043e\\u043b\\u0435\\u0442\\u044c\", \"\\u0431\\u043e\\u043b\\u044c\\u043d\\u043e\\u0439\", \"\\u0445\\u043e\\u043b\\u043e\\u0434\\u0438\\u043b\\u044c\\u043d\\u0438\\u043a\", \"\\u0441\\u043a\\u043b\\u0430\\u0434\", \"\\u0434\\u0438\\u0432\\u0430\\u043d\", \"\\u043f\\u043e\\u043a\\u0443\\u043f\\u0430\\u0442\\u044c\", \"\\u043a\\u043e\\u043d\\u0442\\u0430\\u043a\\u0442\", \"\\u043d\\u0430\\u0434\\u0437\\u043e\\u0440\", \"\\u0435\\u0434\\u0430\", \"\\u0440\\u0435\\u0437\\u0443\\u043b\\u044c\\u0442\\u0430\\u0442\", \"\\u043e\\u0444\\u0438\\u0446\\u0438\\u0430\\u043b\\u044c\\u043d\\u044b\\u0439\", \"\\u043d\\u0430\\u0445\\u043e\\u0434\\u0438\\u0442\\u044c\\u0441\\u044f\", \"\\u043a\\u043e\\u0442\\u043e\\u0440\\u044b\\u0439\", \"\\u0440\\u0430\\u0431\\u043e\\u0442\\u0430\\u0442\\u044c\", \"\\u0441\\u0434\\u0435\\u043b\\u0430\\u0442\\u044c\", \"\\u043f\\u043e\\u0447\\u0435\\u043c\\u0443\", \"\\u0441\\u043e\\u0442\\u0440\\u0443\\u0434\\u043d\\u0438\\u043a\", \"\\u043c\\u0430\\u0441\\u043a\\u0430\", \"\\u043f\\u0435\\u0442\\u0435\\u0440\\u0431\\u0443\\u0440\\u0433\", \"\\u0441\\u0430\\u043d\\u043a\\u0442\", \"\\u0442\\u0443\\u0440\", \"\\u0437\\u0430\\u043a\\u043b\\u044e\\u0447\\u0438\\u0442\\u044c\", \"\\u043e\\u0431\\u0440\\u0430\\u0431\\u043e\\u0442\\u043a\\u0430\", \"\\u043f\\u0440\\u0430\\u0432\\u0438\\u0442\\u0435\\u043b\\u044c\\u0441\\u0442\\u0432\\u043e\", \"\\u043f\\u0440\\u0438\\u043a\\u0430\\u0437\", \"\\u0437\\u0430\\u043a\\u043e\\u043d\\u043e\\u0434\\u0430\\u0442\\u0435\\u043b\\u044c\\u0441\\u0442\\u0432\\u043e\", \"\\u043e\\u0431\\u0441\\u043b\\u0443\\u0436\\u0438\\u0432\\u0430\\u043d\\u0438\\u0435\", \"\\u043a\\u0440\\u0435\\u0434\\u0438\\u0442\", \"\\u043f\\u0435\\u0440\\u0441\\u043e\\u043d\\u0430\\u043b\\u044c\\u043d\\u044b\\u0439\", \"\\u043e\\u0442\\u043c\\u0435\\u043d\\u0430\", \"\\u0440\\u0435\\u0439\\u0441\", \"\\u043a\\u0440\\u0435\\u0434\\u0438\\u0442\\u043d\\u044b\\u0439\", \"\\u0441\\u043e\\u0431\\u0441\\u0442\\u0432\\u0435\\u043d\\u043d\\u0438\\u043a\", \"\\u0438\\u0437\\u043d\\u0430\\u0447\\u0430\\u043b\\u044c\\u043d\\u043e\", \"\\u0441\\u043e\\u0437\\u0434\\u0430\\u0442\\u044c\", \"\\u0440\\u0430\\u0441\\u0441\\u0440\\u043e\\u0447\\u043a\\u0430\", \"\\u043f\\u0443\\u0431\\u043b\\u0438\\u0447\\u043d\\u044b\\u0439\", \"\\u0431\\u043e\\u043b\\u0435\\u0437\\u043d\\u044c\", \"\\u0437\\u0430\\u0434\\u0435\\u0440\\u0436\\u043a\\u0430\", \"\\u0440\\u0430\\u043c\\u043a\\u0430\", \"\\u0430\\u0432\\u0438\\u0430\\u043a\\u043e\\u043c\\u043f\\u0430\\u043d\\u0438\\u044f\", \"\\u043a\\u043e\\u043d\\u043a\\u0440\\u0435\\u0442\\u043d\\u044b\\u0439\", \"\\u0440\\u0430\\u0441\\u043f\\u0440\\u043e\\u0441\\u0442\\u0440\\u0430\\u043d\\u0435\\u043d\\u0438\\u0435\", \"\\u0443\\u0442\\u0432\\u0435\\u0440\\u0436\\u0434\\u0435\\u043d\\u0438\\u0435\", \"\\u043a\\u043e\\u043c\\u043c\\u0435\\u043d\\u0442\\u0430\\u0440\\u0438\\u0439\", \"\\u0438\\u0437\\u043c\\u0435\\u043d\\u0438\\u0442\\u044c\\u0441\\u044f\", \"\\u043b\\u0438\\u0441\\u0442\", \"\\u0440\\u0430\\u0441\\u0442\\u043e\\u0440\\u0436\\u0435\\u043d\\u0438\\u0435\", \"\\u0434\\u043e\\u0433\\u043e\\u0432\\u043e\\u0440\", \"\\u043f\\u043e\\u0441\\u0442\\u0430\\u043d\\u043e\\u0432\\u043b\\u0435\\u043d\\u0438\\u0435\", \"\\u0434\\u0435\\u044f\\u0442\\u0435\\u043b\\u044c\\u043d\\u043e\\u0441\\u0442\\u044c\", \"\\u0441\\u043e\\u043e\\u0442\\u0432\\u0435\\u0442\\u0441\\u0442\\u0432\\u0438\\u0435\", \"\\u043f\\u043e\\u043b\\u044c\\u0437\\u043e\\u0432\\u0430\\u043d\\u0438\\u0435\", \"\\u043d\\u0430\\u0440\\u0443\\u0448\\u0435\\u043d\\u0438\\u0435\", \"\\u043f\\u0440\\u0430\\u0432\\u0438\\u043b\\u043e\", \"\\u0441\\u0432\\u044f\\u0437\\u044c\", \"\\u0433\\u043e\\u0441\\u0443\\u0434\\u0430\\u0440\\u0441\\u0442\\u0432\\u0435\\u043d\\u043d\\u044b\\u0439\", \"\\u0443\\u0441\\u0442\\u0430\\u043d\\u043e\\u0432\\u043b\\u0435\\u043d\\u043d\\u044b\\u0439\", \"\\u0442\\u0440\\u0435\\u0431\\u043e\\u0432\\u0430\\u043d\\u0438\\u0435\", \"\\u043f\\u043e\\u043b\\u043d\\u044b\\u0439\", \"\\u0437\\u0430\\u043a\\u043b\\u044e\\u0447\\u0435\\u043d\\u0438\\u0435\", \"\\u043e\\u0442\\u043c\\u0435\\u043d\\u0438\\u0442\\u044c\", \"\\u0441\\u043e\\u0433\\u043b\\u0430\\u0441\\u043d\\u043e\", \"\\u043e\\u0440\\u0433\\u0430\\u043d\\u0438\\u0437\\u0430\\u0446\\u0438\\u044f\"], \"Freq\": [1795.0, 1454.0, 971.0, 560.0, 781.0, 740.0, 617.0, 368.0, 912.0, 434.0, 667.0, 1018.0, 676.0, 423.0, 335.0, 489.0, 367.0, 353.0, 306.0, 324.0, 354.0, 411.0, 196.0, 276.0, 564.0, 389.0, 226.0, 226.0, 258.0, 215.0, 246.70575152615746, 218.22730400172517, 211.8034619601736, 203.99084813263573, 196.1940484765739, 151.55204700221248, 149.58196808541751, 420.87654194230635, 151.0416475096521, 142.90123251223957, 124.5791267795072, 119.14057206737934, 111.52289227726786, 109.94328458815623, 99.99523708219864, 96.80721082835528, 91.53896829837763, 94.88906089156393, 81.37437240150291, 79.64212573441415, 75.02672591342673, 159.64336701168844, 70.27844243525591, 69.68561756409319, 69.38370239172865, 68.6467074693197, 67.42360028374108, 67.38655182768123, 65.41546077086235, 64.45525798929715, 121.17697300843662, 715.6645299658984, 339.574878375176, 124.3854734090499, 99.84491156713335, 86.89076687824713, 195.62769623101684, 109.14301645510805, 209.70242451783258, 211.364251026358, 585.3492793072261, 121.40417159111581, 167.5274668432026, 226.00196051277354, 189.8960422926921, 246.96778425039517, 124.7166125754117, 231.92991177916915, 233.914416789693, 156.6706167441607, 168.5254121197012, 165.40527773995322, 139.5109517633273, 142.6585998269913, 138.28345312939996, 129.1911638169049, 305.70835376716246, 226.8477718894608, 212.99091006057668, 200.6666377362415, 112.21737001173642, 107.37745261437996, 102.36874697420109, 98.28011678886733, 94.83484709700238, 92.99612957224545, 88.0344747925026, 86.49118506942642, 86.20159831134893, 92.1125265970285, 74.78708823726372, 74.52123833368191, 176.3341401315177, 70.16144755358842, 71.63893774130082, 62.613808681803896, 60.7892099986401, 57.27396245433074, 53.83956498718498, 53.54320548529758, 52.82493987867611, 50.876912418904624, 50.34777837077164, 49.63239745132847, 45.58894397563045, 46.230620241802605, 59.07049904396258, 181.80716215314507, 232.9863862048727, 210.68978255633255, 149.5381411773039, 134.09215714210083, 157.2583094265868, 77.16976817728876, 148.44141536327712, 156.86970443731596, 149.42061794662146, 214.21562281529907, 102.54973332280602, 200.3359128305779, 478.16012780525034, 103.96598213924256, 177.7981421670076, 182.04994889314986, 332.6636161213168, 153.56013329708787, 192.20282938355516, 215.1430945364001, 136.10321053739017, 149.72650229139074, 127.88671842109784, 153.79132395298214, 118.16778088540413, 121.83664429301679, 112.474540769547, 970.4290478122438, 433.8949679128489, 185.8120054494155, 184.12495177363422, 144.22013003742552, 166.88433492453348, 121.7997937830058, 104.916146654366, 104.87900417989539, 98.79779479146917, 89.61362598276885, 86.73152588642658, 79.4320605011526, 79.42219732528221, 80.38007692301035, 62.79075138907613, 62.78616669311317, 59.11295978495287, 59.082029180129425, 54.858655180207776, 53.67782060189079, 53.31701718870573, 52.49433247879647, 50.17852458661571, 49.44818824164528, 49.190175714625134, 48.66554988539691, 47.41826940147006, 46.34426682198425, 44.06481106277033, 225.22744486553404, 124.73761831967168, 123.26144635336307, 171.87472998954104, 307.42936981708385, 133.6673615358689, 149.64898225051655, 140.43242732119174, 266.4981197684683, 322.5424731670162, 132.01435334024941, 485.4229165762886, 79.22660031982336, 151.74735682401706, 334.1101259883365, 256.56902727093416, 135.92266002423273, 159.67865196276395, 124.1246280188765, 228.08559153476247, 244.51337969741257, 131.61318886728432, 200.17625128402472, 142.97902923729274, 154.11830981116574, 130.1074774402471, 125.46282996158835, 231.40506128884496, 132.49060493491987, 126.92846105516466, 124.70792620780159, 119.92137962936759, 94.95286989827888, 83.66624811228984, 83.60179103020924, 75.2470014772193, 73.18663176007834, 72.1168503998513, 70.85327030078702, 59.1918192350856, 57.83263167437286, 58.91663973671131, 56.48863267411138, 55.036679220178975, 52.198382995736985, 49.172301218745666, 48.60103594808126, 47.85424410370856, 46.50678744274832, 46.498850539780726, 46.380130188025056, 45.51966931984477, 45.4039099829784, 43.590241213365616, 43.08771738072035, 41.28863993925631, 38.13878962588914, 84.60246318305191, 703.4074817073212, 329.56764618049806, 1112.8623037361106, 90.25071538751774, 1194.8513600898953, 162.5007863107641, 450.1370794379936, 72.55260366107574, 235.08735677321326, 58.62417822149907, 74.45613388892122, 174.7617643083504, 97.7012386546021, 98.22165430969946, 73.84008562555212, 284.36314577667264, 120.74984770610068, 179.20528579884476, 106.83180782193192, 142.41216742366413, 116.04690107670675, 85.21039537376265, 86.02295192462564, 79.17477201123168, 76.566677406129, 334.40593823149794, 225.93695053799982, 161.7220060795597, 157.26596305020374, 128.74936140929123, 125.17256671809994, 97.35463216348548, 91.2536957577271, 91.269271499128, 90.9684027356359, 79.95899668701743, 79.4347926198628, 77.05962223139053, 72.78983156323396, 72.65993372860751, 71.26067522749537, 71.10182756828115, 85.38794059558478, 59.837515908756586, 58.92696893325655, 55.3098708792325, 55.25832151416006, 52.87308801950655, 51.561992063380494, 48.98336921264878, 48.96433533970866, 48.669443314195995, 48.78155242962802, 49.340858512832206, 45.707896068129834, 92.38922503570787, 137.6517465883661, 99.92955351171858, 101.78065566799029, 477.2550697502574, 191.07642639764316, 98.22825467063542, 143.45564590829534, 108.89089106086311, 76.0065391107451, 90.99767516823962, 122.12137406213235, 129.36970832498403, 121.17260086663897, 103.9271535710627, 77.69420917810245, 89.61796558093515, 84.07651637165304, 214.95741997159598, 170.08088554198883, 135.5643815116656, 117.7433315704433, 99.88478165304176, 87.29662156389168, 82.51775040192726, 78.24158091617107, 74.0707054606553, 72.62236176722001, 68.83078240065888, 65.02350390926689, 83.93273868813863, 57.170341161220655, 56.255322903496946, 52.437531231509915, 51.01132853712772, 50.38332167956137, 49.48709004121856, 48.50326251936129, 48.02539162559385, 47.63909896000628, 46.452318385377566, 44.31428073987396, 43.51116061090284, 41.41406366643726, 41.16875960791383, 38.9560255264651, 38.96079282737206, 38.24334020608202, 166.88319360169504, 49.70474794091489, 302.7104412595281, 101.2342888895837, 231.71437276570094, 96.21023402905288, 164.34195533316105, 401.4704957453559, 307.2644643226237, 95.15090941588413, 103.26514860986718, 69.02473985490225, 129.94694159686205, 76.05770705920304, 113.31596904648293, 95.66068093130784, 267.44794621549323, 134.85778483519607, 105.0701816525007, 140.9775444141703, 119.50374770030757, 125.0596261136078, 84.13921881095541, 200.69212588699511, 185.77263975958934, 179.84530336682062, 143.20110685010775, 133.48187028515025, 130.70345863316533, 122.24033477358911, 118.28323830068182, 114.23512380724358, 113.05124931979834, 107.8699735661701, 87.94998668573444, 80.74355755021497, 78.15894356669187, 69.76248024607852, 68.50141553180019, 68.22579088772409, 65.19068474908244, 64.91521045983082, 64.90957942914572, 63.904670834249316, 62.05052423951996, 61.30221312816769, 61.46649759962799, 60.48571367882947, 59.07392552822909, 56.57564431489947, 55.24107064191034, 54.29161872647416, 51.45631474896286, 73.01720143159436, 227.919716149368, 250.11536694992483, 84.2777010516643, 194.85570081133352, 96.07164988872859, 100.82314365177346, 116.14801548694953, 96.9568614928607, 104.4975633543203, 96.8199512997696, 82.92547766234179, 117.01781329649316, 101.59135010151526, 83.30177213665024, 81.83533728257966, 89.18362376993164, 90.19727821802138, 83.16146407676173, 78.07168568760287, 62.85156821795147, 61.30804263395165, 59.57221315341244, 56.95133569938902, 56.09653325914338, 55.23696103301196, 54.4360095860846, 53.757549044290386, 53.79526465983266, 50.559553320594944, 49.985445217421606, 49.287964554956815, 48.392786780975825, 47.041362202391106, 46.99880671130193, 46.19356503932805, 44.01750608621607, 43.25675659333602, 42.67430782048926, 40.803887745949666, 40.46143335064098, 40.152496569066365, 38.212912754718275, 35.99783599393898, 35.41240287710026, 33.794412561553465, 33.673732920820875, 55.365284135736296, 102.82903614748005, 108.77754568683689, 156.62021716232002, 71.31736638112412, 102.75660770503512, 97.55591796054624, 130.51944710094406, 111.38934468528034, 135.62597323018136, 128.5531591257088, 87.90746374490968, 140.1824209432213, 55.197290284817356, 139.09066011444298, 127.2448728890794, 89.8404628200419, 58.41005279343217, 87.1825448245807, 71.12012669686997, 59.479694800732446, 56.59073545970901, 57.230561842507306, 57.20782328086778, 56.59665250267945, 367.5199100587609, 195.6051267457098, 157.6998275781616, 150.9203463822738, 149.90557986261956, 143.96695699449702, 131.8626255496105, 121.00256286876673, 110.14534236348912, 109.68208834167962, 94.37011462467646, 89.0504887611991, 88.91755183447644, 86.98245591373835, 81.41182612985021, 77.03105186474538, 67.22568346464958, 66.51305943012194, 64.57174367589847, 59.97048798450644, 58.40718844574106, 54.5906203563115, 52.19102782009851, 50.9207092126118, 50.6064394252204, 50.310877194393726, 50.01555524411008, 49.477968720023696, 47.211525930442924, 45.61546585592457, 62.20567370801779, 168.14333990960313, 60.66263325160929, 77.29844291819101, 75.25445185535031, 59.429753785306325, 58.71109527656936, 54.13828536889327, 55.45213594561921, 128.9684633944062, 124.45492652594675, 120.34179409608686, 131.1578584023834, 100.10264028673988, 86.77375931097886, 71.94883641647156, 65.84202725761239, 64.43443201439332, 59.640502798441766, 73.66899278583745, 57.282166129612655, 55.68257440490662, 54.128177750073604, 53.945574678977614, 48.49662498259482, 44.38891646921491, 43.43577746928262, 42.85119803999832, 42.29168358306561, 41.77815491919298, 41.73269309932915, 39.86678326474182, 39.674561316000705, 38.847099668885626, 37.538233678220806, 37.06456190880969, 36.99455273860026, 34.56255496516361, 34.38259081361965, 44.890146053153714, 512.0393605667459, 162.1996564530126, 98.82525714618194, 108.50246412262885, 73.85473969611094, 139.7830034150409, 111.28488246733781, 155.5805094784541, 56.698879167545776, 52.61441601050865, 85.70978886545649, 85.7450252690056, 60.173361309863374, 62.136133147069216, 66.25159646375364, 64.61679374025952], \"Total\": [1795.0, 1454.0, 971.0, 560.0, 781.0, 740.0, 617.0, 368.0, 912.0, 434.0, 667.0, 1018.0, 676.0, 423.0, 335.0, 489.0, 367.0, 353.0, 306.0, 324.0, 354.0, 411.0, 196.0, 276.0, 564.0, 389.0, 226.0, 226.0, 258.0, 215.0, 247.5955204895382, 219.12667844960208, 212.69351198608945, 204.88056640951297, 197.08395703504775, 152.44179316762435, 150.47168064827486, 423.448070848408, 151.96731727031073, 143.79139684567122, 125.46895377347525, 120.03038335268603, 112.41254565881242, 110.8329142700815, 100.88498697602438, 97.69697313652874, 92.4290233087863, 95.88410443861886, 82.27954388616989, 80.531998467623, 75.91640128126349, 161.5914719330881, 71.16869043884186, 70.57531651019153, 70.27351563486859, 69.53722594463831, 68.31374519969383, 68.27626552372817, 66.30522249753325, 65.34556042993195, 123.05058838961074, 740.1122617369717, 354.11498037367187, 127.85763015967835, 102.48592336472875, 89.13091743473643, 216.487633760211, 117.53030588116968, 255.34184919585726, 262.2938399074986, 1018.1170005932911, 146.34694341295523, 239.87946418348864, 412.0984545004951, 318.3664086215437, 516.2042978367992, 161.41457724261232, 707.2735831155198, 986.9439655166225, 311.0274161830355, 529.5568573557566, 564.4080573185425, 273.42866875934413, 667.0209585066214, 676.5309600802849, 912.3230348978506, 306.6405350265852, 227.7469958256611, 213.88648207343823, 201.5656521438593, 113.11377912429592, 108.28258621676497, 103.26446585046033, 99.17613263882502, 95.73044731048782, 93.89249574461824, 88.9300853269713, 87.3871193040916, 87.09744182951933, 93.09087581896549, 75.68421836775441, 75.41698306992987, 178.4623896746335, 71.05994583109319, 72.58926790527252, 63.51007796794032, 61.68481351009565, 58.16972717584129, 54.73528347478478, 54.43893657533664, 53.72041849972457, 51.772566633846814, 51.24334989593961, 50.527909081986245, 46.484626843305044, 47.20712539827531, 61.26356123400168, 218.76062952066374, 291.7118103771612, 262.9933399954095, 190.33714922838405, 168.1349697858401, 209.78109785817742, 86.4313652115144, 202.63764810384527, 217.77308663086097, 222.5858270041604, 379.90568213080013, 135.11445219387488, 409.79580323186605, 1795.9998847589536, 140.9829289177574, 390.30150977177567, 411.0620582272685, 1454.3183538874198, 311.0274161830355, 707.2735831155198, 1018.1170005932911, 303.4904620099589, 412.0984545004951, 275.3075102682051, 564.4080573185425, 221.71035380010704, 435.04396180471997, 203.1080588292688, 971.9290984543412, 434.7840060535393, 186.70136788528487, 185.01410437060167, 145.1091358070773, 167.98394836395428, 122.6891904317827, 105.80533688705961, 105.76800965610033, 99.68687520579151, 90.5066889781832, 87.62064365930273, 80.32113606580907, 80.35335282962332, 81.37084759915363, 63.67980904390952, 63.67581597923743, 60.00208617389569, 59.9714081249108, 55.74828215086297, 54.56730089173474, 54.20640627498534, 53.38382774723577, 51.06807752297787, 50.33762867937691, 50.079274993061695, 49.555812190379044, 48.30758938598118, 47.23362369853138, 44.956241111588206, 233.97855791294538, 129.362430550715, 128.4249742059956, 194.71126052252308, 389.9220057371778, 153.7888402661092, 175.61651717823995, 165.11394651076745, 348.82795451972373, 439.2326206226413, 158.43401745672418, 912.3230348978506, 87.75960831749451, 206.02175472559247, 587.9631811333564, 435.04396180471997, 185.95983681741663, 239.86936268773962, 161.8450592761002, 456.82124797927366, 564.4080573185425, 185.11928917556995, 529.5568573557566, 330.96381195211137, 466.9771288468195, 520.3551704418796, 225.58389122181558, 232.29663876756922, 133.38227300685833, 127.82019735285944, 125.59960591469294, 120.81463618787227, 95.84437813357859, 84.55795051266907, 84.49337042310815, 76.13938939979852, 74.07882831038854, 73.00919917046356, 71.76568432435856, 60.08334431781832, 58.72455443653981, 59.8257754197894, 57.380527261687945, 55.92921253658406, 53.0901143761789, 50.0641100369062, 49.493034475933655, 48.74592679804033, 47.39854808065857, 47.39050384255646, 47.27224269060154, 46.41140213203826, 46.295507365925104, 44.48184961956913, 43.97939448518011, 42.180972452092355, 39.03044155101838, 87.44705433425761, 781.6348843907576, 367.5668532190322, 1454.3183538874198, 97.455835000594, 1795.9998847589536, 196.72967350581368, 676.5309600802849, 80.95665352577373, 347.2704963058801, 62.97481188419459, 85.98815048261793, 292.65224598886823, 130.95398025232853, 135.7730541806228, 88.19227997656203, 912.3230348978506, 246.0118120005558, 1018.1170005932911, 330.96381195211137, 986.9439655166225, 516.2042978367992, 160.2991493427555, 273.42866875934413, 258.7673189399305, 145.9180073662231, 335.29231511667695, 226.82306931577514, 162.60820215786785, 158.15216555314572, 129.63674024443026, 126.05943021493552, 98.24088849732152, 92.13987505586891, 92.1561901478478, 91.85462383677901, 80.84562085492384, 80.32109368577358, 77.94641054854094, 73.676353504676, 73.54632399384661, 72.14718127262425, 71.98828064005465, 86.45907276650735, 60.723565747622615, 59.81312367758903, 56.19630767500334, 56.1444836344956, 53.7598076720073, 52.45836957658992, 49.86959726066963, 49.85097608483898, 49.55581664662378, 49.68215060570355, 50.25571467570201, 46.594273843226034, 94.64530170509641, 147.5281961180875, 106.05720626115846, 108.36689514757629, 617.3963044277212, 265.78052348526796, 122.75925777207127, 227.30443598226526, 156.53339741734683, 95.90108770684415, 142.41206030913665, 264.0345274753139, 307.20832984555125, 488.8457196465306, 380.4058672066253, 120.64136449749988, 986.9439655166225, 466.9771288468195, 215.87222504622463, 170.97246952360888, 136.4557926064839, 118.63479016330983, 100.77655846585904, 88.2269754805009, 83.40922314233991, 79.13347123360516, 74.96209703342898, 73.51409214385656, 69.72223533744624, 65.91486915297662, 85.11381989661861, 58.061737082010495, 57.147137690409075, 53.32899023101233, 51.90341125637074, 51.274932081940314, 50.3787210603755, 49.39511234715987, 48.91682756379901, 48.54475364406442, 47.34374431964971, 45.20568451564393, 44.4030341234515, 42.30576279131246, 42.06039775483673, 39.84740684629009, 39.85238532742927, 39.13501265620906, 174.79849973048067, 51.231250469547206, 353.9649642168639, 110.72318717628947, 276.72818477557365, 111.71654669882349, 220.52276157514018, 667.0209585066214, 489.524733047275, 118.12012747589618, 131.50651019990556, 78.57661592835629, 184.96130227718143, 92.59399274204574, 165.9708174531831, 138.0037758108751, 986.9439655166225, 283.9855115697176, 185.08499404620926, 360.4587873041509, 343.0797019354993, 466.9771288468195, 488.8457196465306, 201.58455957040155, 186.66475088400946, 180.7376325577061, 144.09309742616313, 134.37396315846013, 131.59536879228497, 123.13212801601443, 119.17538704534677, 115.12784750541451, 113.94319601024151, 108.76190913398484, 88.84195790694633, 81.63688763084093, 79.0508312873562, 70.65457800079889, 69.39341443786847, 69.11772603686089, 66.08358782100599, 65.80713201607333, 65.80144872298025, 64.79666704326183, 62.94517062915044, 62.1941588229321, 62.366357602353865, 61.37755858326825, 59.966255885027, 57.467581934917106, 56.13315937531067, 55.18374417658718, 52.34824533147732, 74.55141564483678, 258.5619234350706, 324.0328968351232, 98.7636251943225, 333.2107557793031, 128.40864453379012, 142.98551966972616, 246.0118120005558, 197.41107972879848, 263.6108253133029, 228.93661787116633, 145.1600804783872, 489.524733047275, 667.0209585066214, 224.29917821388491, 215.32896393751653, 488.8457196465306, 91.07981434357679, 84.04387305027953, 78.95414334060582, 63.733909007911855, 62.19049780706957, 60.45466382875698, 57.833713937905436, 56.97896050109837, 56.11924649887073, 55.31880662505284, 54.63970603787621, 54.71556793130773, 51.441897468268806, 50.86770827786034, 50.17014604256939, 49.276136523622476, 47.923954402779955, 47.88107622279454, 47.076465226939334, 44.89982943069004, 44.139420611617325, 43.55683849397597, 41.68673555059376, 41.343641242603546, 41.03473484064617, 39.09566967899813, 36.88026753970859, 36.29470573227533, 34.67748117958463, 34.556376898437435, 57.005124321681066, 116.10028884201101, 124.57865555642674, 204.56713492525196, 82.79843884494736, 149.12531822606928, 141.47867561160348, 218.83411154012092, 210.60180542827354, 306.9233929948538, 281.07505293813716, 149.15540811129034, 360.4587873041509, 69.22396906624203, 617.3963044277212, 520.3551704418796, 303.4904620099589, 82.83733552895063, 343.0797019354993, 307.20832984555125, 135.0228410137241, 87.60459162902488, 104.92486522809249, 265.78052348526796, 236.39115759690276, 368.4605861587571, 196.50711013903657, 158.60191823781705, 151.82233002070694, 150.80793991450665, 144.86912386219268, 132.76484304709726, 121.90463076630094, 111.04775885581809, 110.58410031316252, 95.27260751286516, 89.95263388973125, 89.81964681650133, 87.88476005216643, 82.31451798816917, 77.93337564346739, 68.12798593744009, 67.41527164968198, 65.47387107108437, 60.87254416622273, 59.30947435868419, 55.493216540674894, 53.09311850804347, 51.822849698189316, 51.508595336426104, 51.21305791217032, 50.92499560942681, 50.38020474724836, 48.11363245079869, 46.517922884632945, 63.55567723493562, 226.3900276901818, 88.697918109041, 307.20832984555125, 986.9439655166225, 208.4937818439718, 456.82124797927366, 179.9059051617452, 409.79580323186605, 129.85364420786573, 125.34007482735493, 121.22693217905746, 132.25086738014437, 100.9877887529879, 87.66626793695461, 72.83395558769264, 66.72734266595667, 65.32250981186853, 60.525652370506094, 74.80506128994742, 58.16748582741484, 56.567762916718024, 55.01327610634138, 54.83069778681166, 49.38953355771458, 45.28268016570294, 44.32124017687881, 43.73669300749145, 43.17725506481861, 42.66355613277146, 42.61807230858085, 40.752167489175804, 40.55963301919399, 39.7328100979509, 38.42349359503905, 37.95013085374085, 37.88021759960096, 35.44790531275795, 35.26813246353575, 46.04772716702497, 560.8834149134686, 172.83325889799002, 121.24209470974105, 137.98103679657928, 89.37853659494255, 245.99192300310168, 188.75750693875457, 411.0620582272685, 72.2656589412809, 67.03718151761687, 194.1437336783098, 216.2451104128556, 101.93613987509568, 126.74586175653846, 169.42341768985415, 264.0345274753139], \"Category\": [\"Default\", \"Default\", \"Default\", \"Default\", \"Default\", \"Default\", \"Default\", \"Default\", \"Default\", \"Default\", \"Default\", \"Default\", \"Default\", \"Default\", \"Default\", \"Default\", \"Default\", \"Default\", \"Default\", \"Default\", \"Default\", \"Default\", \"Default\", \"Default\", \"Default\", \"Default\", \"Default\", \"Default\", \"Default\", \"Default\", \"Topic1\", \"Topic1\", \"Topic1\", \"Topic1\", \"Topic1\", \"Topic1\", \"Topic1\", \"Topic1\", \"Topic1\", \"Topic1\", \"Topic1\", \"Topic1\", \"Topic1\", \"Topic1\", \"Topic1\", \"Topic1\", \"Topic1\", \"Topic1\", \"Topic1\", \"Topic1\", \"Topic1\", \"Topic1\", \"Topic1\", \"Topic1\", \"Topic1\", \"Topic1\", \"Topic1\", \"Topic1\", \"Topic1\", \"Topic1\", \"Topic1\", \"Topic1\", \"Topic1\", \"Topic1\", \"Topic1\", \"Topic1\", \"Topic1\", \"Topic1\", \"Topic1\", \"Topic1\", \"Topic1\", \"Topic1\", \"Topic1\", \"Topic1\", \"Topic1\", \"Topic1\", \"Topic1\", \"Topic1\", \"Topic1\", \"Topic1\", \"Topic1\", \"Topic1\", \"Topic1\", \"Topic1\", \"Topic1\", \"Topic1\", \"Topic2\", \"Topic2\", \"Topic2\", \"Topic2\", \"Topic2\", \"Topic2\", \"Topic2\", \"Topic2\", \"Topic2\", \"Topic2\", \"Topic2\", \"Topic2\", \"Topic2\", \"Topic2\", \"Topic2\", \"Topic2\", \"Topic2\", \"Topic2\", \"Topic2\", \"Topic2\", \"Topic2\", \"Topic2\", \"Topic2\", \"Topic2\", \"Topic2\", \"Topic2\", \"Topic2\", \"Topic2\", \"Topic2\", \"Topic2\", \"Topic2\", \"Topic2\", \"Topic2\", \"Topic2\", \"Topic2\", \"Topic2\", \"Topic2\", \"Topic2\", \"Topic2\", \"Topic2\", \"Topic2\", \"Topic2\", \"Topic2\", \"Topic2\", \"Topic2\", \"Topic2\", \"Topic2\", \"Topic2\", \"Topic2\", \"Topic2\", \"Topic2\", \"Topic2\", \"Topic2\", \"Topic2\", \"Topic2\", \"Topic2\", \"Topic2\", \"Topic2\", \"Topic2\", \"Topic3\", \"Topic3\", \"Topic3\", \"Topic3\", \"Topic3\", \"Topic3\", \"Topic3\", \"Topic3\", \"Topic3\", \"Topic3\", \"Topic3\", \"Topic3\", \"Topic3\", \"Topic3\", \"Topic3\", \"Topic3\", \"Topic3\", \"Topic3\", \"Topic3\", \"Topic3\", \"Topic3\", \"Topic3\", \"Topic3\", \"Topic3\", \"Topic3\", \"Topic3\", \"Topic3\", \"Topic3\", \"Topic3\", \"Topic3\", \"Topic3\", \"Topic3\", \"Topic3\", \"Topic3\", \"Topic3\", \"Topic3\", \"Topic3\", \"Topic3\", \"Topic3\", \"Topic3\", \"Topic3\", \"Topic3\", \"Topic3\", \"Topic3\", \"Topic3\", \"Topic3\", \"Topic3\", \"Topic3\", \"Topic3\", \"Topic3\", \"Topic3\", \"Topic3\", \"Topic3\", \"Topic3\", \"Topic3\", \"Topic3\", \"Topic3\", \"Topic4\", \"Topic4\", \"Topic4\", \"Topic4\", \"Topic4\", \"Topic4\", \"Topic4\", \"Topic4\", \"Topic4\", \"Topic4\", \"Topic4\", \"Topic4\", \"Topic4\", \"Topic4\", \"Topic4\", \"Topic4\", \"Topic4\", \"Topic4\", \"Topic4\", \"Topic4\", \"Topic4\", \"Topic4\", \"Topic4\", \"Topic4\", \"Topic4\", \"Topic4\", \"Topic4\", \"Topic4\", \"Topic4\", \"Topic4\", \"Topic4\", \"Topic4\", \"Topic4\", \"Topic4\", \"Topic4\", \"Topic4\", \"Topic4\", \"Topic4\", \"Topic4\", \"Topic4\", \"Topic4\", \"Topic4\", \"Topic4\", \"Topic4\", \"Topic4\", \"Topic4\", \"Topic4\", \"Topic4\", \"Topic4\", \"Topic4\", \"Topic4\", \"Topic4\", \"Topic4\", \"Topic4\", \"Topic4\", \"Topic4\", \"Topic5\", \"Topic5\", \"Topic5\", \"Topic5\", \"Topic5\", \"Topic5\", \"Topic5\", \"Topic5\", \"Topic5\", \"Topic5\", \"Topic5\", \"Topic5\", \"Topic5\", \"Topic5\", \"Topic5\", \"Topic5\", \"Topic5\", \"Topic5\", \"Topic5\", \"Topic5\", \"Topic5\", \"Topic5\", \"Topic5\", \"Topic5\", \"Topic5\", \"Topic5\", \"Topic5\", \"Topic5\", \"Topic5\", \"Topic5\", \"Topic5\", \"Topic5\", \"Topic5\", \"Topic5\", \"Topic5\", \"Topic5\", \"Topic5\", \"Topic5\", \"Topic5\", \"Topic5\", \"Topic5\", \"Topic5\", \"Topic5\", \"Topic5\", \"Topic5\", \"Topic5\", \"Topic5\", \"Topic5\", \"Topic6\", \"Topic6\", \"Topic6\", \"Topic6\", \"Topic6\", \"Topic6\", \"Topic6\", \"Topic6\", \"Topic6\", \"Topic6\", \"Topic6\", \"Topic6\", \"Topic6\", \"Topic6\", \"Topic6\", \"Topic6\", \"Topic6\", \"Topic6\", \"Topic6\", \"Topic6\", \"Topic6\", \"Topic6\", \"Topic6\", \"Topic6\", \"Topic6\", \"Topic6\", \"Topic6\", \"Topic6\", \"Topic6\", \"Topic6\", \"Topic6\", \"Topic6\", \"Topic6\", \"Topic6\", \"Topic6\", \"Topic6\", \"Topic6\", \"Topic6\", \"Topic6\", \"Topic6\", \"Topic6\", \"Topic6\", \"Topic6\", \"Topic6\", \"Topic6\", \"Topic6\", \"Topic6\", \"Topic6\", \"Topic6\", \"Topic6\", \"Topic6\", \"Topic6\", \"Topic6\", \"Topic7\", \"Topic7\", \"Topic7\", \"Topic7\", \"Topic7\", \"Topic7\", \"Topic7\", \"Topic7\", \"Topic7\", \"Topic7\", \"Topic7\", \"Topic7\", \"Topic7\", \"Topic7\", \"Topic7\", \"Topic7\", \"Topic7\", \"Topic7\", \"Topic7\", \"Topic7\", \"Topic7\", \"Topic7\", \"Topic7\", \"Topic7\", \"Topic7\", \"Topic7\", \"Topic7\", \"Topic7\", \"Topic7\", \"Topic7\", \"Topic7\", \"Topic7\", \"Topic7\", \"Topic7\", \"Topic7\", \"Topic7\", \"Topic7\", \"Topic7\", \"Topic7\", \"Topic7\", \"Topic7\", \"Topic7\", \"Topic7\", \"Topic7\", \"Topic7\", \"Topic7\", \"Topic7\", \"Topic8\", \"Topic8\", \"Topic8\", \"Topic8\", \"Topic8\", \"Topic8\", \"Topic8\", \"Topic8\", \"Topic8\", \"Topic8\", \"Topic8\", \"Topic8\", \"Topic8\", \"Topic8\", \"Topic8\", \"Topic8\", \"Topic8\", \"Topic8\", \"Topic8\", \"Topic8\", \"Topic8\", \"Topic8\", \"Topic8\", \"Topic8\", \"Topic8\", \"Topic8\", \"Topic8\", \"Topic8\", \"Topic8\", \"Topic8\", \"Topic8\", \"Topic8\", \"Topic8\", \"Topic8\", \"Topic8\", \"Topic8\", \"Topic8\", \"Topic8\", \"Topic8\", \"Topic8\", \"Topic8\", \"Topic8\", \"Topic8\", \"Topic8\", \"Topic8\", \"Topic8\", \"Topic8\", \"Topic8\", \"Topic8\", \"Topic8\", \"Topic8\", \"Topic8\", \"Topic8\", \"Topic8\", \"Topic8\", \"Topic9\", \"Topic9\", \"Topic9\", \"Topic9\", \"Topic9\", \"Topic9\", \"Topic9\", \"Topic9\", \"Topic9\", \"Topic9\", \"Topic9\", \"Topic9\", \"Topic9\", \"Topic9\", \"Topic9\", \"Topic9\", \"Topic9\", \"Topic9\", \"Topic9\", \"Topic9\", \"Topic9\", \"Topic9\", \"Topic9\", \"Topic9\", \"Topic9\", \"Topic9\", \"Topic9\", \"Topic9\", \"Topic9\", \"Topic9\", \"Topic9\", \"Topic9\", \"Topic9\", \"Topic9\", \"Topic9\", \"Topic9\", \"Topic9\", \"Topic9\", \"Topic9\", \"Topic10\", \"Topic10\", \"Topic10\", \"Topic10\", \"Topic10\", \"Topic10\", \"Topic10\", \"Topic10\", \"Topic10\", \"Topic10\", \"Topic10\", \"Topic10\", \"Topic10\", \"Topic10\", \"Topic10\", \"Topic10\", \"Topic10\", \"Topic10\", \"Topic10\", \"Topic10\", \"Topic10\", \"Topic10\", \"Topic10\", \"Topic10\", \"Topic10\", \"Topic10\", \"Topic10\", \"Topic10\", \"Topic10\", \"Topic10\", \"Topic10\", \"Topic10\", \"Topic10\", \"Topic10\", \"Topic10\", \"Topic10\", \"Topic10\", \"Topic10\", \"Topic10\", \"Topic10\", \"Topic10\", \"Topic10\", \"Topic10\", \"Topic10\", \"Topic10\", \"Topic10\", \"Topic10\"], \"logprob\": [30.0, 29.0, 28.0, 27.0, 26.0, 25.0, 24.0, 23.0, 22.0, 21.0, 20.0, 19.0, 18.0, 17.0, 16.0, 15.0, 14.0, 13.0, 12.0, 11.0, 10.0, 9.0, 8.0, 7.0, 6.0, 5.0, 4.0, 3.0, 2.0, 1.0, -4.2756, -4.3982, -4.4281, -4.4657, -4.5047, -4.7628, -4.7759, -3.7414, -4.7662, -4.8216, -4.9588, -5.0035, -5.0695, -5.0838, -5.1786, -5.211, -5.267, -5.2311, -5.3847, -5.4062, -5.4659, -4.7108, -5.5313, -5.5398, -5.5441, -5.5548, -5.5728, -5.5733, -5.603, -5.6178, -4.9865, -3.2106, -3.9561, -4.9604, -5.1801, -5.3191, -4.5075, -5.0911, -4.4381, -4.4302, -3.4116, -4.9846, -4.6626, -4.3632, -4.5373, -4.2745, -4.9577, -4.3373, -4.3288, -4.7296, -4.6567, -4.6754, -4.8456, -4.8233, -4.8545, -4.9225, -3.9189, -4.2172, -4.2803, -4.3399, -4.9211, -4.9652, -5.0129, -5.0537, -5.0894, -5.109, -5.1638, -5.1815, -5.1848, -5.1185, -5.3269, -5.3304, -4.4691, -5.3907, -5.3699, -5.5045, -5.5341, -5.5937, -5.6555, -5.661, -5.6745, -5.7121, -5.7226, -5.7369, -5.8219, -5.8079, -5.5628, -4.4386, -4.1905, -4.2911, -4.634, -4.743, -4.5836, -5.2955, -4.6413, -4.5861, -4.6348, -4.2745, -5.0112, -4.3415, -3.4716, -4.9975, -4.4609, -4.4372, -3.8344, -4.6074, -4.383, -4.2702, -4.7281, -4.6327, -4.7904, -4.6059, -4.8694, -4.8388, -4.9188, -2.7618, -3.5667, -4.4148, -4.4239, -4.6682, -4.5222, -4.8371, -4.9863, -4.9867, -5.0464, -5.144, -5.1767, -5.2646, -5.2647, -5.2527, -5.4997, -5.4998, -5.5601, -5.5606, -5.6347, -5.6565, -5.6632, -5.6788, -5.7239, -5.7386, -5.7438, -5.7545, -5.7805, -5.8034, -5.8538, -4.2224, -4.8133, -4.8252, -4.4927, -3.9113, -4.7441, -4.6312, -4.6948, -4.0541, -3.8633, -4.7566, -3.4545, -5.2672, -4.6173, -3.828, -4.0921, -4.7274, -4.5663, -4.8182, -4.2098, -4.1402, -4.7596, -4.3403, -4.6768, -4.6018, -4.7711, -4.8075, -4.0663, -4.624, -4.6669, -4.6845, -4.7236, -4.9571, -5.0836, -5.0844, -5.1897, -5.2175, -5.2322, -5.2499, -5.4297, -5.4529, -5.4344, -5.4764, -5.5025, -5.5554, -5.6152, -5.6268, -5.6423, -5.6709, -5.6711, -5.6736, -5.6923, -5.6949, -5.7356, -5.7472, -5.7899, -5.8692, -5.0725, -2.9545, -3.7127, -2.4958, -5.0079, -2.4247, -4.4198, -3.4009, -5.2262, -4.0505, -5.4393, -5.2003, -4.3471, -4.9286, -4.9233, -5.2086, -3.8602, -4.7168, -4.3219, -4.8392, -4.5518, -4.7565, -5.0654, -5.0559, -5.1388, -5.1723, -3.5931, -3.9852, -4.3196, -4.3475, -4.5476, -4.5757, -4.8271, -4.8918, -4.8916, -4.8949, -5.0239, -5.0305, -5.0609, -5.1179, -5.1196, -5.1391, -5.1413, -4.9582, -5.3138, -5.3291, -5.3925, -5.3934, -5.4375, -5.4627, -5.514, -5.5143, -5.5204, -5.5181, -5.5067, -5.5832, -4.8794, -4.4807, -4.801, -4.7826, -3.2374, -4.1528, -4.8181, -4.4394, -4.7151, -5.0746, -4.8946, -4.6004, -4.5428, -4.6082, -4.7617, -5.0527, -4.9099, -4.9737, -3.9566, -4.1908, -4.4176, -4.5585, -4.723, -4.8577, -4.914, -4.9672, -5.022, -5.0418, -5.0954, -5.1523, -4.897, -5.281, -5.2971, -5.3674, -5.395, -5.4074, -5.4253, -5.4454, -5.4553, -5.4634, -5.4886, -5.5357, -5.554, -5.6034, -5.6094, -5.6646, -5.6645, -5.6831, -4.2098, -5.4209, -3.6143, -4.7096, -3.8815, -4.7605, -4.2251, -3.3319, -3.5993, -4.7716, -4.6897, -5.0926, -4.4599, -4.9956, -4.5969, -4.7662, -3.7381, -4.4228, -4.6724, -4.3784, -4.5437, -4.4983, -4.8946, -3.9493, -4.0265, -4.059, -4.2868, -4.3571, -4.3781, -4.4451, -4.478, -4.5128, -4.5232, -4.5701, -4.7743, -4.8598, -4.8923, -5.006, -5.0242, -5.0282, -5.0737, -5.078, -5.0781, -5.0937, -5.1231, -5.1352, -5.1326, -5.1487, -5.1723, -5.2155, -5.2394, -5.2567, -5.3103, -4.9604, -3.8221, -3.7291, -4.8169, -3.9788, -4.686, -4.6377, -4.4962, -4.6768, -4.6019, -4.6782, -4.8331, -4.4887, -4.6301, -4.8286, -4.8464, -4.7604, -4.4754, -4.5566, -4.6198, -4.8366, -4.8615, -4.8902, -4.9352, -4.9503, -4.9658, -4.9804, -4.9929, -4.9922, -5.0542, -5.0657, -5.0797, -5.098, -5.1264, -5.1273, -5.1445, -5.1928, -5.2102, -5.2238, -5.2686, -5.277, -5.2847, -5.3342, -5.3939, -5.4103, -5.4571, -5.4607, -4.9634, -4.3443, -4.2881, -3.9236, -4.7102, -4.345, -4.397, -4.1059, -4.2644, -4.0675, -4.121, -4.5011, -4.0344, -4.9665, -4.0423, -4.1313, -4.4794, -4.9099, -4.5094, -4.713, -4.8918, -4.9415, -4.9303, -4.9307, -4.9414, -2.9986, -3.6293, -3.8447, -3.8886, -3.8954, -3.9358, -4.0236, -4.1096, -4.2036, -4.2078, -4.3581, -4.4162, -4.4177, -4.4397, -4.5058, -4.5612, -4.6973, -4.708, -4.7376, -4.8115, -4.8379, -4.9055, -4.9505, -4.9751, -4.9813, -4.9871, -4.993, -5.0038, -5.0507, -5.0851, -4.7749, -3.7805, -4.8, -4.5577, -4.5845, -4.8206, -4.8327, -4.9138, -4.8898, -3.968, -4.0036, -4.0372, -3.9511, -4.2214, -4.3642, -4.5516, -4.6403, -4.6619, -4.7392, -4.528, -4.7796, -4.8079, -4.8362, -4.8396, -4.9461, -5.0346, -5.0563, -5.0698, -5.083, -5.0952, -5.0963, -5.142, -5.1468, -5.1679, -5.2022, -5.2149, -5.2168, -5.2848, -5.29, -5.0233, -2.5891, -3.7387, -4.2342, -4.1408, -4.5254, -3.8875, -4.1155, -3.7804, -4.7898, -4.8646, -4.3766, -4.3762, -4.7303, -4.6982, -4.6341, -4.6591], \"loglift\": [30.0, 29.0, 28.0, 27.0, 26.0, 25.0, 24.0, 23.0, 22.0, 21.0, 20.0, 19.0, 18.0, 17.0, 16.0, 15.0, 14.0, 13.0, 12.0, 11.0, 10.0, 9.0, 8.0, 7.0, 6.0, 5.0, 4.0, 3.0, 2.0, 1.0, 1.8904, 1.8898, 1.8898, 1.8896, 1.8894, 1.8881, 1.888, 1.8879, 1.8878, 1.8877, 1.8868, 1.8865, 1.886, 1.8859, 1.8851, 1.8848, 1.8843, 1.8835, 1.8829, 1.8828, 1.8822, 1.8818, 1.8814, 1.8813, 1.8812, 1.8811, 1.8808, 1.8808, 1.8804, 1.8802, 1.8786, 1.8604, 1.852, 1.8664, 1.8678, 1.8685, 1.7926, 1.8199, 1.697, 1.6781, 1.3405, 1.7071, 1.535, 1.2932, 1.3772, 1.1567, 1.636, 0.779, 0.4543, 1.2082, 0.749, 0.6666, 1.2211, 0.3516, 0.3063, -0.0607, 2.0331, 2.0322, 2.032, 2.0317, 2.0282, 2.0278, 2.0275, 2.0271, 2.0268, 2.0266, 2.0261, 2.0259, 2.0259, 2.0256, 2.0243, 2.0242, 2.0242, 2.0235, 2.023, 2.022, 2.0216, 2.0207, 2.0197, 2.0196, 2.0194, 2.0187, 2.0186, 2.0183, 2.0167, 2.0153, 1.9997, 1.8512, 1.8114, 1.8144, 1.7949, 1.81, 1.748, 1.9228, 1.725, 1.7082, 1.6376, 1.4633, 1.7604, 1.3205, 0.7128, 1.7316, 1.2499, 1.2217, 0.561, 1.3304, 0.7333, 0.4818, 1.2343, 1.0237, 1.2694, 0.736, 1.4069, 0.7634, 1.4452, 2.0367, 2.0362, 2.0334, 2.0334, 2.0321, 2.0317, 2.0309, 2.0298, 2.0298, 2.0293, 2.0283, 2.028, 2.0271, 2.0266, 2.026, 2.0242, 2.0241, 2.0233, 2.0233, 2.0221, 2.0218, 2.0217, 2.0214, 2.0206, 2.0204, 2.0203, 2.0201, 2.0196, 2.0192, 2.0182, 2.0001, 2.0018, 1.9972, 1.9135, 1.8005, 1.898, 1.8782, 1.8763, 1.769, 1.7294, 1.8558, 1.4072, 1.9359, 1.7325, 1.473, 1.5102, 1.7248, 1.6313, 1.7729, 1.3436, 1.2017, 1.6971, 1.0654, 1.1989, 0.9297, 0.6521, 1.4515, 2.1634, 2.1605, 2.1602, 2.1601, 2.1598, 2.1579, 2.1566, 2.1566, 2.1554, 2.1551, 2.1549, 2.1544, 2.1523, 2.1519, 2.1519, 2.1516, 2.1512, 2.1503, 2.1493, 2.1491, 2.1488, 2.1482, 2.1482, 2.1482, 2.1478, 2.1478, 2.147, 2.1468, 2.1459, 2.1441, 2.1342, 2.0618, 2.0581, 1.8996, 2.0904, 1.7597, 1.9761, 1.7598, 2.0576, 1.7771, 2.0957, 2.0232, 1.6517, 1.8743, 1.8435, 1.9896, 1.0015, 1.4556, 0.4301, 1.0365, 0.2314, 0.6747, 1.5353, 1.0108, 0.983, 1.5224, 2.2696, 2.2684, 2.2668, 2.2667, 2.2654, 2.2652, 2.2632, 2.2626, 2.2626, 2.2626, 2.2613, 2.2612, 2.2608, 2.2602, 2.2602, 2.2599, 2.2599, 2.2598, 2.2576, 2.2574, 2.2564, 2.2564, 2.2556, 2.255, 2.2543, 2.2543, 2.2542, 2.254, 2.2539, 2.2531, 2.2482, 2.203, 2.2128, 2.2096, 2.0148, 1.9423, 2.0493, 1.812, 1.9094, 2.0398, 1.8244, 1.5012, 1.4074, 0.8774, 0.9747, 1.8322, -0.1268, 0.5577, 2.3464, 2.3454, 2.3441, 2.3431, 2.3418, 2.3401, 2.3399, 2.3393, 2.3387, 2.3385, 2.3378, 2.3371, 2.3367, 2.3352, 2.3349, 2.3338, 2.3333, 2.3331, 2.3328, 2.3325, 2.3323, 2.3318, 2.3317, 2.3308, 2.3304, 2.3294, 2.3292, 2.3281, 2.328, 2.3276, 2.3043, 2.3204, 2.1943, 2.2611, 2.1731, 2.2012, 2.0566, 1.843, 1.8849, 2.1344, 2.1089, 2.2211, 1.9977, 2.1539, 1.969, 1.9842, 1.045, 1.606, 1.7845, 1.4119, 1.2961, 1.0332, 0.5911, 2.4222, 2.4219, 2.4217, 2.4204, 2.42, 2.4199, 2.4194, 2.4191, 2.4189, 2.4188, 2.4184, 2.4166, 2.4157, 2.4153, 2.4139, 2.4137, 2.4137, 2.4131, 2.413, 2.413, 2.4128, 2.4123, 2.4122, 2.4121, 2.412, 2.4117, 2.411, 2.4106, 2.4104, 2.4095, 2.4059, 2.3005, 2.1677, 2.268, 1.8901, 2.1365, 2.0773, 1.6761, 1.7156, 1.5013, 1.5661, 1.8668, 0.9955, 0.5448, 1.4361, 1.4592, 0.7253, 2.6906, 2.6898, 2.6891, 2.6864, 2.686, 2.6856, 2.685, 2.6847, 2.6845, 2.6842, 2.6841, 2.6834, 2.683, 2.6828, 2.6826, 2.6822, 2.6817, 2.6817, 2.6814, 2.6805, 2.6801, 2.6799, 2.6789, 2.6788, 2.6786, 2.6775, 2.6761, 2.6757, 2.6745, 2.6745, 2.6711, 2.5789, 2.5647, 2.4333, 2.5511, 2.3279, 2.3286, 2.1835, 2.0634, 1.8836, 1.9181, 2.1716, 1.7559, 2.4739, 1.2099, 1.2919, 1.483, 2.3509, 1.3304, 1.2372, 1.8805, 2.2633, 2.0942, 1.1644, 1.2708, 2.7698, 2.7678, 2.7667, 2.7664, 2.7664, 2.7661, 2.7655, 2.7649, 2.7642, 2.7642, 2.7628, 2.7623, 2.7623, 2.762, 2.7613, 2.7607, 2.759, 2.7589, 2.7585, 2.7574, 2.757, 2.756, 2.7552, 2.7548, 2.7547, 2.7546, 2.7543, 2.7543, 2.7534, 2.7528, 2.7509, 2.4749, 2.3924, 1.3925, 0.1986, 1.5172, 0.7207, 1.5715, 0.7722, 2.8433, 2.8431, 2.8428, 2.8419, 2.8414, 2.8399, 2.8379, 2.8368, 2.8365, 2.8354, 2.8349, 2.8348, 2.8344, 2.834, 2.8339, 2.8319, 2.8302, 2.83, 2.8297, 2.8294, 2.8292, 2.8292, 2.8282, 2.8281, 2.8276, 2.8269, 2.8266, 2.8265, 2.8249, 2.8247, 2.8247, 2.7591, 2.7867, 2.6457, 2.6098, 2.6594, 2.285, 2.3218, 1.8786, 2.6076, 2.6079, 2.0325, 1.9251, 2.3231, 2.1373, 1.9112, 1.4426]}, \"token.table\": {\"Topic\": [6, 9, 1, 2, 4, 10, 3, 7, 8, 7, 3, 4, 2, 1, 2, 7, 10, 9, 8, 4, 2, 3, 1, 9, 7, 8, 1, 2, 4, 7, 4, 1, 2, 5, 6, 7, 8, 10, 3, 4, 8, 1, 6, 6, 6, 4, 7, 6, 8, 4, 7, 1, 2, 3, 4, 7, 10, 2, 1, 9, 2, 3, 5, 9, 4, 8, 5, 1, 2, 3, 5, 6, 7, 8, 9, 10, 1, 2, 3, 4, 5, 6, 7, 8, 10, 1, 2, 7, 2, 3, 8, 4, 6, 8, 6, 3, 4, 2, 5, 7, 8, 9, 6, 5, 10, 2, 9, 2, 4, 6, 8, 2, 1, 5, 8, 1, 2, 3, 4, 5, 6, 7, 8, 9, 10, 6, 1, 5, 1, 3, 4, 5, 1, 2, 1, 2, 3, 4, 9, 2, 4, 6, 10, 9, 2, 6, 7, 10, 1, 2, 7, 1, 2, 3, 4, 5, 6, 7, 8, 10, 5, 8, 7, 8, 3, 3, 3, 9, 3, 2, 5, 6, 7, 8, 3, 5, 5, 5, 5, 8, 9, 2, 3, 8, 10, 1, 3, 2, 3, 1, 10, 10, 1, 6, 7, 10, 1, 6, 1, 5, 9, 2, 6, 7, 10, 1, 7, 3, 6, 3, 6, 5, 8, 8, 10, 10, 5, 1, 2, 3, 4, 7, 1, 5, 7, 8, 1, 8, 4, 4, 7, 1, 1, 2, 3, 7, 1, 2, 6, 5, 7, 8, 2, 7, 1, 10, 5, 1, 2, 3, 5, 6, 7, 10, 8, 10, 9, 9, 3, 8, 2, 1, 2, 4, 5, 6, 7, 8, 9, 10, 10, 10, 2, 4, 7, 8, 7, 3, 3, 10, 7, 7, 8, 1, 3, 2, 3, 4, 8, 8, 3, 7, 10, 6, 6, 5, 8, 7, 9, 2, 4, 5, 8, 9, 7, 2, 4, 5, 9, 7, 4, 5, 2, 3, 6, 7, 9, 1, 10, 5, 5, 9, 6, 4, 5, 1, 2, 3, 4, 4, 2, 9, 10, 9, 2, 5, 6, 8, 9, 1, 5, 7, 6, 8, 5, 6, 8, 6, 6, 5, 3, 5, 6, 8, 1, 2, 3, 6, 7, 5, 8, 8, 1, 7, 4, 10, 5, 2, 4, 1, 4, 6, 10, 5, 1, 2, 3, 4, 5, 6, 7, 4, 2, 5, 9, 10, 4, 7, 3, 2, 5, 6, 7, 8, 10, 6, 1, 4, 8, 1, 7, 1, 1, 2, 6, 5, 8, 6, 10, 2, 5, 7, 1, 3, 10, 7, 4, 1, 2, 3, 4, 7, 1, 2, 3, 7, 5, 8, 5, 6, 7, 10, 1, 6, 8, 5, 1, 2, 3, 4, 5, 6, 7, 9, 10, 1, 2, 3, 3, 8, 3, 6, 2, 1, 2, 1, 2, 7, 5, 9, 10, 4, 10, 6, 8, 8, 2, 3, 7, 2, 1, 5, 9, 2, 4, 2, 3, 4, 6, 8, 4, 1, 3, 2, 4, 7, 9, 2, 7, 8, 10, 10, 3, 5, 5, 1, 10, 8, 1, 3, 7, 2, 2, 4, 6, 7, 3, 5, 1, 2, 5, 6, 8, 3, 4, 4, 3, 6, 9, 2, 2, 5, 1, 2, 3, 4, 5, 6, 7, 9, 10, 2, 1, 2, 1, 2, 3, 1, 10, 1, 1, 5, 9, 8, 2, 3, 10, 6, 5, 10, 1, 2, 3, 3, 1, 2, 6, 7, 3, 4, 5, 7, 8, 9, 1, 5, 10, 10, 4, 7, 1, 2, 3, 6, 7, 8, 1, 2, 3, 4, 9, 9, 4, 8, 2, 3, 4, 10, 1, 2, 5, 7, 8, 9, 1, 2, 4, 4, 4, 1, 2, 5, 7, 2, 2, 5, 6, 8, 9, 6, 2, 5, 6, 8, 9, 10, 5, 4, 2, 3, 4, 6, 9, 4, 2, 5, 9, 2, 4, 10, 6, 8, 3, 5, 6, 8, 9, 2, 5, 6, 8, 8, 5, 4, 8, 10, 1, 2, 9, 6, 5, 6, 8, 10, 2, 3, 4, 5, 6, 9, 6, 1, 2, 4, 1, 2, 3, 4, 5, 6, 8, 5, 9, 10, 10, 10, 10, 2, 8, 9, 7, 8, 7, 2, 9, 10, 3, 5, 6, 8, 9, 3, 6, 2, 1, 2, 3, 4, 8, 9, 1, 2, 3, 4, 6, 7, 2, 6, 5, 10, 1, 10, 9, 1, 2, 3, 5, 6, 8, 9, 9, 1, 2, 4, 5, 6, 9, 10, 5, 4, 4, 1, 2, 3, 4, 5, 6, 8, 9, 1, 2, 3, 6, 9, 7, 4, 9, 4, 1, 2, 3, 2, 3, 5, 9, 3, 10, 1, 5, 6, 10, 5, 6, 9, 10, 2, 2, 4, 6, 7, 2, 5, 6, 8, 10, 1, 8, 1, 2, 3, 6, 8, 9, 10, 5, 7, 3, 3, 3, 9, 7, 2, 1, 2, 3, 1, 2, 3, 4, 7, 9, 10, 4, 7, 10, 1, 2, 3, 8, 1, 1, 4, 7, 6, 1, 2, 3, 4, 7, 1, 1, 1, 3, 7, 1, 2, 4, 5, 6, 7, 8, 9, 10, 2, 6, 7, 3, 1, 2, 3, 4, 5, 6, 9, 7, 2, 1, 2, 3, 4, 1, 2, 5, 1, 2, 6, 7, 10, 7, 6, 10, 4, 2, 7, 1, 2, 4, 6, 5, 8, 1, 6, 5, 8, 1, 6, 7, 10, 1, 10, 10, 6, 4, 5, 6, 8, 4, 6, 8, 8, 9, 9, 4, 7, 9, 2, 4, 5, 1, 2, 6, 4, 2, 2, 6, 9, 6, 3, 1, 2, 4, 6, 7, 6, 5, 9, 2, 6, 1, 4, 7, 10, 5, 1, 8, 1, 3], \"Freq\": [0.9861204434639266, 0.9942391145913083, 0.9918481908599242, 0.9909595635323899, 0.9777306055109481, 0.9862022168955732, 0.9865774850454044, 0.9867068913730161, 0.9799591793087084, 0.996438798000901, 0.9738825099169823, 0.9876618146618243, 0.9895521288812948, 0.5047786523989499, 0.4951332004422821, 0.9908055839344612, 0.9844467692588392, 0.9841218747525174, 0.982818912586524, 0.9759408404284619, 0.9895413872195036, 0.9838021458010872, 0.9835785872743272, 0.9905647906214976, 0.9959187660739631, 0.9875794271207012, 0.20398179557610097, 0.0857314793001004, 0.6651580290525032, 0.04434386860350021, 0.9891675003694732, 0.026232971374366077, 0.052465942748732154, 0.16322737744050003, 0.34977295165821437, 0.14573872985758932, 0.2535853899522054, 0.011659098388607146, 0.9734268634723167, 0.44793957941073687, 0.543245872902383, 0.040046110297246265, 0.9553857742343037, 0.9946492073494125, 0.9786114351643942, 0.9861770957368364, 0.983828663051432, 0.7436874036429986, 0.24940736097783486, 0.013413561517919441, 0.9791899908081192, 0.5745901499131247, 0.21117415766037917, 0.016697491535936956, 0.17581476381957148, 0.020626313073804477, 0.0009822053844668799, 0.9850776833354493, 0.9936347019366663, 0.989932724949795, 0.737677964263805, 0.04965140144083303, 0.007093057348690433, 0.1986056057633321, 0.10335891598279803, 0.8871640288523498, 0.9873689202499899, 0.002628771231482687, 0.13669610403709972, 0.3154525477779225, 0.27339220807419945, 0.14195364650006512, 0.03943156847224031, 0.013143856157413435, 0.06571928078706718, 0.010515084925930748, 0.0019217643194566732, 0.02306117183348008, 0.24982936152936752, 0.1364452666814238, 0.1287582094035971, 0.1306799737230538, 0.0787923370977236, 0.2440640685709975, 0.0019217643194566732, 0.9928659700075381, 0.7623166754375464, 0.23683624867962608, 0.9862021926349701, 0.00560342154906233, 0.9869220414159625, 0.9934015605949973, 0.28972443218688865, 0.700167377784981, 0.9856764626151795, 0.9929166959590483, 0.9935831944415231, 0.041127043387611646, 0.2559016033006947, 0.06854507231268608, 0.5986269648641251, 0.03198770041258684, 0.9959595309399444, 0.20756747007853585, 0.7887563862984361, 0.9877550729571252, 0.9946425903373213, 0.9919685507519326, 0.1079983668903731, 0.8207875883668355, 0.06479902013422385, 0.9850837793542281, 0.8268023723499823, 0.061497697116940836, 0.10249616186156806, 0.3280201686284488, 0.2714649671407852, 0.06079684159923835, 0.07352176193396266, 0.08483280223149538, 0.0410025210785561, 0.012724920334724306, 0.07493564197115425, 0.048071921264514046, 0.002827760074383179, 0.9817136528224978, 0.990779447294261, 0.9961457061244388, 0.007728951276356017, 0.479194979134073, 0.30529357541606267, 0.20095273318525642, 0.994218722396106, 0.004723129322546822, 0.14139728480542382, 0.014249338778841162, 0.5316099467490741, 0.31129324716852996, 0.9962048489418993, 0.12792460284657006, 0.8605836918769258, 0.1732071690964671, 0.816548082883345, 0.9818361180328589, 0.9944709659156847, 0.03387513250490971, 0.05170414961275692, 0.9128456759217773, 0.040119383331053436, 0.185166384604862, 0.7715266025202584, 0.09409921811990334, 0.006136905529558914, 0.23320241012323872, 0.01841071658867674, 0.24752185635887616, 0.17183335482764958, 0.18206153071024778, 0.014319446235637464, 0.03273016282431421, 0.7725993767360532, 0.225139021732309, 0.9807995019864825, 0.9741023421547932, 0.9943826311889644, 0.9981967918722319, 0.01573423561050994, 0.9755226078516163, 0.983157481524226, 0.44811951947121564, 0.20428978093540712, 0.04612995053380161, 0.00658999293340023, 0.29654968200301035, 0.9941426048528014, 0.9950882732531713, 0.9796153858686053, 0.987454015340772, 0.017542282591245302, 0.9648255425184917, 0.9794112958748531, 0.030920878519145073, 0.9662774537232836, 0.9884847953101269, 0.9854974128321519, 0.0010288816350804805, 0.9980151860280662, 0.14235563033417034, 0.854133782005022, 0.40221260144084414, 0.5886038069866012, 0.9902187307476947, 0.9053634916491176, 0.07852642529609692, 0.013857604464017105, 0.9797541488274499, 0.9813073325856607, 0.992000982923514, 0.9948583236985394, 0.6465444114039048, 0.3481392984482565, 0.008951225485835136, 0.8593176466401731, 0.008951225485835136, 0.11636593131585678, 0.8044413093132952, 0.19062590268087565, 0.957757638344596, 0.03114658986486491, 0.766164877411931, 0.228613713421302, 0.792483190934404, 0.198120797733601, 0.992479259663988, 0.9873644067595512, 0.9716739344709892, 0.9840994304643813, 0.9803149367671331, 0.563297707998799, 0.323764570485291, 0.11055375577546522, 0.9943306660861786, 0.030940363893173697, 0.019337727433233563, 0.8818003709554504, 0.06574827327299411, 0.9933939492655596, 0.9761598865645887, 0.9720165640331953, 0.7217927046822397, 0.2725135721759476, 0.9971018894592866, 0.5484126366693969, 0.3639906880549094, 0.04610548715362186, 0.0412522779795564, 0.014454617274507102, 0.144546172745071, 0.8383678019214119, 0.9963713156767608, 0.991863552995032, 0.9882922862463286, 0.975736365821819, 0.9917222261331275, 0.9945000239930489, 0.9767631324374907, 0.9831241219710077, 0.04698434715816252, 0.006128393107586416, 0.03677035864551849, 0.04289875175310491, 0.6271388946763432, 0.2390073311958702, 0.002042797702528805, 0.9879152214154274, 0.9815565499609932, 0.9768541181766416, 0.9894096053829948, 0.9887841170225649, 0.9872158193011878, 0.9888981830190089, 0.23709552738134543, 0.055727581222111106, 0.14387848242799595, 0.09119058745436362, 0.2705320761146121, 0.03850269248073131, 0.04660852247667474, 0.07599215621196968, 0.03951592123022424, 0.9892378767416957, 0.9848497680981279, 0.0408089028394014, 0.8977958624668307, 0.0408089028394014, 0.019044154658387318, 0.9878201963857316, 0.9927387339650479, 0.9945187726414073, 0.9640431070500575, 0.9838866730836155, 0.9924139501080317, 0.9855842919097229, 0.9957020501019462, 0.9893866145436159, 0.22897324998332372, 0.003438036786536392, 0.7653069886830008, 0.002062822071921835, 0.9829418641563218, 0.9893245747103172, 0.9929947061425132, 0.99342610511185, 0.9966597782492215, 0.9812574197988769, 0.9354144064063473, 0.061005287374327, 0.7476132183198777, 0.2492044061066259, 0.06156634951579276, 0.9234952427368914, 0.15153949343489256, 0.7674742086863914, 0.07821393209542842, 0.974244689140199, 0.1319815861505697, 0.00879877241003798, 0.6291122273177157, 0.2287680826609875, 0.9905229699256718, 0.9706585976132248, 0.9906959083704089, 0.08955630196096208, 0.3100025837110226, 0.013777892609378782, 0.5717825432892194, 0.006888946304689391, 0.9833354036218175, 0.008126738872907583, 0.9858666222051437, 0.9750134948074048, 0.988866164856126, 0.9869137597399402, 0.9720167322628845, 0.022870981935597282, 0.21754644284317706, 0.02417182698257523, 0.4320714073135322, 0.3232981858919437, 0.9911357530016472, 0.24391044741433834, 0.18699800968432606, 0.5691243773001228, 0.9866424616047869, 0.0553370411816201, 0.4199104889664113, 0.039061440834084776, 0.2311135249350016, 0.250644245352044, 0.07087629667529054, 0.07087629667529054, 0.8505155601034864, 0.34244780372973616, 0.6506508270864987, 0.7186380608155699, 0.06396254991552193, 0.2144626673638088, 0.9950937902677554, 0.9896412481047012, 0.9835523444072878, 0.9790852216338612, 0.20531302943829005, 0.783231186375699, 0.007604186275492223, 0.15644154241737335, 0.020516923595721097, 0.787336942985797, 0.01795230814625596, 0.015387692696790823, 0.9876288625833523, 0.9835262814052615, 0.9800559243272582, 0.9967393834460978, 0.987734885393939, 0.839075710704681, 0.15874405337656128, 0.9962597079987553, 0.06351745849365403, 0.9368825127813969, 0.9807689478032056, 0.9952260525793354, 0.9871655533729274, 0.9923999509431181, 0.9829296003474286, 0.10504699308996852, 0.4560576773174243, 0.14604094161288306, 0.06661516634973613, 0.05380455743632534, 0.1562894287436117, 0.015372730696092953, 0.993257139916347, 0.35109386024936384, 0.6389908256538422, 0.007021877204987277, 0.9913152134686904, 0.9911901130768278, 0.9780914317448884, 0.9787295136794317, 0.0766609566903208, 0.696337023270414, 0.006388413057526733, 0.0191652391725802, 0.10221460892042773, 0.095826195862901, 0.9747886893267721, 0.24436065202707727, 0.7483544968329241, 0.9719746537661507, 0.9901512628479114, 0.0061884453927994465, 0.9968653194658109, 0.047580821587501425, 0.7969787615906488, 0.14869006746094193, 0.9864055975077975, 0.980857239465058, 0.8042659793047199, 0.18625106889161935, 0.17729501326917757, 0.3292621674999012, 0.4913604653460064, 0.02054323920078214, 0.883359285633632, 0.09244457640351963, 0.9785490420367415, 0.9735990291149681, 0.17106290541759417, 0.11404193694506279, 0.09603531532215814, 0.030011036038174416, 0.5852152027444012, 0.043001140836468874, 0.025800684501881326, 0.7625535641667147, 0.16627107790101298, 0.18779622398652115, 0.7945224860968202, 0.46206078109010373, 0.2613294581575177, 0.026511684160907593, 0.2461799243512848, 0.996330074580247, 0.9922942549568993, 0.9766764473522457, 0.9787119879490682, 0.31913475890741927, 0.10763716720546093, 0.37767427089635414, 0.0018883713544817708, 0.037767427089635416, 0.07175811147030729, 0.02077208489929948, 0.04909765521652604, 0.013218599481372396, 0.03883085070630273, 0.21842353522295285, 0.7377861634197519, 0.8331544078660723, 0.16410617124634758, 0.9831530868904468, 0.9887783209683457, 0.995855361849685, 0.19772363817618976, 0.8023016856764623, 0.11312534777845815, 0.79873351613275, 0.08570102104428648, 0.9912622222099242, 0.9779213292168984, 0.9899631364677809, 0.5049474524299286, 0.48916784454149326, 0.30846539371849285, 0.6906942511522774, 0.9815986545771272, 0.09171659003671702, 0.6670297457215782, 0.24179828282407212, 0.9865665540012503, 0.9962623919354432, 0.30440398800350066, 0.6877275284523533, 0.7483991722940639, 0.2431105591528488, 0.9901534620015477, 0.028272812017134382, 0.26859171416277666, 0.014136406008567191, 0.6926838944197924, 0.979466716374828, 0.9879288102992619, 0.9777442122086949, 0.8908802934162383, 0.09255899152376501, 0.9775559892725388, 0.9856660473424587, 0.9873998385432788, 0.9921985312115166, 0.9838994435072679, 0.9799288930781912, 0.9893084886920583, 0.9740777721337633, 0.9925717022390905, 0.9915957876921294, 0.9757437579414512, 0.019514875158829024, 0.9807204056031245, 0.2634977575728371, 0.7313407148960378, 0.9798130127019169, 0.988281603225144, 0.30316651421324986, 0.26304153439090794, 0.05795830418782717, 0.37004148058381964, 0.9923885041080749, 0.987858189467858, 0.9818777298479615, 0.5322259334193666, 0.027062335597594914, 0.20747790624822768, 0.22551946331329095, 0.9616265781230862, 0.03419116722215417, 0.9854367525108756, 0.3133080911327566, 0.680842582653875, 0.9726042251282486, 0.9979111208290525, 0.9923697493220864, 0.9862697045641733, 0.09248764035318977, 0.21734595482999594, 0.04624382017659488, 0.004624382017659488, 0.02774629210595693, 0.12948269649446567, 0.041619438158935394, 0.041619438158935394, 0.397696853518716, 0.9919370839522332, 0.21015340495619336, 0.7880752685857251, 0.292341680563353, 0.2728522351924628, 0.43408310144255446, 0.1678255269268838, 0.8279392661726268, 0.9944962156079434, 0.992484955614793, 0.941246861978414, 0.05536746246931847, 0.9741858729491925, 0.07873350661600376, 0.847899302018502, 0.06662065944431088, 0.9733289180650125, 0.057859234176115486, 0.9373195936530708, 0.09183267759783229, 0.19446919961893896, 0.7130537319361095, 0.9923565404692927, 0.9601401207066209, 0.025415473783410553, 0.011295766125960246, 0.0028239415314900615, 0.4280015151852453, 0.0055584612361720175, 0.05002615112554815, 0.06670153483406421, 0.15007845337664447, 0.30015690675328893, 0.026489012707835408, 0.3814417829928299, 0.588056082113946, 0.9885499066889405, 0.9833859177620953, 0.9902035213039012, 0.3057614839029044, 0.08299240277364547, 0.03931219078751628, 0.1354086571570005, 0.42369805626545326, 0.00873604239722584, 0.9274203719864871, 0.06806755023754034, 0.9944016405427742, 0.9720022469033007, 0.9938400952852359, 0.9908745263920282, 0.5554615755150404, 0.43696310607183175, 0.28043142926038966, 0.5907448960649192, 0.12872262326706413, 0.9890997807360947, 0.03913545469444786, 0.26683264564396264, 0.07471314078030955, 0.12807966990910208, 0.4589521505076158, 0.03201991747727552, 0.22172917313475848, 0.09790638813742583, 0.6767059180086785, 0.9787450523714142, 0.985035480205709, 0.23632740264800847, 0.5514306061786864, 0.08862277599300318, 0.11816370132400424, 0.9881551940937444, 0.14426059741504652, 0.05271060290165162, 0.39116815837541463, 0.38839391611743296, 0.024968180321834975, 0.9799265941082891, 0.0456139881140788, 0.228069940570394, 0.2313280825785425, 0.44310731310819407, 0.03909770409778183, 0.013032568032593944, 0.986271645450235, 0.9941608386476057, 0.07548281323956943, 0.0230286548866483, 0.8993969102952086, 0.9943121279916086, 0.9927624399881612, 0.98196930729941, 0.016292050280341596, 0.7983104637367382, 0.17921255308375755, 0.9798911352582879, 0.8285481142486778, 0.1677428697558673, 0.9709975140118173, 0.9914097751051779, 0.4036052769212806, 0.004748297375544478, 0.05697956850653373, 0.527061008685437, 0.004748297375544478, 0.6694047056159376, 0.031448543216856126, 0.13477947092938342, 0.1617353651152601, 0.9804633682568767, 0.9895403010579721, 0.9730868979724865, 0.977133686190115, 0.9727343699118601, 0.27551613896947585, 0.7209338969701286, 0.9945836029482963, 0.9716172782917807, 0.042377075463349935, 0.8560169243596686, 0.036726798734903275, 0.06497818237713657, 0.05755567333408681, 0.06235197944526071, 0.3357414277821731, 0.17266702000226045, 0.08153720388995632, 0.2829820605592602, 0.9909232751453209, 0.7003517394531673, 0.23761934017161032, 0.06253140530831851, 0.17767162032185205, 0.14805968360154337, 0.24958632378545884, 0.016921106697319242, 0.08460553348659622, 0.08460553348659622, 0.24112577043679922, 0.9720503642818017, 0.01056576482915002, 0.9815428838386182, 0.988978264196837, 0.9831561794723421, 0.9772469298381515, 0.9841267304021698, 0.9675006554280237, 0.9987499717037343, 0.9849842232580632, 0.9747839276977309, 0.9836027695115314, 0.2517778745890935, 0.7420821566836441, 0.9815812440549313, 0.30987496338663134, 0.20775707772512783, 0.4753763642863094, 0.007042612804241621, 0.9925791927622899, 0.9962433703982512, 0.9860929667619392, 0.9967200628796311, 0.5120165366537325, 0.14629043904392355, 0.02925808780878471, 0.3145244439444357, 0.9761317474511046, 0.994718044352593, 0.17007867704783866, 0.03231494863908935, 0.5680627813397812, 0.0901416988353545, 0.011905507393348707, 0.12585822101540062, 0.3043394990696354, 0.6956331407305952, 0.9927148291070441, 0.9898790462069499, 0.9698287059218863, 0.023463597723916606, 0.9840305450326745, 0.05567724497387252, 0.09850589495377446, 0.3297806048452449, 0.17988032991558814, 0.2676790623743871, 0.05781867747286762, 0.008565729995980388, 0.988023415696281, 0.04378900859307267, 0.44275553132995704, 0.024327226996151485, 0.0754144036880696, 0.021894504296536336, 0.012163613498075742, 0.3795047411399632, 0.9887840281073917, 0.9896367562518052, 0.9900383057706151, 0.026268480402523768, 0.02189040033543647, 0.49910112764795156, 0.1663670425493172, 0.013134240201261884, 0.10288488157655142, 0.03940272060378565, 0.12915336197907518, 0.09753633601791056, 0.032512112005970185, 0.871324601760001, 0.9121847245888202, 0.08128378733959785, 0.995475761816324, 0.9915915550834942, 0.9763135035941283, 0.9893307737316639, 0.367934073441381, 0.07092705030195297, 0.5541175804840076, 0.73036773464798, 0.12830784527599648, 0.13324276240199634, 0.9834431339497416, 0.9931096726186518, 0.9718658295063503, 0.5371158322787718, 0.06492608961611528, 0.0059023717832832065, 0.38955653769669163, 0.9872457751949185, 0.975966808183238, 0.01951933616366476, 0.9701894583363201, 0.9971937076687273, 0.32244502819251464, 0.16691272047612524, 0.11380412759735811, 0.39452097567084143, 0.05073160894072611, 0.11595796329308826, 0.03623686352909008, 0.014494745411636032, 0.7899636249341637, 0.9922742683887618, 0.9643279727400019, 0.04880479458859618, 0.4880479458859618, 0.06832671242403465, 0.10737054809491159, 0.029282876753157706, 0.1342131851186395, 0.12201198647149045, 0.2867423225421951, 0.7063652335795538, 0.9896036475606462, 0.9832991444498865, 0.983551825453183, 0.9911121291678348, 0.9897750789947314, 0.9918821621669817, 0.9674208049460191, 0.0297252202637045, 0.0027022927512458635, 0.4784927228135756, 0.03486991502285166, 0.13560522508886758, 0.22471723014726627, 0.01743495751142583, 0.050367655033007955, 0.060053742539355644, 0.5276936095128164, 0.32895186047552194, 0.14391643895804085, 0.9914156455731842, 0.20783691582185046, 0.20113249918243592, 0.5899886642684787, 0.9912277633912497, 0.03251876377375704, 0.4918463020780751, 0.471522074719477, 0.9825943760823649, 0.2542611348735306, 0.4649346466258845, 0.04358762312117667, 0.032690717340882504, 0.2034089078988245, 0.9794085409769382, 0.9953583485638161, 0.822426878560442, 0.16056905724275297, 0.01566527387734175, 0.5967966307207412, 0.08480794226031585, 0.0031410348985302164, 0.021987244289711515, 0.16019277982504104, 0.028269314086771948, 0.00942310469559065, 0.04083345368089281, 0.05339759327501368, 0.9744291695778745, 0.9750794038054094, 0.987705123124158, 0.9784486697698555, 0.04098056281540248, 0.1274950843145855, 0.7353734327430557, 0.011383489670945133, 0.022766979341890266, 0.06374754215729275, 0.9974193802011654, 0.9907355189243152, 0.9881409709419885, 0.005567929087780609, 0.2661470103959131, 0.06291759869192089, 0.6653675259897828, 0.9844488213505402, 0.9904944933294161, 0.9825625770321701, 0.2832952625251007, 0.01030164591000366, 0.07211152137002563, 0.19058044933506774, 0.4429707741301574, 0.9971001768605328, 0.9726328689701512, 0.9905417075522926, 0.986196995960436, 0.9895744706107102, 0.9901373339370861, 0.7744034159450183, 0.09912363724096235, 0.12390454655120293, 0.9691351081942765, 0.12040585871635041, 0.8749492400054797, 0.11453789264997005, 0.8781238436497705, 0.9428873673492492, 0.047144368367462455, 0.21438606714871386, 0.6011805099764633, 0.15291873321097071, 0.031483268602258675, 0.20883932890765858, 0.7906060308647075, 0.9749637001937453, 0.975135372585128, 0.5302585843312927, 0.16219674344251306, 0.2432951151637696, 0.056145026576254524, 0.9846976589217231, 0.7028497226148587, 0.2919529617015567, 0.8575040905415895, 0.1328527464219364, 0.9901260103657605, 0.5979793505724763, 0.24944281481023295, 0.1503490938582226, 0.024704578473754117, 0.9017171142920253, 0.07411373542126234, 0.9760922753174089, 0.011219451440429988, 0.011219451440429988, 0.994418176799938, 0.9865894845974019, 0.3133695429977399, 0.5673069312890118, 0.11886430941293581, 0.9787337015540577, 0.9729320091811362, 0.041140858022397836, 0.8319595733418229, 0.10970895472639423, 0.009142412893866187, 0.004571206446933093, 0.9930068898511247, 0.9880842678009082, 0.9940006273316083, 0.9630520787821034, 0.016322916589527177, 0.5572868498769223, 0.041796513740769176, 0.38081268074923025, 0.018576228329230744, 0.9908199378429733, 0.9975947848799496, 0.9881443067120949, 0.09115810967453046, 0.9001863330359883], \"Term\": [\"com\", \"covid\", \"ozon\", \"wildberries\", \"www\", \"\\u0430\\u0432\\u0438\\u0430\\u043a\\u043e\\u043c\\u043f\\u0430\\u043d\\u0438\\u044f\", \"\\u0430\\u0432\\u0438\\u0442\\u044c\", \"\\u0430\\u0432\\u0442\\u043e\\u0431\\u0443\\u0441\", \"\\u0430\\u0432\\u0442\\u043e\\u043c\\u043e\\u0431\\u0438\\u043b\\u044c\", \"\\u0430\\u043a\\u0442\", \"\\u0430\\u043b\\u0435\\u043a\\u0441\\u0430\\u043d\\u0434\\u0440\", \"\\u0430\\u043d\\u0430\\u043b\\u043e\\u0433\\u0438\\u0447\\u043d\\u044b\\u0439\", \"\\u0430\\u043f\\u0442\\u0435\\u043a\\u0430\", \"\\u0431\\u0430\\u043d\\u043a\", \"\\u0431\\u0430\\u043d\\u043a\", \"\\u0431\\u0438\\u043b\\u0435\\u0442\", \"\\u0431\\u043e\\u043b\\u0435\\u0437\\u043d\\u044c\", \"\\u0431\\u043e\\u043b\\u044c\\u043d\\u043e\\u0439\", \"\\u0431\\u043e\\u043b\\u044c\\u0448\\u0438\\u0439\", \"\\u0431\\u043e\\u0442\\u0438\\u043d\\u043e\\u043a\", \"\\u0431\\u0440\\u0430\\u043a\", \"\\u0431\\u0440\\u0430\\u0442\\u044c\", \"\\u0431\\u044b\\u0442\\u043e\\u0432\\u043e\\u0439\", \"\\u0432\\u0430\\u043a\\u0446\\u0438\\u043d\\u0430\", \"\\u0432\\u0430\\u043a\\u0446\\u0438\\u043d\\u0430\\u0446\\u0438\\u044f\", \"\\u0432\\u0430\\u0448\", \"\\u0432\\u0435\\u0440\\u043d\\u0443\\u0442\\u044c\", \"\\u0432\\u0435\\u0440\\u043d\\u0443\\u0442\\u044c\", \"\\u0432\\u0435\\u0440\\u043d\\u0443\\u0442\\u044c\", \"\\u0432\\u0435\\u0440\\u043d\\u0443\\u0442\\u044c\", \"\\u0432\\u0435\\u0441\", \"\\u0432\\u0435\\u0441\\u044c\", \"\\u0432\\u0435\\u0441\\u044c\", \"\\u0432\\u0435\\u0441\\u044c\", \"\\u0432\\u0435\\u0441\\u044c\", \"\\u0432\\u0435\\u0441\\u044c\", \"\\u0432\\u0435\\u0441\\u044c\", \"\\u0432\\u0435\\u0441\\u044c\", \"\\u0432\\u0435\\u0447\\u0435\\u0440\\u043e\\u043c\", \"\\u0432\\u0437\\u044f\\u0442\\u044c\", \"\\u0432\\u0437\\u044f\\u0442\\u044c\", \"\\u0432\\u0438\\u0434\", \"\\u0432\\u0438\\u0434\", \"\\u0432\\u0438\\u0434\\u0435\\u043e\", \"\\u0432\\u0438\\u043d\\u043e\", \"\\u0432\\u043b\\u043e\\u0436\\u0435\\u043d\\u0438\\u0435\", \"\\u0432\\u043d\\u0435\\u0441\\u0442\\u0438\", \"\\u0432\\u043e\\u0434\\u0430\", \"\\u0432\\u043e\\u0434\\u0430\", \"\\u0432\\u043e\\u0434\\u0438\\u0442\\u0435\\u043b\\u044c\", \"\\u0432\\u043e\\u0434\\u0438\\u0442\\u0435\\u043b\\u044c\", \"\\u0432\\u043e\\u0437\\u0432\\u0440\\u0430\\u0442\", \"\\u0432\\u043e\\u0437\\u0432\\u0440\\u0430\\u0442\", \"\\u0432\\u043e\\u0437\\u0432\\u0440\\u0430\\u0442\", \"\\u0432\\u043e\\u0437\\u0432\\u0440\\u0430\\u0442\", \"\\u0432\\u043e\\u0437\\u0432\\u0440\\u0430\\u0442\", \"\\u0432\\u043e\\u0437\\u0432\\u0440\\u0430\\u0442\", \"\\u0432\\u043e\\u0437\\u0432\\u0440\\u0430\\u0442\\u0438\\u0442\\u044c\", \"\\u0432\\u043e\\u0437\\u0432\\u0440\\u0430\\u0449\\u0430\\u0442\\u044c\", \"\\u0432\\u043e\\u0437\\u043c\\u043e\\u0436\\u043d\\u043e\", \"\\u0432\\u043e\\u0437\\u043c\\u043e\\u0436\\u043d\\u043e\\u0441\\u0442\\u044c\", \"\\u0432\\u043e\\u0437\\u043c\\u043e\\u0436\\u043d\\u043e\\u0441\\u0442\\u044c\", \"\\u0432\\u043e\\u0437\\u043c\\u043e\\u0436\\u043d\\u043e\\u0441\\u0442\\u044c\", \"\\u0432\\u043e\\u0437\\u043c\\u043e\\u0436\\u043d\\u043e\\u0441\\u0442\\u044c\", \"\\u0432\\u043e\\u043e\\u0431\\u0449\\u0435\", \"\\u0432\\u043e\\u043e\\u0431\\u0449\\u0435\", \"\\u0432\\u0440\\u0430\\u0447\", \"\\u0432\\u0440\\u0435\\u043c\\u044f\", \"\\u0432\\u0440\\u0435\\u043c\\u044f\", \"\\u0432\\u0440\\u0435\\u043c\\u044f\", \"\\u0432\\u0440\\u0435\\u043c\\u044f\", \"\\u0432\\u0440\\u0435\\u043c\\u044f\", \"\\u0432\\u0440\\u0435\\u043c\\u044f\", \"\\u0432\\u0440\\u0435\\u043c\\u044f\", \"\\u0432\\u0440\\u0435\\u043c\\u044f\", \"\\u0432\\u0440\\u0435\\u043c\\u044f\", \"\\u0432\\u0441\\u0451\", \"\\u0432\\u0441\\u0451\", \"\\u0432\\u0441\\u0451\", \"\\u0432\\u0441\\u0451\", \"\\u0432\\u0441\\u0451\", \"\\u0432\\u0441\\u0451\", \"\\u0432\\u0441\\u0451\", \"\\u0432\\u0441\\u0451\", \"\\u0432\\u0441\\u0451\", \"\\u0432\\u0442\\u0431\", \"\\u0432\\u044b\\u0434\\u0430\\u0442\\u044c\", \"\\u0432\\u044b\\u0434\\u0430\\u0442\\u044c\", \"\\u0432\\u044b\\u0434\\u0430\\u0447\\u0430\", \"\\u0432\\u044b\\u0434\\u0430\\u0447\\u0430\", \"\\u0432\\u044b\\u0437\\u0432\\u0430\\u0442\\u044c\", \"\\u0432\\u044b\\u0439\\u0442\\u0438\", \"\\u0432\\u044b\\u043f\\u043e\\u043b\\u043d\\u044f\\u0442\\u044c\", \"\\u0432\\u044b\\u043f\\u043e\\u043b\\u043d\\u044f\\u0442\\u044c\", \"\\u0433\\u0430\\u0437\", \"\\u0433\\u0430\\u0440\\u0430\\u043d\\u0442\\u0438\\u0439\\u043d\\u044b\\u0439\", \"\\u0433\\u0430\\u0440\\u0430\\u043d\\u0442\\u0438\\u044f\", \"\\u0433\\u043e\\u0440\\u043e\\u0434\", \"\\u0433\\u043e\\u0440\\u043e\\u0434\", \"\\u0433\\u043e\\u0440\\u043e\\u0434\", \"\\u0433\\u043e\\u0440\\u043e\\u0434\", \"\\u0433\\u043e\\u0440\\u043e\\u0434\", \"\\u0433\\u043e\\u0440\\u044f\\u0447\\u0438\\u0439\", \"\\u0433\\u043e\\u0441\\u0443\\u0434\\u0430\\u0440\\u0441\\u0442\\u0432\\u0435\\u043d\\u043d\\u044b\\u0439\", \"\\u0433\\u043e\\u0441\\u0443\\u0434\\u0430\\u0440\\u0441\\u0442\\u0432\\u0435\\u043d\\u043d\\u044b\\u0439\", \"\\u0433\\u043e\\u0441\\u0443\\u0441\\u043b\\u0443\\u0433\\u0430\", \"\\u0433\\u0440\\u0430\\u0436\\u0434\\u0430\\u043d\\u0438\\u043d\", \"\\u0433\\u0440\\u0443\\u0431\\u044b\\u0439\", \"\\u0434\\u0430\\u0432\\u0430\\u0442\\u044c\", \"\\u0434\\u0430\\u0432\\u0430\\u0442\\u044c\", \"\\u0434\\u0430\\u0432\\u0430\\u0442\\u044c\", \"\\u0434\\u0430\\u043b\\u044c\\u043d\\u0435\\u0439\\u0448\\u0438\\u0439\", \"\\u0434\\u0430\\u043d\\u043d\\u044b\\u0435\", \"\\u0434\\u0430\\u043d\\u043d\\u044b\\u0435\", \"\\u0434\\u0430\\u043d\\u043d\\u044b\\u0435\", \"\\u0434\\u0430\\u0442\\u044c\", \"\\u0434\\u0430\\u0442\\u044c\", \"\\u0434\\u0430\\u0442\\u044c\", \"\\u0434\\u0430\\u0442\\u044c\", \"\\u0434\\u0430\\u0442\\u044c\", \"\\u0434\\u0430\\u0442\\u044c\", \"\\u0434\\u0430\\u0442\\u044c\", \"\\u0434\\u0430\\u0442\\u044c\", \"\\u0434\\u0430\\u0442\\u044c\", \"\\u0434\\u0430\\u0442\\u044c\", \"\\u0434\\u0432\\u0435\\u0440\\u044c\", \"\\u0434\\u0435\\u0439\\u0441\\u0442\\u0432\\u043e\\u0432\\u0430\\u0442\\u044c\", \"\\u0434\\u0435\\u043a\\u0430\\u0431\\u0440\\u044c\", \"\\u0434\\u0435\\u043b\\u0430\\u0442\\u044c\", \"\\u0434\\u0435\\u043b\\u0430\\u0442\\u044c\", \"\\u0434\\u0435\\u043b\\u0430\\u0442\\u044c\", \"\\u0434\\u0435\\u043b\\u0430\\u0442\\u044c\", \"\\u0434\\u0435\\u043d\\u0435\\u0436\\u043d\\u044b\\u0439\", \"\\u0434\\u0435\\u043d\\u0435\\u0436\\u043d\\u044b\\u0439\", \"\\u0434\\u0435\\u043d\\u044c\\u0433\\u0430\", \"\\u0434\\u0435\\u043d\\u044c\\u0433\\u0430\", \"\\u0434\\u0435\\u043d\\u044c\\u0433\\u0430\", \"\\u0434\\u0435\\u043d\\u044c\\u0433\\u0430\", \"\\u0434\\u0435\\u0442\\u0441\\u043a\\u0438\\u0439\", \"\\u0434\\u0435\\u0444\\u0435\\u043a\\u0442\", \"\\u0434\\u0435\\u0444\\u0435\\u043a\\u0442\", \"\\u0434\\u0435\\u044f\\u0442\\u0435\\u043b\\u044c\\u043d\\u043e\\u0441\\u0442\\u044c\", \"\\u0434\\u0435\\u044f\\u0442\\u0435\\u043b\\u044c\\u043d\\u043e\\u0441\\u0442\\u044c\", \"\\u0434\\u0438\\u0432\\u0430\\u043d\", \"\\u0434\\u0438\\u0440\\u0435\\u043a\\u0442\\u043e\\u0440\", \"\\u0434\\u043e\\u0433\\u043e\\u0432\\u043e\\u0440\", \"\\u0434\\u043e\\u0433\\u043e\\u0432\\u043e\\u0440\", \"\\u0434\\u043e\\u0433\\u043e\\u0432\\u043e\\u0440\", \"\\u0434\\u043e\\u043a\\u0443\\u043c\\u0435\\u043d\\u0442\", \"\\u0434\\u043e\\u043a\\u0443\\u043c\\u0435\\u043d\\u0442\", \"\\u0434\\u043e\\u043a\\u0443\\u043c\\u0435\\u043d\\u0442\", \"\\u0434\\u043e\\u043b\\u0436\\u043d\\u044b\\u0439\", \"\\u0434\\u043e\\u043b\\u0436\\u043d\\u044b\\u0439\", \"\\u0434\\u043e\\u043b\\u0436\\u043d\\u044b\\u0439\", \"\\u0434\\u043e\\u043b\\u0436\\u043d\\u044b\\u0439\", \"\\u0434\\u043e\\u043b\\u0436\\u043d\\u044b\\u0439\", \"\\u0434\\u043e\\u043b\\u0436\\u043d\\u044b\\u0439\", \"\\u0434\\u043e\\u043b\\u0436\\u043d\\u044b\\u0439\", \"\\u0434\\u043e\\u043b\\u0436\\u043d\\u044b\\u0439\", \"\\u0434\\u043e\\u043b\\u0436\\u043d\\u044b\\u0439\", \"\\u0434\\u043e\\u043c\", \"\\u0434\\u043e\\u043c\", \"\\u0434\\u043e\\u043f\\u043e\\u043b\\u043d\\u0438\\u0442\\u0435\\u043b\\u044c\\u043d\\u044b\\u0439\", \"\\u0434\\u043e\\u0440\\u043e\\u0433\\u0430\", \"\\u0434\\u043e\\u0441\\u0442\\u0430\\u0432\\u0438\\u0442\\u044c\", \"\\u0434\\u043e\\u0441\\u0442\\u0430\\u0432\\u043a\\u0430\", \"\\u0435\\u0434\\u0430\", \"\\u0435\\u0434\\u0430\", \"\\u0435\\u0445\\u0430\\u0442\\u044c\", \"\\u0436\\u0430\\u043b\\u043e\\u0431\\u0430\", \"\\u0436\\u0430\\u043b\\u043e\\u0431\\u0430\", \"\\u0436\\u0430\\u043b\\u043e\\u0431\\u0430\", \"\\u0436\\u0430\\u043b\\u043e\\u0431\\u0430\", \"\\u0436\\u0430\\u043b\\u043e\\u0431\\u0430\", \"\\u0436\\u0434\\u0430\\u0442\\u044c\", \"\\u0436\\u0438\\u043b\\u0435\\u0446\", \"\\u0436\\u0438\\u043b\\u0438\\u0449\\u043d\\u044b\\u0439\", \"\\u0436\\u0438\\u043b\\u043e\\u0439\", \"\\u0436\\u0438\\u0442\\u044c\", \"\\u0436\\u0438\\u0442\\u044c\", \"\\u0437\\u0430\\u0431\\u043e\\u043b\\u0435\\u0442\\u044c\", \"\\u0437\\u0430\\u0431\\u0440\\u0430\\u0442\\u044c\", \"\\u0437\\u0430\\u0431\\u0440\\u0430\\u0442\\u044c\", \"\\u0437\\u0430\\u0432\\u0435\\u0434\\u0435\\u043d\\u0438\\u0435\", \"\\u0437\\u0430\\u0434\\u0435\\u0440\\u0436\\u043a\\u0430\", \"\\u0437\\u0430\\u043a\\u0430\\u0437\", \"\\u0437\\u0430\\u043a\\u0430\\u0437\", \"\\u0437\\u0430\\u043a\\u0430\\u0437\\u0430\\u0442\\u044c\", \"\\u0437\\u0430\\u043a\\u0430\\u0437\\u0430\\u0442\\u044c\", \"\\u0437\\u0430\\u043a\\u043b\\u044e\\u0447\\u0435\\u043d\\u0438\\u0435\", \"\\u0437\\u0430\\u043a\\u043b\\u044e\\u0447\\u0435\\u043d\\u0438\\u0435\", \"\\u0437\\u0430\\u043a\\u043b\\u044e\\u0447\\u0438\\u0442\\u044c\", \"\\u0437\\u0430\\u043a\\u043e\\u043d\", \"\\u0437\\u0430\\u043a\\u043e\\u043d\", \"\\u0437\\u0430\\u043a\\u043e\\u043d\", \"\\u0437\\u0430\\u043a\\u043e\\u043d\\u043e\\u0434\\u0430\\u0442\\u0435\\u043b\\u044c\\u0441\\u0442\\u0432\\u043e\", \"\\u0437\\u0430\\u043f\\u0440\\u043e\\u0441\", \"\\u0437\\u0430\\u0440\\u0435\\u0433\\u0438\\u0441\\u0442\\u0440\\u0438\\u0440\\u043e\\u0432\\u0430\\u0442\\u044c\", \"\\u0437\\u0430\\u0449\\u0438\\u0442\\u0430\", \"\\u0437\\u0430\\u044f\\u0432\\u0438\\u0442\\u044c\", \"\\u0437\\u0430\\u044f\\u0432\\u0438\\u0442\\u044c\", \"\\u0437\\u0430\\u044f\\u0432\\u043a\\u0430\", \"\\u0437\\u0430\\u044f\\u0432\\u043a\\u0430\", \"\\u0437\\u0430\\u044f\\u0432\\u043a\\u0430\", \"\\u0437\\u0430\\u044f\\u0432\\u043a\\u0430\", \"\\u0437\\u0430\\u044f\\u0432\\u043b\\u0435\\u043d\\u0438\\u0435\", \"\\u0437\\u0430\\u044f\\u0432\\u043b\\u0435\\u043d\\u0438\\u0435\", \"\\u0437\\u0432\\u043e\\u043d\\u0438\\u0442\\u044c\", \"\\u0437\\u0432\\u043e\\u043d\\u0438\\u0442\\u044c\", \"\\u0437\\u0432\\u043e\\u043d\\u043e\\u043a\", \"\\u0437\\u0432\\u043e\\u043d\\u043e\\u043a\", \"\\u0437\\u0434\\u043e\\u0440\\u043e\\u0432\\u044c\\u0435\", \"\\u0437\\u0434\\u043e\\u0440\\u043e\\u0432\\u044c\\u0435\", \"\\u0437\\u043e\\u043d\\u0430\", \"\\u0438\\u0437\\u043c\\u0435\\u043d\\u0438\\u0442\\u044c\\u0441\\u044f\", \"\\u0438\\u0437\\u043d\\u0430\\u0447\\u0430\\u043b\\u044c\\u043d\\u043e\", \"\\u0438\\u043c\\u0443\\u0449\\u0435\\u0441\\u0442\\u0432\\u043e\", \"\\u0438\\u043d\\u043d\\u0430\", \"\\u0438\\u043d\\u0442\\u0435\\u0440\\u043d\\u0435\\u0442\", \"\\u0438\\u043d\\u0442\\u0435\\u0440\\u043d\\u0435\\u0442\", \"\\u0438\\u043d\\u0442\\u0435\\u0440\\u043d\\u0435\\u0442\", \"\\u0438\\u043d\\u0444\\u0435\\u043a\\u0446\\u0438\\u044f\", \"\\u0438\\u043d\\u0444\\u043e\\u0440\\u043c\\u0430\\u0446\\u0438\\u044f\", \"\\u0438\\u043d\\u0444\\u043e\\u0440\\u043c\\u0430\\u0446\\u0438\\u044f\", \"\\u0438\\u043d\\u0444\\u043e\\u0440\\u043c\\u0430\\u0446\\u0438\\u044f\", \"\\u0438\\u043d\\u0444\\u043e\\u0440\\u043c\\u0430\\u0446\\u0438\\u044f\", \"\\u0438\\u0441\\u043f\\u043e\\u043b\\u043d\\u0438\\u0442\\u0435\\u043b\\u044c\", \"\\u0438\\u0441\\u043f\\u043e\\u0440\\u0442\\u0438\\u0442\\u044c\", \"\\u0438\\u0441\\u043f\\u0440\\u0430\\u0432\\u043d\\u044b\\u0439\", \"\\u0438\\u0442\\u043e\\u0433\", \"\\u0438\\u0442\\u043e\\u0433\", \"\\u043a\\u0430\\u0431\\u0438\\u043d\\u0435\\u0442\", \"\\u043a\\u0430\\u0440\\u0442\\u0430\", \"\\u043a\\u0430\\u0440\\u0442\\u0430\", \"\\u043a\\u0430\\u0440\\u0442\\u0430\", \"\\u043a\\u0430\\u0440\\u0442\\u0430\", \"\\u043a\\u0430\\u0447\\u0435\\u0441\\u0442\\u0432\\u043e\", \"\\u043a\\u0430\\u0447\\u0435\\u0441\\u0442\\u0432\\u043e\", \"\\u043a\\u0430\\u0447\\u0435\\u0441\\u0442\\u0432\\u043e\", \"\\u043a\\u0432\\u0430\\u0440\\u0442\\u0438\\u0440\\u0430\", \"\\u043a\\u0432\\u0438\\u0442\\u0430\\u043d\\u0446\\u0438\\u044f\", \"\\u043a\\u043b\\u0430\\u0441\\u0441\", \"\\u043a\\u043d\\u0438\\u0433\\u0430\", \"\\u043a\\u043e\\u0432\\u0438\\u0434\", \"\\u043a\\u043e\\u0434\", \"\\u043a\\u043e\\u043c\\u043c\\u0435\\u043d\\u0442\\u0430\\u0440\\u0438\\u0439\", \"\\u043a\\u043e\\u043c\\u043c\\u0443\\u043d\\u0430\\u043b\\u044c\\u043d\\u044b\\u0439\", \"\\u043a\\u043e\\u043c\\u043f\\u0430\\u043d\\u0438\\u044f\", \"\\u043a\\u043e\\u043c\\u043f\\u0430\\u043d\\u0438\\u044f\", \"\\u043a\\u043e\\u043c\\u043f\\u0430\\u043d\\u0438\\u044f\", \"\\u043a\\u043e\\u043c\\u043f\\u0430\\u043d\\u0438\\u044f\", \"\\u043a\\u043e\\u043c\\u043f\\u0430\\u043d\\u0438\\u044f\", \"\\u043a\\u043e\\u043c\\u043f\\u0430\\u043d\\u0438\\u044f\", \"\\u043a\\u043e\\u043c\\u043f\\u0430\\u043d\\u0438\\u044f\", \"\\u043a\\u043e\\u043d\\u0435\\u0446\", \"\\u043a\\u043e\\u043d\\u043a\\u0440\\u0435\\u0442\\u043d\\u044b\\u0439\", \"\\u043a\\u043e\\u043d\\u0442\\u0430\\u043a\\u0442\", \"\\u043a\\u043e\\u0440\\u043e\\u0431\\u043a\\u0430\", \"\\u043a\\u043e\\u0440\\u043e\\u043d\\u0430\\u0432\\u0438\\u0440\\u0443\\u0441\", \"\\u043a\\u043e\\u0440\\u043f\\u0443\\u0441\", \"\\u043a\\u043e\\u0441\\u0442\\u044e\\u043c\", \"\\u043a\\u043e\\u0442\\u043e\\u0440\\u044b\\u0439\", \"\\u043a\\u043e\\u0442\\u043e\\u0440\\u044b\\u0439\", \"\\u043a\\u043e\\u0442\\u043e\\u0440\\u044b\\u0439\", \"\\u043a\\u043e\\u0442\\u043e\\u0440\\u044b\\u0439\", \"\\u043a\\u043e\\u0442\\u043e\\u0440\\u044b\\u0439\", \"\\u043a\\u043e\\u0442\\u043e\\u0440\\u044b\\u0439\", \"\\u043a\\u043e\\u0442\\u043e\\u0440\\u044b\\u0439\", \"\\u043a\\u043e\\u0442\\u043e\\u0440\\u044b\\u0439\", \"\\u043a\\u043e\\u0442\\u043e\\u0440\\u044b\\u0439\", \"\\u043a\\u0440\\u0435\\u0434\\u0438\\u0442\", \"\\u043a\\u0440\\u0435\\u0434\\u0438\\u0442\\u043d\\u044b\\u0439\", \"\\u043a\\u0443\\u043f\\u0438\\u0442\\u044c\", \"\\u043a\\u0443\\u043f\\u0438\\u0442\\u044c\", \"\\u043a\\u0443\\u043f\\u0438\\u0442\\u044c\", \"\\u043a\\u0443\\u043f\\u0438\\u0442\\u044c\", \"\\u043a\\u0443\\u0440\\u0441\", \"\\u043a\\u0443\\u0440\\u044c\\u0435\\u0440\", \"\\u043b\\u0438\\u043d\\u0438\\u044f\", \"\\u043b\\u0438\\u0441\\u0442\", \"\\u043b\\u0438\\u0446\\u0435\\u043d\\u0437\\u0438\\u044f\", \"\\u043b\\u0438\\u0446\\u043e\", \"\\u043b\\u0438\\u0447\\u043d\\u043e\", \"\\u043b\\u0438\\u0447\\u043d\\u044b\\u0439\", \"\\u043b\\u044e\\u0431\\u043e\\u0439\", \"\\u043c\\u0430\\u0433\\u0430\\u0437\\u0438\\u043d\", \"\\u043c\\u0430\\u0433\\u0430\\u0437\\u0438\\u043d\", \"\\u043c\\u0430\\u0433\\u0430\\u0437\\u0438\\u043d\", \"\\u043c\\u0430\\u0433\\u0430\\u0437\\u0438\\u043d\", \"\\u043c\\u0430\\u043b\\u0435\\u043d\\u044c\\u043a\\u0438\\u0439\", \"\\u043c\\u0430\\u0440\\u043a\\u0435\\u0442\", \"\\u043c\\u0430\\u0440\\u0448\\u0440\\u0443\\u0442\", \"\\u043c\\u0430\\u0441\\u043a\\u0430\", \"\\u043c\\u0430\\u0441\\u0442\\u0435\\u0440\", \"\\u043c\\u0430\\u0442\\u0435\\u0440\\u0438\\u0430\\u043b\", \"\\u043c\\u0430\\u0448\\u0438\\u043d\\u0430\", \"\\u043c\\u0430\\u0448\\u0438\\u043d\\u0430\", \"\\u043c\\u0435\\u0434\\u0438\\u0446\\u0438\\u043d\\u0441\\u043a\\u0438\\u0439\", \"\\u043c\\u0435\\u0434\\u0438\\u0446\\u0438\\u043d\\u0441\\u043a\\u0438\\u0439\", \"\\u043c\\u0435\\u043d\\u0435\\u0434\\u0436\\u0435\\u0440\", \"\\u043c\\u0435\\u043d\\u0435\\u0434\\u0436\\u0435\\u0440\", \"\\u043c\\u0435\\u0440\\u0430\", \"\\u043c\\u0435\\u0440\\u0430\", \"\\u043c\\u0435\\u0440\\u0430\", \"\\u043c\\u0435\\u0440\\u043e\\u043f\\u0440\\u0438\\u044f\\u0442\\u0438\\u0435\", \"\\u043c\\u0435\\u0441\\u0442\\u043e\", \"\\u043c\\u0435\\u0441\\u0442\\u043e\", \"\\u043c\\u0435\\u0441\\u0442\\u043e\", \"\\u043c\\u0435\\u0441\\u0442\\u043e\", \"\\u043c\\u0438\\u043d\\u0443\\u0442\\u0430\", \"\\u043c\\u0438\\u0440\", \"\\u043c\\u043d\\u043e\\u0433\\u043e\\u043a\\u0432\\u0430\\u0440\\u0442\\u0438\\u0440\\u043d\\u044b\\u0439\", \"\\u043c\\u043e\\u0441\\u043a\\u0432\\u0430\", \"\\u043c\\u043e\\u0441\\u043a\\u0432\\u0430\", \"\\u043c\\u043e\\u0441\\u043a\\u0432\\u0430\", \"\\u043c\\u043e\\u0441\\u043a\\u0432\\u0430\", \"\\u043c\\u043e\\u0441\\u043a\\u0432\\u0430\", \"\\u043c\\u0442\\u0441\", \"\\u043c\\u0442\\u0441\", \"\\u043c\\u0443\\u0436\", \"\\u043c\\u0443\\u0441\\u043e\\u0440\", \"\\u043d\\u0430\\u0434\\u0437\\u043e\\u0440\", \"\\u043d\\u0430\\u0434\\u043b\\u0435\\u0436\\u0430\\u0449\\u0438\\u0439\", \"\\u043d\\u0430\\u0437\\u0430\\u0434\", \"\\u043d\\u0430\\u0437\\u0430\\u0434\", \"\\u043d\\u0430\\u043f\\u0438\\u0441\\u0430\\u0442\\u044c\", \"\\u043d\\u0430\\u043f\\u0438\\u0441\\u0430\\u0442\\u044c\", \"\\u043d\\u0430\\u043f\\u0438\\u0441\\u0430\\u0442\\u044c\", \"\\u043d\\u0430\\u043f\\u0438\\u0441\\u0430\\u0442\\u044c\", \"\\u043d\\u0430\\u043f\\u0440\\u0438\\u043c\\u0435\\u0440\", \"\\u043d\\u0430\\u0440\\u0443\\u0448\\u0435\\u043d\\u0438\\u0435\", \"\\u043d\\u0430\\u0440\\u0443\\u0448\\u0435\\u043d\\u0438\\u0435\", \"\\u043d\\u0430\\u0440\\u0443\\u0448\\u0435\\u043d\\u0438\\u0435\", \"\\u043d\\u0430\\u0443\\u0448\\u043d\\u0438\\u043a\", \"\\u043d\\u0430\\u0445\\u043e\\u0434\\u0438\\u0442\\u044c\\u0441\\u044f\", \"\\u043d\\u0430\\u0445\\u043e\\u0434\\u0438\\u0442\\u044c\\u0441\\u044f\", \"\\u043d\\u0430\\u0445\\u043e\\u0434\\u0438\\u0442\\u044c\\u0441\\u044f\", \"\\u043d\\u0430\\u0445\\u043e\\u0434\\u0438\\u0442\\u044c\\u0441\\u044f\", \"\\u043d\\u0430\\u0445\\u043e\\u0434\\u0438\\u0442\\u044c\\u0441\\u044f\", \"\\u043d\\u0430\\u0447\\u0430\\u043b\\u043e\", \"\\u043d\\u0430\\u0447\\u0430\\u043b\\u043e\", \"\\u043d\\u0430\\u0447\\u0430\\u043b\\u043e\", \"\\u043d\\u0430\\u0447\\u0430\\u0442\\u044c\", \"\\u043d\\u0430\\u0447\\u0430\\u0442\\u044c\", \"\\u043d\\u0430\\u0448\", \"\\u043d\\u0430\\u0448\", \"\\u043d\\u0430\\u0448\", \"\\u043d\\u0435\\u0432\\u043e\\u0437\\u043c\\u043e\\u0436\\u043d\\u043e\", \"\\u043d\\u0435\\u043a\\u0430\\u0447\\u0435\\u0441\\u0442\\u0432\\u0435\\u043d\\u043d\\u044b\\u0439\", \"\\u043d\\u0435\\u043e\\u0431\\u0445\\u043e\\u0434\\u0438\\u043c\\u043e\", \"\\u043d\\u0438\\u043a\\u0430\\u043a\", \"\\u043d\\u0438\\u043a\\u0442\\u043e\", \"\\u043d\\u0438\\u043a\\u0442\\u043e\", \"\\u043d\\u0438\\u043a\\u0442\\u043e\", \"\\u043d\\u043e\\u043c\\u0435\\u0440\", \"\\u043d\\u043e\\u043c\\u0435\\u0440\", \"\\u043d\\u043e\\u043c\\u0435\\u0440\", \"\\u043d\\u043e\\u043c\\u0435\\u0440\", \"\\u043d\\u043e\\u043c\\u0435\\u0440\", \"\\u043d\\u043e\\u0440\\u043c\\u0430\", \"\\u043d\\u043e\\u0440\\u043c\\u0430\\u043b\\u044c\\u043d\\u043e\", \"\\u043d\\u043e\\u0447\\u044c\", \"\\u043d\\u043e\\u044f\\u0431\\u0440\\u044c\", \"\\u043d\\u0443\\u0436\\u043d\\u044b\\u0439\", \"\\u043e\\u0431\\u0435\\u0449\\u0430\\u0442\\u044c\", \"\\u043e\\u0431\\u0435\\u0449\\u0430\\u0442\\u044c\", \"\\u043e\\u0431\\u043b\\u0430\\u0441\\u0442\\u044c\", \"\\u043e\\u0431\\u043c\\u0435\\u043d\", \"\\u043e\\u0431\\u043c\\u0435\\u043d\", \"\\u043e\\u0431\\u043c\\u0435\\u043d\\u044f\\u0442\\u044c\", \"\\u043e\\u0431\\u043d\\u0430\\u0440\\u0443\\u0436\\u0438\\u0442\\u044c\", \"\\u043e\\u0431\\u043e\\u0440\\u0443\\u0434\\u043e\\u0432\\u0430\\u043d\\u0438\\u0435\", \"\\u043e\\u0431\\u0440\\u0430\\u0431\\u043e\\u0442\\u043a\\u0430\", \"\\u043e\\u0431\\u0440\\u0430\\u0437\\u043e\\u0432\\u0430\\u043d\\u0438\\u0435\", \"\\u043e\\u0431\\u0440\\u0430\\u0442\\u0438\\u0442\\u044c\\u0441\\u044f\", \"\\u043e\\u0431\\u0440\\u0430\\u0442\\u0438\\u0442\\u044c\\u0441\\u044f\", \"\\u043e\\u0431\\u0440\\u0430\\u0442\\u0438\\u0442\\u044c\\u0441\\u044f\", \"\\u043e\\u0431\\u0440\\u0430\\u0442\\u0438\\u0442\\u044c\\u0441\\u044f\", \"\\u043e\\u0431\\u0440\\u0430\\u0442\\u0438\\u0442\\u044c\\u0441\\u044f\", \"\\u043e\\u0431\\u0440\\u0430\\u0442\\u0438\\u0442\\u044c\\u0441\\u044f\", \"\\u043e\\u0431\\u0440\\u0430\\u0442\\u0438\\u0442\\u044c\\u0441\\u044f\", \"\\u043e\\u0431\\u0440\\u0430\\u0442\\u043d\\u043e\", \"\\u043e\\u0431\\u0440\\u0430\\u0449\\u0430\\u0442\\u044c\\u0441\\u044f\", \"\\u043e\\u0431\\u0440\\u0430\\u0449\\u0430\\u0442\\u044c\\u0441\\u044f\", \"\\u043e\\u0431\\u0440\\u0430\\u0449\\u0430\\u0442\\u044c\\u0441\\u044f\", \"\\u043e\\u0431\\u0441\\u043b\\u0443\\u0436\\u0438\\u0432\\u0430\\u043d\\u0438\\u0435\", \"\\u043e\\u0431\\u0443\\u0432\\u044c\", \"\\u043e\\u0431\\u0443\\u0447\\u0435\\u043d\\u0438\\u0435\", \"\\u043e\\u0431\\u0449\\u0430\\u0442\\u044c\\u0441\\u044f\", \"\\u043e\\u0431\\u0449\\u0438\\u0439\", \"\\u043e\\u0431\\u0449\\u0438\\u0439\", \"\\u043e\\u0431\\u0449\\u0438\\u0439\", \"\\u043e\\u0431\\u0449\\u0438\\u0439\", \"\\u043e\\u0431\\u0449\\u0438\\u0439\", \"\\u043e\\u0431\\u0449\\u0438\\u0439\", \"\\u043e\\u0431\\u044a\\u044f\\u0432\\u043b\\u0435\\u043d\\u0438\\u0435\", \"\\u043e\\u0431\\u044a\\u044f\\u0441\\u043d\\u0438\\u0442\\u044c\", \"\\u043e\\u0431\\u044a\\u044f\\u0441\\u043d\\u0438\\u0442\\u044c\", \"\\u043e\\u0431\\u044f\\u0437\\u0430\\u0442\\u0435\\u043b\\u044c\\u043d\\u043e\", \"\\u043e\\u0434\\u043d\\u0430\\u043a\\u043e\", \"\\u043e\\u0434\\u043d\\u0430\\u043a\\u043e\", \"\\u043e\\u0437\\u043e\\u043d\", \"\\u043e\\u043a\\u0430\\u0437\\u0430\\u0442\\u044c\\u0441\\u044f\", \"\\u043e\\u043a\\u0430\\u0437\\u0430\\u0442\\u044c\\u0441\\u044f\", \"\\u043e\\u043a\\u0430\\u0437\\u0430\\u0442\\u044c\\u0441\\u044f\", \"\\u043e\\u043a\\u043d\\u043e\", \"\\u043e\\u043a\\u043e\\u043b\\u043e\", \"\\u043e\\u043a\\u0442\\u044f\\u0431\\u0440\\u044c\", \"\\u043e\\u043a\\u0442\\u044f\\u0431\\u0440\\u044c\", \"\\u043e\\u043e\\u043e\", \"\\u043e\\u043e\\u043e\", \"\\u043e\\u043e\\u043e\", \"\\u043e\\u043f\\u0435\\u0440\\u0430\\u0442\\u043e\\u0440\", \"\\u043e\\u043f\\u0435\\u0440\\u0430\\u0442\\u043e\\u0440\", \"\\u043e\\u043f\\u0435\\u0440\\u0430\\u0442\\u043e\\u0440\", \"\\u043e\\u043f\\u0435\\u0440\\u0430\\u0446\\u0438\\u044f\", \"\\u043e\\u043f\\u0438\\u0441\\u0430\\u043d\\u0438\\u0435\", \"\\u043e\\u043f\\u043b\\u0430\\u0442\\u0430\", \"\\u043e\\u043f\\u043b\\u0430\\u0442\\u0430\", \"\\u043e\\u043f\\u043b\\u0430\\u0442\\u0430\", \"\\u043e\\u043f\\u043b\\u0430\\u0442\\u0430\", \"\\u043e\\u043f\\u043b\\u0430\\u0442\\u0430\", \"\\u043e\\u043f\\u043b\\u0430\\u0442\\u0438\\u0442\\u044c\", \"\\u043e\\u043f\\u043b\\u0430\\u0442\\u0438\\u0442\\u044c\", \"\\u043e\\u043f\\u043b\\u0430\\u0442\\u0438\\u0442\\u044c\", \"\\u043e\\u043f\\u043b\\u0430\\u0442\\u0438\\u0442\\u044c\", \"\\u043e\\u043f\\u043b\\u0430\\u0447\\u0438\\u0432\\u0430\\u0442\\u044c\", \"\\u043e\\u043f\\u043b\\u0430\\u0447\\u0438\\u0432\\u0430\\u0442\\u044c\", \"\\u043e\\u0440\\u0433\\u0430\\u043d\\u0438\\u0437\\u0430\\u0446\\u0438\\u044f\", \"\\u043e\\u0440\\u0433\\u0430\\u043d\\u0438\\u0437\\u0430\\u0446\\u0438\\u044f\", \"\\u043e\\u0440\\u0433\\u0430\\u043d\\u0438\\u0437\\u0430\\u0446\\u0438\\u044f\", \"\\u043e\\u0440\\u0433\\u0430\\u043d\\u0438\\u0437\\u0430\\u0446\\u0438\\u044f\", \"\\u043e\\u0441\\u043d\\u043e\\u0432\\u0430\\u043d\\u0438\\u0435\", \"\\u043e\\u0441\\u0442\\u0430\\u0432\\u0438\\u0442\\u044c\", \"\\u043e\\u0441\\u0442\\u0430\\u043d\\u043e\\u0432\\u043a\\u0430\", \"\\u043e\\u0441\\u0443\\u0449\\u0435\\u0441\\u0442\\u0432\\u0438\\u0442\\u044c\", \"\\u043e\\u0442\\u0432\\u0435\\u0442\", \"\\u043e\\u0442\\u0432\\u0435\\u0442\", \"\\u043e\\u0442\\u0432\\u0435\\u0442\", \"\\u043e\\u0442\\u0432\\u0435\\u0442\", \"\\u043e\\u0442\\u0432\\u0435\\u0442\", \"\\u043e\\u0442\\u0432\\u0435\\u0442\", \"\\u043e\\u0442\\u0432\\u0435\\u0442\", \"\\u043e\\u0442\\u0432\\u0435\\u0442\", \"\\u043e\\u0442\\u0432\\u0435\\u0442\", \"\\u043e\\u0442\\u0432\\u0435\\u0442\\u0438\\u0442\\u044c\", \"\\u043e\\u0442\\u0432\\u0435\\u0442\\u0438\\u0442\\u044c\", \"\\u043e\\u0442\\u0432\\u0435\\u0442\\u0438\\u0442\\u044c\", \"\\u043e\\u0442\\u0432\\u0435\\u0447\\u0430\\u0442\\u044c\", \"\\u043e\\u0442\\u0432\\u0435\\u0447\\u0430\\u0442\\u044c\", \"\\u043e\\u0442\\u0434\\u0435\\u043b\\u0435\\u043d\\u0438\\u0435\", \"\\u043e\\u0442\\u0437\\u044b\\u0432\", \"\\u043e\\u0442\\u043a\\u0430\\u0437\", \"\\u043e\\u0442\\u043a\\u0430\\u0437\\u0430\\u0442\\u044c\", \"\\u043e\\u0442\\u043a\\u0430\\u0437\\u0430\\u0442\\u044c\", \"\\u043e\\u0442\\u043a\\u0430\\u0437\\u0430\\u0442\\u044c\\u0441\\u044f\", \"\\u043e\\u0442\\u043a\\u0430\\u0437\\u0430\\u0442\\u044c\\u0441\\u044f\", \"\\u043e\\u0442\\u043a\\u0430\\u0437\\u0430\\u0442\\u044c\\u0441\\u044f\", \"\\u043e\\u0442\\u043a\\u043b\\u044e\\u0447\\u0435\\u043d\\u0438\\u0435\", \"\\u043e\\u0442\\u043a\\u0440\\u044b\\u0442\\u044c\", \"\\u043e\\u0442\\u043c\\u0435\\u043d\\u0430\", \"\\u043e\\u0442\\u043c\\u0435\\u043d\\u0438\\u0442\\u044c\", \"\\u043e\\u0442\\u043c\\u0435\\u043d\\u0438\\u0442\\u044c\", \"\\u043e\\u0442\\u043d\\u043e\\u0448\\u0435\\u043d\\u0438\\u0435\", \"\\u043e\\u0442\\u043d\\u043e\\u0448\\u0435\\u043d\\u0438\\u0435\", \"\\u043e\\u0442\\u043e\\u043f\\u043b\\u0435\\u043d\\u0438\\u0435\", \"\\u043e\\u0442\\u043f\\u0440\\u0430\\u0432\\u0438\\u0442\\u044c\", \"\\u043e\\u0442\\u043f\\u0440\\u0430\\u0432\\u0438\\u0442\\u044c\", \"\\u043e\\u0442\\u043f\\u0440\\u0430\\u0432\\u0438\\u0442\\u044c\", \"\\u043e\\u0442\\u0441\\u0443\\u0442\\u0441\\u0442\\u0432\\u043e\\u0432\\u0430\\u0442\\u044c\", \"\\u043e\\u0444\\u0438\\u0441\", \"\\u043e\\u0444\\u0438\\u0446\\u0438\\u0430\\u043b\\u044c\\u043d\\u044b\\u0439\", \"\\u043e\\u0444\\u0438\\u0446\\u0438\\u0430\\u043b\\u044c\\u043d\\u044b\\u0439\", \"\\u043e\\u0444\\u043e\\u0440\\u043c\\u0438\\u0442\\u044c\", \"\\u043e\\u0444\\u043e\\u0440\\u043c\\u0438\\u0442\\u044c\", \"\\u043e\\u0444\\u043e\\u0440\\u043c\\u043b\\u0435\\u043d\\u0438\\u0435\", \"\\u043e\\u0447\\u0435\\u043d\\u044c\", \"\\u043e\\u0447\\u0435\\u043d\\u044c\", \"\\u043e\\u0447\\u0435\\u043d\\u044c\", \"\\u043e\\u0447\\u0435\\u043d\\u044c\", \"\\u043f\\u0430\\u043a\\u0435\\u0442\", \"\\u043f\\u0430\\u043e\", \"\\u043f\\u0430\\u0440\\u0430\", \"\\u043f\\u0430\\u0441\\u043f\\u043e\\u0440\\u0442\", \"\\u043f\\u0430\\u0441\\u043f\\u043e\\u0440\\u0442\", \"\\u043f\\u0430\\u0441\\u0441\\u0430\\u0436\\u0438\\u0440\", \"\\u043f\\u0435\\u0440\\u0435\\u0431\\u043e\\u043b\\u0435\\u0442\\u044c\", \"\\u043f\\u0435\\u0440\\u0435\\u0432\\u043e\\u0434\", \"\\u043f\\u0435\\u0440\\u0435\\u043d\\u0435\\u0441\\u0442\\u0438\", \"\\u043f\\u0435\\u0440\\u043c\\u044c\", \"\\u043f\\u0435\\u0440\\u0441\\u043e\\u043d\\u0430\\u043b\\u044c\\u043d\\u044b\\u0439\", \"\\u043f\\u0435\\u0442\\u0435\\u0440\\u0431\\u0443\\u0440\\u0433\", \"\\u043f\\u043b\\u0430\\u043d\\u0438\\u0440\\u043e\\u0432\\u0430\\u0442\\u044c\", \"\\u043f\\u043b\\u0430\\u0442\\u0430\", \"\\u043f\\u043b\\u043e\\u0449\\u0430\\u0434\\u043a\\u0430\", \"\\u043f\\u043e\\u0434\\u0430\\u0442\\u044c\", \"\\u043f\\u043e\\u0434\\u0430\\u0442\\u044c\", \"\\u043f\\u043e\\u0434\\u0432\\u0430\\u043b\", \"\\u043f\\u043e\\u0434\\u0434\\u0435\\u0440\\u0436\\u043a\\u0430\", \"\\u043f\\u043e\\u0434\\u0434\\u0435\\u0440\\u0436\\u043a\\u0430\", \"\\u043f\\u043e\\u0434\\u043b\\u0435\\u0436\\u0430\\u0442\\u044c\", \"\\u043f\\u043e\\u0434\\u043e\\u0439\\u0442\\u0438\", \"\\u043f\\u043e\\u0434\\u0441\\u043a\\u0430\\u0437\\u0430\\u0442\\u044c\", \"\\u043f\\u043e\\u0434\\u0441\\u043a\\u0430\\u0437\\u0430\\u0442\\u044c\", \"\\u043f\\u043e\\u0434\\u0441\\u043a\\u0430\\u0437\\u0430\\u0442\\u044c\", \"\\u043f\\u043e\\u0434\\u0441\\u043a\\u0430\\u0437\\u0430\\u0442\\u044c\", \"\\u043f\\u043e\\u0434\\u0442\\u0432\\u0435\\u0440\\u0434\\u0438\\u0442\\u044c\", \"\\u043f\\u043e\\u0434\\u044a\\u0435\\u0437\\u0434\", \"\\u043f\\u043e\\u0435\\u0437\\u0434\\u043a\\u0430\", \"\\u043f\\u043e\\u0436\\u0430\\u043b\\u0443\\u0439\\u0441\\u0442\\u0430\", \"\\u043f\\u043e\\u0436\\u0430\\u043b\\u0443\\u0439\\u0441\\u0442\\u0430\", \"\\u043f\\u043e\\u0436\\u0430\\u043b\\u0443\\u0439\\u0441\\u0442\\u0430\", \"\\u043f\\u043e\\u0436\\u0430\\u043b\\u0443\\u0439\\u0441\\u0442\\u0430\", \"\\u043f\\u043e\\u0437\\u0432\\u043e\\u043d\\u0438\\u0442\\u044c\", \"\\u043f\\u043e\\u0437\\u0432\\u043e\\u043d\\u0438\\u0442\\u044c\", \"\\u043f\\u043e\\u0437\\u0434\\u043d\\u0438\\u0439\", \"\\u043f\\u043e\\u043a\\u0443\\u043f\\u0430\\u0442\\u0435\\u043b\\u044c\", \"\\u043f\\u043e\\u043a\\u0443\\u043f\\u0430\\u0442\\u0435\\u043b\\u044c\", \"\\u043f\\u043e\\u043a\\u0443\\u043f\\u0430\\u0442\\u044c\", \"\\u043f\\u043e\\u043a\\u0443\\u043f\\u043a\\u0430\", \"\\u043f\\u043e\\u043b\\u0438\\u043a\\u043b\\u0438\\u043d\\u0438\\u043a\\u0430\", \"\\u043f\\u043e\\u043b\\u043d\\u043e\\u043c\\u043e\\u0447\\u0438\\u0435\", \"\\u043f\\u043e\\u043b\\u043d\\u044b\\u0439\", \"\\u043f\\u043e\\u043b\\u043d\\u044b\\u0439\", \"\\u043f\\u043e\\u043b\\u043d\\u044b\\u0439\", \"\\u043f\\u043e\\u043b\\u043d\\u044b\\u0439\", \"\\u043f\\u043e\\u043b\\u043d\\u044b\\u0439\", \"\\u043f\\u043e\\u043b\\u043d\\u044b\\u0439\", \"\\u043f\\u043e\\u043b\\u043d\\u044b\\u0439\", \"\\u043f\\u043e\\u043b\\u043d\\u044b\\u0439\", \"\\u043f\\u043e\\u043b\\u043d\\u044b\\u0439\", \"\\u043f\\u043e\\u043b\\u043e\\u0436\\u0438\\u0442\\u0435\\u043b\\u044c\\u043d\\u044b\\u0439\", \"\\u043f\\u043e\\u043b\\u0443\\u0447\\u0435\\u043d\\u0438\\u0435\", \"\\u043f\\u043e\\u043b\\u0443\\u0447\\u0435\\u043d\\u0438\\u0435\", \"\\u043f\\u043e\\u043b\\u0443\\u0447\\u0438\\u0442\\u044c\", \"\\u043f\\u043e\\u043b\\u0443\\u0447\\u0438\\u0442\\u044c\", \"\\u043f\\u043e\\u043b\\u0443\\u0447\\u0438\\u0442\\u044c\", \"\\u043f\\u043e\\u043b\\u044c\\u0437\\u043e\\u0432\\u0430\\u043d\\u0438\\u0435\", \"\\u043f\\u043e\\u043b\\u044c\\u0437\\u043e\\u0432\\u0430\\u043d\\u0438\\u0435\", \"\\u043f\\u043e\\u043b\\u044c\\u0437\\u043e\\u0432\\u0430\\u0442\\u0435\\u043b\\u044c\", \"\\u043f\\u043e\\u043b\\u044c\\u0437\\u043e\\u0432\\u0430\\u0442\\u044c\\u0441\\u044f\", \"\\u043f\\u043e\\u043c\\u0435\\u0449\\u0435\\u043d\\u0438\\u0435\", \"\\u043f\\u043e\\u043c\\u0435\\u0449\\u0435\\u043d\\u0438\\u0435\", \"\\u043f\\u043e\\u043f\\u044b\\u0442\\u0430\\u0442\\u044c\\u0441\\u044f\", \"\\u043f\\u043e\\u0440\\u0430\", \"\\u043f\\u043e\\u0440\\u0430\", \"\\u043f\\u043e\\u0440\\u0430\", \"\\u043f\\u043e\\u0441\\u0442\\u0430\\u0432\\u0449\\u0438\\u043a\", \"\\u043f\\u043e\\u0441\\u0442\\u0430\\u043d\\u043e\\u0432\\u043b\\u0435\\u043d\\u0438\\u0435\", \"\\u043f\\u043e\\u0441\\u0442\\u0430\\u043d\\u043e\\u0432\\u043b\\u0435\\u043d\\u0438\\u0435\", \"\\u043f\\u043e\\u0441\\u0442\\u0443\\u043f\\u0438\\u0442\\u044c\", \"\\u043f\\u043e\\u0441\\u0442\\u0443\\u043f\\u0438\\u0442\\u044c\", \"\\u043f\\u043e\\u0441\\u0442\\u0443\\u043f\\u0438\\u0442\\u044c\", \"\\u043f\\u043e\\u0441\\u044b\\u043b\\u043a\\u0430\", \"\\u043f\\u043e\\u0442\\u0440\\u0435\\u0431\\u0438\\u0442\\u0435\\u043b\\u044c\", \"\\u043f\\u043e\\u0442\\u0440\\u0435\\u0431\\u0438\\u0442\\u0435\\u043b\\u044c\", \"\\u043f\\u043e\\u0442\\u0440\\u0435\\u0431\\u0438\\u0442\\u0435\\u043b\\u044c\", \"\\u043f\\u043e\\u0442\\u0440\\u0435\\u0431\\u0438\\u0442\\u0435\\u043b\\u044c\", \"\\u043f\\u043e\\u0447\\u0435\\u043c\\u0443\", \"\\u043f\\u043e\\u0447\\u0435\\u043c\\u0443\", \"\\u043f\\u043e\\u0447\\u0435\\u043c\\u0443\", \"\\u043f\\u043e\\u0447\\u0435\\u043c\\u0443\", \"\\u043f\\u043e\\u0447\\u0435\\u043c\\u0443\", \"\\u043f\\u043e\\u0447\\u0435\\u043c\\u0443\", \"\\u043f\\u0440\\u0430\\u0432\\u0438\\u043b\\u043e\", \"\\u043f\\u0440\\u0430\\u0432\\u0438\\u043b\\u043e\", \"\\u043f\\u0440\\u0430\\u0432\\u0438\\u043b\\u043e\", \"\\u043f\\u0440\\u0430\\u0432\\u0438\\u0442\\u0435\\u043b\\u044c\\u0441\\u0442\\u0432\\u043e\", \"\\u043f\\u0440\\u0430\\u0432\\u043e\\u043c\\u0435\\u0440\\u043d\\u044b\\u0439\", \"\\u043f\\u0440\\u0435\\u0434\\u043e\\u043f\\u043b\\u0430\\u0442\\u0430\", \"\\u043f\\u0440\\u0435\\u0434\\u043e\\u0441\\u0442\\u0430\\u0432\\u0438\\u0442\\u044c\", \"\\u043f\\u0440\\u0435\\u0434\\u043e\\u0441\\u0442\\u0430\\u0432\\u0438\\u0442\\u044c\", \"\\u043f\\u0440\\u0435\\u0434\\u043e\\u0441\\u0442\\u0430\\u0432\\u0438\\u0442\\u044c\", \"\\u043f\\u0440\\u0435\\u0434\\u043e\\u0441\\u0442\\u0430\\u0432\\u0438\\u0442\\u044c\", \"\\u043f\\u0440\\u0435\\u0434\\u043e\\u0441\\u0442\\u0430\\u0432\\u0438\\u0442\\u044c\", \"\\u043f\\u0440\\u0435\\u0434\\u043e\\u0441\\u0442\\u0430\\u0432\\u0438\\u0442\\u044c\", \"\\u043f\\u0440\\u0435\\u0434\\u043e\\u0441\\u0442\\u0430\\u0432\\u043b\\u0435\\u043d\\u0438\\u0435\", \"\\u043f\\u0440\\u0435\\u0434\\u043e\\u0441\\u0442\\u0430\\u0432\\u043b\\u0435\\u043d\\u0438\\u0435\", \"\\u043f\\u0440\\u0435\\u0434\\u0441\\u0442\\u0430\\u0432\\u0438\\u0442\\u0435\\u043b\\u044c\", \"\\u043f\\u0440\\u0435\\u0434\\u044a\\u044f\\u0432\\u0438\\u0442\\u044c\", \"\\u043f\\u0440\\u0438\\u0432\\u0435\\u0437\\u0442\\u0438\", \"\\u043f\\u0440\\u0438\\u0432\\u0438\\u0432\\u043a\\u0430\", \"\\u043f\\u0440\\u0438\\u0435\\u0445\\u0430\\u0442\\u044c\", \"\\u043f\\u0440\\u0438\\u0435\\u0445\\u0430\\u0442\\u044c\", \"\\u043f\\u0440\\u0438\\u0439\\u0442\\u0438\", \"\\u043f\\u0440\\u0438\\u0439\\u0442\\u0438\", \"\\u043f\\u0440\\u0438\\u0439\\u0442\\u0438\", \"\\u043f\\u0440\\u0438\\u043a\\u0430\\u0437\", \"\\u043f\\u0440\\u0438\\u043d\\u044f\\u0442\\u044c\", \"\\u043f\\u0440\\u0438\\u043d\\u044f\\u0442\\u044c\", \"\\u043f\\u0440\\u0438\\u043d\\u044f\\u0442\\u044c\", \"\\u043f\\u0440\\u0438\\u043d\\u044f\\u0442\\u044c\", \"\\u043f\\u0440\\u0438\\u043d\\u044f\\u0442\\u044c\", \"\\u043f\\u0440\\u0438\\u043d\\u044f\\u0442\\u044c\", \"\\u043f\\u0440\\u0438\\u043e\\u0431\\u0440\\u0435\\u0441\\u0442\\u0438\", \"\\u043f\\u0440\\u0438\\u043e\\u0431\\u0440\\u0435\\u0441\\u0442\\u0438\", \"\\u043f\\u0440\\u0438\\u043e\\u0431\\u0440\\u0435\\u0441\\u0442\\u0438\", \"\\u043f\\u0440\\u0438\\u043e\\u0431\\u0440\\u0435\\u0442\\u0435\\u043d\\u0438\\u0435\", \"\\u043f\\u0440\\u0438\\u0441\\u0443\\u0442\\u0441\\u0442\\u0432\\u043e\\u0432\\u0430\\u0442\\u044c\", \"\\u043f\\u0440\\u0438\\u0447\\u0438\\u043d\\u0430\", \"\\u043f\\u0440\\u0438\\u0447\\u0438\\u043d\\u0430\", \"\\u043f\\u0440\\u0438\\u0447\\u0438\\u043d\\u0430\", \"\\u043f\\u0440\\u0438\\u0447\\u0438\\u043d\\u0430\", \"\\u043f\\u0440\\u043e\\u0432\\u0435\\u0440\\u0438\\u0442\\u044c\", \"\\u043f\\u0440\\u043e\\u0432\\u0435\\u0440\\u043a\\u0430\", \"\\u043f\\u0440\\u043e\\u0432\\u0435\\u0440\\u043a\\u0430\", \"\\u043f\\u0440\\u043e\\u0432\\u0435\\u0440\\u043a\\u0430\", \"\\u043f\\u0440\\u043e\\u0432\\u0435\\u0440\\u043a\\u0430\", \"\\u043f\\u0440\\u043e\\u0432\\u0435\\u0440\\u043a\\u0430\", \"\\u043f\\u0440\\u043e\\u0432\\u0435\\u0440\\u044f\\u0442\\u044c\", \"\\u043f\\u0440\\u043e\\u0432\\u0435\\u0441\\u0442\\u0438\", \"\\u043f\\u0440\\u043e\\u0432\\u0435\\u0441\\u0442\\u0438\", \"\\u043f\\u0440\\u043e\\u0432\\u0435\\u0441\\u0442\\u0438\", \"\\u043f\\u0440\\u043e\\u0432\\u0435\\u0441\\u0442\\u0438\", \"\\u043f\\u0440\\u043e\\u0432\\u0435\\u0441\\u0442\\u0438\", \"\\u043f\\u0440\\u043e\\u0432\\u0435\\u0441\\u0442\\u0438\", \"\\u043f\\u0440\\u043e\\u0432\\u043e\\u0434\\u0438\\u0442\\u044c\", \"\\u043f\\u0440\\u043e\\u0434\\u0430\\u0432\\u0430\\u0442\\u044c\", \"\\u043f\\u0440\\u043e\\u0434\\u0430\\u0432\\u0435\\u0446\", \"\\u043f\\u0440\\u043e\\u0434\\u0430\\u0432\\u0435\\u0446\", \"\\u043f\\u0440\\u043e\\u0434\\u0430\\u0432\\u0435\\u0446\", \"\\u043f\\u0440\\u043e\\u0434\\u0430\\u0436\\u0430\", \"\\u043f\\u0440\\u043e\\u0434\\u0443\\u043a\\u0442\", \"\\u043f\\u0440\\u043e\\u0434\\u0443\\u043a\\u0446\\u0438\\u044f\", \"\\u043f\\u0440\\u043e\\u0436\\u0438\\u0432\\u0430\\u0442\\u044c\", \"\\u043f\\u0440\\u043e\\u0436\\u0438\\u0432\\u0430\\u0442\\u044c\", \"\\u043f\\u0440\\u043e\\u0436\\u0438\\u0432\\u0430\\u0442\\u044c\", \"\\u043f\\u0440\\u043e\\u0438\\u0437\\u043e\\u0439\\u0442\\u0438\", \"\\u043f\\u0440\\u043e\\u0439\\u0442\\u0438\", \"\\u043f\\u0440\\u043e\\u0439\\u0442\\u0438\", \"\\u043f\\u0440\\u043e\\u043f\\u0438\\u0441\\u0430\\u0442\\u044c\", \"\\u043f\\u0440\\u043e\\u0441\\u0440\\u043e\\u0447\\u0438\\u0442\\u044c\", \"\\u043f\\u0440\\u043e\\u0441\\u0442\\u043e\", \"\\u043f\\u0440\\u043e\\u0441\\u0442\\u043e\", \"\\u043f\\u0440\\u043e\\u0441\\u0442\\u043e\", \"\\u043f\\u0440\\u043e\\u0441\\u0442\\u043e\", \"\\u043f\\u0440\\u043e\\u0441\\u0442\\u043e\", \"\\u043f\\u0440\\u043e\\u0441\\u044c\\u0431\\u0430\", \"\\u043f\\u0440\\u043e\\u0441\\u044c\\u0431\\u0430\", \"\\u043f\\u0440\\u043e\\u0441\\u044c\\u0431\\u0430\", \"\\u043f\\u0440\\u043e\\u0441\\u044c\\u0431\\u0430\", \"\\u043f\\u0440\\u043e\\u0442\\u0438\\u0432\", \"\\u043f\\u0440\\u043e\\u0445\\u043e\\u0434\\u0438\\u0442\\u044c\", \"\\u043f\\u0440\\u043e\\u0446\\u0435\\u0441\\u0441\", \"\\u043f\\u0440\\u044f\\u043c\\u043e\\u0439\", \"\\u043f\\u0443\\u0431\\u043b\\u0438\\u0447\\u043d\\u044b\\u0439\", \"\\u043f\\u0443\\u043d\\u043a\\u0442\", \"\\u043f\\u0443\\u043d\\u043a\\u0442\", \"\\u043f\\u0446\\u0440\", \"\\u043f\\u044b\\u0442\\u0430\\u0442\\u044c\\u0441\\u044f\", \"\\u0440\\u0430\\u0431\\u043e\\u0442\\u0430\", \"\\u0440\\u0430\\u0431\\u043e\\u0442\\u0430\", \"\\u0440\\u0430\\u0431\\u043e\\u0442\\u0430\", \"\\u0440\\u0430\\u0431\\u043e\\u0442\\u0430\", \"\\u0440\\u0430\\u0431\\u043e\\u0442\\u0430\\u0442\\u044c\", \"\\u0440\\u0430\\u0431\\u043e\\u0442\\u0430\\u0442\\u044c\", \"\\u0440\\u0430\\u0431\\u043e\\u0442\\u0430\\u0442\\u044c\", \"\\u0440\\u0430\\u0431\\u043e\\u0442\\u0430\\u0442\\u044c\", \"\\u0440\\u0430\\u0431\\u043e\\u0442\\u0430\\u0442\\u044c\", \"\\u0440\\u0430\\u0431\\u043e\\u0442\\u0430\\u0442\\u044c\", \"\\u0440\\u0430\\u0437\\u043b\\u0438\\u0447\\u043d\\u044b\\u0439\", \"\\u0440\\u0430\\u0437\\u043c\\u0435\\u0440\", \"\\u0440\\u0430\\u0437\\u043c\\u0435\\u0440\", \"\\u0440\\u0430\\u0437\\u043c\\u0435\\u0440\", \"\\u0440\\u0430\\u0437\\u043e\\u0431\\u0440\\u0430\\u0442\\u044c\\u0441\\u044f\", \"\\u0440\\u0430\\u0437\\u043e\\u0431\\u0440\\u0430\\u0442\\u044c\\u0441\\u044f\", \"\\u0440\\u0430\\u0437\\u043e\\u0431\\u0440\\u0430\\u0442\\u044c\\u0441\\u044f\", \"\\u0440\\u0430\\u0437\\u043e\\u0431\\u0440\\u0430\\u0442\\u044c\\u0441\\u044f\", \"\\u0440\\u0430\\u0437\\u043e\\u0431\\u0440\\u0430\\u0442\\u044c\\u0441\\u044f\", \"\\u0440\\u0430\\u0437\\u043e\\u0431\\u0440\\u0430\\u0442\\u044c\\u0441\\u044f\", \"\\u0440\\u0430\\u0437\\u043e\\u0431\\u0440\\u0430\\u0442\\u044c\\u0441\\u044f\", \"\\u0440\\u0430\\u0439\\u043e\\u043d\", \"\\u0440\\u0430\\u0439\\u043e\\u043d\", \"\\u0440\\u0430\\u043c\\u043a\\u0430\", \"\\u0440\\u0430\\u0441\\u043f\\u0440\\u043e\\u0441\\u0442\\u0440\\u0430\\u043d\\u0435\\u043d\\u0438\\u0435\", \"\\u0440\\u0430\\u0441\\u0441\\u0440\\u043e\\u0447\\u043a\\u0430\", \"\\u0440\\u0430\\u0441\\u0442\\u043e\\u0440\\u0436\\u0435\\u043d\\u0438\\u0435\", \"\\u0440\\u0430\\u0441\\u0447\\u0451\\u0442\", \"\\u0440\\u0435\\u0430\\u0433\\u0438\\u0440\\u043e\\u0432\\u0430\\u0442\\u044c\", \"\\u0440\\u0435\\u0431\\u0451\\u043d\\u043e\\u043a\", \"\\u0440\\u0435\\u0433\\u0438\\u0441\\u0442\\u0440\\u0430\\u0446\\u0438\\u044f\", \"\\u0440\\u0435\\u0433\\u0443\\u043b\\u044f\\u0440\\u043d\\u043e\", \"\\u0440\\u0435\\u0436\\u0438\\u043c\", \"\\u0440\\u0435\\u0437\\u0443\\u043b\\u044c\\u0442\\u0430\\u0442\", \"\\u0440\\u0435\\u0437\\u0443\\u043b\\u044c\\u0442\\u0430\\u0442\", \"\\u0440\\u0435\\u0439\\u0441\", \"\\u0440\\u0435\\u043c\\u043e\\u043d\\u0442\", \"\\u0440\\u0435\\u043c\\u043e\\u043d\\u0442\", \"\\u0440\\u0435\\u043c\\u043e\\u043d\\u0442\", \"\\u0440\\u0435\\u043c\\u043e\\u043d\\u0442\", \"\\u0440\\u043e\\u0434\\u0438\\u0442\\u0435\\u043b\\u044c\", \"\\u0440\\u043e\\u0441\\u0441\\u0438\\u044f\", \"\\u0440\\u043e\\u0441\\u0442\\u0435\\u043b\\u0435\\u043a\\u043e\\u043c\", \"\\u0440\\u0443\\u0431\", \"\\u0440\\u0443\\u0431\\u043b\\u044c\", \"\\u0440\\u0443\\u0431\\u043b\\u044c\", \"\\u0440\\u0443\\u0431\\u043b\\u044c\", \"\\u0440\\u0443\\u0431\\u043b\\u044c\", \"\\u0440\\u0443\\u043a\\u043e\\u0432\\u043e\\u0434\\u0441\\u0442\\u0432\\u043e\", \"\\u0441\\u0430\\u0434\", \"\\u0441\\u0430\\u0439\\u0442\", \"\\u0441\\u0430\\u0439\\u0442\", \"\\u0441\\u0430\\u0439\\u0442\", \"\\u0441\\u0430\\u0439\\u0442\", \"\\u0441\\u0430\\u0439\\u0442\", \"\\u0441\\u0430\\u0439\\u0442\", \"\\u0441\\u0430\\u043b\\u043e\\u043d\", \"\\u0441\\u0430\\u043b\\u043e\\u043d\", \"\\u0441\\u0430\\u043d\\u0438\\u0442\\u0430\\u0440\\u043d\\u044b\\u0439\", \"\\u0441\\u0430\\u043d\\u043a\\u0442\", \"\\u0441\\u0431\\u0435\\u0440\\u0431\\u0430\\u043d\\u043a\", \"\\u0441\\u0431\\u0435\\u0440\\u0431\\u0430\\u043d\\u043a\", \"\\u0441\\u0431\\u0435\\u0440\\u043c\\u0435\\u0433\\u0430\\u043c\\u0430\\u0440\\u043a\\u0435\\u0442\", \"\\u0441\\u0432\\u043e\\u0439\", \"\\u0441\\u0432\\u043e\\u0439\", \"\\u0441\\u0432\\u043e\\u0439\", \"\\u0441\\u0432\\u043e\\u0439\", \"\\u0441\\u0432\\u043e\\u0439\", \"\\u0441\\u0432\\u043e\\u0439\", \"\\u0441\\u0432\\u043e\\u0439\", \"\\u0441\\u0432\\u044f\\u0437\\u0430\\u0442\\u044c\\u0441\\u044f\", \"\\u0441\\u0432\\u044f\\u0437\\u044c\", \"\\u0441\\u0432\\u044f\\u0437\\u044c\", \"\\u0441\\u0432\\u044f\\u0437\\u044c\", \"\\u0441\\u0432\\u044f\\u0437\\u044c\", \"\\u0441\\u0432\\u044f\\u0437\\u044c\", \"\\u0441\\u0432\\u044f\\u0437\\u044c\", \"\\u0441\\u0432\\u044f\\u0437\\u044c\", \"\\u0441\\u0434\\u0430\\u0432\\u0430\\u0442\\u044c\", \"\\u0441\\u0434\\u0430\\u0442\\u044c\", \"\\u0441\\u0434\\u0430\\u0447\\u0430\", \"\\u0441\\u0434\\u0435\\u043b\\u0430\\u0442\\u044c\", \"\\u0441\\u0434\\u0435\\u043b\\u0430\\u0442\\u044c\", \"\\u0441\\u0434\\u0435\\u043b\\u0430\\u0442\\u044c\", \"\\u0441\\u0434\\u0435\\u043b\\u0430\\u0442\\u044c\", \"\\u0441\\u0434\\u0435\\u043b\\u0430\\u0442\\u044c\", \"\\u0441\\u0434\\u0435\\u043b\\u0430\\u0442\\u044c\", \"\\u0441\\u0434\\u0435\\u043b\\u0430\\u0442\\u044c\", \"\\u0441\\u0434\\u0435\\u043b\\u0430\\u0442\\u044c\", \"\\u0441\\u0435\\u0439\", \"\\u0441\\u0435\\u0439\", \"\\u0441\\u0435\\u0439\", \"\\u0441\\u0435\\u0440\\u0432\\u0438\\u0441\\u043d\\u044b\\u0439\", \"\\u0441\\u0435\\u0440\\u0432\\u0438\\u0441\\u043d\\u044b\\u0439\", \"\\u0441\\u0435\\u0440\\u0442\\u0438\\u0444\\u0438\\u043a\\u0430\\u0442\", \"\\u0441\\u0438\\u0433\\u0430\\u0440\\u0435\\u0442\\u0430\", \"\\u0441\\u043a\\u043b\\u0430\\u0434\", \"\\u0441\\u043a\\u043e\\u043b\\u044c\\u043a\\u043e\", \"\\u0441\\u043b\\u0443\\u0436\\u0431\\u0430\", \"\\u0441\\u043b\\u0443\\u0436\\u0431\\u0430\", \"\\u0441\\u043b\\u0443\\u0436\\u0431\\u0430\", \"\\u0441\\u043b\\u0443\\u0447\\u0430\\u0439\", \"\\u0441\\u043b\\u0443\\u0447\\u0430\\u0439\", \"\\u0441\\u043b\\u0443\\u0447\\u0430\\u0439\", \"\\u0441\\u043c\\u0430\\u0440\\u0442\\u0444\\u043e\\u043d\", \"\\u0441\\u043c\\u0441\", \"\\u0441\\u043e\\u0431\\u0441\\u0442\\u0432\\u0435\\u043d\\u043d\\u0438\\u043a\", \"\\u0441\\u043e\\u0433\\u043b\\u0430\\u0441\\u043d\\u043e\", \"\\u0441\\u043e\\u0433\\u043b\\u0430\\u0441\\u043d\\u043e\", \"\\u0441\\u043e\\u0433\\u043b\\u0430\\u0441\\u043d\\u043e\", \"\\u0441\\u043e\\u0433\\u043b\\u0430\\u0441\\u043d\\u043e\", \"\\u0441\\u043e\\u0434\\u0435\\u0440\\u0436\\u0430\\u043d\\u0438\\u0435\", \"\\u0441\\u043e\\u0434\\u0435\\u0440\\u0436\\u0430\\u0442\\u044c\", \"\\u0441\\u043e\\u0434\\u0435\\u0440\\u0436\\u0430\\u0442\\u044c\", \"\\u0441\\u043e\\u0437\\u0434\\u0430\\u0442\\u044c\", \"\\u0441\\u043e\\u043e\\u0431\\u0449\\u0435\\u043d\\u0438\\u0435\", \"\\u0441\\u043e\\u043e\\u0431\\u0449\\u0438\\u0442\\u044c\", \"\\u0441\\u043e\\u043e\\u0431\\u0449\\u0438\\u0442\\u044c\", \"\\u0441\\u043e\\u043e\\u0431\\u0449\\u0438\\u0442\\u044c\", \"\\u0441\\u043e\\u043e\\u0431\\u0449\\u0438\\u0442\\u044c\", \"\\u0441\\u043e\\u043e\\u0442\\u0432\\u0435\\u0442\\u0441\\u0442\\u0432\\u0438\\u0435\", \"\\u0441\\u043e\\u043e\\u0442\\u0432\\u0435\\u0442\\u0441\\u0442\\u0432\\u0438\\u0435\", \"\\u0441\\u043e\\u043e\\u0442\\u0432\\u0435\\u0442\\u0441\\u0442\\u0432\\u0438\\u0435\", \"\\u0441\\u043e\\u043e\\u0442\\u0432\\u0435\\u0442\\u0441\\u0442\\u0432\\u0438\\u0435\", \"\\u0441\\u043e\\u043e\\u0442\\u0432\\u0435\\u0442\\u0441\\u0442\\u0432\\u0438\\u0435\", \"\\u0441\\u043e\\u0441\\u043b\\u0430\\u0442\\u044c\\u0441\\u044f\", \"\\u0441\\u043e\\u0441\\u0442\\u0430\\u0432\", \"\\u0441\\u043e\\u0442\\u0440\\u0443\\u0434\\u043d\\u0438\\u043a\", \"\\u0441\\u043e\\u0442\\u0440\\u0443\\u0434\\u043d\\u0438\\u043a\", \"\\u0441\\u043e\\u0442\\u0440\\u0443\\u0434\\u043d\\u0438\\u043a\", \"\\u0441\\u043e\\u0442\\u0440\\u0443\\u0434\\u043d\\u0438\\u043a\", \"\\u0441\\u043e\\u0442\\u0440\\u0443\\u0434\\u043d\\u0438\\u043a\", \"\\u0441\\u043e\\u0442\\u0440\\u0443\\u0434\\u043d\\u0438\\u043a\", \"\\u0441\\u043e\\u0442\\u0440\\u0443\\u0434\\u043d\\u0438\\u043a\", \"\\u0441\\u043f\\u0430\\u0441\\u0438\\u0431\\u043e\", \"\\u0441\\u043f\\u0430\\u0441\\u0438\\u0431\\u043e\", \"\\u0441\\u043f\\u0435\\u0446\\u0438\\u0430\\u043b\\u0438\\u0441\\u0442\", \"\\u0441\\u043f\\u0438\\u0441\\u0430\\u043d\\u0438\\u0435\", \"\\u0441\\u043f\\u0438\\u0441\\u0430\\u0442\\u044c\", \"\\u0441\\u043f\\u043e\\u0441\\u043e\\u0431\", \"\\u0441\\u043f\\u0440\\u0430\\u0432\\u043a\\u0430\", \"\\u0441\\u043f\\u0443\\u0441\\u0442\\u044f\", \"\\u0441\\u0440\\u0435\\u0434\\u0441\\u0442\\u0432\\u043e\", \"\\u0441\\u0440\\u0435\\u0434\\u0441\\u0442\\u0432\\u043e\", \"\\u0441\\u0440\\u0435\\u0434\\u0441\\u0442\\u0432\\u043e\", \"\\u0441\\u0440\\u043e\\u043a\", \"\\u0441\\u0440\\u043e\\u043a\", \"\\u0441\\u0440\\u043e\\u043a\", \"\\u0441\\u0440\\u043e\\u043a\", \"\\u0441\\u0440\\u043e\\u043a\", \"\\u0441\\u0440\\u043e\\u043a\", \"\\u0441\\u0440\\u043e\\u043a\", \"\\u0441\\u0441\\u044b\\u043b\\u0430\\u0442\\u044c\\u0441\\u044f\", \"\\u0441\\u0441\\u044b\\u043b\\u0430\\u0442\\u044c\\u0441\\u044f\", \"\\u0441\\u0441\\u044b\\u043b\\u0430\\u0442\\u044c\\u0441\\u044f\", \"\\u0441\\u0442\\u0430\\u0442\\u0443\\u0441\", \"\\u0441\\u0442\\u0430\\u0442\\u044c\", \"\\u0441\\u0442\\u0430\\u0442\\u044c\", \"\\u0441\\u0442\\u0430\\u0442\\u044c\", \"\\u0441\\u0442\\u0430\\u0442\\u044c\\u044f\", \"\\u0441\\u0442\\u043e\\u0438\\u043c\\u043e\\u0441\\u0442\\u044c\", \"\\u0441\\u0442\\u043e\\u0438\\u043c\\u043e\\u0441\\u0442\\u044c\", \"\\u0441\\u0442\\u043e\\u0438\\u043c\\u043e\\u0441\\u0442\\u044c\", \"\\u0441\\u0442\\u0440\\u0430\\u0445\\u043e\\u0432\\u043e\\u0439\", \"\\u0441\\u0443\\u043c\\u043c\\u0430\", \"\\u0441\\u0443\\u043c\\u043c\\u0430\", \"\\u0441\\u0443\\u043c\\u043c\\u0430\", \"\\u0441\\u0443\\u043c\\u043c\\u0430\", \"\\u0441\\u0443\\u043c\\u043c\\u0430\", \"\\u0441\\u0443\\u0442\\u043a\\u0438\", \"\\u0441\\u0444\\u0435\\u0440\\u0430\", \"\\u0441\\u0447\\u0451\\u0442\", \"\\u0441\\u0447\\u0451\\u0442\", \"\\u0441\\u0447\\u0451\\u0442\", \"\\u0442\\u0430\\u043a\\u0436\\u0435\", \"\\u0442\\u0430\\u043a\\u0436\\u0435\", \"\\u0442\\u0430\\u043a\\u0436\\u0435\", \"\\u0442\\u0430\\u043a\\u0436\\u0435\", \"\\u0442\\u0430\\u043a\\u0436\\u0435\", \"\\u0442\\u0430\\u043a\\u0436\\u0435\", \"\\u0442\\u0430\\u043a\\u0436\\u0435\", \"\\u0442\\u0430\\u043a\\u0436\\u0435\", \"\\u0442\\u0430\\u043a\\u0436\\u0435\", \"\\u0442\\u0430\\u043a\\u0438\", \"\\u0442\\u0430\\u0440\\u0430\\u043a\\u0430\\u043d\", \"\\u0442\\u0430\\u0440\\u0438\\u0444\", \"\\u0442\\u0435\\u043b\\u0435\\u0432\\u0438\\u0437\\u043e\\u0440\", \"\\u0442\\u0435\\u043b\\u0435\\u0444\\u043e\\u043d\", \"\\u0442\\u0435\\u043b\\u0435\\u0444\\u043e\\u043d\", \"\\u0442\\u0435\\u043b\\u0435\\u0444\\u043e\\u043d\", \"\\u0442\\u0435\\u043b\\u0435\\u0444\\u043e\\u043d\", \"\\u0442\\u0435\\u043b\\u0435\\u0444\\u043e\\u043d\", \"\\u0442\\u0435\\u043b\\u0435\\u0444\\u043e\\u043d\", \"\\u0442\\u0435\\u0441\\u0442\", \"\\u0442\\u0435\\u0445\\u043d\\u0438\\u043a\\u0430\", \"\\u0442\\u0435\\u0445\\u043d\\u0438\\u0447\\u0435\\u0441\\u043a\\u0438\\u0439\", \"\\u0442\\u043e\\u0432\\u0430\\u0440\", \"\\u0442\\u043e\\u0432\\u0430\\u0440\", \"\\u0442\\u043e\\u0432\\u0430\\u0440\", \"\\u0442\\u043e\\u0432\\u0430\\u0440\", \"\\u0442\\u043e\\u0432\\u0430\\u0440\\u043d\\u044b\\u0439\", \"\\u0442\\u043e\\u0440\\u0433\\u043e\\u0432\\u044b\\u0439\", \"\\u0442\\u0440\\u0430\\u043d\\u0441\\u043f\\u043e\\u0440\\u0442\\u043d\\u044b\\u0439\", \"\\u0442\\u0440\\u0435\\u0431\\u043e\\u0432\\u0430\\u043d\\u0438\\u0435\", \"\\u0442\\u0440\\u0435\\u0431\\u043e\\u0432\\u0430\\u043d\\u0438\\u0435\", \"\\u0442\\u0440\\u0435\\u0431\\u043e\\u0432\\u0430\\u043d\\u0438\\u0435\", \"\\u0442\\u0440\\u0435\\u0431\\u043e\\u0432\\u0430\\u043d\\u0438\\u0435\", \"\\u0442\\u0440\\u0435\\u0431\\u043e\\u0432\\u0430\\u043d\\u0438\\u0435\", \"\\u0442\\u0440\\u0435\\u0431\\u043e\\u0432\\u0430\\u0442\\u044c\", \"\\u0442\\u0440\\u0435\\u0442\\u0438\\u0439\", \"\\u0442\\u0443\\u0440\", \"\\u0442\\u044b\\u0441\\u044f\\u0447\\u0430\", \"\\u0443\\u0432\\u0435\\u0434\\u043e\\u043c\\u0438\\u0442\\u044c\", \"\\u0443\\u0437\\u043d\\u0430\\u0442\\u044c\", \"\\u0443\\u043a\\u0430\\u0437\\u0430\\u043d\\u043d\\u044b\\u0439\", \"\\u0443\\u043a\\u0430\\u0437\\u0430\\u043d\\u043d\\u044b\\u0439\", \"\\u0443\\u043a\\u0430\\u0437\\u0430\\u043d\\u043d\\u044b\\u0439\", \"\\u0443\\u043a\\u0430\\u0437\\u044b\\u0432\\u0430\\u0442\\u044c\", \"\\u0443\\u043b\\u0438\\u0446\\u0430\", \"\\u0443\\u043b\\u0438\\u0446\\u0430\", \"\\u0443\\u043f\\u0430\\u043a\\u043e\\u0432\\u043a\\u0430\", \"\\u0443\\u043f\\u0430\\u043a\\u043e\\u0432\\u043a\\u0430\", \"\\u0443\\u043f\\u0440\\u0430\\u0432\\u043b\\u044f\\u0442\\u044c\", \"\\u0443\\u043f\\u0440\\u0430\\u0432\\u043b\\u044f\\u0442\\u044c\", \"\\u0443\\u0441\\u043b\\u0443\\u0433\\u0430\", \"\\u0443\\u0441\\u043b\\u0443\\u0433\\u0430\", \"\\u0443\\u0441\\u043b\\u0443\\u0433\\u0430\", \"\\u0443\\u0441\\u043b\\u0443\\u0433\\u0430\", \"\\u0443\\u0441\\u0442\\u0430\\u043d\\u043e\\u0432\\u043b\\u0435\\u043d\\u043d\\u044b\\u0439\", \"\\u0443\\u0441\\u0442\\u0430\\u043d\\u043e\\u0432\\u043b\\u0435\\u043d\\u043d\\u044b\\u0439\", \"\\u0443\\u0442\\u0432\\u0435\\u0440\\u0436\\u0434\\u0435\\u043d\\u0438\\u0435\", \"\\u0443\\u0444\\u0430\", \"\\u0444\\u0430\\u043a\\u0442\", \"\\u0444\\u0430\\u043a\\u0442\", \"\\u0444\\u0430\\u043a\\u0442\", \"\\u0444\\u0430\\u043a\\u0442\", \"\\u0444\\u0438\\u0440\\u043c\\u0430\", \"\\u0444\\u043e\\u0442\\u043e\", \"\\u0444\\u043e\\u0442\\u043e\", \"\\u0445\\u043e\\u0434\\u0438\\u0442\\u044c\", \"\\u0445\\u043e\\u0434\\u0438\\u0442\\u044c\", \"\\u0445\\u043e\\u043b\\u043e\\u0434\\u0438\\u043b\\u044c\\u043d\\u0438\\u043a\", \"\\u0445\\u043e\\u0442\\u0435\\u0442\\u044c\", \"\\u0445\\u043e\\u0442\\u0435\\u0442\\u044c\", \"\\u0445\\u043e\\u0442\\u0435\\u0442\\u044c\", \"\\u0446\\u0432\\u0435\\u0442\", \"\\u0446\\u0432\\u0435\\u0442\", \"\\u0446\\u0432\\u0435\\u0442\", \"\\u0446\\u0435\\u043b\\u044c\", \"\\u0446\\u0435\\u043b\\u044c\", \"\\u0446\\u0435\\u043b\\u044c\", \"\\u0446\\u0435\\u043d\\u0430\", \"\\u0446\\u0435\\u043d\\u043d\\u0438\\u043a\", \"\\u0446\\u0435\\u043d\\u0442\\u0440\", \"\\u0446\\u0435\\u043d\\u0442\\u0440\", \"\\u0446\\u0435\\u043d\\u0442\\u0440\", \"\\u0447\\u0430\\u0441\\u044b\", \"\\u0447\\u0430\\u0442\", \"\\u0447\\u0435\\u043a\", \"\\u0447\\u0435\\u043a\", \"\\u0447\\u0435\\u043a\", \"\\u0447\\u0435\\u043a\", \"\\u0447\\u0435\\u043a\", \"\\u0448\\u043a\\u043e\\u043b\\u0430\", \"\\u0448\\u0443\\u043c\", \"\\u044d\\u043a\\u0441\\u043f\\u0435\\u0440\\u0442\\u0438\\u0437\\u0430\", \"\\u044d\\u043a\\u0441\\u043f\\u043b\\u0443\\u0430\\u0442\\u0430\\u0446\\u0438\\u044f\", \"\\u044d\\u043a\\u0441\\u043f\\u043b\\u0443\\u0430\\u0442\\u0430\\u0446\\u0438\\u044f\", \"\\u044d\\u043b\\u0435\\u043a\\u0442\\u0440\\u043e\\u043d\\u043d\\u044b\\u0439\", \"\\u044d\\u043b\\u0435\\u043a\\u0442\\u0440\\u043e\\u043d\\u043d\\u044b\\u0439\", \"\\u044d\\u043b\\u0435\\u043a\\u0442\\u0440\\u043e\\u043d\\u043d\\u044b\\u0439\", \"\\u044d\\u043b\\u0435\\u043a\\u0442\\u0440\\u043e\\u043d\\u043d\\u044b\\u0439\", \"\\u044d\\u043f\\u0438\\u0434\\u0435\\u043c\\u0438\\u043e\\u043b\\u043e\\u0433\\u0438\\u0447\\u0435\\u0441\\u043a\\u0438\\u0439\", \"\\u044f\\u0432\\u043b\\u044f\\u0442\\u044c\\u0441\\u044f\", \"\\u044f\\u043a\\u043e\\u0431\\u044b\", \"\\u044f\\u043d\\u0434\\u0435\\u043a\\u0441\", \"\\u044f\\u043d\\u0434\\u0435\\u043a\\u0441\"]}, \"R\": 30, \"lambda.step\": 0.01, \"plot.opts\": {\"xlab\": \"PC1\", \"ylab\": \"PC2\"}, \"topic.order\": [4, 1, 3, 9, 8, 10, 5, 6, 7, 2]};\n",
              "\n",
              "function LDAvis_load_lib(url, callback){\n",
              "  var s = document.createElement('script');\n",
              "  s.src = url;\n",
              "  s.async = true;\n",
              "  s.onreadystatechange = s.onload = callback;\n",
              "  s.onerror = function(){console.warn(\"failed to load library \" + url);};\n",
              "  document.getElementsByTagName(\"head\")[0].appendChild(s);\n",
              "}\n",
              "\n",
              "if(typeof(LDAvis) !== \"undefined\"){\n",
              "   // already loaded: just create the visualization\n",
              "   !function(LDAvis){\n",
              "       new LDAvis(\"#\" + \"ldavis_el601398398800528167789559556\", ldavis_el601398398800528167789559556_data);\n",
              "   }(LDAvis);\n",
              "}else if(typeof define === \"function\" && define.amd){\n",
              "   // require.js is available: use it to load d3/LDAvis\n",
              "   require.config({paths: {d3: \"https://d3js.org/d3.v5\"}});\n",
              "   require([\"d3\"], function(d3){\n",
              "      window.d3 = d3;\n",
              "      LDAvis_load_lib(\"https://cdn.jsdelivr.net/gh/bmabey/pyLDAvis@3.3.1/pyLDAvis/js/ldavis.v3.0.0.js\", function(){\n",
              "        new LDAvis(\"#\" + \"ldavis_el601398398800528167789559556\", ldavis_el601398398800528167789559556_data);\n",
              "      });\n",
              "    });\n",
              "}else{\n",
              "    // require.js not available: dynamically load d3 & LDAvis\n",
              "    LDAvis_load_lib(\"https://d3js.org/d3.v5.js\", function(){\n",
              "         LDAvis_load_lib(\"https://cdn.jsdelivr.net/gh/bmabey/pyLDAvis@3.3.1/pyLDAvis/js/ldavis.v3.0.0.js\", function(){\n",
              "                 new LDAvis(\"#\" + \"ldavis_el601398398800528167789559556\", ldavis_el601398398800528167789559556_data);\n",
              "            })\n",
              "         });\n",
              "}\n",
              "</script>"
            ]
          },
          "metadata": {},
          "execution_count": 28
        }
      ]
    },
    {
      "cell_type": "markdown",
      "source": [
        "Заносить слова в стоп-лист можно бесконечно))"
      ],
      "metadata": {
        "id": "MkpWySV-MHuV"
      }
    },
    {
      "cell_type": "code",
      "source": [
        "print('Персплексия: ', np.exp(lda.log_perplexity(corpus)))"
      ],
      "metadata": {
        "colab": {
          "base_uri": "https://localhost:8080/"
        },
        "id": "hN0b6qUMdMxl",
        "outputId": "248cb789-1e1f-44dd-b90a-d37a20a60e47"
      },
      "execution_count": null,
      "outputs": [
        {
          "output_type": "stream",
          "name": "stdout",
          "text": [
            "Персплексия:  0.0008404784915264545\n"
          ]
        }
      ]
    },
    {
      "cell_type": "code",
      "source": [
        "import matplotlib.pyplot as plt\n",
        "%matplotlib inline"
      ],
      "metadata": {
        "id": "AF5lky-EZz0k"
      },
      "execution_count": null,
      "outputs": []
    },
    {
      "cell_type": "code",
      "source": [
        "CoherenceModel(model=lda, texts=df['preprocessed_text'], dictionary=dictionary, coherence='u_mass').get_coherence()"
      ],
      "metadata": {
        "colab": {
          "base_uri": "https://localhost:8080/"
        },
        "id": "xEaIANteOxdJ",
        "outputId": "afdcdc3b-4aaf-4598-d4eb-b890083077ea"
      },
      "execution_count": null,
      "outputs": [
        {
          "output_type": "execute_result",
          "data": {
            "text/plain": [
              "-4.136846694642395"
            ]
          },
          "metadata": {},
          "execution_count": 52
        }
      ]
    },
    {
      "cell_type": "code",
      "source": [
        "topics_list = list(range(3, 26))\n",
        "coherences = []\n",
        "\n",
        "for num in tqdm(topics_list):\n",
        "    lda = ldamodel.LdaModel(corpus, id2word=dictionary, num_topics=num, chunksize=150, update_every=1, passes=3)\n",
        "    coherences.append(CoherenceModel(model=lda, texts=df['preprocessed_text'], dictionary=dictionary, coherence='u_mass').get_coherence())\n",
        "\n",
        "plt.plot(topics_list, coherences)\n",
        "plt.xlabel(\"Число тем\")\n",
        "plt.ylabel(\"Средняя когерентность\")\n",
        "plt.show()"
      ],
      "metadata": {
        "colab": {
          "base_uri": "https://localhost:8080/",
          "height": 311,
          "referenced_widgets": [
            "cef100aa25af44cb8b7b0727d4e126c4",
            "302310f02e0940c485040cacaa7fe58c",
            "80fc6867f3ce4f48a64d52741e3e522d",
            "83b69fdd7ce249b5bf6dad088c1a1f12",
            "632650e816ea47d7831d72afc2e87cc4",
            "cc13517b26a544599f741e752b713336",
            "7b930be3edf4451394b96fec5de25a77",
            "53f95979c7dc46c2a46f9b35c535916e",
            "0bab880d98444a2c97207297e0df4568",
            "79c053efb38a408784382932ac80c5b5",
            "4eb1716f054b460c860de38e0b3add6c"
          ]
        },
        "id": "HhO3ogxqZ0RK",
        "outputId": "f261b5d0-6d32-4703-f4bb-cfe4c610771c"
      },
      "execution_count": null,
      "outputs": [
        {
          "output_type": "display_data",
          "data": {
            "text/plain": [
              "  0%|          | 0/23 [00:00<?, ?it/s]"
            ],
            "application/vnd.jupyter.widget-view+json": {
              "version_major": 2,
              "version_minor": 0,
              "model_id": "cef100aa25af44cb8b7b0727d4e126c4"
            }
          },
          "metadata": {}
        },
        {
          "output_type": "display_data",
          "data": {
            "text/plain": [
              "<Figure size 432x288 with 1 Axes>"
            ],
            "image/png": "[encoded data removed]"
          },
          "metadata": {
            "needs_background": "light"
          }
        }
      ]
    },
    {
      "cell_type": "markdown",
      "source": [
        "Выбираю оптимальным делить вопросы на 6 тем."
      ],
      "metadata": {
        "id": "_N-0cTERf2dL"
      }
    },
    {
      "cell_type": "code",
      "source": [
        "lda = ldamodel.LdaModel(corpus, id2word=dictionary, num_topics=6, chunksize=50, update_every=1, passes=2)\n",
        "vis_data = gensimvis.prepare(lda, corpus, dictionary)\n",
        "pyLDAvis.display(vis_data)"
      ],
      "metadata": {
        "colab": {
          "base_uri": "https://localhost:8080/",
          "height": 916
        },
        "id": "EcSANVpkgzWC",
        "outputId": "56ff2144-9d0f-432b-e4b6-c3c8b4202c6e"
      },
      "execution_count": null,
      "outputs": [
        {
          "output_type": "stream",
          "name": "stderr",
          "text": [
            "/usr/local/lib/python3.7/dist-packages/pyLDAvis/_prepare.py:247: FutureWarning: In a future version of pandas all arguments of DataFrame.drop except for the argument 'labels' will be keyword-only\n",
            "  by='saliency', ascending=False).head(R).drop('saliency', 1)\n"
          ]
        },
        {
          "output_type": "execute_result",
          "data": {
            "text/plain": [
              "<IPython.core.display.HTML object>"
            ],
            "text/html": [
              "\n",
              "<link rel=\"stylesheet\" type=\"text/css\" href=\"https://cdn.jsdelivr.net/gh/bmabey/pyLDAvis@3.3.1/pyLDAvis/js/ldavis.v1.0.0.css\">\n",
              "\n",
              "\n",
              "<div id=\"ldavis_el601398397951779361709478950\"></div>\n",
              "<script type=\"text/javascript\">\n",
              "\n",
              "var ldavis_el601398397951779361709478950_data = {\"mdsDat\": {\"x\": [0.052082305794728626, 0.22285910357604813, 0.23556969775100722, -0.06561723862590653, -0.21861016659847768, -0.22628370189739996], \"y\": [-0.16260316491019833, 0.05666801511214545, 0.1369656647695085, -0.27040405596448036, -0.0002648084183036447, 0.2396383494113283], \"topics\": [1, 2, 3, 4, 5, 6], \"cluster\": [1, 1, 1, 1, 1, 1], \"Freq\": [30.184363608659343, 24.887485041963707, 12.652924191924484, 12.008141410510117, 10.483288159031089, 9.783797587911259]}, \"tinfo\": {\"Term\": [\"\\u0442\\u043e\\u0432\\u0430\\u0440\", \"\\u043c\\u0430\\u0433\\u0430\\u0437\\u0438\\u043d\", \"\\u0441\\u0440\\u0435\\u0434\\u0441\\u0442\\u0432\\u043e\", \"\\u0443\\u0441\\u043b\\u0443\\u0433\\u0430\", \"\\u0432\\u043e\\u0437\\u0432\\u0440\\u0430\\u0442\", \"\\u0437\\u0430\\u043a\\u0430\\u0437\", \"\\u0434\\u043e\\u0433\\u043e\\u0432\\u043e\\u0440\", \"\\u043f\\u0440\\u043e\\u0434\\u0430\\u0432\\u0435\\u0446\", \"\\u0434\\u0435\\u043d\\u044c\\u0433\\u0430\", \"\\u0440\\u0435\\u0431\\u0451\\u043d\\u043e\\u043a\", \"\\u043a\\u0430\\u0440\\u0442\\u0430\", \"\\u0434\\u0435\\u043d\\u0435\\u0436\\u043d\\u044b\\u0439\", \"\\u0434\\u043e\\u043c\", \"\\u0434\\u0435\\u043a\\u0430\\u0431\\u0440\\u044c\", \"\\u0445\\u043e\\u0442\\u0435\\u0442\\u044c\", \"\\u0432\\u0435\\u0440\\u043d\\u0443\\u0442\\u044c\", \"\\u0434\\u043e\\u0441\\u0442\\u0430\\u0432\\u043a\\u0430\", \"\\u0437\\u0430\\u044f\\u0432\\u043b\\u0435\\u043d\\u0438\\u0435\", \"\\u0432\\u043e\\u0434\\u0430\", \"\\u044d\\u043b\\u0435\\u043a\\u0442\\u0440\\u043e\\u043d\\u043d\\u044b\\u0439\", \"\\u043d\\u0430\\u0445\\u043e\\u0434\\u0438\\u0442\\u044c\\u0441\\u044f\", \"\\u0442\\u0435\\u0441\\u0442\", \"\\u043d\\u043e\\u044f\\u0431\\u0440\\u044c\", \"\\u043a\\u043e\\u043c\\u043f\\u0430\\u043d\\u0438\\u044f\", \"\\u0443\\u0441\\u043b\\u043e\\u0432\\u0438\\u0435\", \"\\u043f\\u043e\\u043a\\u0443\\u043f\\u043a\\u0430\", \"\\u0430\\u043a\\u0442\", \"\\u043a\\u0432\\u0430\\u0440\\u0442\\u0438\\u0440\\u0430\", \"\\u0438\\u043d\\u0442\\u0435\\u0440\\u043d\\u0435\\u0442\", \"\\u0432\\u0430\\u043a\\u0446\\u0438\\u043d\\u0430\\u0446\\u0438\\u044f\", \"\\u0440\\u0435\\u0437\\u0443\\u043b\\u044c\\u0442\\u0430\\u0442\", \"\\u043d\\u0430\\u0440\\u0443\\u0448\\u0435\\u043d\\u0438\\u0435\", \"\\u043a\\u043e\\u0434\", \"\\u0445\\u043e\\u0442\\u044f\", \"\\u0447\\u0430\\u0441\", \"\\u043c\\u0430\\u0448\\u0438\\u043d\\u0430\", \"\\u043c\\u0430\\u0441\\u0442\\u0435\\u0440\", \"\\u043d\\u0438\\u043a\\u0442\\u043e\", \"\\u0437\\u0432\\u043e\\u043d\\u0438\\u0442\\u044c\", \"\\u0441\\u0430\\u043b\\u043e\\u043d\", \"\\u044f\\u043d\\u0432\\u0430\\u0440\\u044c\", \"\\u043f\\u043e\\u043c\\u043e\\u0449\\u044c\", \"\\u043e\\u0431\\u044a\\u044f\\u0441\\u043d\\u0438\\u0442\\u044c\", \"\\u043c\\u0430\\u0440\\u0448\\u0440\\u0443\\u0442\", \"\\u0433\\u043e\\u0441\\u0443\\u0441\\u043b\\u0443\\u0433\\u0430\", \"\\u043a\\u043b\\u0438\\u0435\\u043d\\u0442\", \"\\u0441\\u043b\\u043e\\u0432\\u043e\", \"\\u0432\\u0440\\u0430\\u0447\", \"\\u0433\\u0440\\u0443\\u043f\\u043f\\u0430\", \"\\u0432\\u0435\\u0440\\u043d\\u0443\\u0442\\u044c\\u0441\\u044f\", \"\\u0441\\u0430\\u043c\\u044b\\u0439\", \"\\u0434\\u0430\\u0432\\u0430\\u0442\\u044c\", \"\\u043f\\u0440\\u043e\\u0432\\u0435\\u0434\\u0435\\u043d\\u0438\\u0435\", \"\\u043c\\u0438\\u043d\\u0443\\u0442\\u0430\", \"\\u0440\\u043e\\u0441\\u0442\\u0435\\u043b\\u0435\\u043a\\u043e\\u043c\", \"\\u044f\\u043a\\u043e\\u0431\\u044b\", \"\\u043d\\u0435\\u0432\\u043e\\u0437\\u043c\\u043e\\u0436\\u043d\\u043e\", \"\\u0430\\u0432\\u0442\\u043e\\u0431\\u0443\\u0441\", \"\\u0435\\u0445\\u0430\\u0442\\u044c\", \"\\u0432\\u0430\\u0448\", \"\\u0431\\u0430\\u043d\\u043a\", \"\\u043d\\u043e\\u043c\\u0435\\u0440\", \"\\u0434\\u0435\\u0442\\u0441\\u043a\\u0438\\u0439\", \"\\u0440\\u0443\\u043a\\u0430\", \"\\u043c\\u0442\\u0441\", \"\\u0441\\u043e\\u0442\\u0440\\u0443\\u0434\\u043d\\u0438\\u043a\", \"\\u0437\\u0432\\u043e\\u043d\\u043e\\u043a\", \"\\u0442\\u0435\\u043b\\u0435\\u0444\\u043e\\u043d\", \"\\u0440\\u0430\\u0437\\u043e\\u0431\\u0440\\u0430\\u0442\\u044c\\u0441\\u044f\", \"\\u043a\\u043e\\u043c\\u043f\\u0430\\u043d\\u0438\\u044f\", \"\\u0441\\u043d\\u043e\\u0432\\u0430\", \"\\u043e\\u0431\\u0440\\u0430\\u0442\\u0438\\u0442\\u044c\\u0441\\u044f\", \"\\u0433\\u043e\\u0440\\u044f\\u0447\\u0438\\u0439\", \"\\u043b\\u0438\\u0447\\u043d\\u044b\\u0439\", \"\\u043f\\u043e\\u0437\\u0432\\u043e\\u043d\\u0438\\u0442\\u044c\", \"\\u043b\\u0438\\u043d\\u0438\\u044f\", \"\\u0434\\u0430\\u0442\\u044c\", \"\\u0434\\u043e\\u043a\\u0443\\u043c\\u0435\\u043d\\u0442\", \"\\u0441\\u0438\\u0442\\u0443\\u0430\\u0446\\u0438\\u044f\", \"\\u0441\\u0432\\u043e\\u0439\", \"\\u0432\\u0441\\u0451\", \"\\u043e\\u043f\\u0435\\u0440\\u0430\\u0442\\u043e\\u0440\", \"\\u043e\\u0442\\u0432\\u0435\\u0442\", \"\\u043a\\u043e\\u0442\\u043e\\u0440\\u044b\\u0439\", \"\\u0432\\u0440\\u0435\\u043c\\u044f\", \"\\u0432\\u0435\\u0441\\u044c\", \"\\u0440\\u0430\\u0431\\u043e\\u0442\\u0430\", \"\\u0441\\u0434\\u0435\\u043b\\u0430\\u0442\\u044c\", \"\\u043f\\u043e\\u043b\\u0443\\u0447\\u0435\\u043d\\u0438\\u0435\", \"\\u043f\\u043e\\u043b\\u0443\\u0447\\u0438\\u0442\\u044c\", \"\\u0441\\u0432\\u044f\\u0437\\u044c\", \"\\u0434\\u043e\\u043b\\u0436\\u043d\\u044b\\u0439\", \"\\u0436\\u0430\\u043b\\u043e\\u0431\\u0430\", \"\\u043f\\u0440\\u0438\\u0439\\u0442\\u0438\", \"\\u0435\\u0449\\u0451\", \"\\u0442\\u043e\\u0432\\u0430\\u0440\", \"\\u043f\\u0440\\u043e\\u0434\\u0430\\u0432\\u0435\\u0446\", \"\\u0437\\u0430\\u043a\\u0430\\u0437\", \"\\u0434\\u043e\\u0441\\u0442\\u0430\\u0432\\u043a\\u0430\", \"\\u0446\\u0435\\u043d\\u0430\", \"\\u044f\\u0432\\u043b\\u044f\\u0442\\u044c\\u0441\\u044f\", \"\\u043f\\u043e\\u043a\\u0443\\u043f\\u043a\\u0430\", \"\\u0432\\u044b\\u0434\\u0430\\u0447\\u0430\", \"\\u0437\\u0430\\u043a\\u0430\\u0437\\u0430\\u0442\\u044c\", \"\\u043f\\u0440\\u043e\\u0434\\u0430\\u0436\\u0430\", \"\\u043f\\u043e\\u043a\\u0443\\u043f\\u0430\\u0442\\u0435\\u043b\\u044c\", \"\\u044d\\u043a\\u0441\\u043f\\u0435\\u0440\\u0442\\u0438\\u0437\\u0430\", \"\\u043e\\u0437\\u043e\\u043d\", \"\\u043e\\u0444\\u043e\\u0440\\u043c\\u043b\\u0435\\u043d\\u0438\\u0435\", \"\\u0434\\u043e\\u0441\\u0442\\u0430\\u0432\\u0438\\u0442\\u044c\", \"\\u043d\\u0430\\u0443\\u0448\\u043d\\u0438\\u043a\", \"\\u043a\\u043e\\u0440\\u043e\\u0431\\u043a\\u0430\", \"\\u043f\\u043e\\u0434\\u0442\\u0432\\u0435\\u0440\\u0434\\u0438\\u0442\\u044c\", \"\\u043e\\u0431\\u0443\\u0432\\u044c\", \"\\u0441\\u043c\\u0441\", \"\\u0431\\u0440\\u0430\\u043a\", \"\\u0441\\u0431\\u0435\\u0440\\u043c\\u0435\\u0433\\u0430\\u043c\\u0430\\u0440\\u043a\\u0435\\u0442\", \"\\u0434\\u0435\\u0444\\u0435\\u043a\\u0442\", \"\\u0433\\u0430\\u0440\\u0430\\u043d\\u0442\\u0438\\u0439\\u043d\\u044b\\u0439\", \"\\u0442\\u043e\\u0432\\u0430\\u0440\\u043d\\u044b\\u0439\", \"wildberries\", \"\\u0443\\u043f\\u0430\\u043a\\u043e\\u0432\\u043a\\u0430\", \"ozon\", \"\\u043e\\u0431\\u043c\\u0435\\u043d\\u044f\\u0442\\u044c\", \"\\u0441\\u043e\\u0441\\u043b\\u0430\\u0442\\u044c\\u0441\\u044f\", \"\\u043c\\u0430\\u0433\\u0430\\u0437\\u0438\\u043d\", \"\\u0441\\u0435\\u0440\\u0432\\u0438\\u0441\\u043d\\u044b\\u0439\", \"\\u043d\\u0430\\u0434\\u043b\\u0435\\u0436\\u0430\\u0449\\u0438\\u0439\", \"\\u0447\\u0435\\u043a\", \"\\u0438\\u043d\\u0442\\u0435\\u0440\\u043d\\u0435\\u0442\", \"\\u0432\\u0435\\u0440\\u043d\\u0443\\u0442\\u044c\", \"\\u043a\\u0443\\u043f\\u0438\\u0442\\u044c\", \"\\u043f\\u0440\\u0438\\u043e\\u0431\\u0440\\u0435\\u0441\\u0442\\u0438\", \"\\u043e\\u0431\\u043d\\u0430\\u0440\\u0443\\u0436\\u0438\\u0442\\u044c\", \"\\u0434\\u0435\\u043d\\u044c\\u0433\\u0430\", \"\\u043a\\u0430\\u0447\\u0435\\u0441\\u0442\\u0432\\u043e\", \"\\u043e\\u0442\\u043a\\u0430\\u0437\\u0430\\u0442\\u044c\\u0441\\u044f\", \"\\u0441\\u0430\\u0439\\u0442\", \"\\u043f\\u0443\\u043d\\u043a\\u0442\", \"\\u0432\\u043e\\u0437\\u0432\\u0440\\u0430\\u0442\", \"\\u043e\\u0442\\u043a\\u0430\\u0437\\u0430\\u0442\\u044c\", \"\\u0441\\u0440\\u043e\\u043a\", \"\\u0441\\u0442\\u043e\\u0438\\u043c\\u043e\\u0441\\u0442\\u044c\", \"\\u043f\\u043e\\u043b\\u0443\\u0447\\u0438\\u0442\\u044c\", \"\\u043e\\u043f\\u043b\\u0430\\u0442\\u0438\\u0442\\u044c\", \"\\u043f\\u0440\\u0438\\u0439\\u0442\\u0438\", \"\\u043a\\u043e\\u0442\\u043e\\u0440\\u044b\\u0439\", \"\\u044d\\u043b\\u0435\\u043a\\u0442\\u0440\\u043e\\u043d\\u043d\\u044b\\u0439\", \"\\u043d\\u043e\\u044f\\u0431\\u0440\\u044c\", \"\\u0441\\u043f\\u0440\\u0430\\u0432\\u043a\\u0430\", \"\\u0442\\u0443\\u0440\", \"\\u0431\\u0438\\u043b\\u0435\\u0442\", \"\\u043e\\u0442\\u043c\\u0435\\u043d\\u0438\\u0442\\u044c\", \"\\u043a\\u043e\\u0432\\u0438\\u0434\", \"\\u0437\\u0430\\u044f\\u0432\\u043b\\u0435\\u043d\\u0438\\u0435\", \"\\u043f\\u043e\\u0434\\u0442\\u0432\\u0435\\u0440\\u0436\\u0434\\u0435\\u043d\\u0438\\u0435\", \"\\u0443\\u0432\\u0435\\u0434\\u043e\\u043c\\u043b\\u0435\\u043d\\u0438\\u0435\", \"\\u043f\\u0440\\u0438\\u043d\\u0438\\u043c\\u0430\\u0442\\u044c\", \"\\u043f\\u0435\\u0440\\u0435\\u043d\\u0435\\u0441\\u0442\\u0438\", \"\\u0432\\u043b\\u043e\\u0436\\u0435\\u043d\\u0438\\u0435\", \"\\u043f\\u043e\\u0435\\u0437\\u0434\\u043a\\u0430\", \"\\u0442\\u0430\\u0440\\u0438\\u0444\", \"\\u043e\\u0442\\u043c\\u0435\\u043d\\u043d\\u044b\\u0439\", \"\\u043f\\u0430\\u043d\\u0434\\u0435\\u043c\\u0438\\u044f\", \"\\u0441\\u043f\\u0438\\u0441\\u0430\\u043d\\u0438\\u0435\", \"\\u043e\\u043f\\u0435\\u0440\\u0430\\u0446\\u0438\\u044f\", \"\\u043e\\u0442\\u043c\\u0435\\u043d\\u0430\", \"\\u0440\\u0435\\u0439\\u0441\", \"\\u043c\\u0435\\u0440\\u043e\\u043f\\u0440\\u0438\\u044f\\u0442\\u0438\\u0435\", \"\\u0432\\u044b\\u0437\\u0432\\u0430\\u0442\\u044c\", \"\\u0442\\u0435\\u043b\\u0435\\u0432\\u0438\\u0437\\u043e\\u0440\", \"\\u043f\\u0440\\u0438\\u043b\\u043e\\u0436\\u0438\\u0442\\u044c\", \"\\u043c\\u0438\\u0440\", \"\\u0437\\u0430\\u043a\\u043e\\u043d\\u043d\\u043e\", \"\\u0440\\u0430\\u0441\\u0441\\u043c\\u043e\\u0442\\u0440\\u0435\\u043d\\u0438\\u0435\", \"\\u043e\\u0442\\u043a\\u0430\\u0437\\u044b\\u0432\\u0430\\u0442\\u044c\", \"\\u0441\\u0435\\u043d\\u0442\\u044f\\u0431\\u0440\\u044c\", \"\\u043f\\u043e\\u0440\\u0430\", \"\\u0441\\u043f\\u0438\\u0441\\u0430\\u0442\\u044c\", \"\\u043a\\u0430\\u0440\\u0442\\u0430\", \"\\u0441\\u0435\\u0439\", \"\\u0434\\u0435\\u043d\\u0435\\u0436\\u043d\\u044b\\u0439\", \"\\u0441\\u0440\\u0435\\u0434\\u0441\\u0442\\u0432\\u043e\", \"\\u0441\\u0431\\u0435\\u0440\\u0431\\u0430\\u043d\\u043a\", \"\\u0434\\u0430\\u0442\\u0430\", \"\\u0432\\u043e\\u0437\\u0432\\u0440\\u0430\\u0442\", \"\\u043f\\u0440\\u043e\\u0439\\u0442\\u0438\", \"\\u043e\\u043f\\u043b\\u0430\\u0442\\u0430\", \"\\u043f\\u043e\\u0447\\u0442\\u0430\", \"\\u0434\\u0435\\u043d\\u044c\\u0433\\u0430\", \"\\u0441\\u0441\\u044b\\u043b\\u0430\\u0442\\u044c\\u0441\\u044f\", \"\\u043f\\u043e\\u0441\\u0442\\u0443\\u043f\\u0438\\u0442\\u044c\", \"\\u0441\\u0443\\u043c\\u043c\\u0430\", \"\\u0441\\u0440\\u043e\\u043a\", \"\\u0432\\u0435\\u0440\\u043d\\u0443\\u0442\\u044c\", \"\\u043f\\u0438\\u0441\\u044c\\u043c\\u043e\", \"\\u043e\\u0442\\u043a\\u0430\\u0437\", \"\\u043e\\u043f\\u043b\\u0430\\u0442\\u0438\\u0442\\u044c\", \"\\u0441\\u0432\\u044f\\u0437\\u044c\", \"\\u043e\\u0442\\u0432\\u0435\\u0442\", \"\\u0445\\u043e\\u0442\\u0435\\u0442\\u044c\", \"\\u0430\\u043a\\u0442\", \"\\u0432\\u043e\\u0434\\u0430\", \"\\u043b\\u0438\\u0446\\u043e\", \"\\u0441\\u0435\\u0440\\u0442\\u0438\\u0444\\u0438\\u043a\\u0430\\u0442\", \"\\u0433\\u0430\\u0440\\u0430\\u043d\\u0442\\u0438\\u044f\", \"\\u0443\\u043b\\u0438\\u0446\\u0430\", \"\\u043f\\u0440\\u0435\\u0434\\u043e\\u043f\\u043b\\u0430\\u0442\\u0430\", \"\\u0432\\u043e\\u0437\\u043c\\u043e\\u0436\\u043d\\u043e\", \"\\u0437\\u0430\\u043f\\u0430\\u0445\", \"\\u0432\\u044b\\u0439\\u0442\\u0438\", \"\\u043e\\u0442\\u0434\\u0435\\u043b\\u0435\\u043d\\u0438\\u0435\", \"\\u0445\\u043e\\u0434\\u0438\\u0442\\u044c\", \"\\u043e\\u043d\\u043b\\u0430\\u0439\\u043d\", \"\\u043f\\u0440\\u043e\\u0434\\u0443\\u043a\\u0442\", \"\\u0432\\u043d\\u0435\\u0441\\u0442\\u0438\", \"\\u043a\\u0443\\u0440\\u0441\", \"\\u0434\\u043e\\u043f\\u043e\\u043b\\u043d\\u0438\\u0442\\u0435\\u043b\\u044c\\u043d\\u044b\\u0439\", \"\\u0431\\u0440\\u0430\\u0442\\u044c\", \"\\u043f\\u043e\\u0434\\u043b\\u0435\\u0436\\u0430\\u0442\\u044c\", \"\\u043e\\u043a\\u043e\\u043b\\u043e\", \"\\u0437\\u043e\\u043d\\u0430\", \"\\u0441\\u0442\\u0435\\u043d\\u0430\", \"\\u043b\\u0438\\u0447\\u043d\\u043e\", \"\\u043d\\u043e\\u0447\\u044c\", \"\\u043d\\u0430\\u0434\\u0437\\u043e\\u0440\", \"\\u043f\\u043b\\u0430\\u043d\\u0438\\u0440\\u043e\\u0432\\u0430\\u0442\\u044c\", \"\\u0443\\u0447\\u0430\\u0441\\u0442\\u043e\\u043a\", \"\\u043a\\u043b\\u0430\\u0441\\u0441\", \"\\u043e\\u0442\\u043a\\u043b\\u044e\\u0447\\u0435\\u043d\\u0438\\u0435\", \"\\u043f\\u0440\\u043e\\u0436\\u0438\\u0432\\u0430\\u0442\\u044c\", \"\\u043a\\u0432\\u0430\\u0440\\u0442\\u0438\\u0440\\u0430\", \"\\u0441\\u043e\\u0431\\u0438\\u0440\\u0430\\u0442\\u044c\\u0441\\u044f\", \"\\u043d\\u0430\\u0445\\u043e\\u0434\\u0438\\u0442\\u044c\\u0441\\u044f\", \"\\u043d\\u0430\\u0448\", \"\\u0434\\u043e\\u043c\", \"\\u0433\\u043e\\u0440\\u043e\\u0434\", \"\\u0442\\u043e\\u0440\\u0433\\u043e\\u0432\\u044b\\u0439\", \"\\u0440\\u0435\\u043c\\u043e\\u043d\\u0442\", \"\\u043c\\u0435\\u0440\\u0430\", \"\\u0434\\u0435\\u043b\\u0430\\u0442\\u044c\", \"\\u043d\\u0443\\u0436\\u043d\\u043e\", \"\\u0432\\u0441\\u0451\", \"\\u043f\\u043e\\u0434\\u0441\\u043a\\u0430\\u0437\\u0430\\u0442\\u044c\", \"\\u0432\\u0435\\u0441\\u044c\", \"\\u0446\\u0435\\u043d\\u0442\\u0440\", \"\\u043f\\u043e\\u0436\\u0430\\u043b\\u0443\\u0439\\u0441\\u0442\\u0430\", \"\\u043f\\u0440\\u0438\\u043d\\u044f\\u0442\\u044c\", \"\\u0441\\u0432\\u043e\\u0439\", \"\\u0440\\u043e\\u0441\\u0441\\u0438\\u044f\", \"\\u0434\\u043e\\u0433\\u043e\\u0432\\u043e\\u0440\", \"\\u0434\\u0435\\u043a\\u0430\\u0431\\u0440\\u044c\", \"\\u043e\\u0431\\u043b\\u0430\\u0441\\u0442\\u044c\", \"\\u043f\\u043b\\u043e\\u0449\\u0430\\u0434\\u043a\\u0430\", \"\\u043f\\u043e\\u043b\\u044c\\u0437\\u043e\\u0432\\u0430\\u0442\\u044c\\u0441\\u044f\", \"\\u0437\\u0430\\u043a\\u043b\\u044e\\u0447\\u0438\\u0442\\u044c\", \"\\u0443\\u043f\\u0440\\u0430\\u0432\\u043b\\u044f\\u0442\\u044c\", \"\\u0432\\u0442\\u0431\", \"\\u043c\\u043d\\u043e\\u0433\\u043e\\u043a\\u0432\\u0430\\u0440\\u0442\\u0438\\u0440\\u043d\\u044b\\u0439\", \"\\u043f\\u043e\\u043b\\u044c\\u0437\\u043e\\u0432\\u0430\\u043d\\u0438\\u0435\", \"\\u043a\\u043e\\u043c\\u043c\\u0443\\u043d\\u0430\\u043b\\u044c\\u043d\\u044b\\u0439\", \"\\u0438\\u0441\\u043f\\u043e\\u043b\\u043d\\u0438\\u0442\\u0435\\u043b\\u044c\", \"\\u0432\\u044b\\u043f\\u043e\\u043b\\u043d\\u044f\\u0442\\u044c\", \"\\u043f\\u0440\\u043e\\u0445\\u043e\\u0434\\u0438\\u0442\\u044c\", \"\\u043d\\u0435\\u043e\\u0431\\u0445\\u043e\\u0434\\u0438\\u043c\\u043e\", \"\\u043f\\u0430\\u043e\", \"\\u043f\\u043e\\u0434\\u044a\\u0435\\u0437\\u0434\", \"\\u043a\\u0440\\u0435\\u0434\\u0438\\u0442\", \"\\u043f\\u043b\\u0430\\u0442\\u0430\", \"\\u0438\\u043c\\u0443\\u0449\\u0435\\u0441\\u0442\\u0432\\u043e\", \"\\u043e\\u043a\\u0430\\u0437\\u0430\\u043d\\u0438\\u0435\", \"\\u0443\\u0441\\u0442\\u0430\\u043d\\u043e\\u0432\\u043b\\u0435\\u043d\\u043d\\u044b\\u0439\", \"\\u043f\\u0440\\u0438\\u043a\\u0430\\u0437\", \"\\u044e\\u0440\\u0438\\u0434\\u0438\\u0447\\u0435\\u0441\\u043a\\u0438\\u0439\", \"\\u0437\\u0430\\u043a\\u043e\\u043d\\u043e\\u0434\\u0430\\u0442\\u0435\\u043b\\u044c\\u0441\\u0442\\u0432\\u043e\", \"\\u0438\\u0441\\u043f\\u043e\\u043b\\u043d\\u0435\\u043d\\u0438\\u0435\", \"\\u0436\\u0438\\u043b\\u0438\\u0449\\u043d\\u044b\\u0439\", \"\\u0437\\u0430\\u043a\\u0430\\u0437\\u0447\\u0438\\u043a\", \"\\u043a\\u0440\\u0435\\u0434\\u0438\\u0442\\u043d\\u044b\\u0439\", \"\\u0434\\u043e\\u043b\\u0433\", \"\\u0443\\u0441\\u043b\\u043e\\u0432\\u0438\\u0435\", \"\\u0443\\u0441\\u043b\\u0443\\u0433\\u0430\", \"\\u0433\\u0430\\u0437\", \"\\u0436\\u0438\\u043b\\u0435\\u0446\", \"\\u043e\\u0431\\u0449\\u0438\\u0439\", \"\\u0434\\u043e\\u043c\", \"\\u043e\\u043a\\u0442\\u044f\\u0431\\u0440\\u044c\", \"\\u0441\\u0447\\u0451\\u0442\", \"\\u0440\\u0430\\u0437\\u043c\\u0435\\u0440\", \"\\u0442\\u0430\\u043a\\u0436\\u0435\", \"\\u0441\\u043e\\u0433\\u043b\\u0430\\u0441\\u043d\\u043e\", \"\\u043a\\u043e\\u043c\\u043f\\u0430\\u043d\\u0438\\u044f\", \"\\u043e\\u043e\\u043e\", \"\\u043a\\u043e\\u0442\\u043e\\u0440\\u044b\\u0439\", \"\\u0440\\u0435\\u0431\\u0451\\u043d\\u043e\\u043a\", \"\\u0442\\u0435\\u0441\\u0442\", \"\\u0432\\u0430\\u043a\\u0446\\u0438\\u043d\\u0430\\u0446\\u0438\\u044f\", \"\\u043f\\u0440\\u0430\\u0432\\u0438\\u043b\\u043e\", \"\\u043f\\u0446\\u0440\", \"\\u0433\\u0440\\u0430\\u0436\\u0434\\u0430\\u043d\\u0438\\u043d\", \"\\u0441\\u0430\\u043d\\u0438\\u0442\\u0430\\u0440\\u043d\\u044b\\u0439\", \"covid\", \"\\u0440\\u043e\\u0434\\u0438\\u0442\\u0435\\u043b\\u044c\", \"\\u0441\\u0430\\u0434\", \"\\u043c\\u0430\\u0441\\u043a\\u0430\", \"\\u043c\\u0435\\u0434\\u0438\\u0446\\u0438\\u043d\\u0441\\u043a\\u0438\\u0439\", \"\\u043f\\u043e\\u043c\\u0435\\u0449\\u0435\\u043d\\u0438\\u0435\", \"\\u043f\\u0440\\u0438\\u0432\\u0438\\u0432\\u043a\\u0430\", \"\\u0441\\u0444\\u0435\\u0440\\u0430\", \"\\u0432\\u0430\\u043a\\u0446\\u0438\\u043d\\u0430\", \"\\u043d\\u043e\\u0440\\u043c\\u0430\", \"\\u0434\\u0435\\u044f\\u0442\\u0435\\u043b\\u044c\\u043d\\u043e\\u0441\\u0442\\u044c\", \"\\u0440\\u043e\\u0441\\u0441\\u0438\\u0439\\u0441\\u043a\\u0438\\u0439\", \"\\u0448\\u043a\\u043e\\u043b\\u0430\", \"\\u044d\\u043f\\u0438\\u0434\\u0435\\u043c\\u0438\\u043e\\u043b\\u043e\\u0433\\u0438\\u0447\\u0435\\u0441\\u043a\\u0438\\u0439\", \"\\u0438\\u043d\\u0444\\u0435\\u043a\\u0446\\u0438\\u044f\", \"\\u043f\\u0435\\u0440\\u0435\\u0431\\u043e\\u043b\\u0435\\u0442\\u044c\", \"\\u0433\\u043e\\u0441\\u0443\\u0434\\u0430\\u0440\\u0441\\u0442\\u0432\\u0435\\u043d\\u043d\\u044b\\u0439\", \"\\u0437\\u0430\\u0431\\u043e\\u043b\\u0435\\u0442\\u044c\", \"\\u0437\\u0430\\u0432\\u0435\\u0434\\u0435\\u043d\\u0438\\u0435\", \"\\u0442\\u0435\\u043c\\u043f\\u0435\\u0440\\u0430\\u0442\\u0443\\u0440\\u0430\", \"\\u0442\\u0430\\u0440\\u0430\\u043a\\u0430\\u043d\", \"\\u043a\\u043e\\u043d\\u0441\\u0443\\u043b\\u044c\\u0442\\u0430\\u0446\\u0438\\u044f\", \"\\u043e\\u0441\\u0443\\u0449\\u0435\\u0441\\u0442\\u0432\\u0438\\u0442\\u044c\", \"\\u0441\\u0442\\u0430\\u0442\\u044c\\u044f\", \"\\u0444\\u0435\\u0434\\u0435\\u0440\\u0430\\u0446\\u0438\\u044f\", \"\\u0431\\u043e\\u043b\\u044c\\u043d\\u043e\\u0439\", \"\\u043f\\u043e\\u043b\\u0438\\u043a\\u043b\\u0438\\u043d\\u0438\\u043a\\u0430\", \"\\u043e\\u0433\\u0440\\u0430\\u043d\\u0438\\u0447\\u0435\\u043d\\u0438\\u0435\", \"\\u0437\\u0434\\u043e\\u0440\\u043e\\u0432\\u044c\\u0435\", \"\\u043f\\u043e\\u0441\\u0442\\u0430\\u043d\\u043e\\u0432\\u043b\\u0435\\u043d\\u0438\\u0435\", \"\\u043f\\u0440\\u043e\\u0432\\u0435\\u0441\\u0442\\u0438\", \"\\u043c\\u0435\\u0441\\u0442\\u043e\", \"\\u043f\\u0440\\u043e\\u0432\\u0435\\u0440\\u043a\\u0430\", \"\\u043e\\u0440\\u0433\\u0430\\u043d\\u0438\\u0437\\u0430\\u0446\\u0438\\u044f\", \"\\u0442\\u0440\\u0435\\u0431\\u043e\\u0432\\u0430\\u043d\\u0438\\u0435\", \"\\u043a\\u043e\\u0442\\u043e\\u0440\\u044b\\u0439\", \"\\u0437\\u0430\\u043a\\u043e\\u043d\", \"\\u043f\\u043e\\u0442\\u0440\\u0435\\u0431\\u0438\\u0442\\u0435\\u043b\\u044c\", \"\\u0437\\u0430\\u0449\\u0438\\u0442\\u0430\", \"\\u0434\\u043e\\u043b\\u0436\\u043d\\u044b\\u0439\"], \"Freq\": [1783.0, 1446.0, 771.0, 700.0, 1048.0, 932.0, 569.0, 770.0, 915.0, 373.0, 442.0, 443.0, 613.0, 341.0, 316.0, 680.0, 417.0, 278.0, 228.0, 229.0, 309.0, 199.0, 224.0, 492.0, 194.0, 314.0, 198.0, 228.0, 380.0, 164.0, 247.28980964126214, 243.6693366671387, 191.68033189225284, 183.146333837329, 140.25896204266087, 138.15088668658123, 134.81579739602918, 128.52686516333046, 124.07917893462019, 138.11641325247774, 110.70254179777129, 110.69065012038222, 128.88483365683274, 107.8421417505648, 106.36855989342025, 105.9421334578196, 93.56392486931058, 91.94563745776323, 91.94558773646403, 91.47050072272495, 90.4646222663901, 90.73041575808149, 89.61587140237177, 87.96401382698947, 86.87446271100481, 82.07320832377036, 82.09003069666223, 78.16323308512618, 77.27074405158902, 75.67617369975423, 305.7438926381026, 367.9130848151872, 172.5636856657381, 103.72326247338324, 116.57676524771128, 362.5370190618094, 149.03550059502263, 355.0751779550377, 203.06569729169738, 393.4605844360489, 102.27327337270327, 298.27658218842026, 183.35925701421738, 170.46901019978958, 185.75880691301887, 154.84704206045325, 430.19391788271474, 240.55840756709148, 279.04199704023216, 299.2336840502519, 319.87866357120015, 160.70694577622714, 321.37719723365376, 426.8440282187711, 236.2371957497485, 211.24266327092027, 213.60119309789187, 238.6842460630407, 161.87373893050002, 252.39023708570934, 207.6942530330863, 215.43191476021892, 185.7985010835371, 197.35929980028249, 179.7130118333483, 1782.33017291936, 769.8553612880894, 930.7129958379412, 416.1984435007574, 227.61416372840054, 237.80660224904557, 313.0060247663339, 181.981683088271, 169.28041251923662, 166.955461184189, 160.90322209887893, 158.66182060638272, 144.26782530773744, 115.06882250658396, 116.8262252546436, 104.0361505227338, 98.17620316288362, 100.6449137952228, 93.43392284547939, 94.78883372445375, 90.30252558168992, 89.78360508019739, 84.186626545198, 83.24546093657504, 78.53330584453956, 76.71731298363414, 76.15160238385965, 67.24322682614259, 65.09067732518533, 66.23782048970902, 1408.4494103682364, 108.32595801764555, 82.27515400651917, 208.5282721930653, 330.0491540815522, 498.4802798548408, 288.6578733488376, 273.586077561061, 111.64953768423541, 513.6951516732868, 202.96164436141996, 217.4169833373981, 332.57032592513684, 165.5797858325688, 482.3930678746167, 186.75465574234033, 275.8617927033195, 169.86082018405267, 254.45133246224503, 195.48077676127625, 195.9148560463016, 196.87812533014977, 228.72997708218267, 223.94171531320146, 144.42694848207688, 133.01600053932023, 132.29170720100555, 131.65930182352184, 122.32802590519749, 276.31411521859843, 99.98113922654751, 99.46016519669482, 91.29275250038205, 87.37730825137622, 77.82433682192863, 73.41659792476601, 69.17879548019116, 70.51637460819227, 65.47841185628154, 62.23798910087443, 58.80386241110106, 56.41023869590885, 54.839959177761635, 55.70076442764199, 53.01027645853124, 51.78524722962749, 51.144285975554986, 50.19829017859242, 50.43518687361845, 49.32648699721385, 49.869508996497736, 49.00472281500116, 170.8698525225376, 82.70645964873732, 404.55108030165354, 153.28468112123605, 398.5899930038808, 649.0103504242687, 115.83286154610923, 87.75021663619417, 565.1472251890423, 147.5675630985684, 201.4547318002738, 185.04734646035365, 363.784256294156, 109.02575333088075, 122.02968530229387, 135.11796022278367, 172.5541687100542, 179.76683867588812, 99.62774643843107, 106.55328215859866, 110.97084485559607, 111.6902749266658, 113.89314740546189, 315.1682114736347, 197.60647692488695, 227.07432795916014, 152.31554246584315, 139.0432276031453, 134.59639710601294, 120.30436031990075, 121.49898101051774, 103.36720880343174, 97.34868283631306, 88.73742077891364, 83.26554082297147, 81.62601158547477, 81.52418840588078, 76.75338705273919, 72.58162353781897, 69.069920559245, 65.22413891307613, 61.15038095028213, 58.79451578708252, 59.343159624032324, 57.677012490011556, 58.905826990728556, 55.138230882578554, 53.49378290571921, 54.219442018364134, 54.301095729177575, 52.07044413148206, 52.03142389080103, 51.81493342400125, 117.42569777860055, 195.7409560095696, 60.44082972002715, 228.79469990888904, 184.52408078685565, 336.2249786369019, 141.74441991832674, 81.61527739287106, 136.80037476256703, 100.451543627677, 110.11886430102089, 93.48563285449977, 142.57074175731123, 99.02822133715085, 105.93882596317829, 91.02557745080647, 88.62848322965172, 82.5174902373031, 82.89747274329297, 81.6330402398455, 568.5215839460177, 340.7627931386253, 164.82729754839528, 127.60033766620153, 115.9767284820032, 101.10014625316455, 106.96616284145291, 102.11528861884109, 92.74485617241311, 90.04870445282754, 87.25287818174355, 84.03521949223392, 82.66346257995416, 81.51074676886228, 80.96961111906933, 79.1413348602437, 78.55080516295665, 74.70965095516023, 74.10425296458833, 72.67303439159139, 92.2915545478751, 67.43543488208479, 66.47237471448851, 74.8572517203209, 65.0782779469093, 59.107941544760585, 56.36293686152481, 55.757751850763796, 54.517904272171826, 52.428664426678836, 191.39062308483457, 552.7743862999331, 79.86140233224319, 113.53565750133544, 113.81359039834108, 242.64564211684285, 88.42369152055034, 125.05819913094788, 108.2879040354392, 113.97843677197307, 90.5094949080135, 94.33401366571576, 83.97304089987506, 89.13271857964995, 373.13116094510355, 198.57257410630365, 163.5177066203541, 160.5196596106369, 153.24582556197126, 152.22117739998663, 135.04021928908165, 133.90501265732425, 122.88071083721267, 111.38763680755916, 109.71697906796922, 119.20657031253702, 93.19115241424555, 90.30972363882513, 81.35860264008853, 111.55825570940483, 78.37793447632444, 103.26148183662569, 74.7844887414669, 65.70526389092262, 62.530446888597375, 62.3084274309312, 60.92968058203679, 60.86451662487722, 53.00299823214966, 52.02046221032777, 49.5939079398185, 47.45932902558479, 47.366987454305665, 47.512792479966656, 88.08435032723332, 53.58954905642916, 51.59238389818759, 85.79489822907931, 70.12961723121055, 68.36575300714257, 98.3690600360446, 124.70030555522735, 104.55591845108793, 121.09593827668428, 106.50592703752845, 92.10816290232253, 151.91440719309134, 88.7317190541512, 98.28414812286536, 81.04906578538306, 82.42211817470707], \"Total\": [1783.0, 1446.0, 771.0, 700.0, 1048.0, 932.0, 569.0, 770.0, 915.0, 373.0, 442.0, 443.0, 613.0, 341.0, 316.0, 680.0, 417.0, 278.0, 228.0, 229.0, 309.0, 199.0, 224.0, 492.0, 194.0, 314.0, 198.0, 228.0, 380.0, 164.0, 248.13122083078886, 244.51688047095558, 192.5259858531127, 183.98997707505868, 141.10302436443337, 138.9912643740461, 135.66038511627912, 129.36577590033295, 124.9167260749317, 139.05682020370296, 111.54203789858519, 111.53017977496646, 129.8707611293444, 108.6914631930431, 107.21123438401375, 106.79082976386448, 94.40695711925478, 92.78600336706172, 92.79161284278413, 92.31526290741722, 91.30693963386834, 91.58527864078943, 90.46243606929998, 88.80136006744576, 87.71618913079156, 82.91480410706431, 82.93303820305832, 79.0035805257177, 78.11545693808742, 76.51482608295537, 313.20213995762924, 380.1152922753598, 177.19668986401248, 105.83902983476587, 120.39298106663496, 418.54321477424367, 158.0151367940381, 430.36439685111526, 228.39803880682916, 492.6269610094506, 105.15318807940474, 391.762606156674, 216.5737933374501, 200.31054184180618, 227.06416274143186, 179.6744732742349, 708.6842248096305, 329.2068386767973, 414.962975517855, 462.2854900996307, 509.8234957409409, 190.76723019021574, 532.2188502545143, 974.7004517775736, 377.2239284127449, 337.83474596189143, 351.94717789047917, 456.98983166368436, 197.82643058840213, 560.219442903808, 418.9432847870324, 474.8695937153545, 303.0489285340615, 432.5687922798856, 304.4791066683046, 1783.1677337361623, 770.694341646351, 932.2197813924232, 417.03562469591446, 228.45894980429338, 238.70839346531272, 314.3439842613138, 182.8267136393716, 170.1307968021101, 167.7993499557287, 161.74330032335595, 159.50785948891422, 145.10700863351997, 115.9196813450951, 117.71313872950692, 104.88076553174841, 99.01340945352345, 101.50475094881186, 94.27117598741154, 95.6421801429233, 91.14037968318945, 90.62269898667651, 85.02474962601296, 84.08371243320609, 79.37539655679664, 77.55550147695435, 76.99064912634391, 68.08278981221747, 65.92821724143508, 67.100993403047, 1446.3191550585402, 109.75348288001726, 83.52390906811618, 223.81275180762236, 380.18297160323533, 680.976446909523, 368.3157890970702, 347.92338179489053, 122.66361195193869, 915.9515798078932, 269.3659876423194, 303.43067097976046, 578.8362608484897, 217.18852356287636, 1048.2027629550348, 267.009950059537, 523.5657088061685, 249.03710961352445, 560.219442903808, 347.18034445795433, 432.5687922798856, 974.7004517775736, 229.5599025819581, 224.78444108650035, 145.26396240908002, 133.83612629536367, 133.11208279621883, 132.48421894548193, 123.16256836038217, 278.235776435655, 100.81486776127129, 100.29178967795326, 92.13025282690305, 88.21801290519691, 78.66807205999018, 74.24047769634586, 70.0103785485555, 71.38090631196665, 66.31394665722722, 63.05987845109799, 59.627978807995454, 57.23541363891073, 55.66187215502162, 56.53573935484501, 53.847880530337434, 52.61246578265994, 51.97927128364949, 51.025952865464895, 51.27440459870327, 50.15074288240176, 50.707721249403434, 49.860088411110375, 173.86693325462738, 84.344868795507, 442.6985469807208, 161.4953275599635, 443.42716383893753, 771.9679152711708, 134.91840834203902, 100.50227163828234, 1048.2027629550348, 208.80039932887766, 348.4768940224227, 318.59006144942583, 915.9515798078932, 148.68081418529587, 191.14318080869631, 291.44441147347175, 523.5657088061685, 680.976446909523, 168.91399648048224, 228.59019475483674, 347.18034445795433, 418.9432847870324, 532.2188502545143, 316.00494356919194, 198.43884871208823, 228.20427077421084, 153.15466900324842, 139.87308864693563, 135.4325003504659, 121.13735344067979, 122.34714844286214, 104.1981245233564, 98.1773318979147, 89.57412499006453, 84.0934876552885, 82.45775329157945, 82.37020540306521, 77.58030117111166, 73.42444993692179, 69.9044071684832, 66.0637682686383, 61.98012826861411, 59.631652508823066, 60.201237614884995, 58.51414452591216, 59.79400459352402, 55.976123810222596, 54.32308136533437, 55.06327509292879, 55.167744341518905, 52.90270754501798, 52.876017596701416, 52.67422967904984, 126.88426298230911, 228.23192257801793, 62.98135781880387, 309.8155385381542, 263.94305534585214, 613.3271451175018, 213.89604090876608, 102.11132734273484, 284.8402731848663, 196.46057317615592, 261.16291198768016, 179.89493915904058, 509.8234957409409, 234.91212775172235, 337.83474596189143, 193.40550498626948, 225.78451557821862, 276.1961479425536, 462.2854900996307, 184.84201452064153, 569.3499715205289, 341.59983727436514, 165.65661673654517, 128.44729212488025, 116.80499108888993, 101.92590839051849, 107.84025033360017, 102.95188416147971, 93.57038828039151, 90.88081222808515, 88.07816599575231, 84.8659150995898, 83.50185468404345, 82.3553742771194, 81.80875694561918, 79.98998876366223, 79.40087408767057, 75.531997424914, 74.93094492740163, 73.49932482699923, 93.40477606292441, 68.26810410369686, 67.3225855425443, 75.81940284421673, 65.92111737667622, 59.943962672586245, 57.18868277236496, 56.59419344717249, 55.340359141214485, 53.25529636993983, 194.5249724003098, 700.6690141678145, 84.79925295295365, 131.8120034799458, 156.52453704080799, 613.3271451175018, 119.6067459593544, 258.5081330671977, 247.54833380572092, 318.1940755226816, 165.48824810462844, 492.6269610094506, 208.65601146274713, 974.7004517775736, 373.98550899512213, 199.46050709976163, 164.3687396609057, 161.3882607299447, 154.09724920438356, 153.07558226369608, 135.89010672532157, 134.75830518784048, 123.73075649726648, 112.23784316692407, 110.56740460741734, 120.1538110197404, 94.04835375509114, 91.1618907185936, 82.22054034444906, 112.75793998911065, 79.23006411030919, 104.4454818717607, 75.654464430302, 66.56414891174167, 63.38333656336998, 63.16580675602286, 61.78021567582356, 61.720587838913715, 53.86775405175616, 52.87489120353186, 50.4438030475617, 48.31506818710989, 48.2285018659449, 48.379684665459585, 89.78726939505837, 54.57894001550528, 52.61399955932674, 90.85294383874346, 76.11931172717708, 84.0108410586345, 156.27418481673845, 288.0891576308222, 218.69787386814608, 337.06324963933105, 247.85084198258426, 182.5156401599374, 974.7004517775736, 203.93768323116092, 341.75768794974135, 209.01375181901267, 474.8695937153545], \"Category\": [\"Default\", \"Default\", \"Default\", \"Default\", \"Default\", \"Default\", \"Default\", \"Default\", \"Default\", \"Default\", \"Default\", \"Default\", \"Default\", \"Default\", \"Default\", \"Default\", \"Default\", \"Default\", \"Default\", \"Default\", \"Default\", \"Default\", \"Default\", \"Default\", \"Default\", \"Default\", \"Default\", \"Default\", \"Default\", \"Default\", \"Topic1\", \"Topic1\", \"Topic1\", \"Topic1\", \"Topic1\", \"Topic1\", \"Topic1\", \"Topic1\", \"Topic1\", \"Topic1\", \"Topic1\", \"Topic1\", \"Topic1\", \"Topic1\", \"Topic1\", \"Topic1\", \"Topic1\", \"Topic1\", \"Topic1\", \"Topic1\", \"Topic1\", \"Topic1\", \"Topic1\", \"Topic1\", \"Topic1\", \"Topic1\", \"Topic1\", \"Topic1\", \"Topic1\", \"Topic1\", \"Topic1\", \"Topic1\", \"Topic1\", \"Topic1\", \"Topic1\", \"Topic1\", \"Topic1\", \"Topic1\", \"Topic1\", \"Topic1\", \"Topic1\", \"Topic1\", \"Topic1\", \"Topic1\", \"Topic1\", \"Topic1\", \"Topic1\", \"Topic1\", \"Topic1\", \"Topic1\", \"Topic1\", \"Topic1\", \"Topic1\", \"Topic1\", \"Topic1\", \"Topic1\", \"Topic1\", \"Topic1\", \"Topic1\", \"Topic1\", \"Topic1\", \"Topic1\", \"Topic1\", \"Topic1\", \"Topic1\", \"Topic2\", \"Topic2\", \"Topic2\", \"Topic2\", \"Topic2\", \"Topic2\", \"Topic2\", \"Topic2\", \"Topic2\", \"Topic2\", \"Topic2\", \"Topic2\", \"Topic2\", \"Topic2\", \"Topic2\", \"Topic2\", \"Topic2\", \"Topic2\", \"Topic2\", \"Topic2\", \"Topic2\", \"Topic2\", \"Topic2\", \"Topic2\", \"Topic2\", \"Topic2\", \"Topic2\", \"Topic2\", \"Topic2\", \"Topic2\", \"Topic2\", \"Topic2\", \"Topic2\", \"Topic2\", \"Topic2\", \"Topic2\", \"Topic2\", \"Topic2\", \"Topic2\", \"Topic2\", \"Topic2\", \"Topic2\", \"Topic2\", \"Topic2\", \"Topic2\", \"Topic2\", \"Topic2\", \"Topic2\", \"Topic2\", \"Topic2\", \"Topic2\", \"Topic2\", \"Topic3\", \"Topic3\", \"Topic3\", \"Topic3\", \"Topic3\", \"Topic3\", \"Topic3\", \"Topic3\", \"Topic3\", \"Topic3\", \"Topic3\", \"Topic3\", \"Topic3\", \"Topic3\", \"Topic3\", \"Topic3\", \"Topic3\", \"Topic3\", \"Topic3\", \"Topic3\", \"Topic3\", \"Topic3\", \"Topic3\", \"Topic3\", \"Topic3\", \"Topic3\", \"Topic3\", \"Topic3\", \"Topic3\", \"Topic3\", \"Topic3\", \"Topic3\", \"Topic3\", \"Topic3\", \"Topic3\", \"Topic3\", \"Topic3\", \"Topic3\", \"Topic3\", \"Topic3\", \"Topic3\", \"Topic3\", \"Topic3\", \"Topic3\", \"Topic3\", \"Topic3\", \"Topic3\", \"Topic3\", \"Topic3\", \"Topic3\", \"Topic3\", \"Topic3\", \"Topic3\", \"Topic4\", \"Topic4\", \"Topic4\", \"Topic4\", \"Topic4\", \"Topic4\", \"Topic4\", \"Topic4\", \"Topic4\", \"Topic4\", \"Topic4\", \"Topic4\", \"Topic4\", \"Topic4\", \"Topic4\", \"Topic4\", \"Topic4\", \"Topic4\", \"Topic4\", \"Topic4\", \"Topic4\", \"Topic4\", \"Topic4\", \"Topic4\", \"Topic4\", \"Topic4\", \"Topic4\", \"Topic4\", \"Topic4\", \"Topic4\", \"Topic4\", \"Topic4\", \"Topic4\", \"Topic4\", \"Topic4\", \"Topic4\", \"Topic4\", \"Topic4\", \"Topic4\", \"Topic4\", \"Topic4\", \"Topic4\", \"Topic4\", \"Topic4\", \"Topic4\", \"Topic4\", \"Topic4\", \"Topic4\", \"Topic4\", \"Topic4\", \"Topic5\", \"Topic5\", \"Topic5\", \"Topic5\", \"Topic5\", \"Topic5\", \"Topic5\", \"Topic5\", \"Topic5\", \"Topic5\", \"Topic5\", \"Topic5\", \"Topic5\", \"Topic5\", \"Topic5\", \"Topic5\", \"Topic5\", \"Topic5\", \"Topic5\", \"Topic5\", \"Topic5\", \"Topic5\", \"Topic5\", \"Topic5\", \"Topic5\", \"Topic5\", \"Topic5\", \"Topic5\", \"Topic5\", \"Topic5\", \"Topic5\", \"Topic5\", \"Topic5\", \"Topic5\", \"Topic5\", \"Topic5\", \"Topic5\", \"Topic5\", \"Topic5\", \"Topic5\", \"Topic5\", \"Topic5\", \"Topic5\", \"Topic5\", \"Topic6\", \"Topic6\", \"Topic6\", \"Topic6\", \"Topic6\", \"Topic6\", \"Topic6\", \"Topic6\", \"Topic6\", \"Topic6\", \"Topic6\", \"Topic6\", \"Topic6\", \"Topic6\", \"Topic6\", \"Topic6\", \"Topic6\", \"Topic6\", \"Topic6\", \"Topic6\", \"Topic6\", \"Topic6\", \"Topic6\", \"Topic6\", \"Topic6\", \"Topic6\", \"Topic6\", \"Topic6\", \"Topic6\", \"Topic6\", \"Topic6\", \"Topic6\", \"Topic6\", \"Topic6\", \"Topic6\", \"Topic6\", \"Topic6\", \"Topic6\", \"Topic6\", \"Topic6\", \"Topic6\", \"Topic6\", \"Topic6\", \"Topic6\", \"Topic6\", \"Topic6\", \"Topic6\"], \"logprob\": [30.0, 29.0, 28.0, 27.0, 26.0, 25.0, 24.0, 23.0, 22.0, 21.0, 20.0, 19.0, 18.0, 17.0, 16.0, 15.0, 14.0, 13.0, 12.0, 11.0, 10.0, 9.0, 8.0, 7.0, 6.0, 5.0, 4.0, 3.0, 2.0, 1.0, -4.9693, -4.9841, -5.224, -5.2696, -5.5364, -5.5515, -5.576, -5.6237, -5.659, -5.5518, -5.773, -5.7731, -5.621, -5.7992, -5.813, -5.817, -5.9412, -5.9587, -5.9587, -5.9639, -5.9749, -5.972, -5.9843, -6.0029, -6.0154, -6.0723, -6.0721, -6.1211, -6.1326, -6.1534, -4.7571, -4.572, -5.3291, -5.8381, -5.7213, -4.5867, -5.4757, -4.6075, -5.1663, -4.5049, -5.8522, -4.7819, -5.2684, -5.3413, -5.2554, -5.4374, -4.4156, -4.9969, -4.8485, -4.7786, -4.7119, -5.4003, -4.7073, -4.4235, -5.015, -5.1269, -5.1158, -5.0047, -5.3931, -4.9489, -5.1438, -5.1072, -5.2552, -5.1948, -5.2885, -2.8012, -3.6407, -3.451, -4.2558, -4.8593, -4.8155, -4.5407, -5.083, -5.1554, -5.1692, -5.2061, -5.2201, -5.3152, -5.5414, -5.5262, -5.6422, -5.7002, -5.6753, -5.7497, -5.7353, -5.7837, -5.7895, -5.8539, -5.8651, -5.9234, -5.9468, -5.9542, -6.0786, -6.1111, -6.0937, -3.0367, -5.6018, -5.8768, -4.9468, -4.4877, -4.0754, -4.6217, -4.6753, -5.5715, -4.0453, -4.9739, -4.9051, -4.4801, -5.1775, -4.1082, -5.0571, -4.667, -5.1519, -4.7478, -5.0115, -5.0092, -5.0043, -4.1779, -4.1991, -4.6377, -4.72, -4.7254, -4.7302, -4.8037, -3.9889, -5.0055, -5.0107, -5.0964, -5.1402, -5.256, -5.3143, -5.3737, -5.3546, -5.4287, -5.4795, -5.5362, -5.5778, -5.606, -5.5904, -5.64, -5.6633, -5.6758, -5.6945, -5.6897, -5.712, -5.701, -5.7185, -4.4695, -5.1951, -3.6077, -4.5781, -3.6225, -3.135, -4.8583, -5.1359, -3.2734, -4.6162, -4.3049, -4.3898, -3.7139, -4.9189, -4.8062, -4.7043, -4.4597, -4.4188, -5.009, -4.9418, -4.9012, -4.8947, -4.8752, -3.805, -4.2719, -4.1329, -4.5322, -4.6233, -4.6559, -4.7681, -4.7582, -4.9198, -4.9798, -5.0725, -5.1361, -5.156, -5.1572, -5.2175, -5.2734, -5.323, -5.3803, -5.4448, -5.4841, -5.4748, -5.5033, -5.4822, -5.5483, -5.5786, -5.5651, -5.5636, -5.6055, -5.6063, -5.6105, -4.7923, -4.2813, -5.4565, -4.1253, -4.3404, -3.7404, -4.6041, -5.1561, -4.6396, -4.9485, -4.8566, -5.0203, -4.5983, -4.9627, -4.8953, -5.047, -5.0737, -5.1451, -5.1405, -5.1559, -3.0793, -3.5911, -4.3174, -4.5734, -4.6689, -4.8062, -4.7498, -4.7962, -4.8925, -4.922, -4.9535, -4.9911, -5.0076, -5.0216, -5.0283, -5.0511, -5.0586, -5.1087, -5.1169, -5.1364, -4.8974, -5.2112, -5.2255, -5.1067, -5.2467, -5.343, -5.3905, -5.4013, -5.4238, -5.4629, -4.168, -3.1074, -5.042, -4.6902, -4.6878, -3.9307, -4.9402, -4.5936, -4.7375, -4.6863, -4.9169, -4.8755, -4.9918, -4.9322, -3.4313, -4.0621, -4.2564, -4.2749, -4.3212, -4.3279, -4.4477, -4.4561, -4.5421, -4.6403, -4.6554, -4.5724, -4.8186, -4.85, -4.9544, -4.6387, -4.9917, -4.716, -5.0387, -5.1681, -5.2176, -5.2212, -5.2436, -5.2446, -5.3829, -5.4016, -5.4494, -5.4934, -5.4954, -5.4923, -4.875, -5.3719, -5.4099, -4.9013, -5.1029, -5.1284, -4.7646, -4.5274, -4.7036, -4.5567, -4.6851, -4.8303, -4.33, -4.8677, -4.7654, -4.9582, -4.9414], \"loglift\": [30.0, 29.0, 28.0, 27.0, 26.0, 25.0, 24.0, 23.0, 22.0, 21.0, 20.0, 19.0, 18.0, 17.0, 16.0, 15.0, 14.0, 13.0, 12.0, 11.0, 10.0, 9.0, 8.0, 7.0, 6.0, 5.0, 4.0, 3.0, 2.0, 1.0, 1.1944, 1.1944, 1.1934, 1.1933, 1.1918, 1.1918, 1.1916, 1.1913, 1.1911, 1.1911, 1.1903, 1.1903, 1.1902, 1.19, 1.19, 1.1899, 1.1889, 1.1887, 1.1887, 1.1887, 1.1886, 1.1885, 1.1884, 1.1884, 1.1882, 1.1876, 1.1876, 1.1872, 1.187, 1.1868, 1.1737, 1.1652, 1.1714, 1.1777, 1.1656, 1.0542, 1.1393, 1.0055, 1.0803, 0.9731, 1.1701, 0.9252, 1.0314, 1.0365, 0.9971, 1.0491, 0.6987, 0.8841, 0.801, 0.7629, 0.7317, 1.0264, 0.6934, 0.3721, 0.7298, 0.7283, 0.6985, 0.5483, 0.9973, 0.4005, 0.4962, 0.4075, 0.7086, 0.4131, 0.6706, 1.3903, 1.3897, 1.3892, 1.3888, 1.3871, 1.387, 1.3865, 1.3862, 1.3858, 1.3858, 1.3856, 1.3855, 1.385, 1.3834, 1.3832, 1.3827, 1.3823, 1.3823, 1.3819, 1.3818, 1.3816, 1.3815, 1.3809, 1.3808, 1.3801, 1.3799, 1.3798, 1.3784, 1.378, 1.3779, 1.3643, 1.3777, 1.3757, 1.3201, 1.2494, 1.0788, 1.1471, 1.1504, 1.2967, 0.8125, 1.1078, 1.0575, 0.8366, 1.1195, 0.6147, 1.0333, 0.75, 1.0082, 0.6016, 0.8164, 0.5987, -0.2087, 2.0637, 2.0635, 2.0615, 2.0611, 2.0611, 2.061, 2.0605, 2.0604, 2.059, 2.059, 2.0581, 2.0577, 2.0565, 2.0561, 2.0553, 2.0551, 2.0546, 2.0542, 2.0534, 2.0528, 2.0524, 2.0524, 2.0516, 2.0514, 2.0511, 2.0509, 2.0508, 2.0507, 2.0506, 2.05, 2.0499, 2.0477, 1.9772, 2.0151, 1.9607, 1.8938, 1.9148, 1.9316, 1.4495, 1.7202, 1.5193, 1.524, 1.1439, 1.7571, 1.6185, 1.2986, 0.9573, 0.7354, 1.5393, 1.304, 0.9267, 0.7453, 0.5255, 2.1169, 2.1154, 2.1146, 2.1141, 2.1136, 2.1134, 2.1127, 2.1126, 2.1116, 2.1111, 2.1102, 2.1097, 2.1094, 2.1093, 2.1089, 2.108, 2.1076, 2.1068, 2.1061, 2.1054, 2.1052, 2.1052, 2.1046, 2.1045, 2.1042, 2.1041, 2.1038, 2.1037, 2.1035, 2.1031, 2.0421, 1.966, 2.0784, 1.8164, 1.7616, 1.5185, 1.7081, 1.8955, 1.3862, 1.4488, 1.256, 1.465, 0.8454, 1.2558, 0.9599, 1.3659, 1.1845, 0.9115, 0.401, 1.3023, 2.2539, 2.2529, 2.2504, 2.2488, 2.2483, 2.2473, 2.2472, 2.2472, 2.2465, 2.2462, 2.246, 2.2456, 2.2453, 2.2451, 2.2451, 2.2447, 2.2446, 2.2444, 2.2443, 2.2441, 2.2434, 2.2431, 2.2427, 2.2426, 2.2425, 2.2413, 2.2408, 2.2405, 2.2404, 2.2397, 2.2391, 2.0183, 2.1954, 2.1061, 1.9367, 1.3281, 1.9533, 1.5292, 1.4286, 1.2287, 1.6519, 0.6025, 1.3452, -0.1366, 2.3222, 2.32, 2.3193, 2.319, 2.3189, 2.3188, 2.3182, 2.3181, 2.3175, 2.3168, 2.3167, 2.3165, 2.3153, 2.3151, 2.3139, 2.3137, 2.3136, 2.313, 2.3129, 2.3115, 2.3109, 2.3108, 2.3106, 2.3105, 2.3083, 2.3082, 2.3075, 2.3066, 2.3064, 2.3064, 2.3053, 2.3061, 2.3048, 2.2672, 2.2425, 2.1184, 1.8616, 1.4871, 1.5865, 1.3008, 1.4798, 1.6406, 0.4656, 1.4922, 1.0782, 1.3771, 0.5733]}, \"token.table\": {\"Topic\": [6, 2, 2, 1, 4, 1, 2, 3, 6, 2, 4, 6, 6, 1, 1, 2, 3, 1, 1, 3, 4, 5, 6, 3, 4, 4, 2, 3, 4, 1, 1, 2, 3, 4, 5, 6, 1, 2, 3, 4, 5, 6, 5, 2, 3, 4, 5, 4, 5, 2, 4, 1, 3, 4, 1, 4, 6, 1, 6, 1, 1, 1, 3, 4, 1, 2, 3, 4, 5, 6, 5, 1, 2, 3, 4, 2, 3, 1, 2, 3, 4, 1, 3, 2, 6, 5, 1, 2, 4, 5, 5, 1, 2, 3, 4, 5, 6, 1, 4, 5, 6, 4, 2, 2, 1, 1, 2, 3, 4, 1, 2, 4, 5, 6, 4, 5, 5, 6, 6, 1, 2, 2, 5, 5, 1, 2, 3, 6, 3, 5, 4, 2, 3, 5, 6, 3, 6, 1, 1, 2, 4, 6, 4, 5, 1, 2, 6, 5, 5, 1, 2, 3, 1, 2, 6, 4, 5, 4, 1, 3, 1, 5, 1, 2, 4, 5, 6, 2, 1, 2, 3, 4, 5, 6, 5, 5, 2, 3, 4, 6, 4, 1, 2, 3, 4, 4, 4, 1, 2, 5, 2, 4, 1, 6, 1, 1, 6, 1, 4, 5, 3, 1, 3, 4, 5, 6, 1, 3, 5, 1, 5, 4, 1, 2, 1, 2, 1, 4, 6, 1, 4, 5, 6, 1, 5, 1, 1, 2, 4, 6, 4, 3, 1, 3, 4, 5, 2, 2, 6, 1, 2, 2, 1, 4, 5, 6, 1, 3, 6, 2, 5, 4, 5, 6, 4, 1, 3, 4, 5, 1, 3, 5, 3, 1, 2, 3, 5, 1, 2, 3, 5, 1, 3, 5, 6, 6, 1, 2, 3, 4, 4, 1, 2, 3, 2, 3, 6, 2, 3, 5, 3, 4, 3, 3, 3, 2, 3, 5, 6, 3, 1, 3, 4, 4, 5, 5, 4, 1, 2, 3, 4, 2, 3, 5, 3, 1, 2, 4, 1, 2, 2, 2, 3, 1, 6, 1, 3, 1, 2, 3, 5, 5, 5, 6, 1, 1, 3, 3, 5, 6, 1, 2, 3, 1, 2, 3, 5, 6, 1, 3, 4, 6, 4, 6, 1, 2, 3, 4, 5, 3, 3, 1, 2, 4, 5, 2, 3, 1, 1, 2, 4, 6, 1, 2, 4, 5, 6, 2, 2, 4, 1, 4, 3, 4, 5, 1, 2, 5, 6, 6, 1, 4, 5, 6, 1, 4, 5, 1, 2, 3, 6, 1, 3, 2, 4, 5, 6, 6, 3, 4, 6, 1, 1, 4, 6, 1, 2, 3, 1, 1, 6, 3, 4, 5, 2, 1, 2, 3, 4, 5, 6, 1, 2, 3, 4, 5, 6, 1, 2, 3, 4, 1, 3, 3, 2, 4, 4, 1, 2, 3, 4, 5, 1, 2, 1, 3, 2, 4, 1, 2, 3, 5, 6, 2, 1, 2, 4, 5, 6, 3, 2, 3, 3, 1, 2, 3, 1, 2, 3, 4, 5, 6, 3, 6, 2, 6, 4, 2, 3, 1, 2, 3, 5, 6, 1, 2, 4, 5, 1, 2, 3, 4, 5, 6, 6, 3, 3, 1, 2, 4, 6, 6, 2, 2, 2, 4, 2, 3, 5, 6, 3, 3, 4, 2, 5, 4, 5, 1, 5, 5, 4, 6, 4, 4, 1, 2, 1, 2, 4, 1, 2, 3, 6, 2, 3, 6, 5, 2, 1, 1], \"Freq\": [0.9943728500682502, 0.9840959835047305, 0.9928373685118983, 0.9872970247798959, 0.997788493962062, 0.9770048188093364, 0.022349783436814888, 0.9916455157724389, 0.988330110532, 0.9874876570938864, 0.9841864110966929, 0.9932781674693254, 0.9977566314515375, 0.9932715512886717, 0.002936959140182608, 0.7313028259054694, 0.2643263226164347, 0.9857524870103409, 0.6245657159959541, 0.014800135450141094, 0.3137628715429912, 0.02072018963019753, 0.02664024381025397, 0.9915077102756411, 0.9942192289178001, 0.9947228385773623, 0.4598346970973178, 0.5390178503319181, 0.9885014770770866, 0.9915288584642201, 0.6256230907541402, 0.1378491555898953, 0.029160398297862468, 0.10073592139261581, 0.05566985129591926, 0.04771701539650222, 0.6276682080627433, 0.07061267340705861, 0.013730242051372509, 0.28048923047803836, 0.005884389450588218, 0.0019614631501960727, 0.9907540870258704, 0.9954781573058175, 0.984254152215708, 0.9935905040643354, 0.9939898977580512, 0.047170226867672846, 0.9434045373534569, 0.9871115058809165, 0.9968065246573261, 0.31323627924734604, 0.023375841734876567, 0.6638739052704945, 0.844977580989507, 0.15237300640794388, 0.9883250003905601, 0.9887023557654854, 0.9929735216564898, 0.9914689181647769, 0.9936094681429646, 0.019900047704376263, 0.8756020989925556, 0.0995002385218813, 0.6067582499321307, 0.13687337265910854, 0.10441886161622713, 0.06773115348079597, 0.03527664243791457, 0.05079836511059698, 0.9982440352455925, 0.15316110429143523, 0.24888679447358225, 0.17230624232786462, 0.4211930368014469, 0.09922711910355984, 0.8998095573254632, 0.040395148407037174, 0.5611650346274895, 0.39740091946382516, 0.0010917607677577614, 0.9763162062043417, 0.022573785114551253, 0.9879476313600406, 0.986160417417237, 0.9993853138877056, 0.7320625566852352, 0.09720332702874492, 0.08809051511980008, 0.08201530718050352, 0.9764287037063907, 0.45275587834093867, 0.11792711249810495, 0.01895257165148115, 0.1116095886142779, 0.12213879508732299, 0.1726789861579394, 0.011413158631123254, 0.5478316142939161, 0.39619964962327864, 0.044022183291475406, 0.9838978566237299, 0.9939417236070338, 0.9975166996904171, 0.9857204069231585, 0.5911735684251385, 0.10181322567321828, 0.18720496333462716, 0.11823471368502769, 0.6137622756158148, 0.04289736334949243, 0.23428559983184327, 0.09899391542190561, 0.009899391542190562, 0.13655812463800815, 0.8648681227073849, 0.9792147202079051, 0.9838910296701359, 0.9834535602132185, 0.001072708410570666, 0.99869153024129, 0.9933533679770783, 0.9895008054540588, 0.9909158681522762, 0.019613834660787276, 0.4118905278765328, 0.1323933839603141, 0.43640782120251687, 0.9751454042484289, 0.9860269756743819, 0.9880081086422384, 0.3540436902165051, 0.14831559995556295, 0.11004060641864348, 0.38753430956130963, 0.9919644538013894, 0.0035940741079760487, 0.9926613024233296, 0.9429476379482004, 0.05062806109788995, 0.17854838507724147, 0.8094193456834946, 0.9912133291859975, 0.9932064025326147, 0.12888530960070757, 0.868003105474153, 0.9815437051168241, 0.9842525814026982, 0.9897966680902026, 0.06776620389790093, 0.01581211424284355, 0.9148437526216626, 0.0668235813940307, 0.7536215012771241, 0.17819621705074856, 0.8587755726107951, 0.14020825675278287, 0.983432610160186, 0.9925945910747846, 0.9905607005776267, 0.9972679747578906, 0.9877589867640487, 0.7977638885104801, 0.00202993355855084, 0.00608980067565252, 0.19081375450377897, 0.974527471963371, 0.9897649272041366, 0.4380833098222892, 0.2021133771311264, 0.050271855225508595, 0.06258332997461274, 0.09131010438918909, 0.15594534682198585, 0.9929566615070275, 0.9938497120998804, 0.7846527587331685, 0.1846241785254514, 0.02986567593794067, 0.002715061448903697, 0.9870622296201811, 0.8626712363498927, 0.122443659352888, 0.011131241759353455, 0.005565620879676728, 0.9924607652462497, 0.9825617827069989, 0.8486822432653409, 0.11482171526531082, 0.03494573942857286, 0.9735057404691642, 0.025582182100397068, 0.9936382934525868, 0.9948682470260383, 0.9951320710485004, 0.9928681534158977, 0.9903972166180327, 0.48355758340793636, 0.5090079825346698, 0.005090079825346699, 0.990523881690439, 0.3246487894199018, 0.01829007264337475, 0.15546561746868537, 0.027435108965062124, 0.48011440688858714, 0.9909758131312728, 0.9798935089331908, 0.99390417961415, 0.9718174511788439, 0.024918396184072922, 0.980689940960934, 0.011972619710416941, 0.981754816254189, 0.9978861153881889, 0.9916022206046752, 0.03227727068559696, 0.7391494987001703, 0.22594089479917873, 0.09092870418034721, 0.7009087613901764, 0.1856461043682089, 0.018943480037572336, 0.988749499315655, 0.9901140540962285, 0.9971725450739402, 0.9681273221005184, 0.023677026899197463, 0.007892342299732487, 0.984474780828189, 0.9756442136182157, 0.9965102518541376, 0.4613804056300983, 0.01667640020349753, 0.5169684063084234, 0.9960362782394051, 0.9859207896061278, 0.9130662159523165, 0.08152376928145683, 0.7606647375651356, 0.23738865970992487, 0.9865157512453087, 0.025555098744404196, 0.14055304309422306, 0.7283203142155196, 0.10222039497761679, 0.9932951718941789, 0.06568635325974495, 0.9196089456364293, 0.9923710877651967, 0.9849603401224575, 0.9800462970118743, 0.7357444539951348, 0.2508219729528869, 0.995505590871679, 0.11981442482649694, 0.44091708336150875, 0.038340615944479024, 0.40257646741702974, 0.843960463437381, 0.08911383775425762, 0.06814587592972642, 0.9894683868118761, 0.12052449020421284, 0.22670082681268605, 0.5767957745487329, 0.07461039869784604, 0.11233354832022507, 0.5616677416011254, 0.3197185606037175, 0.002880347392826284, 0.24611576669280102, 0.016138738799527937, 0.3066360371910308, 0.43171126288737227, 0.9921519813929118, 0.6031353452559852, 0.1446773258090681, 0.21419759924978915, 0.03757852618417353, 0.9869967617496035, 0.00437464083300905, 0.5293315407940951, 0.46808656913196833, 0.7003484325520579, 0.16104268769913632, 0.13857161499693124, 0.71515512686743, 0.1680779330425757, 0.11534760110765, 0.986043126530523, 0.9872000087489082, 0.9784152230172606, 0.9963450820834655, 0.9946637506912294, 0.9920662191750063, 0.9801859680585906, 0.9876235916648615, 0.9873711079301252, 0.9861931496178015, 0.3611305236451999, 0.5920172518773769, 0.04736138015019015, 0.9788328423527719, 0.9875759617297821, 0.99651769906955, 0.9894074290708343, 0.012770732736160337, 0.36609433843659633, 0.1958179019544585, 0.42143418029329116, 0.9950273170064089, 0.991917186627662, 0.994951263543674, 0.9832910868189777, 0.3941811499875318, 0.21259208089215198, 0.3941811499875318, 0.8191517223781656, 0.17616166072648723, 0.9954044444383788, 0.9957244791419436, 0.0031812283678656346, 0.04402719197629603, 0.9465846274903646, 0.8188996764393801, 0.17692276960110065, 0.44982373102546785, 0.4533937606367811, 0.09282076989414416, 0.0017850148056566186, 0.9903080506600825, 0.993108247503933, 0.9888530344952009, 0.9952463111237139, 0.011503049847155286, 0.983510761931777, 0.2879554294445443, 0.08318712406175723, 0.6271029352347853, 0.15171872664934016, 0.20403552894221608, 0.6382649879730863, 0.005852099515297864, 0.43305536413204193, 0.09948569176006368, 0.17556298545893592, 0.28675287624959533, 0.33585479569953747, 0.5806835252749012, 0.08160957652512126, 0.9975942442889673, 0.9889891308460591, 0.987254644353744, 0.45541889178296246, 0.4531071207586835, 0.0809119858497649, 0.00924708409711599, 0.9803545046304186, 0.9811603498959108, 0.9877320121000146, 0.5213686036995373, 0.17741014986998146, 0.3005110701879278, 0.0036206153034690092, 0.787529710094419, 0.21269050564593797, 0.9948880873720256, 0.22251016709846744, 0.3293150473057318, 0.08603726461140741, 0.3589830695855275, 0.08330754339167215, 0.020826885847918038, 0.2672783683816148, 0.19438426791390168, 0.4338934551649591, 0.9990990700089121, 0.995236275015728, 0.9925199933185134, 0.07093078202499256, 0.9221001663249033, 0.7088109049393527, 0.2921450351439224, 0.9956848684103652, 0.059855833018895604, 0.7643129447028207, 0.02302147423803677, 0.15654602481865004, 0.992879501678007, 0.6080457905151713, 0.059668044863638296, 0.22162416663637083, 0.10797074784848835, 0.46051612728473723, 0.10099037879051255, 0.43627843637501423, 0.8887992255121336, 0.10945803269853863, 0.977054320309868, 0.9973648471092633, 0.995441037903246, 0.9881090568930512, 0.46341761480592913, 0.48097131233645674, 0.05266109259158286, 0.9940939785874289, 0.9913492953095328, 0.27050127174639965, 0.4436220856640954, 0.2867313480511836, 0.991835154514936, 0.982624275395977, 0.009448310340345933, 0.988971249518016, 0.27468908006372844, 0.5752922242844124, 0.15030157211034198, 0.9924000836337633, 0.9856863055633117, 0.9934498047961595, 0.8597788947074003, 0.014823774046679315, 0.12600207939677419, 0.9931286643011145, 0.6467864694078116, 0.09517927977907596, 0.008652661798097814, 0.17954273231052964, 0.0562423016876358, 0.012978992697146722, 0.49648725150406864, 0.02864349527908088, 0.2673392892714216, 0.009547831759693627, 0.1694740137345619, 0.02864349527908088, 0.5229875665502529, 0.33261133939597676, 0.03719995243244477, 0.10722339230528198, 0.04953703689680797, 0.9473958306514523, 0.9827499621737791, 0.9840234420448035, 0.009111328167081514, 0.9937579940831974, 0.6723491406716964, 0.14459121304767664, 0.09880399558257905, 0.07229560652383832, 0.014459121304767664, 0.9956893312561624, 0.9932855969827993, 0.970013385832642, 0.01901987031044396, 0.03175542841985021, 0.9526628525955064, 0.006042725156941411, 0.09668360251106257, 0.08459815219717975, 0.5498879892816684, 0.26587990690542207, 0.9835919954800997, 0.8672939548089368, 0.06928794680291782, 0.028670874539138407, 0.019113916359425602, 0.014335437269569203, 0.9831925072307283, 0.011856085785425626, 0.984055120190327, 0.9912988576924499, 0.0025907812493702613, 0.15544687496221568, 0.8407085154206498, 0.0210097793170644, 0.5271544628645249, 0.33042652925928556, 0.04010957869621385, 0.0802191573924277, 0.0019099799379149454, 0.7331140913995601, 0.2623068767392921, 0.011137436373079379, 0.9800944008309853, 0.9867209998908483, 0.6826291883318896, 0.3172217992836428, 0.030880674480935143, 0.30880674480935144, 0.4632101172140271, 0.19557760504592256, 0.9851552867527286, 0.4603336792079444, 0.04255185269989402, 0.011605050736334733, 0.4835437806806139, 0.2482761499258923, 0.21684878917577938, 0.00628547215002259, 0.03142736075011295, 0.35827191255128765, 0.138280387300497, 0.9727814067856219, 0.9855681604713115, 0.988358922670722, 0.824882361546307, 0.16730008459530735, 0.006970836858137806, 0.9912020303635066, 0.9976912366941326, 0.9993451352253242, 0.9952706181879919, 0.19586465596388106, 0.8030450894519123, 0.14793252773482896, 0.18080642278701317, 0.16436947526092108, 0.5040663908001579, 0.9937526113575761, 0.9871196866453243, 0.9906110426852214, 0.9871328643467049, 0.9922083792368723, 0.010281456284616417, 0.9818790751808677, 0.20979948738648319, 0.7892456906443891, 0.9814246474199627, 0.9829364585120749, 0.989392611594494, 0.9944486325020185, 0.996819848582616, 0.9946193967149917, 0.9979911060403345, 0.03619338550108465, 0.49119594608614875, 0.4705140115141004, 0.9921828439227175, 0.933816318829078, 0.06702030996380944, 0.9915247333442259, 0.9968160848591319, 0.9975609739520681, 0.9939520923928212, 0.9891927024814436, 0.9970323897914564, 0.988966938812482, 0.9951405056891822], \"Term\": [\"covid\", \"ozon\", \"wildberries\", \"\\u0430\\u0432\\u0442\\u043e\\u0431\\u0443\\u0441\", \"\\u0430\\u043a\\u0442\", \"\\u0431\\u0430\\u043d\\u043a\", \"\\u0431\\u0430\\u043d\\u043a\", \"\\u0431\\u0438\\u043b\\u0435\\u0442\", \"\\u0431\\u043e\\u043b\\u044c\\u043d\\u043e\\u0439\", \"\\u0431\\u0440\\u0430\\u043a\", \"\\u0431\\u0440\\u0430\\u0442\\u044c\", \"\\u0432\\u0430\\u043a\\u0446\\u0438\\u043d\\u0430\", \"\\u0432\\u0430\\u043a\\u0446\\u0438\\u043d\\u0430\\u0446\\u0438\\u044f\", \"\\u0432\\u0430\\u0448\", \"\\u0432\\u0435\\u0440\\u043d\\u0443\\u0442\\u044c\", \"\\u0432\\u0435\\u0440\\u043d\\u0443\\u0442\\u044c\", \"\\u0432\\u0435\\u0440\\u043d\\u0443\\u0442\\u044c\", \"\\u0432\\u0435\\u0440\\u043d\\u0443\\u0442\\u044c\\u0441\\u044f\", \"\\u0432\\u0435\\u0441\\u044c\", \"\\u0432\\u0435\\u0441\\u044c\", \"\\u0432\\u0435\\u0441\\u044c\", \"\\u0432\\u0435\\u0441\\u044c\", \"\\u0432\\u0435\\u0441\\u044c\", \"\\u0432\\u043b\\u043e\\u0436\\u0435\\u043d\\u0438\\u0435\", \"\\u0432\\u043d\\u0435\\u0441\\u0442\\u0438\", \"\\u0432\\u043e\\u0434\\u0430\", \"\\u0432\\u043e\\u0437\\u0432\\u0440\\u0430\\u0442\", \"\\u0432\\u043e\\u0437\\u0432\\u0440\\u0430\\u0442\", \"\\u0432\\u043e\\u0437\\u043c\\u043e\\u0436\\u043d\\u043e\", \"\\u0432\\u0440\\u0430\\u0447\", \"\\u0432\\u0440\\u0435\\u043c\\u044f\", \"\\u0432\\u0440\\u0435\\u043c\\u044f\", \"\\u0432\\u0440\\u0435\\u043c\\u044f\", \"\\u0432\\u0440\\u0435\\u043c\\u044f\", \"\\u0432\\u0440\\u0435\\u043c\\u044f\", \"\\u0432\\u0440\\u0435\\u043c\\u044f\", \"\\u0432\\u0441\\u0451\", \"\\u0432\\u0441\\u0451\", \"\\u0432\\u0441\\u0451\", \"\\u0432\\u0441\\u0451\", \"\\u0432\\u0441\\u0451\", \"\\u0432\\u0441\\u0451\", \"\\u0432\\u0442\\u0431\", \"\\u0432\\u044b\\u0434\\u0430\\u0447\\u0430\", \"\\u0432\\u044b\\u0437\\u0432\\u0430\\u0442\\u044c\", \"\\u0432\\u044b\\u0439\\u0442\\u0438\", \"\\u0432\\u044b\\u043f\\u043e\\u043b\\u043d\\u044f\\u0442\\u044c\", \"\\u0433\\u0430\\u0437\", \"\\u0433\\u0430\\u0437\", \"\\u0433\\u0430\\u0440\\u0430\\u043d\\u0442\\u0438\\u0439\\u043d\\u044b\\u0439\", \"\\u0433\\u0430\\u0440\\u0430\\u043d\\u0442\\u0438\\u044f\", \"\\u0433\\u043e\\u0440\\u043e\\u0434\", \"\\u0433\\u043e\\u0440\\u043e\\u0434\", \"\\u0433\\u043e\\u0440\\u043e\\u0434\", \"\\u0433\\u043e\\u0440\\u044f\\u0447\\u0438\\u0439\", \"\\u0433\\u043e\\u0440\\u044f\\u0447\\u0438\\u0439\", \"\\u0433\\u043e\\u0441\\u0443\\u0434\\u0430\\u0440\\u0441\\u0442\\u0432\\u0435\\u043d\\u043d\\u044b\\u0439\", \"\\u0433\\u043e\\u0441\\u0443\\u0441\\u043b\\u0443\\u0433\\u0430\", \"\\u0433\\u0440\\u0430\\u0436\\u0434\\u0430\\u043d\\u0438\\u043d\", \"\\u0433\\u0440\\u0443\\u043f\\u043f\\u0430\", \"\\u0434\\u0430\\u0432\\u0430\\u0442\\u044c\", \"\\u0434\\u0430\\u0442\\u0430\", \"\\u0434\\u0430\\u0442\\u0430\", \"\\u0434\\u0430\\u0442\\u0430\", \"\\u0434\\u0430\\u0442\\u044c\", \"\\u0434\\u0430\\u0442\\u044c\", \"\\u0434\\u0430\\u0442\\u044c\", \"\\u0434\\u0430\\u0442\\u044c\", \"\\u0434\\u0430\\u0442\\u044c\", \"\\u0434\\u0430\\u0442\\u044c\", \"\\u0434\\u0435\\u043a\\u0430\\u0431\\u0440\\u044c\", \"\\u0434\\u0435\\u043b\\u0430\\u0442\\u044c\", \"\\u0434\\u0435\\u043b\\u0430\\u0442\\u044c\", \"\\u0434\\u0435\\u043b\\u0430\\u0442\\u044c\", \"\\u0434\\u0435\\u043b\\u0430\\u0442\\u044c\", \"\\u0434\\u0435\\u043d\\u0435\\u0436\\u043d\\u044b\\u0439\", \"\\u0434\\u0435\\u043d\\u0435\\u0436\\u043d\\u044b\\u0439\", \"\\u0434\\u0435\\u043d\\u044c\\u0433\\u0430\", \"\\u0434\\u0435\\u043d\\u044c\\u0433\\u0430\", \"\\u0434\\u0435\\u043d\\u044c\\u0433\\u0430\", \"\\u0434\\u0435\\u043d\\u044c\\u0433\\u0430\", \"\\u0434\\u0435\\u0442\\u0441\\u043a\\u0438\\u0439\", \"\\u0434\\u0435\\u0442\\u0441\\u043a\\u0438\\u0439\", \"\\u0434\\u0435\\u0444\\u0435\\u043a\\u0442\", \"\\u0434\\u0435\\u044f\\u0442\\u0435\\u043b\\u044c\\u043d\\u043e\\u0441\\u0442\\u044c\", \"\\u0434\\u043e\\u0433\\u043e\\u0432\\u043e\\u0440\", \"\\u0434\\u043e\\u043a\\u0443\\u043c\\u0435\\u043d\\u0442\", \"\\u0434\\u043e\\u043a\\u0443\\u043c\\u0435\\u043d\\u0442\", \"\\u0434\\u043e\\u043a\\u0443\\u043c\\u0435\\u043d\\u0442\", \"\\u0434\\u043e\\u043a\\u0443\\u043c\\u0435\\u043d\\u0442\", \"\\u0434\\u043e\\u043b\\u0433\", \"\\u0434\\u043e\\u043b\\u0436\\u043d\\u044b\\u0439\", \"\\u0434\\u043e\\u043b\\u0436\\u043d\\u044b\\u0439\", \"\\u0434\\u043e\\u043b\\u0436\\u043d\\u044b\\u0439\", \"\\u0434\\u043e\\u043b\\u0436\\u043d\\u044b\\u0439\", \"\\u0434\\u043e\\u043b\\u0436\\u043d\\u044b\\u0439\", \"\\u0434\\u043e\\u043b\\u0436\\u043d\\u044b\\u0439\", \"\\u0434\\u043e\\u043c\", \"\\u0434\\u043e\\u043c\", \"\\u0434\\u043e\\u043c\", \"\\u0434\\u043e\\u043c\", \"\\u0434\\u043e\\u043f\\u043e\\u043b\\u043d\\u0438\\u0442\\u0435\\u043b\\u044c\\u043d\\u044b\\u0439\", \"\\u0434\\u043e\\u0441\\u0442\\u0430\\u0432\\u0438\\u0442\\u044c\", \"\\u0434\\u043e\\u0441\\u0442\\u0430\\u0432\\u043a\\u0430\", \"\\u0435\\u0445\\u0430\\u0442\\u044c\", \"\\u0435\\u0449\\u0451\", \"\\u0435\\u0449\\u0451\", \"\\u0435\\u0449\\u0451\", \"\\u0435\\u0449\\u0451\", \"\\u0436\\u0430\\u043b\\u043e\\u0431\\u0430\", \"\\u0436\\u0430\\u043b\\u043e\\u0431\\u0430\", \"\\u0436\\u0430\\u043b\\u043e\\u0431\\u0430\", \"\\u0436\\u0430\\u043b\\u043e\\u0431\\u0430\", \"\\u0436\\u0430\\u043b\\u043e\\u0431\\u0430\", \"\\u0436\\u0438\\u043b\\u0435\\u0446\", \"\\u0436\\u0438\\u043b\\u0435\\u0446\", \"\\u0436\\u0438\\u043b\\u0438\\u0449\\u043d\\u044b\\u0439\", \"\\u0437\\u0430\\u0431\\u043e\\u043b\\u0435\\u0442\\u044c\", \"\\u0437\\u0430\\u0432\\u0435\\u0434\\u0435\\u043d\\u0438\\u0435\", \"\\u0437\\u0430\\u043a\\u0430\\u0437\", \"\\u0437\\u0430\\u043a\\u0430\\u0437\", \"\\u0437\\u0430\\u043a\\u0430\\u0437\\u0430\\u0442\\u044c\", \"\\u0437\\u0430\\u043a\\u0430\\u0437\\u0447\\u0438\\u043a\", \"\\u0437\\u0430\\u043a\\u043b\\u044e\\u0447\\u0438\\u0442\\u044c\", \"\\u0437\\u0430\\u043a\\u043e\\u043d\", \"\\u0437\\u0430\\u043a\\u043e\\u043d\", \"\\u0437\\u0430\\u043a\\u043e\\u043d\", \"\\u0437\\u0430\\u043a\\u043e\\u043d\", \"\\u0437\\u0430\\u043a\\u043e\\u043d\\u043d\\u043e\", \"\\u0437\\u0430\\u043a\\u043e\\u043d\\u043e\\u0434\\u0430\\u0442\\u0435\\u043b\\u044c\\u0441\\u0442\\u0432\\u043e\", \"\\u0437\\u0430\\u043f\\u0430\\u0445\", \"\\u0437\\u0430\\u0449\\u0438\\u0442\\u0430\", \"\\u0437\\u0430\\u0449\\u0438\\u0442\\u0430\", \"\\u0437\\u0430\\u0449\\u0438\\u0442\\u0430\", \"\\u0437\\u0430\\u0449\\u0438\\u0442\\u0430\", \"\\u0437\\u0430\\u044f\\u0432\\u043b\\u0435\\u043d\\u0438\\u0435\", \"\\u0437\\u0430\\u044f\\u0432\\u043b\\u0435\\u043d\\u0438\\u0435\", \"\\u0437\\u0432\\u043e\\u043d\\u0438\\u0442\\u044c\", \"\\u0437\\u0432\\u043e\\u043d\\u043e\\u043a\", \"\\u0437\\u0432\\u043e\\u043d\\u043e\\u043a\", \"\\u0437\\u0434\\u043e\\u0440\\u043e\\u0432\\u044c\\u0435\", \"\\u0437\\u0434\\u043e\\u0440\\u043e\\u0432\\u044c\\u0435\", \"\\u0437\\u043e\\u043d\\u0430\", \"\\u0438\\u043c\\u0443\\u0449\\u0435\\u0441\\u0442\\u0432\\u043e\", \"\\u0438\\u043d\\u0442\\u0435\\u0440\\u043d\\u0435\\u0442\", \"\\u0438\\u043d\\u0442\\u0435\\u0440\\u043d\\u0435\\u0442\", \"\\u0438\\u043d\\u0444\\u0435\\u043a\\u0446\\u0438\\u044f\", \"\\u0438\\u0441\\u043f\\u043e\\u043b\\u043d\\u0435\\u043d\\u0438\\u0435\", \"\\u0438\\u0441\\u043f\\u043e\\u043b\\u043d\\u0438\\u0442\\u0435\\u043b\\u044c\", \"\\u043a\\u0430\\u0440\\u0442\\u0430\", \"\\u043a\\u0430\\u0440\\u0442\\u0430\", \"\\u043a\\u0430\\u0440\\u0442\\u0430\", \"\\u043a\\u0430\\u0447\\u0435\\u0441\\u0442\\u0432\\u043e\", \"\\u043a\\u0430\\u0447\\u0435\\u0441\\u0442\\u0432\\u043e\", \"\\u043a\\u0430\\u0447\\u0435\\u0441\\u0442\\u0432\\u043e\", \"\\u043a\\u0432\\u0430\\u0440\\u0442\\u0438\\u0440\\u0430\", \"\\u043a\\u0432\\u0430\\u0440\\u0442\\u0438\\u0440\\u0430\", \"\\u043a\\u043b\\u0430\\u0441\\u0441\", \"\\u043a\\u043b\\u0438\\u0435\\u043d\\u0442\", \"\\u043a\\u043e\\u0432\\u0438\\u0434\", \"\\u043a\\u043e\\u0434\", \"\\u043a\\u043e\\u043c\\u043c\\u0443\\u043d\\u0430\\u043b\\u044c\\u043d\\u044b\\u0439\", \"\\u043a\\u043e\\u043c\\u043f\\u0430\\u043d\\u0438\\u044f\", \"\\u043a\\u043e\\u043c\\u043f\\u0430\\u043d\\u0438\\u044f\", \"\\u043a\\u043e\\u043c\\u043f\\u0430\\u043d\\u0438\\u044f\", \"\\u043a\\u043e\\u043c\\u043f\\u0430\\u043d\\u0438\\u044f\", \"\\u043a\\u043e\\u043d\\u0441\\u0443\\u043b\\u044c\\u0442\\u0430\\u0446\\u0438\\u044f\", \"\\u043a\\u043e\\u0440\\u043e\\u0431\\u043a\\u0430\", \"\\u043a\\u043e\\u0442\\u043e\\u0440\\u044b\\u0439\", \"\\u043a\\u043e\\u0442\\u043e\\u0440\\u044b\\u0439\", \"\\u043a\\u043e\\u0442\\u043e\\u0440\\u044b\\u0439\", \"\\u043a\\u043e\\u0442\\u043e\\u0440\\u044b\\u0439\", \"\\u043a\\u043e\\u0442\\u043e\\u0440\\u044b\\u0439\", \"\\u043a\\u043e\\u0442\\u043e\\u0440\\u044b\\u0439\", \"\\u043a\\u0440\\u0435\\u0434\\u0438\\u0442\", \"\\u043a\\u0440\\u0435\\u0434\\u0438\\u0442\\u043d\\u044b\\u0439\", \"\\u043a\\u0443\\u043f\\u0438\\u0442\\u044c\", \"\\u043a\\u0443\\u043f\\u0438\\u0442\\u044c\", \"\\u043a\\u0443\\u043f\\u0438\\u0442\\u044c\", \"\\u043a\\u0443\\u043f\\u0438\\u0442\\u044c\", \"\\u043a\\u0443\\u0440\\u0441\", \"\\u043b\\u0438\\u043d\\u0438\\u044f\", \"\\u043b\\u0438\\u043d\\u0438\\u044f\", \"\\u043b\\u0438\\u043d\\u0438\\u044f\", \"\\u043b\\u0438\\u043d\\u0438\\u044f\", \"\\u043b\\u0438\\u0446\\u043e\", \"\\u043b\\u0438\\u0447\\u043d\\u043e\", \"\\u043b\\u0438\\u0447\\u043d\\u044b\\u0439\", \"\\u043b\\u0438\\u0447\\u043d\\u044b\\u0439\", \"\\u043b\\u0438\\u0447\\u043d\\u044b\\u0439\", \"\\u043c\\u0430\\u0433\\u0430\\u0437\\u0438\\u043d\", \"\\u043c\\u0430\\u0433\\u0430\\u0437\\u0438\\u043d\", \"\\u043c\\u0430\\u0440\\u0448\\u0440\\u0443\\u0442\", \"\\u043c\\u0430\\u0441\\u043a\\u0430\", \"\\u043c\\u0430\\u0441\\u0442\\u0435\\u0440\", \"\\u043c\\u0430\\u0448\\u0438\\u043d\\u0430\", \"\\u043c\\u0435\\u0434\\u0438\\u0446\\u0438\\u043d\\u0441\\u043a\\u0438\\u0439\", \"\\u043c\\u0435\\u0440\\u0430\", \"\\u043c\\u0435\\u0440\\u0430\", \"\\u043c\\u0435\\u0440\\u0430\", \"\\u043c\\u0435\\u0440\\u043e\\u043f\\u0440\\u0438\\u044f\\u0442\\u0438\\u0435\", \"\\u043c\\u0435\\u0441\\u0442\\u043e\", \"\\u043c\\u0435\\u0441\\u0442\\u043e\", \"\\u043c\\u0435\\u0441\\u0442\\u043e\", \"\\u043c\\u0435\\u0441\\u0442\\u043e\", \"\\u043c\\u0435\\u0441\\u0442\\u043e\", \"\\u043c\\u0438\\u043d\\u0443\\u0442\\u0430\", \"\\u043c\\u0438\\u0440\", \"\\u043c\\u043d\\u043e\\u0433\\u043e\\u043a\\u0432\\u0430\\u0440\\u0442\\u0438\\u0440\\u043d\\u044b\\u0439\", \"\\u043c\\u0442\\u0441\", \"\\u043c\\u0442\\u0441\", \"\\u043d\\u0430\\u0434\\u0437\\u043e\\u0440\", \"\\u043d\\u0430\\u0434\\u043b\\u0435\\u0436\\u0430\\u0449\\u0438\\u0439\", \"\\u043d\\u0430\\u0434\\u043b\\u0435\\u0436\\u0430\\u0449\\u0438\\u0439\", \"\\u043d\\u0430\\u0440\\u0443\\u0448\\u0435\\u043d\\u0438\\u0435\", \"\\u043d\\u0430\\u0443\\u0448\\u043d\\u0438\\u043a\", \"\\u043d\\u0430\\u0445\\u043e\\u0434\\u0438\\u0442\\u044c\\u0441\\u044f\", \"\\u043d\\u0430\\u0445\\u043e\\u0434\\u0438\\u0442\\u044c\\u0441\\u044f\", \"\\u043d\\u0430\\u0445\\u043e\\u0434\\u0438\\u0442\\u044c\\u0441\\u044f\", \"\\u043d\\u0430\\u0448\", \"\\u043d\\u0430\\u0448\", \"\\u043d\\u0430\\u0448\", \"\\u043d\\u0430\\u0448\", \"\\u043d\\u0435\\u0432\\u043e\\u0437\\u043c\\u043e\\u0436\\u043d\\u043e\", \"\\u043d\\u0435\\u043e\\u0431\\u0445\\u043e\\u0434\\u0438\\u043c\\u043e\", \"\\u043d\\u0438\\u043a\\u0442\\u043e\", \"\\u043d\\u043e\\u043c\\u0435\\u0440\", \"\\u043d\\u043e\\u043c\\u0435\\u0440\", \"\\u043d\\u043e\\u043c\\u0435\\u0440\", \"\\u043d\\u043e\\u0440\\u043c\\u0430\", \"\\u043d\\u043e\\u0447\\u044c\", \"\\u043d\\u043e\\u044f\\u0431\\u0440\\u044c\", \"\\u043d\\u0443\\u0436\\u043d\\u043e\", \"\\u043d\\u0443\\u0436\\u043d\\u043e\", \"\\u043d\\u0443\\u0436\\u043d\\u043e\", \"\\u043e\\u0431\\u043b\\u0430\\u0441\\u0442\\u044c\", \"\\u043e\\u0431\\u043c\\u0435\\u043d\\u044f\\u0442\\u044c\", \"\\u043e\\u0431\\u043d\\u0430\\u0440\\u0443\\u0436\\u0438\\u0442\\u044c\", \"\\u043e\\u0431\\u043d\\u0430\\u0440\\u0443\\u0436\\u0438\\u0442\\u044c\", \"\\u043e\\u0431\\u0440\\u0430\\u0442\\u0438\\u0442\\u044c\\u0441\\u044f\", \"\\u043e\\u0431\\u0440\\u0430\\u0442\\u0438\\u0442\\u044c\\u0441\\u044f\", \"\\u043e\\u0431\\u0443\\u0432\\u044c\", \"\\u043e\\u0431\\u0449\\u0438\\u0439\", \"\\u043e\\u0431\\u0449\\u0438\\u0439\", \"\\u043e\\u0431\\u0449\\u0438\\u0439\", \"\\u043e\\u0431\\u0449\\u0438\\u0439\", \"\\u043e\\u0431\\u044a\\u044f\\u0441\\u043d\\u0438\\u0442\\u044c\", \"\\u043e\\u0433\\u0440\\u0430\\u043d\\u0438\\u0447\\u0435\\u043d\\u0438\\u0435\", \"\\u043e\\u0433\\u0440\\u0430\\u043d\\u0438\\u0447\\u0435\\u043d\\u0438\\u0435\", \"\\u043e\\u0437\\u043e\\u043d\", \"\\u043e\\u043a\\u0430\\u0437\\u0430\\u043d\\u0438\\u0435\", \"\\u043e\\u043a\\u043e\\u043b\\u043e\", \"\\u043e\\u043a\\u0442\\u044f\\u0431\\u0440\\u044c\", \"\\u043e\\u043a\\u0442\\u044f\\u0431\\u0440\\u044c\", \"\\u043e\\u043d\\u043b\\u0430\\u0439\\u043d\", \"\\u043e\\u043e\\u043e\", \"\\u043e\\u043e\\u043e\", \"\\u043e\\u043e\\u043e\", \"\\u043e\\u043e\\u043e\", \"\\u043e\\u043f\\u0435\\u0440\\u0430\\u0442\\u043e\\u0440\", \"\\u043e\\u043f\\u0435\\u0440\\u0430\\u0442\\u043e\\u0440\", \"\\u043e\\u043f\\u0435\\u0440\\u0430\\u0442\\u043e\\u0440\", \"\\u043e\\u043f\\u0435\\u0440\\u0430\\u0446\\u0438\\u044f\", \"\\u043e\\u043f\\u043b\\u0430\\u0442\\u0430\", \"\\u043e\\u043f\\u043b\\u0430\\u0442\\u0430\", \"\\u043e\\u043f\\u043b\\u0430\\u0442\\u0430\", \"\\u043e\\u043f\\u043b\\u0430\\u0442\\u0430\", \"\\u043e\\u043f\\u043b\\u0430\\u0442\\u0438\\u0442\\u044c\", \"\\u043e\\u043f\\u043b\\u0430\\u0442\\u0438\\u0442\\u044c\", \"\\u043e\\u043f\\u043b\\u0430\\u0442\\u0438\\u0442\\u044c\", \"\\u043e\\u043f\\u043b\\u0430\\u0442\\u0438\\u0442\\u044c\", \"\\u043e\\u0440\\u0433\\u0430\\u043d\\u0438\\u0437\\u0430\\u0446\\u0438\\u044f\", \"\\u043e\\u0440\\u0433\\u0430\\u043d\\u0438\\u0437\\u0430\\u0446\\u0438\\u044f\", \"\\u043e\\u0440\\u0433\\u0430\\u043d\\u0438\\u0437\\u0430\\u0446\\u0438\\u044f\", \"\\u043e\\u0440\\u0433\\u0430\\u043d\\u0438\\u0437\\u0430\\u0446\\u0438\\u044f\", \"\\u043e\\u0441\\u0443\\u0449\\u0435\\u0441\\u0442\\u0432\\u0438\\u0442\\u044c\", \"\\u043e\\u0442\\u0432\\u0435\\u0442\", \"\\u043e\\u0442\\u0432\\u0435\\u0442\", \"\\u043e\\u0442\\u0432\\u0435\\u0442\", \"\\u043e\\u0442\\u0432\\u0435\\u0442\", \"\\u043e\\u0442\\u0434\\u0435\\u043b\\u0435\\u043d\\u0438\\u0435\", \"\\u043e\\u0442\\u043a\\u0430\\u0437\", \"\\u043e\\u0442\\u043a\\u0430\\u0437\", \"\\u043e\\u0442\\u043a\\u0430\\u0437\", \"\\u043e\\u0442\\u043a\\u0430\\u0437\\u0430\\u0442\\u044c\", \"\\u043e\\u0442\\u043a\\u0430\\u0437\\u0430\\u0442\\u044c\", \"\\u043e\\u0442\\u043a\\u0430\\u0437\\u0430\\u0442\\u044c\", \"\\u043e\\u0442\\u043a\\u0430\\u0437\\u0430\\u0442\\u044c\\u0441\\u044f\", \"\\u043e\\u0442\\u043a\\u0430\\u0437\\u0430\\u0442\\u044c\\u0441\\u044f\", \"\\u043e\\u0442\\u043a\\u0430\\u0437\\u0430\\u0442\\u044c\\u0441\\u044f\", \"\\u043e\\u0442\\u043a\\u0430\\u0437\\u044b\\u0432\\u0430\\u0442\\u044c\", \"\\u043e\\u0442\\u043a\\u043b\\u044e\\u0447\\u0435\\u043d\\u0438\\u0435\", \"\\u043e\\u0442\\u043c\\u0435\\u043d\\u0430\", \"\\u043e\\u0442\\u043c\\u0435\\u043d\\u0438\\u0442\\u044c\", \"\\u043e\\u0442\\u043c\\u0435\\u043d\\u043d\\u044b\\u0439\", \"\\u043e\\u0444\\u043e\\u0440\\u043c\\u043b\\u0435\\u043d\\u0438\\u0435\", \"\\u043f\\u0430\\u043d\\u0434\\u0435\\u043c\\u0438\\u044f\", \"\\u043f\\u0430\\u043e\", \"\\u043f\\u0435\\u0440\\u0435\\u0431\\u043e\\u043b\\u0435\\u0442\\u044c\", \"\\u043f\\u0435\\u0440\\u0435\\u043d\\u0435\\u0441\\u0442\\u0438\", \"\\u043f\\u0438\\u0441\\u044c\\u043c\\u043e\", \"\\u043f\\u0438\\u0441\\u044c\\u043c\\u043e\", \"\\u043f\\u0438\\u0441\\u044c\\u043c\\u043e\", \"\\u043f\\u043b\\u0430\\u043d\\u0438\\u0440\\u043e\\u0432\\u0430\\u0442\\u044c\", \"\\u043f\\u043b\\u0430\\u0442\\u0430\", \"\\u043f\\u043b\\u043e\\u0449\\u0430\\u0434\\u043a\\u0430\", \"\\u043f\\u043e\\u0434\\u043b\\u0435\\u0436\\u0430\\u0442\\u044c\", \"\\u043f\\u043e\\u0434\\u0441\\u043a\\u0430\\u0437\\u0430\\u0442\\u044c\", \"\\u043f\\u043e\\u0434\\u0441\\u043a\\u0430\\u0437\\u0430\\u0442\\u044c\", \"\\u043f\\u043e\\u0434\\u0441\\u043a\\u0430\\u0437\\u0430\\u0442\\u044c\", \"\\u043f\\u043e\\u0434\\u0441\\u043a\\u0430\\u0437\\u0430\\u0442\\u044c\", \"\\u043f\\u043e\\u0434\\u0442\\u0432\\u0435\\u0440\\u0434\\u0438\\u0442\\u044c\", \"\\u043f\\u043e\\u0434\\u0442\\u0432\\u0435\\u0440\\u0436\\u0434\\u0435\\u043d\\u0438\\u0435\", \"\\u043f\\u043e\\u0434\\u044a\\u0435\\u0437\\u0434\", \"\\u043f\\u043e\\u0435\\u0437\\u0434\\u043a\\u0430\", \"\\u043f\\u043e\\u0436\\u0430\\u043b\\u0443\\u0439\\u0441\\u0442\\u0430\", \"\\u043f\\u043e\\u0436\\u0430\\u043b\\u0443\\u0439\\u0441\\u0442\\u0430\", \"\\u043f\\u043e\\u0436\\u0430\\u043b\\u0443\\u0439\\u0441\\u0442\\u0430\", \"\\u043f\\u043e\\u0437\\u0432\\u043e\\u043d\\u0438\\u0442\\u044c\", \"\\u043f\\u043e\\u0437\\u0432\\u043e\\u043d\\u0438\\u0442\\u044c\", \"\\u043f\\u043e\\u043a\\u0443\\u043f\\u0430\\u0442\\u0435\\u043b\\u044c\", \"\\u043f\\u043e\\u043a\\u0443\\u043f\\u043a\\u0430\", \"\\u043f\\u043e\\u043a\\u0443\\u043f\\u043a\\u0430\", \"\\u043f\\u043e\\u043b\\u0438\\u043a\\u043b\\u0438\\u043d\\u0438\\u043a\\u0430\", \"\\u043f\\u043e\\u043b\\u0438\\u043a\\u043b\\u0438\\u043d\\u0438\\u043a\\u0430\", \"\\u043f\\u043e\\u043b\\u0443\\u0447\\u0435\\u043d\\u0438\\u0435\", \"\\u043f\\u043e\\u043b\\u0443\\u0447\\u0435\\u043d\\u0438\\u0435\", \"\\u043f\\u043e\\u043b\\u0443\\u0447\\u0438\\u0442\\u044c\", \"\\u043f\\u043e\\u043b\\u0443\\u0447\\u0438\\u0442\\u044c\", \"\\u043f\\u043e\\u043b\\u0443\\u0447\\u0438\\u0442\\u044c\", \"\\u043f\\u043e\\u043b\\u0443\\u0447\\u0438\\u0442\\u044c\", \"\\u043f\\u043e\\u043b\\u044c\\u0437\\u043e\\u0432\\u0430\\u043d\\u0438\\u0435\", \"\\u043f\\u043e\\u043b\\u044c\\u0437\\u043e\\u0432\\u0430\\u0442\\u044c\\u0441\\u044f\", \"\\u043f\\u043e\\u043c\\u0435\\u0449\\u0435\\u043d\\u0438\\u0435\", \"\\u043f\\u043e\\u043c\\u043e\\u0449\\u044c\", \"\\u043f\\u043e\\u0440\\u0430\", \"\\u043f\\u043e\\u0440\\u0430\", \"\\u043f\\u043e\\u0441\\u0442\\u0430\\u043d\\u043e\\u0432\\u043b\\u0435\\u043d\\u0438\\u0435\", \"\\u043f\\u043e\\u0441\\u0442\\u0430\\u043d\\u043e\\u0432\\u043b\\u0435\\u043d\\u0438\\u0435\", \"\\u043f\\u043e\\u0441\\u0442\\u0430\\u043d\\u043e\\u0432\\u043b\\u0435\\u043d\\u0438\\u0435\", \"\\u043f\\u043e\\u0441\\u0442\\u0443\\u043f\\u0438\\u0442\\u044c\", \"\\u043f\\u043e\\u0441\\u0442\\u0443\\u043f\\u0438\\u0442\\u044c\", \"\\u043f\\u043e\\u0441\\u0442\\u0443\\u043f\\u0438\\u0442\\u044c\", \"\\u043f\\u043e\\u0442\\u0440\\u0435\\u0431\\u0438\\u0442\\u0435\\u043b\\u044c\", \"\\u043f\\u043e\\u0442\\u0440\\u0435\\u0431\\u0438\\u0442\\u0435\\u043b\\u044c\", \"\\u043f\\u043e\\u0442\\u0440\\u0435\\u0431\\u0438\\u0442\\u0435\\u043b\\u044c\", \"\\u043f\\u043e\\u0442\\u0440\\u0435\\u0431\\u0438\\u0442\\u0435\\u043b\\u044c\", \"\\u043f\\u043e\\u0442\\u0440\\u0435\\u0431\\u0438\\u0442\\u0435\\u043b\\u044c\", \"\\u043f\\u043e\\u0447\\u0442\\u0430\", \"\\u043f\\u043e\\u0447\\u0442\\u0430\", \"\\u043f\\u043e\\u0447\\u0442\\u0430\", \"\\u043f\\u0440\\u0430\\u0432\\u0438\\u043b\\u043e\", \"\\u043f\\u0440\\u0435\\u0434\\u043e\\u043f\\u043b\\u0430\\u0442\\u0430\", \"\\u043f\\u0440\\u0438\\u0432\\u0438\\u0432\\u043a\\u0430\", \"\\u043f\\u0440\\u0438\\u0439\\u0442\\u0438\", \"\\u043f\\u0440\\u0438\\u0439\\u0442\\u0438\", \"\\u043f\\u0440\\u0438\\u0439\\u0442\\u0438\", \"\\u043f\\u0440\\u0438\\u0439\\u0442\\u0438\", \"\\u043f\\u0440\\u0438\\u043a\\u0430\\u0437\", \"\\u043f\\u0440\\u0438\\u043b\\u043e\\u0436\\u0438\\u0442\\u044c\", \"\\u043f\\u0440\\u0438\\u043d\\u0438\\u043c\\u0430\\u0442\\u044c\", \"\\u043f\\u0440\\u0438\\u043d\\u044f\\u0442\\u044c\", \"\\u043f\\u0440\\u0438\\u043d\\u044f\\u0442\\u044c\", \"\\u043f\\u0440\\u0438\\u043d\\u044f\\u0442\\u044c\", \"\\u043f\\u0440\\u0438\\u043d\\u044f\\u0442\\u044c\", \"\\u043f\\u0440\\u0438\\u043e\\u0431\\u0440\\u0435\\u0441\\u0442\\u0438\", \"\\u043f\\u0440\\u0438\\u043e\\u0431\\u0440\\u0435\\u0441\\u0442\\u0438\", \"\\u043f\\u0440\\u043e\\u0432\\u0435\\u0434\\u0435\\u043d\\u0438\\u0435\", \"\\u043f\\u0440\\u043e\\u0432\\u0435\\u0440\\u043a\\u0430\", \"\\u043f\\u0440\\u043e\\u0432\\u0435\\u0440\\u043a\\u0430\", \"\\u043f\\u0440\\u043e\\u0432\\u0435\\u0440\\u043a\\u0430\", \"\\u043f\\u0440\\u043e\\u0432\\u0435\\u0440\\u043a\\u0430\", \"\\u043f\\u0440\\u043e\\u0432\\u0435\\u0441\\u0442\\u0438\", \"\\u043f\\u0440\\u043e\\u0432\\u0435\\u0441\\u0442\\u0438\", \"\\u043f\\u0440\\u043e\\u0432\\u0435\\u0441\\u0442\\u0438\", \"\\u043f\\u0440\\u043e\\u0432\\u0435\\u0441\\u0442\\u0438\", \"\\u043f\\u0440\\u043e\\u0432\\u0435\\u0441\\u0442\\u0438\", \"\\u043f\\u0440\\u043e\\u0434\\u0430\\u0432\\u0435\\u0446\", \"\\u043f\\u0440\\u043e\\u0434\\u0430\\u0436\\u0430\", \"\\u043f\\u0440\\u043e\\u0434\\u0443\\u043a\\u0442\", \"\\u043f\\u0440\\u043e\\u0436\\u0438\\u0432\\u0430\\u0442\\u044c\", \"\\u043f\\u0440\\u043e\\u0436\\u0438\\u0432\\u0430\\u0442\\u044c\", \"\\u043f\\u0440\\u043e\\u0439\\u0442\\u0438\", \"\\u043f\\u0440\\u043e\\u0439\\u0442\\u0438\", \"\\u043f\\u0440\\u043e\\u0445\\u043e\\u0434\\u0438\\u0442\\u044c\", \"\\u043f\\u0443\\u043d\\u043a\\u0442\", \"\\u043f\\u0443\\u043d\\u043a\\u0442\", \"\\u043f\\u0443\\u043d\\u043a\\u0442\", \"\\u043f\\u0443\\u043d\\u043a\\u0442\", \"\\u043f\\u0446\\u0440\", \"\\u0440\\u0430\\u0431\\u043e\\u0442\\u0430\", \"\\u0440\\u0430\\u0431\\u043e\\u0442\\u0430\", \"\\u0440\\u0430\\u0431\\u043e\\u0442\\u0430\", \"\\u0440\\u0430\\u0431\\u043e\\u0442\\u0430\", \"\\u0440\\u0430\\u0437\\u043c\\u0435\\u0440\", \"\\u0440\\u0430\\u0437\\u043c\\u0435\\u0440\", \"\\u0440\\u0430\\u0437\\u043c\\u0435\\u0440\", \"\\u0440\\u0430\\u0437\\u043e\\u0431\\u0440\\u0430\\u0442\\u044c\\u0441\\u044f\", \"\\u0440\\u0430\\u0437\\u043e\\u0431\\u0440\\u0430\\u0442\\u044c\\u0441\\u044f\", \"\\u0440\\u0430\\u0441\\u0441\\u043c\\u043e\\u0442\\u0440\\u0435\\u043d\\u0438\\u0435\", \"\\u0440\\u0435\\u0431\\u0451\\u043d\\u043e\\u043a\", \"\\u0440\\u0435\\u0437\\u0443\\u043b\\u044c\\u0442\\u0430\\u0442\", \"\\u0440\\u0435\\u0439\\u0441\", \"\\u0440\\u0435\\u043c\\u043e\\u043d\\u0442\", \"\\u0440\\u0435\\u043c\\u043e\\u043d\\u0442\", \"\\u0440\\u0435\\u043c\\u043e\\u043d\\u0442\", \"\\u0440\\u043e\\u0434\\u0438\\u0442\\u0435\\u043b\\u044c\", \"\\u0440\\u043e\\u0441\\u0441\\u0438\\u0439\\u0441\\u043a\\u0438\\u0439\", \"\\u0440\\u043e\\u0441\\u0441\\u0438\\u044f\", \"\\u0440\\u043e\\u0441\\u0441\\u0438\\u044f\", \"\\u0440\\u043e\\u0441\\u0441\\u0438\\u044f\", \"\\u0440\\u043e\\u0441\\u0442\\u0435\\u043b\\u0435\\u043a\\u043e\\u043c\", \"\\u0440\\u0443\\u043a\\u0430\", \"\\u0440\\u0443\\u043a\\u0430\", \"\\u0441\\u0430\\u0434\", \"\\u0441\\u0430\\u0439\\u0442\", \"\\u0441\\u0430\\u0439\\u0442\", \"\\u0441\\u0430\\u0439\\u0442\", \"\\u0441\\u0430\\u043b\\u043e\\u043d\", \"\\u0441\\u0430\\u043c\\u044b\\u0439\", \"\\u0441\\u0430\\u043d\\u0438\\u0442\\u0430\\u0440\\u043d\\u044b\\u0439\", \"\\u0441\\u0431\\u0435\\u0440\\u0431\\u0430\\u043d\\u043a\", \"\\u0441\\u0431\\u0435\\u0440\\u0431\\u0430\\u043d\\u043a\", \"\\u0441\\u0431\\u0435\\u0440\\u0431\\u0430\\u043d\\u043a\", \"\\u0441\\u0431\\u0435\\u0440\\u043c\\u0435\\u0433\\u0430\\u043c\\u0430\\u0440\\u043a\\u0435\\u0442\", \"\\u0441\\u0432\\u043e\\u0439\", \"\\u0441\\u0432\\u043e\\u0439\", \"\\u0441\\u0432\\u043e\\u0439\", \"\\u0441\\u0432\\u043e\\u0439\", \"\\u0441\\u0432\\u043e\\u0439\", \"\\u0441\\u0432\\u043e\\u0439\", \"\\u0441\\u0432\\u044f\\u0437\\u044c\", \"\\u0441\\u0432\\u044f\\u0437\\u044c\", \"\\u0441\\u0432\\u044f\\u0437\\u044c\", \"\\u0441\\u0432\\u044f\\u0437\\u044c\", \"\\u0441\\u0432\\u044f\\u0437\\u044c\", \"\\u0441\\u0432\\u044f\\u0437\\u044c\", \"\\u0441\\u0434\\u0435\\u043b\\u0430\\u0442\\u044c\", \"\\u0441\\u0434\\u0435\\u043b\\u0430\\u0442\\u044c\", \"\\u0441\\u0434\\u0435\\u043b\\u0430\\u0442\\u044c\", \"\\u0441\\u0434\\u0435\\u043b\\u0430\\u0442\\u044c\", \"\\u0441\\u0435\\u0439\", \"\\u0441\\u0435\\u0439\", \"\\u0441\\u0435\\u043d\\u0442\\u044f\\u0431\\u0440\\u044c\", \"\\u0441\\u0435\\u0440\\u0432\\u0438\\u0441\\u043d\\u044b\\u0439\", \"\\u0441\\u0435\\u0440\\u0432\\u0438\\u0441\\u043d\\u044b\\u0439\", \"\\u0441\\u0435\\u0440\\u0442\\u0438\\u0444\\u0438\\u043a\\u0430\\u0442\", \"\\u0441\\u0438\\u0442\\u0443\\u0430\\u0446\\u0438\\u044f\", \"\\u0441\\u0438\\u0442\\u0443\\u0430\\u0446\\u0438\\u044f\", \"\\u0441\\u0438\\u0442\\u0443\\u0430\\u0446\\u0438\\u044f\", \"\\u0441\\u0438\\u0442\\u0443\\u0430\\u0446\\u0438\\u044f\", \"\\u0441\\u0438\\u0442\\u0443\\u0430\\u0446\\u0438\\u044f\", \"\\u0441\\u043b\\u043e\\u0432\\u043e\", \"\\u0441\\u043c\\u0441\", \"\\u0441\\u043d\\u043e\\u0432\\u0430\", \"\\u0441\\u043d\\u043e\\u0432\\u0430\", \"\\u0441\\u043e\\u0431\\u0438\\u0440\\u0430\\u0442\\u044c\\u0441\\u044f\", \"\\u0441\\u043e\\u0431\\u0438\\u0440\\u0430\\u0442\\u044c\\u0441\\u044f\", \"\\u0441\\u043e\\u0433\\u043b\\u0430\\u0441\\u043d\\u043e\", \"\\u0441\\u043e\\u0433\\u043b\\u0430\\u0441\\u043d\\u043e\", \"\\u0441\\u043e\\u0433\\u043b\\u0430\\u0441\\u043d\\u043e\", \"\\u0441\\u043e\\u0433\\u043b\\u0430\\u0441\\u043d\\u043e\", \"\\u0441\\u043e\\u0433\\u043b\\u0430\\u0441\\u043d\\u043e\", \"\\u0441\\u043e\\u0441\\u043b\\u0430\\u0442\\u044c\\u0441\\u044f\", \"\\u0441\\u043e\\u0442\\u0440\\u0443\\u0434\\u043d\\u0438\\u043a\", \"\\u0441\\u043e\\u0442\\u0440\\u0443\\u0434\\u043d\\u0438\\u043a\", \"\\u0441\\u043e\\u0442\\u0440\\u0443\\u0434\\u043d\\u0438\\u043a\", \"\\u0441\\u043e\\u0442\\u0440\\u0443\\u0434\\u043d\\u0438\\u043a\", \"\\u0441\\u043e\\u0442\\u0440\\u0443\\u0434\\u043d\\u0438\\u043a\", \"\\u0441\\u043f\\u0438\\u0441\\u0430\\u043d\\u0438\\u0435\", \"\\u0441\\u043f\\u0438\\u0441\\u0430\\u0442\\u044c\", \"\\u0441\\u043f\\u0438\\u0441\\u0430\\u0442\\u044c\", \"\\u0441\\u043f\\u0440\\u0430\\u0432\\u043a\\u0430\", \"\\u0441\\u0440\\u0435\\u0434\\u0441\\u0442\\u0432\\u043e\", \"\\u0441\\u0440\\u0435\\u0434\\u0441\\u0442\\u0432\\u043e\", \"\\u0441\\u0440\\u0435\\u0434\\u0441\\u0442\\u0432\\u043e\", \"\\u0441\\u0440\\u043e\\u043a\", \"\\u0441\\u0440\\u043e\\u043a\", \"\\u0441\\u0440\\u043e\\u043a\", \"\\u0441\\u0440\\u043e\\u043a\", \"\\u0441\\u0440\\u043e\\u043a\", \"\\u0441\\u0440\\u043e\\u043a\", \"\\u0441\\u0441\\u044b\\u043b\\u0430\\u0442\\u044c\\u0441\\u044f\", \"\\u0441\\u0441\\u044b\\u043b\\u0430\\u0442\\u044c\\u0441\\u044f\", \"\\u0441\\u0442\\u0430\\u0442\\u044c\\u044f\", \"\\u0441\\u0442\\u0430\\u0442\\u044c\\u044f\", \"\\u0441\\u0442\\u0435\\u043d\\u0430\", \"\\u0441\\u0442\\u043e\\u0438\\u043c\\u043e\\u0441\\u0442\\u044c\", \"\\u0441\\u0442\\u043e\\u0438\\u043c\\u043e\\u0441\\u0442\\u044c\", \"\\u0441\\u0443\\u043c\\u043c\\u0430\", \"\\u0441\\u0443\\u043c\\u043c\\u0430\", \"\\u0441\\u0443\\u043c\\u043c\\u0430\", \"\\u0441\\u0443\\u043c\\u043c\\u0430\", \"\\u0441\\u0444\\u0435\\u0440\\u0430\", \"\\u0441\\u0447\\u0451\\u0442\", \"\\u0441\\u0447\\u0451\\u0442\", \"\\u0441\\u0447\\u0451\\u0442\", \"\\u0441\\u0447\\u0451\\u0442\", \"\\u0442\\u0430\\u043a\\u0436\\u0435\", \"\\u0442\\u0430\\u043a\\u0436\\u0435\", \"\\u0442\\u0430\\u043a\\u0436\\u0435\", \"\\u0442\\u0430\\u043a\\u0436\\u0435\", \"\\u0442\\u0430\\u043a\\u0436\\u0435\", \"\\u0442\\u0430\\u043a\\u0436\\u0435\", \"\\u0442\\u0430\\u0440\\u0430\\u043a\\u0430\\u043d\", \"\\u0442\\u0430\\u0440\\u0438\\u0444\", \"\\u0442\\u0435\\u043b\\u0435\\u0432\\u0438\\u0437\\u043e\\u0440\", \"\\u0442\\u0435\\u043b\\u0435\\u0444\\u043e\\u043d\", \"\\u0442\\u0435\\u043b\\u0435\\u0444\\u043e\\u043d\", \"\\u0442\\u0435\\u043b\\u0435\\u0444\\u043e\\u043d\", \"\\u0442\\u0435\\u043c\\u043f\\u0435\\u0440\\u0430\\u0442\\u0443\\u0440\\u0430\", \"\\u0442\\u0435\\u0441\\u0442\", \"\\u0442\\u043e\\u0432\\u0430\\u0440\", \"\\u0442\\u043e\\u0432\\u0430\\u0440\\u043d\\u044b\\u0439\", \"\\u0442\\u043e\\u0440\\u0433\\u043e\\u0432\\u044b\\u0439\", \"\\u0442\\u043e\\u0440\\u0433\\u043e\\u0432\\u044b\\u0439\", \"\\u0442\\u0440\\u0435\\u0431\\u043e\\u0432\\u0430\\u043d\\u0438\\u0435\", \"\\u0442\\u0440\\u0435\\u0431\\u043e\\u0432\\u0430\\u043d\\u0438\\u0435\", \"\\u0442\\u0440\\u0435\\u0431\\u043e\\u0432\\u0430\\u043d\\u0438\\u0435\", \"\\u0442\\u0440\\u0435\\u0431\\u043e\\u0432\\u0430\\u043d\\u0438\\u0435\", \"\\u0442\\u0443\\u0440\", \"\\u0443\\u0432\\u0435\\u0434\\u043e\\u043c\\u043b\\u0435\\u043d\\u0438\\u0435\", \"\\u0443\\u043b\\u0438\\u0446\\u0430\", \"\\u0443\\u043f\\u0430\\u043a\\u043e\\u0432\\u043a\\u0430\", \"\\u0443\\u043f\\u0440\\u0430\\u0432\\u043b\\u044f\\u0442\\u044c\", \"\\u0443\\u0441\\u043b\\u043e\\u0432\\u0438\\u0435\", \"\\u0443\\u0441\\u043b\\u043e\\u0432\\u0438\\u0435\", \"\\u0443\\u0441\\u043b\\u0443\\u0433\\u0430\", \"\\u0443\\u0441\\u043b\\u0443\\u0433\\u0430\", \"\\u0443\\u0441\\u0442\\u0430\\u043d\\u043e\\u0432\\u043b\\u0435\\u043d\\u043d\\u044b\\u0439\", \"\\u0443\\u0447\\u0430\\u0441\\u0442\\u043e\\u043a\", \"\\u0444\\u0435\\u0434\\u0435\\u0440\\u0430\\u0446\\u0438\\u044f\", \"\\u0445\\u043e\\u0434\\u0438\\u0442\\u044c\", \"\\u0445\\u043e\\u0442\\u0435\\u0442\\u044c\", \"\\u0445\\u043e\\u0442\\u044f\", \"\\u0446\\u0435\\u043d\\u0430\", \"\\u0446\\u0435\\u043d\\u0442\\u0440\", \"\\u0446\\u0435\\u043d\\u0442\\u0440\", \"\\u0446\\u0435\\u043d\\u0442\\u0440\", \"\\u0447\\u0430\\u0441\", \"\\u0447\\u0435\\u043a\", \"\\u0447\\u0435\\u043a\", \"\\u0448\\u043a\\u043e\\u043b\\u0430\", \"\\u044d\\u043a\\u0441\\u043f\\u0435\\u0440\\u0442\\u0438\\u0437\\u0430\", \"\\u044d\\u043b\\u0435\\u043a\\u0442\\u0440\\u043e\\u043d\\u043d\\u044b\\u0439\", \"\\u044d\\u043f\\u0438\\u0434\\u0435\\u043c\\u0438\\u043e\\u043b\\u043e\\u0433\\u0438\\u0447\\u0435\\u0441\\u043a\\u0438\\u0439\", \"\\u044e\\u0440\\u0438\\u0434\\u0438\\u0447\\u0435\\u0441\\u043a\\u0438\\u0439\", \"\\u044f\\u0432\\u043b\\u044f\\u0442\\u044c\\u0441\\u044f\", \"\\u044f\\u043a\\u043e\\u0431\\u044b\", \"\\u044f\\u043d\\u0432\\u0430\\u0440\\u044c\"]}, \"R\": 30, \"lambda.step\": 0.01, \"plot.opts\": {\"xlab\": \"PC1\", \"ylab\": \"PC2\"}, \"topic.order\": [2, 4, 3, 5, 1, 6]};\n",
              "\n",
              "function LDAvis_load_lib(url, callback){\n",
              "  var s = document.createElement('script');\n",
              "  s.src = url;\n",
              "  s.async = true;\n",
              "  s.onreadystatechange = s.onload = callback;\n",
              "  s.onerror = function(){console.warn(\"failed to load library \" + url);};\n",
              "  document.getElementsByTagName(\"head\")[0].appendChild(s);\n",
              "}\n",
              "\n",
              "if(typeof(LDAvis) !== \"undefined\"){\n",
              "   // already loaded: just create the visualization\n",
              "   !function(LDAvis){\n",
              "       new LDAvis(\"#\" + \"ldavis_el601398397951779361709478950\", ldavis_el601398397951779361709478950_data);\n",
              "   }(LDAvis);\n",
              "}else if(typeof define === \"function\" && define.amd){\n",
              "   // require.js is available: use it to load d3/LDAvis\n",
              "   require.config({paths: {d3: \"https://d3js.org/d3.v5\"}});\n",
              "   require([\"d3\"], function(d3){\n",
              "      window.d3 = d3;\n",
              "      LDAvis_load_lib(\"https://cdn.jsdelivr.net/gh/bmabey/pyLDAvis@3.3.1/pyLDAvis/js/ldavis.v3.0.0.js\", function(){\n",
              "        new LDAvis(\"#\" + \"ldavis_el601398397951779361709478950\", ldavis_el601398397951779361709478950_data);\n",
              "      });\n",
              "    });\n",
              "}else{\n",
              "    // require.js not available: dynamically load d3 & LDAvis\n",
              "    LDAvis_load_lib(\"https://d3js.org/d3.v5.js\", function(){\n",
              "         LDAvis_load_lib(\"https://cdn.jsdelivr.net/gh/bmabey/pyLDAvis@3.3.1/pyLDAvis/js/ldavis.v3.0.0.js\", function(){\n",
              "                 new LDAvis(\"#\" + \"ldavis_el601398397951779361709478950\", ldavis_el601398397951779361709478950_data);\n",
              "            })\n",
              "         });\n",
              "}\n",
              "</script>"
            ]
          },
          "metadata": {},
          "execution_count": 63
        }
      ]
    },
    {
      "cell_type": "code",
      "source": [
        "vis_data.topic_info.Category"
      ],
      "metadata": {
        "colab": {
          "base_uri": "https://localhost:8080/",
          "height": 424
        },
        "id": "cvcJ22RIgJhV",
        "outputId": "d2943079-acac-4871-d21e-8e18f91029bf"
      },
      "execution_count": null,
      "outputs": [
        {
          "output_type": "execute_result",
          "data": {
            "text/plain": [
              "            Term         Freq        Total Category  logprob  loglift\n",
              "53         товар  1783.000000  1783.000000  Default  30.0000  30.0000\n",
              "16       магазин  1446.000000  1446.000000  Default  29.0000  29.0000\n",
              "152     средство   771.000000   771.000000  Default  28.0000  28.0000\n",
              "122       услуга   700.000000   700.000000  Default  27.0000  27.0000\n",
              "3        возврат  1048.000000  1048.000000  Default  26.0000  26.0000\n",
              "..           ...          ...          ...      ...      ...      ...\n",
              "136      который   151.914407   974.700452   Topic6  -4.3300   0.4656\n",
              "161        закон    88.731719   203.937683   Topic6  -4.8677   1.4922\n",
              "173  потребитель    98.284148   341.757688   Topic6  -4.7654   1.0782\n",
              "162       защита    81.049066   209.013752   Topic6  -4.9582   1.3771\n",
              "367      должный    82.422118   474.869594   Topic6  -4.9414   0.5733\n",
              "\n",
              "[341 rows x 6 columns]"
            ],
            "text/html": [
              "\n",
              "  <div id=\"df-366e8885-c0c2-4d83-96c5-201d0df0054c\">\n",
              "    <div class=\"colab-df-container\">\n",
              "      <div>\n",
              "<style scoped>\n",
              "    .dataframe tbody tr th:only-of-type {\n",
              "        vertical-align: middle;\n",
              "    }\n",
              "\n",
              "    .dataframe tbody tr th {\n",
              "        vertical-align: top;\n",
              "    }\n",
              "\n",
              "    .dataframe thead th {\n",
              "        text-align: right;\n",
              "    }\n",
              "</style>\n",
              "<table border=\"1\" class=\"dataframe\">\n",
              "  <thead>\n",
              "    <tr style=\"text-align: right;\">\n",
              "      <th></th>\n",
              "      <th>Term</th>\n",
              "      <th>Freq</th>\n",
              "      <th>Total</th>\n",
              "      <th>Category</th>\n",
              "      <th>logprob</th>\n",
              "      <th>loglift</th>\n",
              "    </tr>\n",
              "  </thead>\n",
              "  <tbody>\n",
              "    <tr>\n",
              "      <th>53</th>\n",
              "      <td>товар</td>\n",
              "      <td>1783.000000</td>\n",
              "      <td>1783.000000</td>\n",
              "      <td>Default</td>\n",
              "      <td>30.0000</td>\n",
              "      <td>30.0000</td>\n",
              "    </tr>\n",
              "    <tr>\n",
              "      <th>16</th>\n",
              "      <td>магазин</td>\n",
              "      <td>1446.000000</td>\n",
              "      <td>1446.000000</td>\n",
              "      <td>Default</td>\n",
              "      <td>29.0000</td>\n",
              "      <td>29.0000</td>\n",
              "    </tr>\n",
              "    <tr>\n",
              "      <th>152</th>\n",
              "      <td>средство</td>\n",
              "      <td>771.000000</td>\n",
              "      <td>771.000000</td>\n",
              "      <td>Default</td>\n",
              "      <td>28.0000</td>\n",
              "      <td>28.0000</td>\n",
              "    </tr>\n",
              "    <tr>\n",
              "      <th>122</th>\n",
              "      <td>услуга</td>\n",
              "      <td>700.000000</td>\n",
              "      <td>700.000000</td>\n",
              "      <td>Default</td>\n",
              "      <td>27.0000</td>\n",
              "      <td>27.0000</td>\n",
              "    </tr>\n",
              "    <tr>\n",
              "      <th>3</th>\n",
              "      <td>возврат</td>\n",
              "      <td>1048.000000</td>\n",
              "      <td>1048.000000</td>\n",
              "      <td>Default</td>\n",
              "      <td>26.0000</td>\n",
              "      <td>26.0000</td>\n",
              "    </tr>\n",
              "    <tr>\n",
              "      <th>...</th>\n",
              "      <td>...</td>\n",
              "      <td>...</td>\n",
              "      <td>...</td>\n",
              "      <td>...</td>\n",
              "      <td>...</td>\n",
              "      <td>...</td>\n",
              "    </tr>\n",
              "    <tr>\n",
              "      <th>136</th>\n",
              "      <td>который</td>\n",
              "      <td>151.914407</td>\n",
              "      <td>974.700452</td>\n",
              "      <td>Topic6</td>\n",
              "      <td>-4.3300</td>\n",
              "      <td>0.4656</td>\n",
              "    </tr>\n",
              "    <tr>\n",
              "      <th>161</th>\n",
              "      <td>закон</td>\n",
              "      <td>88.731719</td>\n",
              "      <td>203.937683</td>\n",
              "      <td>Topic6</td>\n",
              "      <td>-4.8677</td>\n",
              "      <td>1.4922</td>\n",
              "    </tr>\n",
              "    <tr>\n",
              "      <th>173</th>\n",
              "      <td>потребитель</td>\n",
              "      <td>98.284148</td>\n",
              "      <td>341.757688</td>\n",
              "      <td>Topic6</td>\n",
              "      <td>-4.7654</td>\n",
              "      <td>1.0782</td>\n",
              "    </tr>\n",
              "    <tr>\n",
              "      <th>162</th>\n",
              "      <td>защита</td>\n",
              "      <td>81.049066</td>\n",
              "      <td>209.013752</td>\n",
              "      <td>Topic6</td>\n",
              "      <td>-4.9582</td>\n",
              "      <td>1.3771</td>\n",
              "    </tr>\n",
              "    <tr>\n",
              "      <th>367</th>\n",
              "      <td>должный</td>\n",
              "      <td>82.422118</td>\n",
              "      <td>474.869594</td>\n",
              "      <td>Topic6</td>\n",
              "      <td>-4.9414</td>\n",
              "      <td>0.5733</td>\n",
              "    </tr>\n",
              "  </tbody>\n",
              "</table>\n",
              "<p>341 rows × 6 columns</p>\n",
              "</div>\n",
              "      <button class=\"colab-df-convert\" onclick=\"convertToInteractive('df-366e8885-c0c2-4d83-96c5-201d0df0054c')\"\n",
              "              title=\"Convert this dataframe to an interactive table.\"\n",
              "              style=\"display:none;\">\n",
              "        \n",
              "  <svg xmlns=\"http://www.w3.org/2000/svg\" height=\"24px\"viewBox=\"0 0 24 24\"\n",
              "       width=\"24px\">\n",
              "    <path d=\"M0 0h24v24H0V0z\" fill=\"none\"/>\n",
              "    <path d=\"M18.56 5.44l.94 2.06.94-2.06 2.06-.94-2.06-.94-.94-2.06-.94 2.06-2.06.94zm-11 1L8.5 8.5l.94-2.06 2.06-.94-2.06-.94L8.5 2.5l-.94 2.06-2.06.94zm10 10l.94 2.06.94-2.06 2.06-.94-2.06-.94-.94-2.06-.94 2.06-2.06.94z\"/><path d=\"M17.41 7.96l-1.37-1.37c-.4-.4-.92-.59-1.43-.59-.52 0-1.04.2-1.43.59L10.3 9.45l-7.72 7.72c-.78.78-.78 2.05 0 2.83L4 21.41c.39.39.9.59 1.41.59.51 0 1.02-.2 1.41-.59l7.78-7.78 2.81-2.81c.8-.78.8-2.07 0-2.86zM5.41 20L4 18.59l7.72-7.72 1.47 1.35L5.41 20z\"/>\n",
              "  </svg>\n",
              "      </button>\n",
              "      \n",
              "  <style>\n",
              "    .colab-df-container {\n",
              "      display:flex;\n",
              "      flex-wrap:wrap;\n",
              "      gap: 12px;\n",
              "    }\n",
              "\n",
              "    .colab-df-convert {\n",
              "      background-color: #E8F0FE;\n",
              "      border: none;\n",
              "      border-radius: 50%;\n",
              "      cursor: pointer;\n",
              "      display: none;\n",
              "      fill: #1967D2;\n",
              "      height: 32px;\n",
              "      padding: 0 0 0 0;\n",
              "      width: 32px;\n",
              "    }\n",
              "\n",
              "    .colab-df-convert:hover {\n",
              "      background-color: #E2EBFA;\n",
              "      box-shadow: 0px 1px 2px rgba(60, 64, 67, 0.3), 0px 1px 3px 1px rgba(60, 64, 67, 0.15);\n",
              "      fill: #174EA6;\n",
              "    }\n",
              "\n",
              "    [theme=dark] .colab-df-convert {\n",
              "      background-color: #3B4455;\n",
              "      fill: #D2E3FC;\n",
              "    }\n",
              "\n",
              "    [theme=dark] .colab-df-convert:hover {\n",
              "      background-color: #434B5C;\n",
              "      box-shadow: 0px 1px 3px 1px rgba(0, 0, 0, 0.15);\n",
              "      filter: drop-shadow(0px 1px 2px rgba(0, 0, 0, 0.3));\n",
              "      fill: #FFFFFF;\n",
              "    }\n",
              "  </style>\n",
              "\n",
              "      <script>\n",
              "        const buttonEl =\n",
              "          document.querySelector('#df-366e8885-c0c2-4d83-96c5-201d0df0054c button.colab-df-convert');\n",
              "        buttonEl.style.display =\n",
              "          google.colab.kernel.accessAllowed ? 'block' : 'none';\n",
              "\n",
              "        async function convertToInteractive(key) {\n",
              "          const element = document.querySelector('#df-366e8885-c0c2-4d83-96c5-201d0df0054c');\n",
              "          const dataTable =\n",
              "            await google.colab.kernel.invokeFunction('convertToInteractive',\n",
              "                                                     [key], {});\n",
              "          if (!dataTable) return;\n",
              "\n",
              "          const docLinkHtml = 'Like what you see? Visit the ' +\n",
              "            '<a target=\"_blank\" href=https://colab.research.google.com/notebooks/data_table.ipynb>data table notebook</a>'\n",
              "            + ' to learn more about interactive tables.';\n",
              "          element.innerHTML = '';\n",
              "          dataTable['output_type'] = 'display_data';\n",
              "          await google.colab.output.renderOutput(dataTable, element);\n",
              "          const docLink = document.createElement('div');\n",
              "          docLink.innerHTML = docLinkHtml;\n",
              "          element.appendChild(docLink);\n",
              "        }\n",
              "      </script>\n",
              "    </div>\n",
              "  </div>\n",
              "  "
            ]
          },
          "metadata": {},
          "execution_count": 65
        }
      ]
    },
    {
      "cell_type": "code",
      "source": [
        "topic_names_list = vis_data.topic_info.Category.unique()\n",
        "topic_names_list"
      ],
      "metadata": {
        "colab": {
          "base_uri": "https://localhost:8080/"
        },
        "id": "Ctz2zMuJg860",
        "outputId": "aa842adb-56a3-4630-a707-5b1b8c0006e1"
      },
      "execution_count": null,
      "outputs": [
        {
          "output_type": "execute_result",
          "data": {
            "text/plain": [
              "array(['Default', 'Topic1', 'Topic2', 'Topic3', 'Topic4', 'Topic5',\n",
              "       'Topic6'], dtype=object)"
            ]
          },
          "metadata": {},
          "execution_count": 73
        }
      ]
    },
    {
      "cell_type": "code",
      "source": [
        "for topic_name in topic_names_list[1:]:\n",
        "  print(list(vis_data.topic_info.loc[vis_data.topic_info.Category == topic_name].Term[:8]))"
      ],
      "metadata": {
        "colab": {
          "base_uri": "https://localhost:8080/"
        },
        "id": "N6q8kfnBikHf",
        "outputId": "f2813191-16a1-4f42-e3d6-aec60e2bd2f3"
      },
      "execution_count": null,
      "outputs": [
        {
          "output_type": "stream",
          "name": "stdout",
          "text": [
            "['результат', 'нарушение', 'код', 'хотя', 'час', 'машина', 'мастер', 'никто']\n",
            "['товар', 'продавец', 'заказ', 'доставка', 'цена', 'являться', 'покупка', 'выдача']\n",
            "['электронный', 'ноябрь', 'справка', 'тур', 'билет', 'отменить', 'ковид', 'заявление']\n",
            "['хотеть', 'акт', 'вода', 'лицо', 'сертификат', 'гарантия', 'улица', 'предоплата']\n",
            "['договор', 'декабрь', 'область', 'площадка', 'пользоваться', 'заключить', 'управлять', 'втб']\n",
            "['ребёнок', 'тест', 'вакцинация', 'правило', 'пцр', 'гражданин', 'санитарный', 'covid']\n"
          ]
        }
      ]
    },
    {
      "cell_type": "markdown",
      "source": [
        "Интерпретация:\n",
        "\n",
        "1. Сложно подобрать тему.\n",
        "2. Вопросы связанные с заказами и доставкой товаров\n",
        "3. Вопросы связанные с отменой туров/поездок из-за ковида\n",
        "4. Вопросы связанные в водой, подключением к водоснабжению, гарантией на услуги подключения.\n",
        "5. Вопросы связанные с заключением договором, возможно по коммуналке.\n",
        "6. Вопросы связанные с вакцинацией детей и взятие тестов ПЦР."
      ],
      "metadata": {
        "id": "yuPOxZPakLck"
      }
    },
    {
      "cell_type": "code",
      "source": [
        ""
      ],
      "metadata": {
        "id": "bhM3jxsDlZ29"
      },
      "execution_count": null,
      "outputs": []
    }
  ],
  "metadata": {
    "kernelspec": {
      "display_name": "Python 3",
      "language": "python",
      "name": "python3"
    },
    "language_info": {
      "codemirror_mode": {
        "name": "ipython",
        "version": 3
      },
      "file_extension": ".py",
      "mimetype": "text/x-python",
      "name": "python",
      "nbconvert_exporter": "python",
      "pygments_lexer": "ipython3",
      "version": "3.8.5"
    },
    "colab": {
      "name": "hw_lesson_4.ipynb",
      "provenance": [],
      "collapsed_sections": []
    },
    "widgets": {
      "application/vnd.jupyter.widget-state+json": {
        "b3de2dd1e8d64c63acef31fab866783c": {
          "model_module": "@jupyter-widgets/controls",
          "model_name": "HBoxModel",
          "model_module_version": "1.5.0",
          "state": {
            "_dom_classes": [],
            "_model_module": "@jupyter-widgets/controls",
            "_model_module_version": "1.5.0",
            "_model_name": "HBoxModel",
            "_view_count": null,
            "_view_module": "@jupyter-widgets/controls",
            "_view_module_version": "1.5.0",
            "_view_name": "HBoxView",
            "box_style": "",
            "children": [
              "IPY_MODEL_e6bd54e8a58f40449e4b9c3a3e73e101",
              "IPY_MODEL_1b0a5902db3b4d5fba50b90e8c2b9178",
              "IPY_MODEL_9c3ad599be2f409d93c22be9d8f9ad54"
            ],
            "layout": "IPY_MODEL_793d34ca498348cc9b725864710ff406"
          }
        },
        "e6bd54e8a58f40449e4b9c3a3e73e101": {
          "model_module": "@jupyter-widgets/controls",
          "model_name": "HTMLModel",
          "model_module_version": "1.5.0",
          "state": {
            "_dom_classes": [],
            "_model_module": "@jupyter-widgets/controls",
            "_model_module_version": "1.5.0",
            "_model_name": "HTMLModel",
            "_view_count": null,
            "_view_module": "@jupyter-widgets/controls",
            "_view_module_version": "1.5.0",
            "_view_name": "HTMLView",
            "description": "",
            "description_tooltip": null,
            "layout": "IPY_MODEL_22226ff70a12478fbdd4bd6e70e0f5e7",
            "placeholder": "​",
            "style": "IPY_MODEL_1b3916cba66b48a78c23b593496ca3ca",
            "value": "100%"
          }
        },
        "1b0a5902db3b4d5fba50b90e8c2b9178": {
          "model_module": "@jupyter-widgets/controls",
          "model_name": "FloatProgressModel",
          "model_module_version": "1.5.0",
          "state": {
            "_dom_classes": [],
            "_model_module": "@jupyter-widgets/controls",
            "_model_module_version": "1.5.0",
            "_model_name": "FloatProgressModel",
            "_view_count": null,
            "_view_module": "@jupyter-widgets/controls",
            "_view_module_version": "1.5.0",
            "_view_name": "ProgressView",
            "bar_style": "success",
            "description": "",
            "description_tooltip": null,
            "layout": "IPY_MODEL_8a9ab7db75c24b8da759dc696621625d",
            "max": 2495,
            "min": 0,
            "orientation": "horizontal",
            "style": "IPY_MODEL_ebdd92a53ad74ce5938adc6e4bd5ac7c",
            "value": 2495
          }
        },
        "9c3ad599be2f409d93c22be9d8f9ad54": {
          "model_module": "@jupyter-widgets/controls",
          "model_name": "HTMLModel",
          "model_module_version": "1.5.0",
          "state": {
            "_dom_classes": [],
            "_model_module": "@jupyter-widgets/controls",
            "_model_module_version": "1.5.0",
            "_model_name": "HTMLModel",
            "_view_count": null,
            "_view_module": "@jupyter-widgets/controls",
            "_view_module_version": "1.5.0",
            "_view_name": "HTMLView",
            "description": "",
            "description_tooltip": null,
            "layout": "IPY_MODEL_9761fe64c299411788222dbab4e7121b",
            "placeholder": "​",
            "style": "IPY_MODEL_f97c75e241f24f028279374b9233bb3b",
            "value": " 2495/2495 [00:38&lt;00:00, 78.79it/s]"
          }
        },
        "793d34ca498348cc9b725864710ff406": {
          "model_module": "@jupyter-widgets/base",
          "model_name": "LayoutModel",
          "model_module_version": "1.2.0",
          "state": {
            "_model_module": "@jupyter-widgets/base",
            "_model_module_version": "1.2.0",
            "_model_name": "LayoutModel",
            "_view_count": null,
            "_view_module": "@jupyter-widgets/base",
            "_view_module_version": "1.2.0",
            "_view_name": "LayoutView",
            "align_content": null,
            "align_items": null,
            "align_self": null,
            "border": null,
            "bottom": null,
            "display": null,
            "flex": null,
            "flex_flow": null,
            "grid_area": null,
            "grid_auto_columns": null,
            "grid_auto_flow": null,
            "grid_auto_rows": null,
            "grid_column": null,
            "grid_gap": null,
            "grid_row": null,
            "grid_template_areas": null,
            "grid_template_columns": null,
            "grid_template_rows": null,
            "height": null,
            "justify_content": null,
            "justify_items": null,
            "left": null,
            "margin": null,
            "max_height": null,
            "max_width": null,
            "min_height": null,
            "min_width": null,
            "object_fit": null,
            "object_position": null,
            "order": null,
            "overflow": null,
            "overflow_x": null,
            "overflow_y": null,
            "padding": null,
            "right": null,
            "top": null,
            "visibility": null,
            "width": null
          }
        },
        "22226ff70a12478fbdd4bd6e70e0f5e7": {
          "model_module": "@jupyter-widgets/base",
          "model_name": "LayoutModel",
          "model_module_version": "1.2.0",
          "state": {
            "_model_module": "@jupyter-widgets/base",
            "_model_module_version": "1.2.0",
            "_model_name": "LayoutModel",
            "_view_count": null,
            "_view_module": "@jupyter-widgets/base",
            "_view_module_version": "1.2.0",
            "_view_name": "LayoutView",
            "align_content": null,
            "align_items": null,
            "align_self": null,
            "border": null,
            "bottom": null,
            "display": null,
            "flex": null,
            "flex_flow": null,
            "grid_area": null,
            "grid_auto_columns": null,
            "grid_auto_flow": null,
            "grid_auto_rows": null,
            "grid_column": null,
            "grid_gap": null,
            "grid_row": null,
            "grid_template_areas": null,
            "grid_template_columns": null,
            "grid_template_rows": null,
            "height": null,
            "justify_content": null,
            "justify_items": null,
            "left": null,
            "margin": null,
            "max_height": null,
            "max_width": null,
            "min_height": null,
            "min_width": null,
            "object_fit": null,
            "object_position": null,
            "order": null,
            "overflow": null,
            "overflow_x": null,
            "overflow_y": null,
            "padding": null,
            "right": null,
            "top": null,
            "visibility": null,
            "width": null
          }
        },
        "1b3916cba66b48a78c23b593496ca3ca": {
          "model_module": "@jupyter-widgets/controls",
          "model_name": "DescriptionStyleModel",
          "model_module_version": "1.5.0",
          "state": {
            "_model_module": "@jupyter-widgets/controls",
            "_model_module_version": "1.5.0",
            "_model_name": "DescriptionStyleModel",
            "_view_count": null,
            "_view_module": "@jupyter-widgets/base",
            "_view_module_version": "1.2.0",
            "_view_name": "StyleView",
            "description_width": ""
          }
        },
        "8a9ab7db75c24b8da759dc696621625d": {
          "model_module": "@jupyter-widgets/base",
          "model_name": "LayoutModel",
          "model_module_version": "1.2.0",
          "state": {
            "_model_module": "@jupyter-widgets/base",
            "_model_module_version": "1.2.0",
            "_model_name": "LayoutModel",
            "_view_count": null,
            "_view_module": "@jupyter-widgets/base",
            "_view_module_version": "1.2.0",
            "_view_name": "LayoutView",
            "align_content": null,
            "align_items": null,
            "align_self": null,
            "border": null,
            "bottom": null,
            "display": null,
            "flex": null,
            "flex_flow": null,
            "grid_area": null,
            "grid_auto_columns": null,
            "grid_auto_flow": null,
            "grid_auto_rows": null,
            "grid_column": null,
            "grid_gap": null,
            "grid_row": null,
            "grid_template_areas": null,
            "grid_template_columns": null,
            "grid_template_rows": null,
            "height": null,
            "justify_content": null,
            "justify_items": null,
            "left": null,
            "margin": null,
            "max_height": null,
            "max_width": null,
            "min_height": null,
            "min_width": null,
            "object_fit": null,
            "object_position": null,
            "order": null,
            "overflow": null,
            "overflow_x": null,
            "overflow_y": null,
            "padding": null,
            "right": null,
            "top": null,
            "visibility": null,
            "width": null
          }
        },
        "ebdd92a53ad74ce5938adc6e4bd5ac7c": {
          "model_module": "@jupyter-widgets/controls",
          "model_name": "ProgressStyleModel",
          "model_module_version": "1.5.0",
          "state": {
            "_model_module": "@jupyter-widgets/controls",
            "_model_module_version": "1.5.0",
            "_model_name": "ProgressStyleModel",
            "_view_count": null,
            "_view_module": "@jupyter-widgets/base",
            "_view_module_version": "1.2.0",
            "_view_name": "StyleView",
            "bar_color": null,
            "description_width": ""
          }
        },
        "9761fe64c299411788222dbab4e7121b": {
          "model_module": "@jupyter-widgets/base",
          "model_name": "LayoutModel",
          "model_module_version": "1.2.0",
          "state": {
            "_model_module": "@jupyter-widgets/base",
            "_model_module_version": "1.2.0",
            "_model_name": "LayoutModel",
            "_view_count": null,
            "_view_module": "@jupyter-widgets/base",
            "_view_module_version": "1.2.0",
            "_view_name": "LayoutView",
            "align_content": null,
            "align_items": null,
            "align_self": null,
            "border": null,
            "bottom": null,
            "display": null,
            "flex": null,
            "flex_flow": null,
            "grid_area": null,
            "grid_auto_columns": null,
            "grid_auto_flow": null,
            "grid_auto_rows": null,
            "grid_column": null,
            "grid_gap": null,
            "grid_row": null,
            "grid_template_areas": null,
            "grid_template_columns": null,
            "grid_template_rows": null,
            "height": null,
            "justify_content": null,
            "justify_items": null,
            "left": null,
            "margin": null,
            "max_height": null,
            "max_width": null,
            "min_height": null,
            "min_width": null,
            "object_fit": null,
            "object_position": null,
            "order": null,
            "overflow": null,
            "overflow_x": null,
            "overflow_y": null,
            "padding": null,
            "right": null,
            "top": null,
            "visibility": null,
            "width": null
          }
        },
        "f97c75e241f24f028279374b9233bb3b": {
          "model_module": "@jupyter-widgets/controls",
          "model_name": "DescriptionStyleModel",
          "model_module_version": "1.5.0",
          "state": {
            "_model_module": "@jupyter-widgets/controls",
            "_model_module_version": "1.5.0",
            "_model_name": "DescriptionStyleModel",
            "_view_count": null,
            "_view_module": "@jupyter-widgets/base",
            "_view_module_version": "1.2.0",
            "_view_name": "StyleView",
            "description_width": ""
          }
        },
        "cef100aa25af44cb8b7b0727d4e126c4": {
          "model_module": "@jupyter-widgets/controls",
          "model_name": "HBoxModel",
          "model_module_version": "1.5.0",
          "state": {
            "_dom_classes": [],
            "_model_module": "@jupyter-widgets/controls",
            "_model_module_version": "1.5.0",
            "_model_name": "HBoxModel",
            "_view_count": null,
            "_view_module": "@jupyter-widgets/controls",
            "_view_module_version": "1.5.0",
            "_view_name": "HBoxView",
            "box_style": "",
            "children": [
              "IPY_MODEL_302310f02e0940c485040cacaa7fe58c",
              "IPY_MODEL_80fc6867f3ce4f48a64d52741e3e522d",
              "IPY_MODEL_83b69fdd7ce249b5bf6dad088c1a1f12"
            ],
            "layout": "IPY_MODEL_632650e816ea47d7831d72afc2e87cc4"
          }
        },
        "302310f02e0940c485040cacaa7fe58c": {
          "model_module": "@jupyter-widgets/controls",
          "model_name": "HTMLModel",
          "model_module_version": "1.5.0",
          "state": {
            "_dom_classes": [],
            "_model_module": "@jupyter-widgets/controls",
            "_model_module_version": "1.5.0",
            "_model_name": "HTMLModel",
            "_view_count": null,
            "_view_module": "@jupyter-widgets/controls",
            "_view_module_version": "1.5.0",
            "_view_name": "HTMLView",
            "description": "",
            "description_tooltip": null,
            "layout": "IPY_MODEL_cc13517b26a544599f741e752b713336",
            "placeholder": "​",
            "style": "IPY_MODEL_7b930be3edf4451394b96fec5de25a77",
            "value": "100%"
          }
        },
        "80fc6867f3ce4f48a64d52741e3e522d": {
          "model_module": "@jupyter-widgets/controls",
          "model_name": "FloatProgressModel",
          "model_module_version": "1.5.0",
          "state": {
            "_dom_classes": [],
            "_model_module": "@jupyter-widgets/controls",
            "_model_module_version": "1.5.0",
            "_model_name": "FloatProgressModel",
            "_view_count": null,
            "_view_module": "@jupyter-widgets/controls",
            "_view_module_version": "1.5.0",
            "_view_name": "ProgressView",
            "bar_style": "success",
            "description": "",
            "description_tooltip": null,
            "layout": "IPY_MODEL_53f95979c7dc46c2a46f9b35c535916e",
            "max": 23,
            "min": 0,
            "orientation": "horizontal",
            "style": "IPY_MODEL_0bab880d98444a2c97207297e0df4568",
            "value": 23
          }
        },
        "83b69fdd7ce249b5bf6dad088c1a1f12": {
          "model_module": "@jupyter-widgets/controls",
          "model_name": "HTMLModel",
          "model_module_version": "1.5.0",
          "state": {
            "_dom_classes": [],
            "_model_module": "@jupyter-widgets/controls",
            "_model_module_version": "1.5.0",
            "_model_name": "HTMLModel",
            "_view_count": null,
            "_view_module": "@jupyter-widgets/controls",
            "_view_module_version": "1.5.0",
            "_view_name": "HTMLView",
            "description": "",
            "description_tooltip": null,
            "layout": "IPY_MODEL_79c053efb38a408784382932ac80c5b5",
            "placeholder": "​",
            "style": "IPY_MODEL_4eb1716f054b460c860de38e0b3add6c",
            "value": " 23/23 [01:20&lt;00:00,  3.58s/it]"
          }
        },
        "632650e816ea47d7831d72afc2e87cc4": {
          "model_module": "@jupyter-widgets/base",
          "model_name": "LayoutModel",
          "model_module_version": "1.2.0",
          "state": {
            "_model_module": "@jupyter-widgets/base",
            "_model_module_version": "1.2.0",
            "_model_name": "LayoutModel",
            "_view_count": null,
            "_view_module": "@jupyter-widgets/base",
            "_view_module_version": "1.2.0",
            "_view_name": "LayoutView",
            "align_content": null,
            "align_items": null,
            "align_self": null,
            "border": null,
            "bottom": null,
            "display": null,
            "flex": null,
            "flex_flow": null,
            "grid_area": null,
            "grid_auto_columns": null,
            "grid_auto_flow": null,
            "grid_auto_rows": null,
            "grid_column": null,
            "grid_gap": null,
            "grid_row": null,
            "grid_template_areas": null,
            "grid_template_columns": null,
            "grid_template_rows": null,
            "height": null,
            "justify_content": null,
            "justify_items": null,
            "left": null,
            "margin": null,
            "max_height": null,
            "max_width": null,
            "min_height": null,
            "min_width": null,
            "object_fit": null,
            "object_position": null,
            "order": null,
            "overflow": null,
            "overflow_x": null,
            "overflow_y": null,
            "padding": null,
            "right": null,
            "top": null,
            "visibility": null,
            "width": null
          }
        },
        "cc13517b26a544599f741e752b713336": {
          "model_module": "@jupyter-widgets/base",
          "model_name": "LayoutModel",
          "model_module_version": "1.2.0",
          "state": {
            "_model_module": "@jupyter-widgets/base",
            "_model_module_version": "1.2.0",
            "_model_name": "LayoutModel",
            "_view_count": null,
            "_view_module": "@jupyter-widgets/base",
            "_view_module_version": "1.2.0",
            "_view_name": "LayoutView",
            "align_content": null,
            "align_items": null,
            "align_self": null,
            "border": null,
            "bottom": null,
            "display": null,
            "flex": null,
            "flex_flow": null,
            "grid_area": null,
            "grid_auto_columns": null,
            "grid_auto_flow": null,
            "grid_auto_rows": null,
            "grid_column": null,
            "grid_gap": null,
            "grid_row": null,
            "grid_template_areas": null,
            "grid_template_columns": null,
            "grid_template_rows": null,
            "height": null,
            "justify_content": null,
            "justify_items": null,
            "left": null,
            "margin": null,
            "max_height": null,
            "max_width": null,
            "min_height": null,
            "min_width": null,
            "object_fit": null,
            "object_position": null,
            "order": null,
            "overflow": null,
            "overflow_x": null,
            "overflow_y": null,
            "padding": null,
            "right": null,
            "top": null,
            "visibility": null,
            "width": null
          }
        },
        "7b930be3edf4451394b96fec5de25a77": {
          "model_module": "@jupyter-widgets/controls",
          "model_name": "DescriptionStyleModel",
          "model_module_version": "1.5.0",
          "state": {
            "_model_module": "@jupyter-widgets/controls",
            "_model_module_version": "1.5.0",
            "_model_name": "DescriptionStyleModel",
            "_view_count": null,
            "_view_module": "@jupyter-widgets/base",
            "_view_module_version": "1.2.0",
            "_view_name": "StyleView",
            "description_width": ""
          }
        },
        "53f95979c7dc46c2a46f9b35c535916e": {
          "model_module": "@jupyter-widgets/base",
          "model_name": "LayoutModel",
          "model_module_version": "1.2.0",
          "state": {
            "_model_module": "@jupyter-widgets/base",
            "_model_module_version": "1.2.0",
            "_model_name": "LayoutModel",
            "_view_count": null,
            "_view_module": "@jupyter-widgets/base",
            "_view_module_version": "1.2.0",
            "_view_name": "LayoutView",
            "align_content": null,
            "align_items": null,
            "align_self": null,
            "border": null,
            "bottom": null,
            "display": null,
            "flex": null,
            "flex_flow": null,
            "grid_area": null,
            "grid_auto_columns": null,
            "grid_auto_flow": null,
            "grid_auto_rows": null,
            "grid_column": null,
            "grid_gap": null,
            "grid_row": null,
            "grid_template_areas": null,
            "grid_template_columns": null,
            "grid_template_rows": null,
            "height": null,
            "justify_content": null,
            "justify_items": null,
            "left": null,
            "margin": null,
            "max_height": null,
            "max_width": null,
            "min_height": null,
            "min_width": null,
            "object_fit": null,
            "object_position": null,
            "order": null,
            "overflow": null,
            "overflow_x": null,
            "overflow_y": null,
            "padding": null,
            "right": null,
            "top": null,
            "visibility": null,
            "width": null
          }
        },
        "0bab880d98444a2c97207297e0df4568": {
          "model_module": "@jupyter-widgets/controls",
          "model_name": "ProgressStyleModel",
          "model_module_version": "1.5.0",
          "state": {
            "_model_module": "@jupyter-widgets/controls",
            "_model_module_version": "1.5.0",
            "_model_name": "ProgressStyleModel",
            "_view_count": null,
            "_view_module": "@jupyter-widgets/base",
            "_view_module_version": "1.2.0",
            "_view_name": "StyleView",
            "bar_color": null,
            "description_width": ""
          }
        },
        "79c053efb38a408784382932ac80c5b5": {
          "model_module": "@jupyter-widgets/base",
          "model_name": "LayoutModel",
          "model_module_version": "1.2.0",
          "state": {
            "_model_module": "@jupyter-widgets/base",
            "_model_module_version": "1.2.0",
            "_model_name": "LayoutModel",
            "_view_count": null,
            "_view_module": "@jupyter-widgets/base",
            "_view_module_version": "1.2.0",
            "_view_name": "LayoutView",
            "align_content": null,
            "align_items": null,
            "align_self": null,
            "border": null,
            "bottom": null,
            "display": null,
            "flex": null,
            "flex_flow": null,
            "grid_area": null,
            "grid_auto_columns": null,
            "grid_auto_flow": null,
            "grid_auto_rows": null,
            "grid_column": null,
            "grid_gap": null,
            "grid_row": null,
            "grid_template_areas": null,
            "grid_template_columns": null,
            "grid_template_rows": null,
            "height": null,
            "justify_content": null,
            "justify_items": null,
            "left": null,
            "margin": null,
            "max_height": null,
            "max_width": null,
            "min_height": null,
            "min_width": null,
            "object_fit": null,
            "object_position": null,
            "order": null,
            "overflow": null,
            "overflow_x": null,
            "overflow_y": null,
            "padding": null,
            "right": null,
            "top": null,
            "visibility": null,
            "width": null
          }
        },
        "4eb1716f054b460c860de38e0b3add6c": {
          "model_module": "@jupyter-widgets/controls",
          "model_name": "DescriptionStyleModel",
          "model_module_version": "1.5.0",
          "state": {
            "_model_module": "@jupyter-widgets/controls",
            "_model_module_version": "1.5.0",
            "_model_name": "DescriptionStyleModel",
            "_view_count": null,
            "_view_module": "@jupyter-widgets/base",
            "_view_module_version": "1.2.0",
            "_view_name": "StyleView",
            "description_width": ""
          }
        }
      }
    }
  },
  "nbformat": 4,
  "nbformat_minor": 0
}